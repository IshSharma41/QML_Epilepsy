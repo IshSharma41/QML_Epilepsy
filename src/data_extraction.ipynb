{
 "cells": [
  {
   "cell_type": "markdown",
   "id": "d3c4c5d7",
   "metadata": {},
   "source": [
    "# imports"
   ]
  },
  {
   "cell_type": "code",
   "execution_count": 1,
   "id": "7328e8a9",
   "metadata": {},
   "outputs": [],
   "source": [
    "import os\n",
    "import numpy as np\n",
    "import nibabel as nib\n",
    "from nilearn import input_data, datasets\n",
    "import logging\n",
    "from scipy.stats import skew, kurtosis\n",
    "from skimage.feature import graycomatrix, graycoprops\n",
    "from sklearn.preprocessing import StandardScaler\n",
    "import warnings\n",
    "import pandas as pd"
   ]
  },
  {
   "cell_type": "markdown",
   "id": "5e25fd47",
   "metadata": {},
   "source": [
    "# Setup logging"
   ]
  },
  {
   "cell_type": "code",
   "execution_count": 2,
   "id": "b4c6eeb0",
   "metadata": {},
   "outputs": [],
   "source": [
    "\n",
    "logging.basicConfig(filename='processing_log.log', level=logging.INFO,\n",
    "                    format='%(asctime)s - %(levelname)s - %(message)s')"
   ]
  },
  {
   "cell_type": "markdown",
   "id": "595b4bb1",
   "metadata": {},
   "source": [
    "# Define data paths"
   ]
  },
  {
   "cell_type": "code",
   "execution_count": 3,
   "id": "b7b79ad4",
   "metadata": {},
   "outputs": [
    {
     "data": {
      "text/html": [
       "<pre style=\"white-space:pre;overflow-x:auto;line-height:normal;font-family:Menlo,'DejaVu Sans Mono',consolas,'Courier New',monospace\"><span style=\"color: #000080; text-decoration-color: #000080; font-weight: bold\">[</span><span style=\"color: #000080; text-decoration-color: #000080\">get_dataset_dir</span><span style=\"color: #000080; text-decoration-color: #000080; font-weight: bold\">]</span> Dataset found in C:\\Users\\ishsh\\nilearn_data\\aal_SPM12\n",
       "</pre>\n"
      ],
      "text/plain": [
       "\u001b[1;34m[\u001b[0m\u001b[34mget_dataset_dir\u001b[0m\u001b[1;34m]\u001b[0m Dataset found in C:\\Users\\ishsh\\nilearn_data\\aal_SPM12\n"
      ]
     },
     "metadata": {},
     "output_type": "display_data"
    }
   ],
   "source": [
    "\n",
    "mri_skullstrip_data_path = r\"C:\\Users\\ishsh\\OneDrive\\Desktop\\QML_Project\\data\\processed\\mri\\derivatives\\cleaned_skullstrip\"\n",
    "pet_processed_data_path = r\"C:\\Users\\ishsh\\OneDrive\\Desktop\\QML_Project\\data\\processed\\mri_pet\\derivatives\\preprocessed_pet\"\n",
    "mri_pet_anat_data_path = r\"C:\\Users\\ishsh\\OneDrive\\Desktop\\QML_Project\\data\\processed\\mri_pet\\derivatives\\cleaned_skullstrip\"\n",
    "atlas_filename = datasets.fetch_atlas_aal().maps"
   ]
  },
  {
   "cell_type": "markdown",
   "id": "8c0ae1d2",
   "metadata": {},
   "source": [
    "# Extract ROI"
   ]
  },
  {
   "cell_type": "code",
   "execution_count": 4,
   "id": "dee82d24",
   "metadata": {},
   "outputs": [],
   "source": [
    "def extract_roi_features(image_path, atlas_filename, surviving_labels=None):\n",
    "    try:\n",
    "        img = nib.load(image_path)\n",
    "        masker = input_data.NiftiLabelsMasker(labels_img=atlas_filename, standardize=False)\n",
    "        roi_data = masker.fit_transform(img)\n",
    "\n",
    "        all_roi_features = []\n",
    "        if surviving_labels is None:\n",
    "            surviving_labels = range(roi_data.shape[1])\n",
    "\n",
    "        for i, roi_values in enumerate(roi_data.T):\n",
    "            if i in surviving_labels:\n",
    "                mean_val = np.mean(roi_values)\n",
    "                std_val = np.std(roi_values)\n",
    "                skew_val = skew(roi_values)\n",
    "                kurt_val = kurtosis(roi_values)\n",
    "\n",
    "                if roi_values.max() == roi_values.min():\n",
    "                    roi_features = [mean_val, std_val, skew_val, kurt_val, 0, 0, 0, 0]\n",
    "                else:\n",
    "                    roi_values_int = (roi_values - roi_values.min()) / (roi_values.max() - roi_values.min()) * 255\n",
    "                    roi_values_int = roi_values_int.astype(np.uint8)\n",
    "\n",
    "                    size = int(np.sqrt(len(roi_values_int)))\n",
    "                    if size * size != len(roi_values_int):\n",
    "                        size += 1\n",
    "                    reshaped_roi_values = np.pad(roi_values_int, (0, size * size - len(roi_values_int)), 'constant').reshape(size, size)\n",
    "\n",
    "                    glcm = graycomatrix(reshaped_roi_values, distances=[1], angles=[0, np.pi/4, np.pi/2, 3*np.pi/4], levels=256, symmetric=True, normed=True)\n",
    "                    contrast = graycoprops(glcm, 'contrast').mean()\n",
    "                    correlation = graycoprops(glcm, 'correlation').mean()\n",
    "                    energy = graycoprops(glcm, 'energy').mean()\n",
    "                    homogeneity = graycoprops(glcm, 'homogeneity').mean()\n",
    "\n",
    "                    roi_features = [mean_val, std_val, skew_val, kurt_val, contrast, correlation, energy, homogeneity]\n",
    "                all_roi_features.extend(roi_features)\n",
    "\n",
    "        return np.array(all_roi_features), surviving_labels\n",
    "\n",
    "    except FileNotFoundError:\n",
    "        logging.error(f\"Error: File not found at {image_path}\")\n",
    "        return None, None\n",
    "    except Exception as e:\n",
    "        logging.error(f\"Error processing image {image_path}: {e}\")\n",
    "        return None, None"
   ]
  },
  {
   "cell_type": "markdown",
   "id": "b3bc8e72",
   "metadata": {},
   "source": [
    "# Process MRI (Skull-stripped) data"
   ]
  },
  {
   "cell_type": "code",
   "execution_count": 5,
   "id": "31d18ee0",
   "metadata": {},
   "outputs": [
    {
     "name": "stdout",
     "output_type": "stream",
     "text": [
      "(Reference MRI-Only) Subject: sub-1, MRI Path: C:\\Users\\ishsh\\OneDrive\\Desktop\\QML_Project\\data\\processed\\mri\\derivatives\\cleaned_skullstrip\\sub-1\\anat\\sub-1_T1w_skullstripped.nii.gz, ROI Data Shape: (1, 116)\n"
     ]
    },
    {
     "name": "stderr",
     "output_type": "stream",
     "text": [
      "c:\\Users\\ishsh\\OneDrive\\Desktop\\QML_Project\\venv4qml\\Lib\\site-packages\\nilearn\\maskers\\nifti_labels_masker.py:888: UserWarning: After resampling the label image to the data image, the following labels were removed: {5102}. Label image only contains 116 labels (including background).\n",
      "  warnings.warn(\n"
     ]
    },
    {
     "name": "stdout",
     "output_type": "stream",
     "text": [
      "(Reference MRI-Only) Subject: sub-10, MRI Path: C:\\Users\\ishsh\\OneDrive\\Desktop\\QML_Project\\data\\processed\\mri\\derivatives\\cleaned_skullstrip\\sub-10\\anat\\sub-10_T1w_skullstripped.nii.gz, ROI Data Shape: (1, 115)\n"
     ]
    },
    {
     "name": "stderr",
     "output_type": "stream",
     "text": [
      "c:\\Users\\ishsh\\OneDrive\\Desktop\\QML_Project\\venv4qml\\Lib\\site-packages\\nilearn\\maskers\\nifti_labels_masker.py:888: UserWarning: After resampling the label image to the data image, the following labels were removed: {5101, 5102}. Label image only contains 115 labels (including background).\n",
      "  warnings.warn(\n"
     ]
    },
    {
     "name": "stdout",
     "output_type": "stream",
     "text": [
      "(Reference MRI-Only) Subject: sub-100, MRI Path: C:\\Users\\ishsh\\OneDrive\\Desktop\\QML_Project\\data\\processed\\mri\\derivatives\\cleaned_skullstrip\\sub-100\\anat\\sub-100_T1w_skullstripped.nii.gz, ROI Data Shape: (1, 114)\n"
     ]
    },
    {
     "name": "stderr",
     "output_type": "stream",
     "text": [
      "c:\\Users\\ishsh\\OneDrive\\Desktop\\QML_Project\\venv4qml\\Lib\\site-packages\\nilearn\\maskers\\nifti_labels_masker.py:888: UserWarning: After resampling the label image to the data image, the following labels were removed: {5101, 5102}. Label image only contains 115 labels (including background).\n",
      "  warnings.warn(\n"
     ]
    },
    {
     "name": "stdout",
     "output_type": "stream",
     "text": [
      "(Reference MRI-Only) Subject: sub-101, MRI Path: C:\\Users\\ishsh\\OneDrive\\Desktop\\QML_Project\\data\\processed\\mri\\derivatives\\cleaned_skullstrip\\sub-101\\anat\\sub-101_T1w_skullstripped.nii.gz, ROI Data Shape: (1, 114)\n"
     ]
    },
    {
     "name": "stderr",
     "output_type": "stream",
     "text": [
      "c:\\Users\\ishsh\\OneDrive\\Desktop\\QML_Project\\venv4qml\\Lib\\site-packages\\nilearn\\maskers\\nifti_labels_masker.py:888: UserWarning: After resampling the label image to the data image, the following labels were removed: {5101, 5102, 5201, 5202, 5011, 5012, 5302}. Label image only contains 110 labels (including background).\n",
      "  warnings.warn(\n"
     ]
    },
    {
     "name": "stdout",
     "output_type": "stream",
     "text": [
      "(Reference MRI-Only) Subject: sub-102, MRI Path: C:\\Users\\ishsh\\OneDrive\\Desktop\\QML_Project\\data\\processed\\mri\\derivatives\\cleaned_skullstrip\\sub-102\\anat\\sub-102_T1w_skullstripped.nii.gz, ROI Data Shape: (1, 109)\n",
      "(Reference MRI-Only) Subject: sub-103, MRI Path: C:\\Users\\ishsh\\OneDrive\\Desktop\\QML_Project\\data\\processed\\mri\\derivatives\\cleaned_skullstrip\\sub-103\\anat\\sub-103_T1w_skullstripped.nii.gz, ROI Data Shape: (1, 116)\n",
      "(Reference MRI-Only) Subject: sub-104, MRI Path: C:\\Users\\ishsh\\OneDrive\\Desktop\\QML_Project\\data\\processed\\mri\\derivatives\\cleaned_skullstrip\\sub-104\\anat\\sub-104_T1w_skullstripped.nii.gz, ROI Data Shape: (1, 116)\n",
      "(Reference MRI-Only) Subject: sub-105, MRI Path: C:\\Users\\ishsh\\OneDrive\\Desktop\\QML_Project\\data\\processed\\mri\\derivatives\\cleaned_skullstrip\\sub-105\\anat\\sub-105_T1w_skullstripped.nii.gz, ROI Data Shape: (1, 116)\n",
      "(Reference MRI-Only) Subject: sub-106, MRI Path: C:\\Users\\ishsh\\OneDrive\\Desktop\\QML_Project\\data\\processed\\mri\\derivatives\\cleaned_skullstrip\\sub-106\\anat\\sub-106_T1w_skullstripped.nii.gz, ROI Data Shape: (1, 116)\n",
      "(Reference MRI-Only) Subject: sub-108, MRI Path: C:\\Users\\ishsh\\OneDrive\\Desktop\\QML_Project\\data\\processed\\mri\\derivatives\\cleaned_skullstrip\\sub-108\\anat\\sub-108_T1w_skullstripped.nii.gz, ROI Data Shape: (1, 116)\n"
     ]
    },
    {
     "name": "stderr",
     "output_type": "stream",
     "text": [
      "c:\\Users\\ishsh\\OneDrive\\Desktop\\QML_Project\\venv4qml\\Lib\\site-packages\\nilearn\\maskers\\nifti_labels_masker.py:888: UserWarning: After resampling the label image to the data image, the following labels were removed: {5101}. Label image only contains 116 labels (including background).\n",
      "  warnings.warn(\n"
     ]
    },
    {
     "name": "stdout",
     "output_type": "stream",
     "text": [
      "(Reference MRI-Only) Subject: sub-109, MRI Path: C:\\Users\\ishsh\\OneDrive\\Desktop\\QML_Project\\data\\processed\\mri\\derivatives\\cleaned_skullstrip\\sub-109\\anat\\sub-109_T1w_skullstripped.nii.gz, ROI Data Shape: (1, 115)\n",
      "(Reference MRI-Only) Subject: sub-11, MRI Path: C:\\Users\\ishsh\\OneDrive\\Desktop\\QML_Project\\data\\processed\\mri\\derivatives\\cleaned_skullstrip\\sub-11\\anat\\sub-11_T1w_skullstripped.nii.gz, ROI Data Shape: (1, 116)\n",
      "(Reference MRI-Only) Subject: sub-110, MRI Path: C:\\Users\\ishsh\\OneDrive\\Desktop\\QML_Project\\data\\processed\\mri\\derivatives\\cleaned_skullstrip\\sub-110\\anat\\sub-110_T1w_skullstripped.nii.gz, ROI Data Shape: (1, 116)\n",
      "(Reference MRI-Only) Subject: sub-111, MRI Path: C:\\Users\\ishsh\\OneDrive\\Desktop\\QML_Project\\data\\processed\\mri\\derivatives\\cleaned_skullstrip\\sub-111\\anat\\sub-111_T1w_skullstripped.nii.gz, ROI Data Shape: (1, 116)\n",
      "(Reference MRI-Only) Subject: sub-112, MRI Path: C:\\Users\\ishsh\\OneDrive\\Desktop\\QML_Project\\data\\processed\\mri\\derivatives\\cleaned_skullstrip\\sub-112\\anat\\sub-112_T1w_skullstripped.nii.gz, ROI Data Shape: (1, 116)\n",
      "(Reference MRI-Only) Subject: sub-113, MRI Path: C:\\Users\\ishsh\\OneDrive\\Desktop\\QML_Project\\data\\processed\\mri\\derivatives\\cleaned_skullstrip\\sub-113\\anat\\sub-113_T1w_skullstripped.nii.gz, ROI Data Shape: (1, 116)\n",
      "(Reference MRI-Only) Subject: sub-114, MRI Path: C:\\Users\\ishsh\\OneDrive\\Desktop\\QML_Project\\data\\processed\\mri\\derivatives\\cleaned_skullstrip\\sub-114\\anat\\sub-114_T1w_skullstripped.nii.gz, ROI Data Shape: (1, 116)\n",
      "(Reference MRI-Only) Subject: sub-115, MRI Path: C:\\Users\\ishsh\\OneDrive\\Desktop\\QML_Project\\data\\processed\\mri\\derivatives\\cleaned_skullstrip\\sub-115\\anat\\sub-115_T1w_skullstripped.nii.gz, ROI Data Shape: (1, 116)\n",
      "(Reference MRI-Only) Subject: sub-116, MRI Path: C:\\Users\\ishsh\\OneDrive\\Desktop\\QML_Project\\data\\processed\\mri\\derivatives\\cleaned_skullstrip\\sub-116\\anat\\sub-116_T1w_skullstripped.nii.gz, ROI Data Shape: (1, 116)\n"
     ]
    },
    {
     "name": "stderr",
     "output_type": "stream",
     "text": [
      "c:\\Users\\ishsh\\OneDrive\\Desktop\\QML_Project\\venv4qml\\Lib\\site-packages\\nilearn\\maskers\\nifti_labels_masker.py:888: UserWarning: After resampling the label image to the data image, the following labels were removed: {5102}. Label image only contains 116 labels (including background).\n",
      "  warnings.warn(\n"
     ]
    },
    {
     "name": "stdout",
     "output_type": "stream",
     "text": [
      "(Reference MRI-Only) Subject: sub-117, MRI Path: C:\\Users\\ishsh\\OneDrive\\Desktop\\QML_Project\\data\\processed\\mri\\derivatives\\cleaned_skullstrip\\sub-117\\anat\\sub-117_T1w_skullstripped.nii.gz, ROI Data Shape: (1, 115)\n"
     ]
    },
    {
     "name": "stderr",
     "output_type": "stream",
     "text": [
      "c:\\Users\\ishsh\\OneDrive\\Desktop\\QML_Project\\venv4qml\\Lib\\site-packages\\nilearn\\maskers\\nifti_labels_masker.py:888: UserWarning: After resampling the label image to the data image, the following labels were removed: {5202, 5101, 5102}. Label image only contains 114 labels (including background).\n",
      "  warnings.warn(\n"
     ]
    },
    {
     "name": "stdout",
     "output_type": "stream",
     "text": [
      "(Reference MRI-Only) Subject: sub-118, MRI Path: C:\\Users\\ishsh\\OneDrive\\Desktop\\QML_Project\\data\\processed\\mri\\derivatives\\cleaned_skullstrip\\sub-118\\anat\\sub-118_T1w_skullstripped.nii.gz, ROI Data Shape: (1, 113)\n",
      "(Reference MRI-Only) Subject: sub-119, MRI Path: C:\\Users\\ishsh\\OneDrive\\Desktop\\QML_Project\\data\\processed\\mri\\derivatives\\cleaned_skullstrip\\sub-119\\anat\\sub-119_T1w_skullstripped.nii.gz, ROI Data Shape: (1, 116)\n",
      "(Reference MRI-Only) Subject: sub-12, MRI Path: C:\\Users\\ishsh\\OneDrive\\Desktop\\QML_Project\\data\\processed\\mri\\derivatives\\cleaned_skullstrip\\sub-12\\anat\\sub-12_T1w_skullstripped.nii.gz, ROI Data Shape: (1, 116)\n",
      "(Reference MRI-Only) Subject: sub-120, MRI Path: C:\\Users\\ishsh\\OneDrive\\Desktop\\QML_Project\\data\\processed\\mri\\derivatives\\cleaned_skullstrip\\sub-120\\anat\\sub-120_T1w_skullstripped.nii.gz, ROI Data Shape: (1, 116)\n",
      "(Reference MRI-Only) Subject: sub-121, MRI Path: C:\\Users\\ishsh\\OneDrive\\Desktop\\QML_Project\\data\\processed\\mri\\derivatives\\cleaned_skullstrip\\sub-121\\anat\\sub-121_T1w_skullstripped.nii.gz, ROI Data Shape: (1, 116)\n",
      "(Reference MRI-Only) Subject: sub-122, MRI Path: C:\\Users\\ishsh\\OneDrive\\Desktop\\QML_Project\\data\\processed\\mri\\derivatives\\cleaned_skullstrip\\sub-122\\anat\\sub-122_T1w_skullstripped.nii.gz, ROI Data Shape: (1, 116)\n"
     ]
    },
    {
     "name": "stderr",
     "output_type": "stream",
     "text": [
      "c:\\Users\\ishsh\\OneDrive\\Desktop\\QML_Project\\venv4qml\\Lib\\site-packages\\nilearn\\maskers\\nifti_labels_masker.py:888: UserWarning: After resampling the label image to the data image, the following labels were removed: {6102}. Label image only contains 116 labels (including background).\n",
      "  warnings.warn(\n"
     ]
    },
    {
     "name": "stdout",
     "output_type": "stream",
     "text": [
      "(Reference MRI-Only) Subject: sub-123, MRI Path: C:\\Users\\ishsh\\OneDrive\\Desktop\\QML_Project\\data\\processed\\mri\\derivatives\\cleaned_skullstrip\\sub-123\\anat\\sub-123_T1w_skullstripped.nii.gz, ROI Data Shape: (1, 115)\n",
      "(Reference MRI-Only) Subject: sub-124, MRI Path: C:\\Users\\ishsh\\OneDrive\\Desktop\\QML_Project\\data\\processed\\mri\\derivatives\\cleaned_skullstrip\\sub-124\\anat\\sub-124_T1w_skullstripped.nii.gz, ROI Data Shape: (1, 116)\n"
     ]
    },
    {
     "name": "stderr",
     "output_type": "stream",
     "text": [
      "c:\\Users\\ishsh\\OneDrive\\Desktop\\QML_Project\\venv4qml\\Lib\\site-packages\\nilearn\\maskers\\nifti_labels_masker.py:888: UserWarning: After resampling the label image to the data image, the following labels were removed: {5101, 5102}. Label image only contains 115 labels (including background).\n",
      "  warnings.warn(\n"
     ]
    },
    {
     "name": "stdout",
     "output_type": "stream",
     "text": [
      "(Reference MRI-Only) Subject: sub-125, MRI Path: C:\\Users\\ishsh\\OneDrive\\Desktop\\QML_Project\\data\\processed\\mri\\derivatives\\cleaned_skullstrip\\sub-125\\anat\\sub-125_T1w_skullstripped.nii.gz, ROI Data Shape: (1, 114)\n",
      "(Reference MRI-Only) Subject: sub-126, MRI Path: C:\\Users\\ishsh\\OneDrive\\Desktop\\QML_Project\\data\\processed\\mri\\derivatives\\cleaned_skullstrip\\sub-126\\anat\\sub-126_T1w_skullstripped.nii.gz, ROI Data Shape: (1, 116)\n",
      "(Reference MRI-Only) Subject: sub-127, MRI Path: C:\\Users\\ishsh\\OneDrive\\Desktop\\QML_Project\\data\\processed\\mri\\derivatives\\cleaned_skullstrip\\sub-127\\anat\\sub-127_T1w_skullstripped.nii.gz, ROI Data Shape: (1, 116)\n",
      "(Reference MRI-Only) Subject: sub-128, MRI Path: C:\\Users\\ishsh\\OneDrive\\Desktop\\QML_Project\\data\\processed\\mri\\derivatives\\cleaned_skullstrip\\sub-128\\anat\\sub-128_T1w_skullstripped.nii.gz, ROI Data Shape: (1, 116)\n",
      "(Reference MRI-Only) Subject: sub-129, MRI Path: C:\\Users\\ishsh\\OneDrive\\Desktop\\QML_Project\\data\\processed\\mri\\derivatives\\cleaned_skullstrip\\sub-129\\anat\\sub-129_T1w_skullstripped.nii.gz, ROI Data Shape: (1, 116)\n",
      "(Reference MRI-Only) Subject: sub-13, MRI Path: C:\\Users\\ishsh\\OneDrive\\Desktop\\QML_Project\\data\\processed\\mri\\derivatives\\cleaned_skullstrip\\sub-13\\anat\\sub-13_T1w_skullstripped.nii.gz, ROI Data Shape: (1, 116)\n"
     ]
    },
    {
     "name": "stderr",
     "output_type": "stream",
     "text": [
      "c:\\Users\\ishsh\\OneDrive\\Desktop\\QML_Project\\venv4qml\\Lib\\site-packages\\nilearn\\maskers\\nifti_labels_masker.py:888: UserWarning: After resampling the label image to the data image, the following labels were removed: {5101, 5102}. Label image only contains 115 labels (including background).\n",
      "  warnings.warn(\n"
     ]
    },
    {
     "name": "stdout",
     "output_type": "stream",
     "text": [
      "(Reference MRI-Only) Subject: sub-130, MRI Path: C:\\Users\\ishsh\\OneDrive\\Desktop\\QML_Project\\data\\processed\\mri\\derivatives\\cleaned_skullstrip\\sub-130\\anat\\sub-130_T1w_skullstripped.nii.gz, ROI Data Shape: (1, 114)\n"
     ]
    },
    {
     "name": "stderr",
     "output_type": "stream",
     "text": [
      "c:\\Users\\ishsh\\OneDrive\\Desktop\\QML_Project\\venv4qml\\Lib\\site-packages\\nilearn\\maskers\\nifti_labels_masker.py:888: UserWarning: After resampling the label image to the data image, the following labels were removed: {5101, 5102, 5202, 5011, 5012, 5302}. Label image only contains 111 labels (including background).\n",
      "  warnings.warn(\n"
     ]
    },
    {
     "name": "stdout",
     "output_type": "stream",
     "text": [
      "(Reference MRI-Only) Subject: sub-131, MRI Path: C:\\Users\\ishsh\\OneDrive\\Desktop\\QML_Project\\data\\processed\\mri\\derivatives\\cleaned_skullstrip\\sub-131\\anat\\sub-131_T1w_skullstripped.nii.gz, ROI Data Shape: (1, 110)\n",
      "(Reference MRI-Only) Subject: sub-132, MRI Path: C:\\Users\\ishsh\\OneDrive\\Desktop\\QML_Project\\data\\processed\\mri\\derivatives\\cleaned_skullstrip\\sub-132\\anat\\sub-132_T1w_skullstripped.nii.gz, ROI Data Shape: (1, 116)\n",
      "(Reference MRI-Only) Subject: sub-133, MRI Path: C:\\Users\\ishsh\\OneDrive\\Desktop\\QML_Project\\data\\processed\\mri\\derivatives\\cleaned_skullstrip\\sub-133\\anat\\sub-133_T1w_skullstripped.nii.gz, ROI Data Shape: (1, 116)\n",
      "(Reference MRI-Only) Subject: sub-134, MRI Path: C:\\Users\\ishsh\\OneDrive\\Desktop\\QML_Project\\data\\processed\\mri\\derivatives\\cleaned_skullstrip\\sub-134\\anat\\sub-134_T1w_skullstripped.nii.gz, ROI Data Shape: (1, 116)\n",
      "(Reference MRI-Only) Subject: sub-135, MRI Path: C:\\Users\\ishsh\\OneDrive\\Desktop\\QML_Project\\data\\processed\\mri\\derivatives\\cleaned_skullstrip\\sub-135\\anat\\sub-135_T1w_skullstripped.nii.gz, ROI Data Shape: (1, 116)\n"
     ]
    },
    {
     "name": "stderr",
     "output_type": "stream",
     "text": [
      "c:\\Users\\ishsh\\OneDrive\\Desktop\\QML_Project\\venv4qml\\Lib\\site-packages\\nilearn\\maskers\\nifti_labels_masker.py:888: UserWarning: After resampling the label image to the data image, the following labels were removed: {5202, 5102, 5101, 5302}. Label image only contains 113 labels (including background).\n",
      "  warnings.warn(\n"
     ]
    },
    {
     "name": "stdout",
     "output_type": "stream",
     "text": [
      "(Reference MRI-Only) Subject: sub-136, MRI Path: C:\\Users\\ishsh\\OneDrive\\Desktop\\QML_Project\\data\\processed\\mri\\derivatives\\cleaned_skullstrip\\sub-136\\anat\\sub-136_T1w_skullstripped.nii.gz, ROI Data Shape: (1, 112)\n",
      "(Reference MRI-Only) Subject: sub-137, MRI Path: C:\\Users\\ishsh\\OneDrive\\Desktop\\QML_Project\\data\\processed\\mri\\derivatives\\cleaned_skullstrip\\sub-137\\anat\\sub-137_T1w_skullstripped.nii.gz, ROI Data Shape: (1, 116)\n",
      "(Reference MRI-Only) Subject: sub-138, MRI Path: C:\\Users\\ishsh\\OneDrive\\Desktop\\QML_Project\\data\\processed\\mri\\derivatives\\cleaned_skullstrip\\sub-138\\anat\\sub-138_T1w_skullstripped.nii.gz, ROI Data Shape: (1, 116)\n",
      "(Reference MRI-Only) Subject: sub-14, MRI Path: C:\\Users\\ishsh\\OneDrive\\Desktop\\QML_Project\\data\\processed\\mri\\derivatives\\cleaned_skullstrip\\sub-14\\anat\\sub-14_T1w_skullstripped.nii.gz, ROI Data Shape: (1, 116)\n",
      "(Reference MRI-Only) Subject: sub-141, MRI Path: C:\\Users\\ishsh\\OneDrive\\Desktop\\QML_Project\\data\\processed\\mri\\derivatives\\cleaned_skullstrip\\sub-141\\anat\\sub-141_T1w_skullstripped.nii.gz, ROI Data Shape: (1, 116)\n",
      "(Reference MRI-Only) Subject: sub-142, MRI Path: C:\\Users\\ishsh\\OneDrive\\Desktop\\QML_Project\\data\\processed\\mri\\derivatives\\cleaned_skullstrip\\sub-142\\anat\\sub-142_T1w_skullstripped.nii.gz, ROI Data Shape: (1, 116)\n"
     ]
    },
    {
     "name": "stderr",
     "output_type": "stream",
     "text": [
      "c:\\Users\\ishsh\\OneDrive\\Desktop\\QML_Project\\venv4qml\\Lib\\site-packages\\nilearn\\maskers\\nifti_labels_masker.py:888: UserWarning: After resampling the label image to the data image, the following labels were removed: {9061, 9062, 9160, 9001, 9002, 9071, 9072, 9170, 9011, 9012, 9140, 9081, 9082, 9051, 9052, 9150}. Label image only contains 101 labels (including background).\n",
      "  warnings.warn(\n"
     ]
    },
    {
     "name": "stdout",
     "output_type": "stream",
     "text": [
      "(Reference MRI-Only) Subject: sub-143, MRI Path: C:\\Users\\ishsh\\OneDrive\\Desktop\\QML_Project\\data\\processed\\mri\\derivatives\\cleaned_skullstrip\\sub-143\\anat\\sub-143_T1w_skullstripped.nii.gz, ROI Data Shape: (1, 100)\n",
      "(Reference MRI-Only) Subject: sub-144, MRI Path: C:\\Users\\ishsh\\OneDrive\\Desktop\\QML_Project\\data\\processed\\mri\\derivatives\\cleaned_skullstrip\\sub-144\\anat\\sub-144_T1w_skullstripped.nii.gz, ROI Data Shape: (1, 116)\n",
      "(Reference MRI-Only) Subject: sub-145, MRI Path: C:\\Users\\ishsh\\OneDrive\\Desktop\\QML_Project\\data\\processed\\mri\\derivatives\\cleaned_skullstrip\\sub-145\\anat\\sub-145_T1w_skullstripped.nii.gz, ROI Data Shape: (1, 116)\n",
      "(Reference MRI-Only) Subject: sub-146, MRI Path: C:\\Users\\ishsh\\OneDrive\\Desktop\\QML_Project\\data\\processed\\mri\\derivatives\\cleaned_skullstrip\\sub-146\\anat\\sub-146_T1w_skullstripped.nii.gz, ROI Data Shape: (1, 116)\n",
      "(Reference MRI-Only) Subject: sub-147, MRI Path: C:\\Users\\ishsh\\OneDrive\\Desktop\\QML_Project\\data\\processed\\mri\\derivatives\\cleaned_skullstrip\\sub-147\\anat\\sub-147_T1w_skullstripped.nii.gz, ROI Data Shape: (1, 116)\n",
      "(Reference MRI-Only) Subject: sub-148, MRI Path: C:\\Users\\ishsh\\OneDrive\\Desktop\\QML_Project\\data\\processed\\mri\\derivatives\\cleaned_skullstrip\\sub-148\\anat\\sub-148_T1w_skullstripped.nii.gz, ROI Data Shape: (1, 116)\n",
      "(Reference MRI-Only) Subject: sub-149, MRI Path: C:\\Users\\ishsh\\OneDrive\\Desktop\\QML_Project\\data\\processed\\mri\\derivatives\\cleaned_skullstrip\\sub-149\\anat\\sub-149_T1w_skullstripped.nii.gz, ROI Data Shape: (1, 116)\n"
     ]
    },
    {
     "name": "stderr",
     "output_type": "stream",
     "text": [
      "c:\\Users\\ishsh\\OneDrive\\Desktop\\QML_Project\\venv4qml\\Lib\\site-packages\\nilearn\\maskers\\nifti_labels_masker.py:888: UserWarning: After resampling the label image to the data image, the following labels were removed: {9081, 9052}. Label image only contains 115 labels (including background).\n",
      "  warnings.warn(\n"
     ]
    },
    {
     "name": "stdout",
     "output_type": "stream",
     "text": [
      "(Reference MRI-Only) Subject: sub-15, MRI Path: C:\\Users\\ishsh\\OneDrive\\Desktop\\QML_Project\\data\\processed\\mri\\derivatives\\cleaned_skullstrip\\sub-15\\anat\\sub-15_T1w_skullstripped.nii.gz, ROI Data Shape: (1, 114)\n",
      "(Reference MRI-Only) Subject: sub-150, MRI Path: C:\\Users\\ishsh\\OneDrive\\Desktop\\QML_Project\\data\\processed\\mri\\derivatives\\cleaned_skullstrip\\sub-150\\anat\\sub-150_T1w_skullstripped.nii.gz, ROI Data Shape: (1, 116)\n",
      "(Reference MRI-Only) Subject: sub-151, MRI Path: C:\\Users\\ishsh\\OneDrive\\Desktop\\QML_Project\\data\\processed\\mri\\derivatives\\cleaned_skullstrip\\sub-151\\anat\\sub-151_T1w_skullstripped.nii.gz, ROI Data Shape: (1, 116)\n",
      "(Reference MRI-Only) Subject: sub-152, MRI Path: C:\\Users\\ishsh\\OneDrive\\Desktop\\QML_Project\\data\\processed\\mri\\derivatives\\cleaned_skullstrip\\sub-152\\anat\\sub-152_T1w_skullstripped.nii.gz, ROI Data Shape: (1, 116)\n"
     ]
    },
    {
     "name": "stderr",
     "output_type": "stream",
     "text": [
      "c:\\Users\\ishsh\\OneDrive\\Desktop\\QML_Project\\venv4qml\\Lib\\site-packages\\nilearn\\maskers\\nifti_labels_masker.py:888: UserWarning: After resampling the label image to the data image, the following labels were removed: {5101, 5102, 5202, 5011, 5012, 6101}. Label image only contains 111 labels (including background).\n",
      "  warnings.warn(\n"
     ]
    },
    {
     "name": "stdout",
     "output_type": "stream",
     "text": [
      "(Reference MRI-Only) Subject: sub-153, MRI Path: C:\\Users\\ishsh\\OneDrive\\Desktop\\QML_Project\\data\\processed\\mri\\derivatives\\cleaned_skullstrip\\sub-153\\anat\\sub-153_T1w_skullstripped.nii.gz, ROI Data Shape: (1, 110)\n",
      "(Reference MRI-Only) Subject: sub-154, MRI Path: C:\\Users\\ishsh\\OneDrive\\Desktop\\QML_Project\\data\\processed\\mri\\derivatives\\cleaned_skullstrip\\sub-154\\anat\\sub-154_T1w_skullstripped.nii.gz, ROI Data Shape: (1, 116)\n",
      "(Reference MRI-Only) Subject: sub-155, MRI Path: C:\\Users\\ishsh\\OneDrive\\Desktop\\QML_Project\\data\\processed\\mri\\derivatives\\cleaned_skullstrip\\sub-155\\anat\\sub-155_T1w_skullstripped.nii.gz, ROI Data Shape: (1, 116)\n",
      "(Reference MRI-Only) Subject: sub-156, MRI Path: C:\\Users\\ishsh\\OneDrive\\Desktop\\QML_Project\\data\\processed\\mri\\derivatives\\cleaned_skullstrip\\sub-156\\anat\\sub-156_T1w_skullstripped.nii.gz, ROI Data Shape: (1, 116)\n",
      "(Reference MRI-Only) Subject: sub-157, MRI Path: C:\\Users\\ishsh\\OneDrive\\Desktop\\QML_Project\\data\\processed\\mri\\derivatives\\cleaned_skullstrip\\sub-157\\anat\\sub-157_T1w_skullstripped.nii.gz, ROI Data Shape: (1, 116)\n",
      "(Reference MRI-Only) Subject: sub-158, MRI Path: C:\\Users\\ishsh\\OneDrive\\Desktop\\QML_Project\\data\\processed\\mri\\derivatives\\cleaned_skullstrip\\sub-158\\anat\\sub-158_T1w_skullstripped.nii.gz, ROI Data Shape: (1, 116)\n",
      "(Reference MRI-Only) Subject: sub-159, MRI Path: C:\\Users\\ishsh\\OneDrive\\Desktop\\QML_Project\\data\\processed\\mri\\derivatives\\cleaned_skullstrip\\sub-159\\anat\\sub-159_T1w_skullstripped.nii.gz, ROI Data Shape: (1, 116)\n",
      "(Reference MRI-Only) Subject: sub-16, MRI Path: C:\\Users\\ishsh\\OneDrive\\Desktop\\QML_Project\\data\\processed\\mri\\derivatives\\cleaned_skullstrip\\sub-16\\anat\\sub-16_T1w_skullstripped.nii.gz, ROI Data Shape: (1, 116)\n",
      "(Reference MRI-Only) Subject: sub-160, MRI Path: C:\\Users\\ishsh\\OneDrive\\Desktop\\QML_Project\\data\\processed\\mri\\derivatives\\cleaned_skullstrip\\sub-160\\anat\\sub-160_T1w_skullstripped.nii.gz, ROI Data Shape: (1, 116)\n",
      "(Reference MRI-Only) Subject: sub-161, MRI Path: C:\\Users\\ishsh\\OneDrive\\Desktop\\QML_Project\\data\\processed\\mri\\derivatives\\cleaned_skullstrip\\sub-161\\anat\\sub-161_T1w_skullstripped.nii.gz, ROI Data Shape: (1, 116)\n",
      "(Reference MRI-Only) Subject: sub-162, MRI Path: C:\\Users\\ishsh\\OneDrive\\Desktop\\QML_Project\\data\\processed\\mri\\derivatives\\cleaned_skullstrip\\sub-162\\anat\\sub-162_T1w_skullstripped.nii.gz, ROI Data Shape: (1, 116)\n",
      "(Reference MRI-Only) Subject: sub-163, MRI Path: C:\\Users\\ishsh\\OneDrive\\Desktop\\QML_Project\\data\\processed\\mri\\derivatives\\cleaned_skullstrip\\sub-163\\anat\\sub-163_T1w_skullstripped.nii.gz, ROI Data Shape: (1, 116)\n",
      "(Reference MRI-Only) Subject: sub-164, MRI Path: C:\\Users\\ishsh\\OneDrive\\Desktop\\QML_Project\\data\\processed\\mri\\derivatives\\cleaned_skullstrip\\sub-164\\anat\\sub-164_T1w_skullstripped.nii.gz, ROI Data Shape: (1, 116)\n",
      "(Reference MRI-Only) Subject: sub-165, MRI Path: C:\\Users\\ishsh\\OneDrive\\Desktop\\QML_Project\\data\\processed\\mri\\derivatives\\cleaned_skullstrip\\sub-165\\anat\\sub-165_T1w_skullstripped.nii.gz, ROI Data Shape: (1, 116)\n",
      "(Reference MRI-Only) Subject: sub-166, MRI Path: C:\\Users\\ishsh\\OneDrive\\Desktop\\QML_Project\\data\\processed\\mri\\derivatives\\cleaned_skullstrip\\sub-166\\anat\\sub-166_T1w_skullstripped.nii.gz, ROI Data Shape: (1, 116)\n",
      "(Reference MRI-Only) Subject: sub-167, MRI Path: C:\\Users\\ishsh\\OneDrive\\Desktop\\QML_Project\\data\\processed\\mri\\derivatives\\cleaned_skullstrip\\sub-167\\anat\\sub-167_T1w_skullstripped.nii.gz, ROI Data Shape: (1, 116)\n",
      "(Reference MRI-Only) Subject: sub-168, MRI Path: C:\\Users\\ishsh\\OneDrive\\Desktop\\QML_Project\\data\\processed\\mri\\derivatives\\cleaned_skullstrip\\sub-168\\anat\\sub-168_T1w_skullstripped.nii.gz, ROI Data Shape: (1, 116)\n",
      "(Reference MRI-Only) Subject: sub-169, MRI Path: C:\\Users\\ishsh\\OneDrive\\Desktop\\QML_Project\\data\\processed\\mri\\derivatives\\cleaned_skullstrip\\sub-169\\anat\\sub-169_T1w_skullstripped.nii.gz, ROI Data Shape: (1, 116)\n"
     ]
    },
    {
     "name": "stderr",
     "output_type": "stream",
     "text": [
      "c:\\Users\\ishsh\\OneDrive\\Desktop\\QML_Project\\venv4qml\\Lib\\site-packages\\nilearn\\maskers\\nifti_labels_masker.py:888: UserWarning: After resampling the label image to the data image, the following labels were removed: {5101, 5102}. Label image only contains 115 labels (including background).\n",
      "  warnings.warn(\n"
     ]
    },
    {
     "name": "stdout",
     "output_type": "stream",
     "text": [
      "(Reference MRI-Only) Subject: sub-17, MRI Path: C:\\Users\\ishsh\\OneDrive\\Desktop\\QML_Project\\data\\processed\\mri\\derivatives\\cleaned_skullstrip\\sub-17\\anat\\sub-17_T1w_skullstripped.nii.gz, ROI Data Shape: (1, 114)\n",
      "(Reference MRI-Only) Subject: sub-170, MRI Path: C:\\Users\\ishsh\\OneDrive\\Desktop\\QML_Project\\data\\processed\\mri\\derivatives\\cleaned_skullstrip\\sub-170\\anat\\sub-170_T1w_skullstripped.nii.gz, ROI Data Shape: (1, 116)\n",
      "(Reference MRI-Only) Subject: sub-171, MRI Path: C:\\Users\\ishsh\\OneDrive\\Desktop\\QML_Project\\data\\processed\\mri\\derivatives\\cleaned_skullstrip\\sub-171\\anat\\sub-171_T1w_skullstripped.nii.gz, ROI Data Shape: (1, 116)\n",
      "(Reference MRI-Only) Subject: sub-172, MRI Path: C:\\Users\\ishsh\\OneDrive\\Desktop\\QML_Project\\data\\processed\\mri\\derivatives\\cleaned_skullstrip\\sub-172\\anat\\sub-172_T1w_skullstripped.nii.gz, ROI Data Shape: (1, 116)\n",
      "(Reference MRI-Only) Subject: sub-173, MRI Path: C:\\Users\\ishsh\\OneDrive\\Desktop\\QML_Project\\data\\processed\\mri\\derivatives\\cleaned_skullstrip\\sub-173\\anat\\sub-173_T1w_skullstripped.nii.gz, ROI Data Shape: (1, 116)\n"
     ]
    },
    {
     "name": "stderr",
     "output_type": "stream",
     "text": [
      "c:\\Users\\ishsh\\OneDrive\\Desktop\\QML_Project\\venv4qml\\Lib\\site-packages\\nilearn\\maskers\\nifti_labels_masker.py:888: UserWarning: After resampling the label image to the data image, the following labels were removed: {9081, 9082, 9052}. Label image only contains 114 labels (including background).\n",
      "  warnings.warn(\n"
     ]
    },
    {
     "name": "stdout",
     "output_type": "stream",
     "text": [
      "(Reference MRI-Only) Subject: sub-174, MRI Path: C:\\Users\\ishsh\\OneDrive\\Desktop\\QML_Project\\data\\processed\\mri\\derivatives\\cleaned_skullstrip\\sub-174\\anat\\sub-174_T1w_skullstripped.nii.gz, ROI Data Shape: (1, 113)\n",
      "(Reference MRI-Only) Subject: sub-175, MRI Path: C:\\Users\\ishsh\\OneDrive\\Desktop\\QML_Project\\data\\processed\\mri\\derivatives\\cleaned_skullstrip\\sub-175\\anat\\sub-175_T1w_skullstripped.nii.gz, ROI Data Shape: (1, 116)\n",
      "(Reference MRI-Only) Subject: sub-176, MRI Path: C:\\Users\\ishsh\\OneDrive\\Desktop\\QML_Project\\data\\processed\\mri\\derivatives\\cleaned_skullstrip\\sub-176\\anat\\sub-176_T1w_skullstripped.nii.gz, ROI Data Shape: (1, 116)\n",
      "(Reference MRI-Only) Subject: sub-177, MRI Path: C:\\Users\\ishsh\\OneDrive\\Desktop\\QML_Project\\data\\processed\\mri\\derivatives\\cleaned_skullstrip\\sub-177\\anat\\sub-177_T1w_skullstripped.nii.gz, ROI Data Shape: (1, 116)\n"
     ]
    },
    {
     "name": "stderr",
     "output_type": "stream",
     "text": [
      "c:\\Users\\ishsh\\OneDrive\\Desktop\\QML_Project\\venv4qml\\Lib\\site-packages\\nilearn\\maskers\\nifti_labels_masker.py:888: UserWarning: After resampling the label image to the data image, the following labels were removed: {5101, 5102, 5202, 9140, 5301, 5302, 9150}. Label image only contains 110 labels (including background).\n",
      "  warnings.warn(\n"
     ]
    },
    {
     "name": "stdout",
     "output_type": "stream",
     "text": [
      "(Reference MRI-Only) Subject: sub-178, MRI Path: C:\\Users\\ishsh\\OneDrive\\Desktop\\QML_Project\\data\\processed\\mri\\derivatives\\cleaned_skullstrip\\sub-178\\anat\\sub-178_T1w_skullstripped.nii.gz, ROI Data Shape: (1, 109)\n"
     ]
    },
    {
     "name": "stderr",
     "output_type": "stream",
     "text": [
      "c:\\Users\\ishsh\\OneDrive\\Desktop\\QML_Project\\venv4qml\\Lib\\site-packages\\nilearn\\maskers\\nifti_labels_masker.py:888: UserWarning: After resampling the label image to the data image, the following labels were removed: {5202, 5101, 5102}. Label image only contains 114 labels (including background).\n",
      "  warnings.warn(\n"
     ]
    },
    {
     "name": "stdout",
     "output_type": "stream",
     "text": [
      "(Reference MRI-Only) Subject: sub-179, MRI Path: C:\\Users\\ishsh\\OneDrive\\Desktop\\QML_Project\\data\\processed\\mri\\derivatives\\cleaned_skullstrip\\sub-179\\anat\\sub-179_T1w_skullstripped.nii.gz, ROI Data Shape: (1, 113)\n",
      "(Reference MRI-Only) Subject: sub-18, MRI Path: C:\\Users\\ishsh\\OneDrive\\Desktop\\QML_Project\\data\\processed\\mri\\derivatives\\cleaned_skullstrip\\sub-18\\anat\\sub-18_T1w_skullstripped.nii.gz, ROI Data Shape: (1, 116)\n"
     ]
    },
    {
     "name": "stderr",
     "output_type": "stream",
     "text": [
      "c:\\Users\\ishsh\\OneDrive\\Desktop\\QML_Project\\venv4qml\\Lib\\site-packages\\nilearn\\maskers\\nifti_labels_masker.py:888: UserWarning: After resampling the label image to the data image, the following labels were removed: {5101, 5102}. Label image only contains 115 labels (including background).\n",
      "  warnings.warn(\n"
     ]
    },
    {
     "name": "stdout",
     "output_type": "stream",
     "text": [
      "(Reference MRI-Only) Subject: sub-180, MRI Path: C:\\Users\\ishsh\\OneDrive\\Desktop\\QML_Project\\data\\processed\\mri\\derivatives\\cleaned_skullstrip\\sub-180\\anat\\sub-180_T1w_skullstripped.nii.gz, ROI Data Shape: (1, 114)\n",
      "(Reference MRI-Only) Subject: sub-181, MRI Path: C:\\Users\\ishsh\\OneDrive\\Desktop\\QML_Project\\data\\processed\\mri\\derivatives\\cleaned_skullstrip\\sub-181\\anat\\sub-181_T1w_skullstripped.nii.gz, ROI Data Shape: (1, 116)\n",
      "(Reference MRI-Only) Subject: sub-182, MRI Path: C:\\Users\\ishsh\\OneDrive\\Desktop\\QML_Project\\data\\processed\\mri\\derivatives\\cleaned_skullstrip\\sub-182\\anat\\sub-182_T1w_skullstripped.nii.gz, ROI Data Shape: (1, 116)\n",
      "(Reference MRI-Only) Subject: sub-183, MRI Path: C:\\Users\\ishsh\\OneDrive\\Desktop\\QML_Project\\data\\processed\\mri\\derivatives\\cleaned_skullstrip\\sub-183\\anat\\sub-183_T1w_skullstripped.nii.gz, ROI Data Shape: (1, 116)\n",
      "(Reference MRI-Only) Subject: sub-184, MRI Path: C:\\Users\\ishsh\\OneDrive\\Desktop\\QML_Project\\data\\processed\\mri\\derivatives\\cleaned_skullstrip\\sub-184\\anat\\sub-184_T1w_skullstripped.nii.gz, ROI Data Shape: (1, 116)\n",
      "(Reference MRI-Only) Subject: sub-185, MRI Path: C:\\Users\\ishsh\\OneDrive\\Desktop\\QML_Project\\data\\processed\\mri\\derivatives\\cleaned_skullstrip\\sub-185\\anat\\sub-185_T1w_skullstripped.nii.gz, ROI Data Shape: (1, 116)\n",
      "(Reference MRI-Only) Subject: sub-186, MRI Path: C:\\Users\\ishsh\\OneDrive\\Desktop\\QML_Project\\data\\processed\\mri\\derivatives\\cleaned_skullstrip\\sub-186\\anat\\sub-186_T1w_skullstripped.nii.gz, ROI Data Shape: (1, 116)\n",
      "(Reference MRI-Only) Subject: sub-187, MRI Path: C:\\Users\\ishsh\\OneDrive\\Desktop\\QML_Project\\data\\processed\\mri\\derivatives\\cleaned_skullstrip\\sub-187\\anat\\sub-187_T1w_skullstripped.nii.gz, ROI Data Shape: (1, 116)\n",
      "(Reference MRI-Only) Subject: sub-188, MRI Path: C:\\Users\\ishsh\\OneDrive\\Desktop\\QML_Project\\data\\processed\\mri\\derivatives\\cleaned_skullstrip\\sub-188\\anat\\sub-188_T1w_skullstripped.nii.gz, ROI Data Shape: (1, 116)\n",
      "(Reference MRI-Only) Subject: sub-189, MRI Path: C:\\Users\\ishsh\\OneDrive\\Desktop\\QML_Project\\data\\processed\\mri\\derivatives\\cleaned_skullstrip\\sub-189\\anat\\sub-189_T1w_skullstripped.nii.gz, ROI Data Shape: (1, 116)\n"
     ]
    },
    {
     "name": "stderr",
     "output_type": "stream",
     "text": [
      "c:\\Users\\ishsh\\OneDrive\\Desktop\\QML_Project\\venv4qml\\Lib\\site-packages\\nilearn\\maskers\\nifti_labels_masker.py:888: UserWarning: After resampling the label image to the data image, the following labels were removed: {5101, 5102}. Label image only contains 115 labels (including background).\n",
      "  warnings.warn(\n"
     ]
    },
    {
     "name": "stdout",
     "output_type": "stream",
     "text": [
      "(Reference MRI-Only) Subject: sub-19, MRI Path: C:\\Users\\ishsh\\OneDrive\\Desktop\\QML_Project\\data\\processed\\mri\\derivatives\\cleaned_skullstrip\\sub-19\\anat\\sub-19_T1w_skullstripped.nii.gz, ROI Data Shape: (1, 114)\n",
      "(Reference MRI-Only) Subject: sub-190, MRI Path: C:\\Users\\ishsh\\OneDrive\\Desktop\\QML_Project\\data\\processed\\mri\\derivatives\\cleaned_skullstrip\\sub-190\\anat\\sub-190_T1w_skullstripped.nii.gz, ROI Data Shape: (1, 116)\n",
      "(Reference MRI-Only) Subject: sub-191, MRI Path: C:\\Users\\ishsh\\OneDrive\\Desktop\\QML_Project\\data\\processed\\mri\\derivatives\\cleaned_skullstrip\\sub-191\\anat\\sub-191_T1w_skullstripped.nii.gz, ROI Data Shape: (1, 116)\n"
     ]
    },
    {
     "name": "stderr",
     "output_type": "stream",
     "text": [
      "c:\\Users\\ishsh\\OneDrive\\Desktop\\QML_Project\\venv4qml\\Lib\\site-packages\\nilearn\\maskers\\nifti_labels_masker.py:888: UserWarning: After resampling the label image to the data image, the following labels were removed: {9071, 9072, 9081, 9082, 9051, 9052}. Label image only contains 111 labels (including background).\n",
      "  warnings.warn(\n"
     ]
    },
    {
     "name": "stdout",
     "output_type": "stream",
     "text": [
      "(Reference MRI-Only) Subject: sub-192, MRI Path: C:\\Users\\ishsh\\OneDrive\\Desktop\\QML_Project\\data\\processed\\mri\\derivatives\\cleaned_skullstrip\\sub-192\\anat\\sub-192_T1w_skullstripped.nii.gz, ROI Data Shape: (1, 110)\n"
     ]
    },
    {
     "name": "stderr",
     "output_type": "stream",
     "text": [
      "c:\\Users\\ishsh\\OneDrive\\Desktop\\QML_Project\\venv4qml\\Lib\\site-packages\\nilearn\\maskers\\nifti_labels_masker.py:888: UserWarning: After resampling the label image to the data image, the following labels were removed: {5101, 5102, 5201, 5202, 9140, 5012, 5302}. Label image only contains 110 labels (including background).\n",
      "  warnings.warn(\n"
     ]
    },
    {
     "name": "stdout",
     "output_type": "stream",
     "text": [
      "(Reference MRI-Only) Subject: sub-193, MRI Path: C:\\Users\\ishsh\\OneDrive\\Desktop\\QML_Project\\data\\processed\\mri\\derivatives\\cleaned_skullstrip\\sub-193\\anat\\sub-193_T1w_skullstripped.nii.gz, ROI Data Shape: (1, 109)\n",
      "(Reference MRI-Only) Subject: sub-194, MRI Path: C:\\Users\\ishsh\\OneDrive\\Desktop\\QML_Project\\data\\processed\\mri\\derivatives\\cleaned_skullstrip\\sub-194\\anat\\sub-194_T1w_skullstripped.nii.gz, ROI Data Shape: (1, 116)\n",
      "(Reference MRI-Only) Subject: sub-195, MRI Path: C:\\Users\\ishsh\\OneDrive\\Desktop\\QML_Project\\data\\processed\\mri\\derivatives\\cleaned_skullstrip\\sub-195\\anat\\sub-195_T1w_skullstripped.nii.gz, ROI Data Shape: (1, 116)\n"
     ]
    },
    {
     "name": "stderr",
     "output_type": "stream",
     "text": [
      "c:\\Users\\ishsh\\OneDrive\\Desktop\\QML_Project\\venv4qml\\Lib\\site-packages\\nilearn\\maskers\\nifti_labels_masker.py:888: UserWarning: After resampling the label image to the data image, the following labels were removed: {9051}. Label image only contains 116 labels (including background).\n",
      "  warnings.warn(\n"
     ]
    },
    {
     "name": "stdout",
     "output_type": "stream",
     "text": [
      "(Reference MRI-Only) Subject: sub-196, MRI Path: C:\\Users\\ishsh\\OneDrive\\Desktop\\QML_Project\\data\\processed\\mri\\derivatives\\cleaned_skullstrip\\sub-196\\anat\\sub-196_T1w_skullstripped.nii.gz, ROI Data Shape: (1, 115)\n"
     ]
    },
    {
     "name": "stderr",
     "output_type": "stream",
     "text": [
      "c:\\Users\\ishsh\\OneDrive\\Desktop\\QML_Project\\venv4qml\\Lib\\site-packages\\nilearn\\maskers\\nifti_labels_masker.py:888: UserWarning: After resampling the label image to the data image, the following labels were removed: {5202, 5102}. Label image only contains 115 labels (including background).\n",
      "  warnings.warn(\n"
     ]
    },
    {
     "name": "stdout",
     "output_type": "stream",
     "text": [
      "(Reference MRI-Only) Subject: sub-197, MRI Path: C:\\Users\\ishsh\\OneDrive\\Desktop\\QML_Project\\data\\processed\\mri\\derivatives\\cleaned_skullstrip\\sub-197\\anat\\sub-197_T1w_skullstripped.nii.gz, ROI Data Shape: (1, 114)\n",
      "(Reference MRI-Only) Subject: sub-198, MRI Path: C:\\Users\\ishsh\\OneDrive\\Desktop\\QML_Project\\data\\processed\\mri\\derivatives\\cleaned_skullstrip\\sub-198\\anat\\sub-198_T1w_skullstripped.nii.gz, ROI Data Shape: (1, 116)\n",
      "(Reference MRI-Only) Subject: sub-199, MRI Path: C:\\Users\\ishsh\\OneDrive\\Desktop\\QML_Project\\data\\processed\\mri\\derivatives\\cleaned_skullstrip\\sub-199\\anat\\sub-199_T1w_skullstripped.nii.gz, ROI Data Shape: (1, 116)\n",
      "(Reference MRI-Only) Subject: sub-2, MRI Path: C:\\Users\\ishsh\\OneDrive\\Desktop\\QML_Project\\data\\processed\\mri\\derivatives\\cleaned_skullstrip\\sub-2\\anat\\sub-2_T1w_skullstripped.nii.gz, ROI Data Shape: (1, 116)\n",
      "(Reference MRI-Only) Subject: sub-200, MRI Path: C:\\Users\\ishsh\\OneDrive\\Desktop\\QML_Project\\data\\processed\\mri\\derivatives\\cleaned_skullstrip\\sub-200\\anat\\sub-200_T1w_skullstripped.nii.gz, ROI Data Shape: (1, 116)\n"
     ]
    },
    {
     "name": "stderr",
     "output_type": "stream",
     "text": [
      "c:\\Users\\ishsh\\OneDrive\\Desktop\\QML_Project\\venv4qml\\Lib\\site-packages\\nilearn\\maskers\\nifti_labels_masker.py:888: UserWarning: After resampling the label image to the data image, the following labels were removed: {5202, 5102}. Label image only contains 115 labels (including background).\n",
      "  warnings.warn(\n"
     ]
    },
    {
     "name": "stdout",
     "output_type": "stream",
     "text": [
      "(Reference MRI-Only) Subject: sub-201, MRI Path: C:\\Users\\ishsh\\OneDrive\\Desktop\\QML_Project\\data\\processed\\mri\\derivatives\\cleaned_skullstrip\\sub-201\\anat\\sub-201_T1w_skullstripped.nii.gz, ROI Data Shape: (1, 114)\n"
     ]
    },
    {
     "name": "stderr",
     "output_type": "stream",
     "text": [
      "c:\\Users\\ishsh\\OneDrive\\Desktop\\QML_Project\\venv4qml\\Lib\\site-packages\\nilearn\\maskers\\nifti_labels_masker.py:888: UserWarning: After resampling the label image to the data image, the following labels were removed: {5101, 5102}. Label image only contains 115 labels (including background).\n",
      "  warnings.warn(\n"
     ]
    },
    {
     "name": "stdout",
     "output_type": "stream",
     "text": [
      "(Reference MRI-Only) Subject: sub-202, MRI Path: C:\\Users\\ishsh\\OneDrive\\Desktop\\QML_Project\\data\\processed\\mri\\derivatives\\cleaned_skullstrip\\sub-202\\anat\\sub-202_T1w_skullstripped.nii.gz, ROI Data Shape: (1, 114)\n",
      "(Reference MRI-Only) Subject: sub-203, MRI Path: C:\\Users\\ishsh\\OneDrive\\Desktop\\QML_Project\\data\\processed\\mri\\derivatives\\cleaned_skullstrip\\sub-203\\anat\\sub-203_T1w_skullstripped.nii.gz, ROI Data Shape: (1, 116)\n"
     ]
    },
    {
     "name": "stderr",
     "output_type": "stream",
     "text": [
      "c:\\Users\\ishsh\\OneDrive\\Desktop\\QML_Project\\venv4qml\\Lib\\site-packages\\nilearn\\maskers\\nifti_labels_masker.py:888: UserWarning: After resampling the label image to the data image, the following labels were removed: {5101, 5102}. Label image only contains 115 labels (including background).\n",
      "  warnings.warn(\n"
     ]
    },
    {
     "name": "stdout",
     "output_type": "stream",
     "text": [
      "(Reference MRI-Only) Subject: sub-204, MRI Path: C:\\Users\\ishsh\\OneDrive\\Desktop\\QML_Project\\data\\processed\\mri\\derivatives\\cleaned_skullstrip\\sub-204\\anat\\sub-204_T1w_skullstripped.nii.gz, ROI Data Shape: (1, 114)\n",
      "(Reference MRI-Only) Subject: sub-205, MRI Path: C:\\Users\\ishsh\\OneDrive\\Desktop\\QML_Project\\data\\processed\\mri\\derivatives\\cleaned_skullstrip\\sub-205\\anat\\sub-205_T1w_skullstripped.nii.gz, ROI Data Shape: (1, 116)\n"
     ]
    },
    {
     "name": "stderr",
     "output_type": "stream",
     "text": [
      "c:\\Users\\ishsh\\OneDrive\\Desktop\\QML_Project\\venv4qml\\Lib\\site-packages\\nilearn\\maskers\\nifti_labels_masker.py:888: UserWarning: After resampling the label image to the data image, the following labels were removed: {5101}. Label image only contains 116 labels (including background).\n",
      "  warnings.warn(\n"
     ]
    },
    {
     "name": "stdout",
     "output_type": "stream",
     "text": [
      "(Reference MRI-Only) Subject: sub-206, MRI Path: C:\\Users\\ishsh\\OneDrive\\Desktop\\QML_Project\\data\\processed\\mri\\derivatives\\cleaned_skullstrip\\sub-206\\anat\\sub-206_T1w_skullstripped.nii.gz, ROI Data Shape: (1, 115)\n"
     ]
    },
    {
     "name": "stderr",
     "output_type": "stream",
     "text": [
      "c:\\Users\\ishsh\\OneDrive\\Desktop\\QML_Project\\venv4qml\\Lib\\site-packages\\nilearn\\maskers\\nifti_labels_masker.py:888: UserWarning: After resampling the label image to the data image, the following labels were removed: {5101, 5102, 5201, 5202, 5011, 5012}. Label image only contains 111 labels (including background).\n",
      "  warnings.warn(\n"
     ]
    },
    {
     "name": "stdout",
     "output_type": "stream",
     "text": [
      "(Reference MRI-Only) Subject: sub-207, MRI Path: C:\\Users\\ishsh\\OneDrive\\Desktop\\QML_Project\\data\\processed\\mri\\derivatives\\cleaned_skullstrip\\sub-207\\anat\\sub-207_T1w_skullstripped.nii.gz, ROI Data Shape: (1, 110)\n",
      "(Reference MRI-Only) Subject: sub-208, MRI Path: C:\\Users\\ishsh\\OneDrive\\Desktop\\QML_Project\\data\\processed\\mri\\derivatives\\cleaned_skullstrip\\sub-208\\anat\\sub-208_T1w_skullstripped.nii.gz, ROI Data Shape: (1, 116)\n"
     ]
    },
    {
     "name": "stderr",
     "output_type": "stream",
     "text": [
      "c:\\Users\\ishsh\\OneDrive\\Desktop\\QML_Project\\venv4qml\\Lib\\site-packages\\nilearn\\maskers\\nifti_labels_masker.py:888: UserWarning: After resampling the label image to the data image, the following labels were removed: {5101}. Label image only contains 116 labels (including background).\n",
      "  warnings.warn(\n"
     ]
    },
    {
     "name": "stdout",
     "output_type": "stream",
     "text": [
      "(Reference MRI-Only) Subject: sub-209, MRI Path: C:\\Users\\ishsh\\OneDrive\\Desktop\\QML_Project\\data\\processed\\mri\\derivatives\\cleaned_skullstrip\\sub-209\\anat\\sub-209_T1w_skullstripped.nii.gz, ROI Data Shape: (1, 115)\n"
     ]
    },
    {
     "name": "stderr",
     "output_type": "stream",
     "text": [
      "c:\\Users\\ishsh\\OneDrive\\Desktop\\QML_Project\\venv4qml\\Lib\\site-packages\\nilearn\\maskers\\nifti_labels_masker.py:888: UserWarning: After resampling the label image to the data image, the following labels were removed: {5102}. Label image only contains 116 labels (including background).\n",
      "  warnings.warn(\n"
     ]
    },
    {
     "name": "stdout",
     "output_type": "stream",
     "text": [
      "(Reference MRI-Only) Subject: sub-21, MRI Path: C:\\Users\\ishsh\\OneDrive\\Desktop\\QML_Project\\data\\processed\\mri\\derivatives\\cleaned_skullstrip\\sub-21\\anat\\sub-21_T1w_skullstripped.nii.gz, ROI Data Shape: (1, 115)\n",
      "(Reference MRI-Only) Subject: sub-210, MRI Path: C:\\Users\\ishsh\\OneDrive\\Desktop\\QML_Project\\data\\processed\\mri\\derivatives\\cleaned_skullstrip\\sub-210\\anat\\sub-210_T1w_skullstripped.nii.gz, ROI Data Shape: (1, 116)\n"
     ]
    },
    {
     "name": "stderr",
     "output_type": "stream",
     "text": [
      "c:\\Users\\ishsh\\OneDrive\\Desktop\\QML_Project\\venv4qml\\Lib\\site-packages\\nilearn\\maskers\\nifti_labels_masker.py:888: UserWarning: After resampling the label image to the data image, the following labels were removed: {5101, 5102}. Label image only contains 115 labels (including background).\n",
      "  warnings.warn(\n"
     ]
    },
    {
     "name": "stdout",
     "output_type": "stream",
     "text": [
      "(Reference MRI-Only) Subject: sub-211, MRI Path: C:\\Users\\ishsh\\OneDrive\\Desktop\\QML_Project\\data\\processed\\mri\\derivatives\\cleaned_skullstrip\\sub-211\\anat\\sub-211_T1w_skullstripped.nii.gz, ROI Data Shape: (1, 114)\n",
      "(Reference MRI-Only) Subject: sub-213, MRI Path: C:\\Users\\ishsh\\OneDrive\\Desktop\\QML_Project\\data\\processed\\mri\\derivatives\\cleaned_skullstrip\\sub-213\\anat\\sub-213_T1w_skullstripped.nii.gz, ROI Data Shape: (1, 116)\n",
      "(Reference MRI-Only) Subject: sub-214, MRI Path: C:\\Users\\ishsh\\OneDrive\\Desktop\\QML_Project\\data\\processed\\mri\\derivatives\\cleaned_skullstrip\\sub-214\\anat\\sub-214_T1w_skullstripped.nii.gz, ROI Data Shape: (1, 116)\n",
      "(Reference MRI-Only) Subject: sub-215, MRI Path: C:\\Users\\ishsh\\OneDrive\\Desktop\\QML_Project\\data\\processed\\mri\\derivatives\\cleaned_skullstrip\\sub-215\\anat\\sub-215_T1w_skullstripped.nii.gz, ROI Data Shape: (1, 116)\n",
      "(Reference MRI-Only) Subject: sub-216, MRI Path: C:\\Users\\ishsh\\OneDrive\\Desktop\\QML_Project\\data\\processed\\mri\\derivatives\\cleaned_skullstrip\\sub-216\\anat\\sub-216_T1w_skullstripped.nii.gz, ROI Data Shape: (1, 116)\n",
      "(Reference MRI-Only) Subject: sub-217, MRI Path: C:\\Users\\ishsh\\OneDrive\\Desktop\\QML_Project\\data\\processed\\mri\\derivatives\\cleaned_skullstrip\\sub-217\\anat\\sub-217_T1w_skullstripped.nii.gz, ROI Data Shape: (1, 116)\n",
      "(Reference MRI-Only) Subject: sub-218, MRI Path: C:\\Users\\ishsh\\OneDrive\\Desktop\\QML_Project\\data\\processed\\mri\\derivatives\\cleaned_skullstrip\\sub-218\\anat\\sub-218_T1w_skullstripped.nii.gz, ROI Data Shape: (1, 116)\n"
     ]
    },
    {
     "name": "stderr",
     "output_type": "stream",
     "text": [
      "c:\\Users\\ishsh\\OneDrive\\Desktop\\QML_Project\\venv4qml\\Lib\\site-packages\\nilearn\\maskers\\nifti_labels_masker.py:888: UserWarning: After resampling the label image to the data image, the following labels were removed: {5101, 5102, 5201, 5202, 5011, 5012, 6101}. Label image only contains 110 labels (including background).\n",
      "  warnings.warn(\n"
     ]
    },
    {
     "name": "stdout",
     "output_type": "stream",
     "text": [
      "(Reference MRI-Only) Subject: sub-219, MRI Path: C:\\Users\\ishsh\\OneDrive\\Desktop\\QML_Project\\data\\processed\\mri\\derivatives\\cleaned_skullstrip\\sub-219\\anat\\sub-219_T1w_skullstripped.nii.gz, ROI Data Shape: (1, 109)\n",
      "(Reference MRI-Only) Subject: sub-22, MRI Path: C:\\Users\\ishsh\\OneDrive\\Desktop\\QML_Project\\data\\processed\\mri\\derivatives\\cleaned_skullstrip\\sub-22\\anat\\sub-22_T1w_skullstripped.nii.gz, ROI Data Shape: (1, 116)\n",
      "(Reference MRI-Only) Subject: sub-220, MRI Path: C:\\Users\\ishsh\\OneDrive\\Desktop\\QML_Project\\data\\processed\\mri\\derivatives\\cleaned_skullstrip\\sub-220\\anat\\sub-220_T1w_skullstripped.nii.gz, ROI Data Shape: (1, 116)\n",
      "(Reference MRI-Only) Subject: sub-221, MRI Path: C:\\Users\\ishsh\\OneDrive\\Desktop\\QML_Project\\data\\processed\\mri\\derivatives\\cleaned_skullstrip\\sub-221\\anat\\sub-221_T1w_skullstripped.nii.gz, ROI Data Shape: (1, 116)\n",
      "(Reference MRI-Only) Subject: sub-222, MRI Path: C:\\Users\\ishsh\\OneDrive\\Desktop\\QML_Project\\data\\processed\\mri\\derivatives\\cleaned_skullstrip\\sub-222\\anat\\sub-222_T1w_skullstripped.nii.gz, ROI Data Shape: (1, 116)\n",
      "(Reference MRI-Only) Subject: sub-223, MRI Path: C:\\Users\\ishsh\\OneDrive\\Desktop\\QML_Project\\data\\processed\\mri\\derivatives\\cleaned_skullstrip\\sub-223\\anat\\sub-223_T1w_skullstripped.nii.gz, ROI Data Shape: (1, 116)\n",
      "(Reference MRI-Only) Subject: sub-224, MRI Path: C:\\Users\\ishsh\\OneDrive\\Desktop\\QML_Project\\data\\processed\\mri\\derivatives\\cleaned_skullstrip\\sub-224\\anat\\sub-224_T1w_skullstripped.nii.gz, ROI Data Shape: (1, 116)\n",
      "(Reference MRI-Only) Subject: sub-225, MRI Path: C:\\Users\\ishsh\\OneDrive\\Desktop\\QML_Project\\data\\processed\\mri\\derivatives\\cleaned_skullstrip\\sub-225\\anat\\sub-225_T1w_skullstripped.nii.gz, ROI Data Shape: (1, 116)\n",
      "(Reference MRI-Only) Subject: sub-226, MRI Path: C:\\Users\\ishsh\\OneDrive\\Desktop\\QML_Project\\data\\processed\\mri\\derivatives\\cleaned_skullstrip\\sub-226\\anat\\sub-226_T1w_skullstripped.nii.gz, ROI Data Shape: (1, 116)\n"
     ]
    },
    {
     "name": "stderr",
     "output_type": "stream",
     "text": [
      "c:\\Users\\ishsh\\OneDrive\\Desktop\\QML_Project\\venv4qml\\Lib\\site-packages\\nilearn\\maskers\\nifti_labels_masker.py:888: UserWarning: After resampling the label image to the data image, the following labels were removed: {5202, 5101, 5102}. Label image only contains 114 labels (including background).\n",
      "  warnings.warn(\n"
     ]
    },
    {
     "name": "stdout",
     "output_type": "stream",
     "text": [
      "(Reference MRI-Only) Subject: sub-227, MRI Path: C:\\Users\\ishsh\\OneDrive\\Desktop\\QML_Project\\data\\processed\\mri\\derivatives\\cleaned_skullstrip\\sub-227\\anat\\sub-227_T1w_skullstripped.nii.gz, ROI Data Shape: (1, 113)\n",
      "(Reference MRI-Only) Subject: sub-228, MRI Path: C:\\Users\\ishsh\\OneDrive\\Desktop\\QML_Project\\data\\processed\\mri\\derivatives\\cleaned_skullstrip\\sub-228\\anat\\sub-228_T1w_skullstripped.nii.gz, ROI Data Shape: (1, 116)\n"
     ]
    },
    {
     "name": "stderr",
     "output_type": "stream",
     "text": [
      "c:\\Users\\ishsh\\OneDrive\\Desktop\\QML_Project\\venv4qml\\Lib\\site-packages\\nilearn\\maskers\\nifti_labels_masker.py:888: UserWarning: After resampling the label image to the data image, the following labels were removed: {5202, 5101, 5102}. Label image only contains 114 labels (including background).\n",
      "  warnings.warn(\n"
     ]
    },
    {
     "name": "stdout",
     "output_type": "stream",
     "text": [
      "(Reference MRI-Only) Subject: sub-229, MRI Path: C:\\Users\\ishsh\\OneDrive\\Desktop\\QML_Project\\data\\processed\\mri\\derivatives\\cleaned_skullstrip\\sub-229\\anat\\sub-229_T1w_skullstripped.nii.gz, ROI Data Shape: (1, 113)\n",
      "(Reference MRI-Only) Subject: sub-23, MRI Path: C:\\Users\\ishsh\\OneDrive\\Desktop\\QML_Project\\data\\processed\\mri\\derivatives\\cleaned_skullstrip\\sub-23\\anat\\sub-23_T1w_skullstripped.nii.gz, ROI Data Shape: (1, 116)\n",
      "(Reference MRI-Only) Subject: sub-230, MRI Path: C:\\Users\\ishsh\\OneDrive\\Desktop\\QML_Project\\data\\processed\\mri\\derivatives\\cleaned_skullstrip\\sub-230\\anat\\sub-230_T1w_skullstripped.nii.gz, ROI Data Shape: (1, 116)\n",
      "(Reference MRI-Only) Subject: sub-231, MRI Path: C:\\Users\\ishsh\\OneDrive\\Desktop\\QML_Project\\data\\processed\\mri\\derivatives\\cleaned_skullstrip\\sub-231\\anat\\sub-231_T1w_skullstripped.nii.gz, ROI Data Shape: (1, 116)\n"
     ]
    },
    {
     "name": "stderr",
     "output_type": "stream",
     "text": [
      "c:\\Users\\ishsh\\OneDrive\\Desktop\\QML_Project\\venv4qml\\Lib\\site-packages\\nilearn\\maskers\\nifti_labels_masker.py:888: UserWarning: After resampling the label image to the data image, the following labels were removed: {5202, 5101, 5102}. Label image only contains 114 labels (including background).\n",
      "  warnings.warn(\n"
     ]
    },
    {
     "name": "stdout",
     "output_type": "stream",
     "text": [
      "(Reference MRI-Only) Subject: sub-232, MRI Path: C:\\Users\\ishsh\\OneDrive\\Desktop\\QML_Project\\data\\processed\\mri\\derivatives\\cleaned_skullstrip\\sub-232\\anat\\sub-232_T1w_skullstripped.nii.gz, ROI Data Shape: (1, 113)\n",
      "(Reference MRI-Only) Subject: sub-233, MRI Path: C:\\Users\\ishsh\\OneDrive\\Desktop\\QML_Project\\data\\processed\\mri\\derivatives\\cleaned_skullstrip\\sub-233\\anat\\sub-233_T1w_skullstripped.nii.gz, ROI Data Shape: (1, 116)\n",
      "(Reference MRI-Only) Subject: sub-234, MRI Path: C:\\Users\\ishsh\\OneDrive\\Desktop\\QML_Project\\data\\processed\\mri\\derivatives\\cleaned_skullstrip\\sub-234\\anat\\sub-234_T1w_skullstripped.nii.gz, ROI Data Shape: (1, 116)\n",
      "(Reference MRI-Only) Subject: sub-235, MRI Path: C:\\Users\\ishsh\\OneDrive\\Desktop\\QML_Project\\data\\processed\\mri\\derivatives\\cleaned_skullstrip\\sub-235\\anat\\sub-235_T1w_skullstripped.nii.gz, ROI Data Shape: (1, 116)\n",
      "(Reference MRI-Only) Subject: sub-236, MRI Path: C:\\Users\\ishsh\\OneDrive\\Desktop\\QML_Project\\data\\processed\\mri\\derivatives\\cleaned_skullstrip\\sub-236\\anat\\sub-236_T1w_skullstripped.nii.gz, ROI Data Shape: (1, 116)\n",
      "(Reference MRI-Only) Subject: sub-237, MRI Path: C:\\Users\\ishsh\\OneDrive\\Desktop\\QML_Project\\data\\processed\\mri\\derivatives\\cleaned_skullstrip\\sub-237\\anat\\sub-237_T1w_skullstripped.nii.gz, ROI Data Shape: (1, 116)\n",
      "(Reference MRI-Only) Subject: sub-238, MRI Path: C:\\Users\\ishsh\\OneDrive\\Desktop\\QML_Project\\data\\processed\\mri\\derivatives\\cleaned_skullstrip\\sub-238\\anat\\sub-238_T1w_skullstripped.nii.gz, ROI Data Shape: (1, 116)\n"
     ]
    },
    {
     "name": "stderr",
     "output_type": "stream",
     "text": [
      "c:\\Users\\ishsh\\OneDrive\\Desktop\\QML_Project\\venv4qml\\Lib\\site-packages\\nilearn\\maskers\\nifti_labels_masker.py:888: UserWarning: After resampling the label image to the data image, the following labels were removed: {9130, 6221, 6222, 5101, 5102, 5201, 5202, 5011, 5012, 5301, 5302, 9140, 6101, 9150}. Label image only contains 103 labels (including background).\n",
      "  warnings.warn(\n"
     ]
    },
    {
     "name": "stdout",
     "output_type": "stream",
     "text": [
      "(Reference MRI-Only) Subject: sub-24, MRI Path: C:\\Users\\ishsh\\OneDrive\\Desktop\\QML_Project\\data\\processed\\mri\\derivatives\\cleaned_skullstrip\\sub-24\\anat\\sub-24_T1w_skullstripped.nii.gz, ROI Data Shape: (1, 102)\n",
      "(Reference MRI-Only) Subject: sub-240, MRI Path: C:\\Users\\ishsh\\OneDrive\\Desktop\\QML_Project\\data\\processed\\mri\\derivatives\\cleaned_skullstrip\\sub-240\\anat\\sub-240_T1w_skullstripped.nii.gz, ROI Data Shape: (1, 116)\n",
      "(Reference MRI-Only) Subject: sub-241, MRI Path: C:\\Users\\ishsh\\OneDrive\\Desktop\\QML_Project\\data\\processed\\mri\\derivatives\\cleaned_skullstrip\\sub-241\\anat\\sub-241_T1w_skullstripped.nii.gz, ROI Data Shape: (1, 116)\n"
     ]
    },
    {
     "name": "stderr",
     "output_type": "stream",
     "text": [
      "c:\\Users\\ishsh\\OneDrive\\Desktop\\QML_Project\\venv4qml\\Lib\\site-packages\\nilearn\\maskers\\nifti_labels_masker.py:888: UserWarning: After resampling the label image to the data image, the following labels were removed: {5101, 5102, 5201, 5202, 5011, 5012, 9140, 5302}. Label image only contains 109 labels (including background).\n",
      "  warnings.warn(\n"
     ]
    },
    {
     "name": "stdout",
     "output_type": "stream",
     "text": [
      "(Reference MRI-Only) Subject: sub-242, MRI Path: C:\\Users\\ishsh\\OneDrive\\Desktop\\QML_Project\\data\\processed\\mri\\derivatives\\cleaned_skullstrip\\sub-242\\anat\\sub-242_T1w_skullstripped.nii.gz, ROI Data Shape: (1, 108)\n"
     ]
    },
    {
     "name": "stderr",
     "output_type": "stream",
     "text": [
      "c:\\Users\\ishsh\\OneDrive\\Desktop\\QML_Project\\venv4qml\\Lib\\site-packages\\nilearn\\maskers\\nifti_labels_masker.py:888: UserWarning: After resampling the label image to the data image, the following labels were removed: {5101, 5102, 5201, 5202, 5011}. Label image only contains 112 labels (including background).\n",
      "  warnings.warn(\n"
     ]
    },
    {
     "name": "stdout",
     "output_type": "stream",
     "text": [
      "(Reference MRI-Only) Subject: sub-243, MRI Path: C:\\Users\\ishsh\\OneDrive\\Desktop\\QML_Project\\data\\processed\\mri\\derivatives\\cleaned_skullstrip\\sub-243\\anat\\sub-243_T1w_skullstripped.nii.gz, ROI Data Shape: (1, 111)\n"
     ]
    },
    {
     "name": "stderr",
     "output_type": "stream",
     "text": [
      "c:\\Users\\ishsh\\OneDrive\\Desktop\\QML_Project\\venv4qml\\Lib\\site-packages\\nilearn\\maskers\\nifti_labels_masker.py:888: UserWarning: After resampling the label image to the data image, the following labels were removed: {5202, 5101, 5102}. Label image only contains 114 labels (including background).\n",
      "  warnings.warn(\n"
     ]
    },
    {
     "name": "stdout",
     "output_type": "stream",
     "text": [
      "(Reference MRI-Only) Subject: sub-244, MRI Path: C:\\Users\\ishsh\\OneDrive\\Desktop\\QML_Project\\data\\processed\\mri\\derivatives\\cleaned_skullstrip\\sub-244\\anat\\sub-244_T1w_skullstripped.nii.gz, ROI Data Shape: (1, 113)\n",
      "(Reference MRI-Only) Subject: sub-245, MRI Path: C:\\Users\\ishsh\\OneDrive\\Desktop\\QML_Project\\data\\processed\\mri\\derivatives\\cleaned_skullstrip\\sub-245\\anat\\sub-245_T1w_skullstripped.nii.gz, ROI Data Shape: (1, 116)\n",
      "(Reference MRI-Only) Subject: sub-246, MRI Path: C:\\Users\\ishsh\\OneDrive\\Desktop\\QML_Project\\data\\processed\\mri\\derivatives\\cleaned_skullstrip\\sub-246\\anat\\sub-246_T1w_skullstripped.nii.gz, ROI Data Shape: (1, 116)\n",
      "(Reference MRI-Only) Subject: sub-247, MRI Path: C:\\Users\\ishsh\\OneDrive\\Desktop\\QML_Project\\data\\processed\\mri\\derivatives\\cleaned_skullstrip\\sub-247\\anat\\sub-247_T1w_skullstripped.nii.gz, ROI Data Shape: (1, 116)\n"
     ]
    },
    {
     "name": "stderr",
     "output_type": "stream",
     "text": [
      "c:\\Users\\ishsh\\OneDrive\\Desktop\\QML_Project\\venv4qml\\Lib\\site-packages\\nilearn\\maskers\\nifti_labels_masker.py:888: UserWarning: After resampling the label image to the data image, the following labels were removed: {5201, 5202, 5101, 5102}. Label image only contains 113 labels (including background).\n",
      "  warnings.warn(\n"
     ]
    },
    {
     "name": "stdout",
     "output_type": "stream",
     "text": [
      "(Reference MRI-Only) Subject: sub-248, MRI Path: C:\\Users\\ishsh\\OneDrive\\Desktop\\QML_Project\\data\\processed\\mri\\derivatives\\cleaned_skullstrip\\sub-248\\anat\\sub-248_T1w_skullstripped.nii.gz, ROI Data Shape: (1, 112)\n"
     ]
    },
    {
     "name": "stderr",
     "output_type": "stream",
     "text": [
      "c:\\Users\\ishsh\\OneDrive\\Desktop\\QML_Project\\venv4qml\\Lib\\site-packages\\nilearn\\maskers\\nifti_labels_masker.py:888: UserWarning: After resampling the label image to the data image, the following labels were removed: {5101, 5102, 5201, 5202, 5011, 5012, 6101}. Label image only contains 110 labels (including background).\n",
      "  warnings.warn(\n"
     ]
    },
    {
     "name": "stdout",
     "output_type": "stream",
     "text": [
      "(Reference MRI-Only) Subject: sub-249, MRI Path: C:\\Users\\ishsh\\OneDrive\\Desktop\\QML_Project\\data\\processed\\mri\\derivatives\\cleaned_skullstrip\\sub-249\\anat\\sub-249_T1w_skullstripped.nii.gz, ROI Data Shape: (1, 109)\n",
      "(Reference MRI-Only) Subject: sub-25, MRI Path: C:\\Users\\ishsh\\OneDrive\\Desktop\\QML_Project\\data\\processed\\mri\\derivatives\\cleaned_skullstrip\\sub-25\\anat\\sub-25_T1w_skullstripped.nii.gz, ROI Data Shape: (1, 116)\n"
     ]
    },
    {
     "name": "stderr",
     "output_type": "stream",
     "text": [
      "c:\\Users\\ishsh\\OneDrive\\Desktop\\QML_Project\\venv4qml\\Lib\\site-packages\\nilearn\\maskers\\nifti_labels_masker.py:888: UserWarning: After resampling the label image to the data image, the following labels were removed: {5201, 5101, 5102}. Label image only contains 114 labels (including background).\n",
      "  warnings.warn(\n"
     ]
    },
    {
     "name": "stdout",
     "output_type": "stream",
     "text": [
      "(Reference MRI-Only) Subject: sub-250, MRI Path: C:\\Users\\ishsh\\OneDrive\\Desktop\\QML_Project\\data\\processed\\mri\\derivatives\\cleaned_skullstrip\\sub-250\\anat\\sub-250_T1w_skullstripped.nii.gz, ROI Data Shape: (1, 113)\n",
      "(Reference MRI-Only) Subject: sub-251, MRI Path: C:\\Users\\ishsh\\OneDrive\\Desktop\\QML_Project\\data\\processed\\mri\\derivatives\\cleaned_skullstrip\\sub-251\\anat\\sub-251_T1w_skullstripped.nii.gz, ROI Data Shape: (1, 116)\n",
      "(Reference MRI-Only) Subject: sub-252, MRI Path: C:\\Users\\ishsh\\OneDrive\\Desktop\\QML_Project\\data\\processed\\mri\\derivatives\\cleaned_skullstrip\\sub-252\\anat\\sub-252_T1w_skullstripped.nii.gz, ROI Data Shape: (1, 116)\n",
      "(Reference MRI-Only) Subject: sub-253, MRI Path: C:\\Users\\ishsh\\OneDrive\\Desktop\\QML_Project\\data\\processed\\mri\\derivatives\\cleaned_skullstrip\\sub-253\\anat\\sub-253_T1w_skullstripped.nii.gz, ROI Data Shape: (1, 116)\n"
     ]
    },
    {
     "name": "stderr",
     "output_type": "stream",
     "text": [
      "c:\\Users\\ishsh\\OneDrive\\Desktop\\QML_Project\\venv4qml\\Lib\\site-packages\\nilearn\\maskers\\nifti_labels_masker.py:888: UserWarning: After resampling the label image to the data image, the following labels were removed: {5101, 5202, 6101, 5102}. Label image only contains 113 labels (including background).\n",
      "  warnings.warn(\n"
     ]
    },
    {
     "name": "stdout",
     "output_type": "stream",
     "text": [
      "(Reference MRI-Only) Subject: sub-254, MRI Path: C:\\Users\\ishsh\\OneDrive\\Desktop\\QML_Project\\data\\processed\\mri\\derivatives\\cleaned_skullstrip\\sub-254\\anat\\sub-254_T1w_skullstripped.nii.gz, ROI Data Shape: (1, 112)\n",
      "(Reference MRI-Only) Subject: sub-255, MRI Path: C:\\Users\\ishsh\\OneDrive\\Desktop\\QML_Project\\data\\processed\\mri\\derivatives\\cleaned_skullstrip\\sub-255\\anat\\sub-255_T1w_skullstripped.nii.gz, ROI Data Shape: (1, 116)\n",
      "(Reference MRI-Only) Subject: sub-256, MRI Path: C:\\Users\\ishsh\\OneDrive\\Desktop\\QML_Project\\data\\processed\\mri\\derivatives\\cleaned_skullstrip\\sub-256\\anat\\sub-256_T1w_skullstripped.nii.gz, ROI Data Shape: (1, 116)\n",
      "(Reference MRI-Only) Subject: sub-257, MRI Path: C:\\Users\\ishsh\\OneDrive\\Desktop\\QML_Project\\data\\processed\\mri\\derivatives\\cleaned_skullstrip\\sub-257\\anat\\sub-257_T1w_skullstripped.nii.gz, ROI Data Shape: (1, 116)\n",
      "(Reference MRI-Only) Subject: sub-258, MRI Path: C:\\Users\\ishsh\\OneDrive\\Desktop\\QML_Project\\data\\processed\\mri\\derivatives\\cleaned_skullstrip\\sub-258\\anat\\sub-258_T1w_skullstripped.nii.gz, ROI Data Shape: (1, 116)\n",
      "(Reference MRI-Only) Subject: sub-259, MRI Path: C:\\Users\\ishsh\\OneDrive\\Desktop\\QML_Project\\data\\processed\\mri\\derivatives\\cleaned_skullstrip\\sub-259\\anat\\sub-259_T1w_skullstripped.nii.gz, ROI Data Shape: (1, 116)\n",
      "(Reference MRI-Only) Subject: sub-26, MRI Path: C:\\Users\\ishsh\\OneDrive\\Desktop\\QML_Project\\data\\processed\\mri\\derivatives\\cleaned_skullstrip\\sub-26\\anat\\sub-26_T1w_skullstripped.nii.gz, ROI Data Shape: (1, 116)\n",
      "(Reference MRI-Only) Subject: sub-260, MRI Path: C:\\Users\\ishsh\\OneDrive\\Desktop\\QML_Project\\data\\processed\\mri\\derivatives\\cleaned_skullstrip\\sub-260\\anat\\sub-260_T1w_skullstripped.nii.gz, ROI Data Shape: (1, 116)\n",
      "(Reference MRI-Only) Subject: sub-261, MRI Path: C:\\Users\\ishsh\\OneDrive\\Desktop\\QML_Project\\data\\processed\\mri\\derivatives\\cleaned_skullstrip\\sub-261\\anat\\sub-261_T1w_skullstripped.nii.gz, ROI Data Shape: (1, 116)\n",
      "(Reference MRI-Only) Subject: sub-262, MRI Path: C:\\Users\\ishsh\\OneDrive\\Desktop\\QML_Project\\data\\processed\\mri\\derivatives\\cleaned_skullstrip\\sub-262\\anat\\sub-262_T1w_skullstripped.nii.gz, ROI Data Shape: (1, 116)\n",
      "(Reference MRI-Only) Subject: sub-263, MRI Path: C:\\Users\\ishsh\\OneDrive\\Desktop\\QML_Project\\data\\processed\\mri\\derivatives\\cleaned_skullstrip\\sub-263\\anat\\sub-263_T1w_skullstripped.nii.gz, ROI Data Shape: (1, 116)\n",
      "(Reference MRI-Only) Subject: sub-264, MRI Path: C:\\Users\\ishsh\\OneDrive\\Desktop\\QML_Project\\data\\processed\\mri\\derivatives\\cleaned_skullstrip\\sub-264\\anat\\sub-264_T1w_skullstripped.nii.gz, ROI Data Shape: (1, 116)\n",
      "(Reference MRI-Only) Subject: sub-265, MRI Path: C:\\Users\\ishsh\\OneDrive\\Desktop\\QML_Project\\data\\processed\\mri\\derivatives\\cleaned_skullstrip\\sub-265\\anat\\sub-265_T1w_skullstripped.nii.gz, ROI Data Shape: (1, 116)\n",
      "(Reference MRI-Only) Subject: sub-266, MRI Path: C:\\Users\\ishsh\\OneDrive\\Desktop\\QML_Project\\data\\processed\\mri\\derivatives\\cleaned_skullstrip\\sub-266\\anat\\sub-266_T1w_skullstripped.nii.gz, ROI Data Shape: (1, 116)\n",
      "(Reference MRI-Only) Subject: sub-267, MRI Path: C:\\Users\\ishsh\\OneDrive\\Desktop\\QML_Project\\data\\processed\\mri\\derivatives\\cleaned_skullstrip\\sub-267\\anat\\sub-267_T1w_skullstripped.nii.gz, ROI Data Shape: (1, 116)\n",
      "(Reference MRI-Only) Subject: sub-268, MRI Path: C:\\Users\\ishsh\\OneDrive\\Desktop\\QML_Project\\data\\processed\\mri\\derivatives\\cleaned_skullstrip\\sub-268\\anat\\sub-268_T1w_skullstripped.nii.gz, ROI Data Shape: (1, 116)\n"
     ]
    },
    {
     "name": "stderr",
     "output_type": "stream",
     "text": [
      "c:\\Users\\ishsh\\OneDrive\\Desktop\\QML_Project\\venv4qml\\Lib\\site-packages\\nilearn\\maskers\\nifti_labels_masker.py:888: UserWarning: After resampling the label image to the data image, the following labels were removed: {5101, 6222, 5102, 5201, 5202, 5011, 5012, 9140, 5302, 6101, 6102}. Label image only contains 106 labels (including background).\n",
      "  warnings.warn(\n"
     ]
    },
    {
     "name": "stdout",
     "output_type": "stream",
     "text": [
      "(Reference MRI-Only) Subject: sub-269, MRI Path: C:\\Users\\ishsh\\OneDrive\\Desktop\\QML_Project\\data\\processed\\mri\\derivatives\\cleaned_skullstrip\\sub-269\\anat\\sub-269_T1w_skullstripped.nii.gz, ROI Data Shape: (1, 105)\n",
      "(Reference MRI-Only) Subject: sub-27, MRI Path: C:\\Users\\ishsh\\OneDrive\\Desktop\\QML_Project\\data\\processed\\mri\\derivatives\\cleaned_skullstrip\\sub-27\\anat\\sub-27_T1w_skullstripped.nii.gz, ROI Data Shape: (1, 116)\n",
      "(Reference MRI-Only) Subject: sub-270, MRI Path: C:\\Users\\ishsh\\OneDrive\\Desktop\\QML_Project\\data\\processed\\mri\\derivatives\\cleaned_skullstrip\\sub-270\\anat\\sub-270_T1w_skullstripped.nii.gz, ROI Data Shape: (1, 116)\n",
      "(Reference MRI-Only) Subject: sub-271, MRI Path: C:\\Users\\ishsh\\OneDrive\\Desktop\\QML_Project\\data\\processed\\mri\\derivatives\\cleaned_skullstrip\\sub-271\\anat\\sub-271_T1w_skullstripped.nii.gz, ROI Data Shape: (1, 116)\n",
      "(Reference MRI-Only) Subject: sub-273, MRI Path: C:\\Users\\ishsh\\OneDrive\\Desktop\\QML_Project\\data\\processed\\mri\\derivatives\\cleaned_skullstrip\\sub-273\\anat\\sub-273_T1w_skullstripped.nii.gz, ROI Data Shape: (1, 116)\n",
      "(Reference MRI-Only) Subject: sub-275, MRI Path: C:\\Users\\ishsh\\OneDrive\\Desktop\\QML_Project\\data\\processed\\mri\\derivatives\\cleaned_skullstrip\\sub-275\\anat\\sub-275_T1w_skullstripped.nii.gz, ROI Data Shape: (1, 116)\n",
      "(Reference MRI-Only) Subject: sub-276, MRI Path: C:\\Users\\ishsh\\OneDrive\\Desktop\\QML_Project\\data\\processed\\mri\\derivatives\\cleaned_skullstrip\\sub-276\\anat\\sub-276_T1w_skullstripped.nii.gz, ROI Data Shape: (1, 116)\n",
      "(Reference MRI-Only) Subject: sub-277, MRI Path: C:\\Users\\ishsh\\OneDrive\\Desktop\\QML_Project\\data\\processed\\mri\\derivatives\\cleaned_skullstrip\\sub-277\\anat\\sub-277_T1w_skullstripped.nii.gz, ROI Data Shape: (1, 116)\n"
     ]
    },
    {
     "name": "stderr",
     "output_type": "stream",
     "text": [
      "c:\\Users\\ishsh\\OneDrive\\Desktop\\QML_Project\\venv4qml\\Lib\\site-packages\\nilearn\\maskers\\nifti_labels_masker.py:888: UserWarning: After resampling the label image to the data image, the following labels were removed: {5101, 5102}. Label image only contains 115 labels (including background).\n",
      "  warnings.warn(\n"
     ]
    },
    {
     "name": "stdout",
     "output_type": "stream",
     "text": [
      "(Reference MRI-Only) Subject: sub-278, MRI Path: C:\\Users\\ishsh\\OneDrive\\Desktop\\QML_Project\\data\\processed\\mri\\derivatives\\cleaned_skullstrip\\sub-278\\anat\\sub-278_T1w_skullstripped.nii.gz, ROI Data Shape: (1, 114)\n"
     ]
    },
    {
     "name": "stderr",
     "output_type": "stream",
     "text": [
      "c:\\Users\\ishsh\\OneDrive\\Desktop\\QML_Project\\venv4qml\\Lib\\site-packages\\nilearn\\maskers\\nifti_labels_masker.py:888: UserWarning: After resampling the label image to the data image, the following labels were removed: {5101, 5102}. Label image only contains 115 labels (including background).\n",
      "  warnings.warn(\n"
     ]
    },
    {
     "name": "stdout",
     "output_type": "stream",
     "text": [
      "(Reference MRI-Only) Subject: sub-279, MRI Path: C:\\Users\\ishsh\\OneDrive\\Desktop\\QML_Project\\data\\processed\\mri\\derivatives\\cleaned_skullstrip\\sub-279\\anat\\sub-279_T1w_skullstripped.nii.gz, ROI Data Shape: (1, 114)\n"
     ]
    },
    {
     "name": "stderr",
     "output_type": "stream",
     "text": [
      "c:\\Users\\ishsh\\OneDrive\\Desktop\\QML_Project\\venv4qml\\Lib\\site-packages\\nilearn\\maskers\\nifti_labels_masker.py:888: UserWarning: After resampling the label image to the data image, the following labels were removed: {5101, 5102}. Label image only contains 115 labels (including background).\n",
      "  warnings.warn(\n"
     ]
    },
    {
     "name": "stdout",
     "output_type": "stream",
     "text": [
      "(Reference MRI-Only) Subject: sub-28, MRI Path: C:\\Users\\ishsh\\OneDrive\\Desktop\\QML_Project\\data\\processed\\mri\\derivatives\\cleaned_skullstrip\\sub-28\\anat\\sub-28_T1w_skullstripped.nii.gz, ROI Data Shape: (1, 114)\n",
      "(Reference MRI-Only) Subject: sub-280, MRI Path: C:\\Users\\ishsh\\OneDrive\\Desktop\\QML_Project\\data\\processed\\mri\\derivatives\\cleaned_skullstrip\\sub-280\\anat\\sub-280_T1w_skullstripped.nii.gz, ROI Data Shape: (1, 116)\n",
      "(Reference MRI-Only) Subject: sub-281, MRI Path: C:\\Users\\ishsh\\OneDrive\\Desktop\\QML_Project\\data\\processed\\mri\\derivatives\\cleaned_skullstrip\\sub-281\\anat\\sub-281_T1w_skullstripped.nii.gz, ROI Data Shape: (1, 116)\n",
      "(Reference MRI-Only) Subject: sub-282, MRI Path: C:\\Users\\ishsh\\OneDrive\\Desktop\\QML_Project\\data\\processed\\mri\\derivatives\\cleaned_skullstrip\\sub-282\\anat\\sub-282_T1w_skullstripped.nii.gz, ROI Data Shape: (1, 116)\n",
      "(Reference MRI-Only) Subject: sub-283, MRI Path: C:\\Users\\ishsh\\OneDrive\\Desktop\\QML_Project\\data\\processed\\mri\\derivatives\\cleaned_skullstrip\\sub-283\\anat\\sub-283_T1w_skullstripped.nii.gz, ROI Data Shape: (1, 116)\n"
     ]
    },
    {
     "name": "stderr",
     "output_type": "stream",
     "text": [
      "c:\\Users\\ishsh\\OneDrive\\Desktop\\QML_Project\\venv4qml\\Lib\\site-packages\\nilearn\\maskers\\nifti_labels_masker.py:888: UserWarning: After resampling the label image to the data image, the following labels were removed: {5102}. Label image only contains 116 labels (including background).\n",
      "  warnings.warn(\n"
     ]
    },
    {
     "name": "stdout",
     "output_type": "stream",
     "text": [
      "(Reference MRI-Only) Subject: sub-285, MRI Path: C:\\Users\\ishsh\\OneDrive\\Desktop\\QML_Project\\data\\processed\\mri\\derivatives\\cleaned_skullstrip\\sub-285\\anat\\sub-285_T1w_skullstripped.nii.gz, ROI Data Shape: (1, 115)\n",
      "(Reference MRI-Only) Subject: sub-286, MRI Path: C:\\Users\\ishsh\\OneDrive\\Desktop\\QML_Project\\data\\processed\\mri\\derivatives\\cleaned_skullstrip\\sub-286\\anat\\sub-286_T1w_skullstripped.nii.gz, ROI Data Shape: (1, 116)\n",
      "(Reference MRI-Only) Subject: sub-287, MRI Path: C:\\Users\\ishsh\\OneDrive\\Desktop\\QML_Project\\data\\processed\\mri\\derivatives\\cleaned_skullstrip\\sub-287\\anat\\sub-287_T1w_skullstripped.nii.gz, ROI Data Shape: (1, 116)\n",
      "(Reference MRI-Only) Subject: sub-288, MRI Path: C:\\Users\\ishsh\\OneDrive\\Desktop\\QML_Project\\data\\processed\\mri\\derivatives\\cleaned_skullstrip\\sub-288\\anat\\sub-288_T1w_skullstripped.nii.gz, ROI Data Shape: (1, 116)\n"
     ]
    },
    {
     "name": "stderr",
     "output_type": "stream",
     "text": [
      "c:\\Users\\ishsh\\OneDrive\\Desktop\\QML_Project\\venv4qml\\Lib\\site-packages\\nilearn\\maskers\\nifti_labels_masker.py:888: UserWarning: After resampling the label image to the data image, the following labels were removed: {5102}. Label image only contains 116 labels (including background).\n",
      "  warnings.warn(\n"
     ]
    },
    {
     "name": "stdout",
     "output_type": "stream",
     "text": [
      "(Reference MRI-Only) Subject: sub-289, MRI Path: C:\\Users\\ishsh\\OneDrive\\Desktop\\QML_Project\\data\\processed\\mri\\derivatives\\cleaned_skullstrip\\sub-289\\anat\\sub-289_T1w_skullstripped.nii.gz, ROI Data Shape: (1, 115)\n",
      "(Reference MRI-Only) Subject: sub-29, MRI Path: C:\\Users\\ishsh\\OneDrive\\Desktop\\QML_Project\\data\\processed\\mri\\derivatives\\cleaned_skullstrip\\sub-29\\anat\\sub-29_T1w_skullstripped.nii.gz, ROI Data Shape: (1, 116)\n"
     ]
    },
    {
     "name": "stderr",
     "output_type": "stream",
     "text": [
      "c:\\Users\\ishsh\\OneDrive\\Desktop\\QML_Project\\venv4qml\\Lib\\site-packages\\nilearn\\maskers\\nifti_labels_masker.py:888: UserWarning: After resampling the label image to the data image, the following labels were removed: {5101, 5102}. Label image only contains 115 labels (including background).\n",
      "  warnings.warn(\n"
     ]
    },
    {
     "name": "stdout",
     "output_type": "stream",
     "text": [
      "(Reference MRI-Only) Subject: sub-290, MRI Path: C:\\Users\\ishsh\\OneDrive\\Desktop\\QML_Project\\data\\processed\\mri\\derivatives\\cleaned_skullstrip\\sub-290\\anat\\sub-290_T1w_skullstripped.nii.gz, ROI Data Shape: (1, 114)\n"
     ]
    },
    {
     "name": "stderr",
     "output_type": "stream",
     "text": [
      "c:\\Users\\ishsh\\OneDrive\\Desktop\\QML_Project\\venv4qml\\Lib\\site-packages\\nilearn\\maskers\\nifti_labels_masker.py:888: UserWarning: After resampling the label image to the data image, the following labels were removed: {5101, 5102}. Label image only contains 115 labels (including background).\n",
      "  warnings.warn(\n"
     ]
    },
    {
     "name": "stdout",
     "output_type": "stream",
     "text": [
      "(Reference MRI-Only) Subject: sub-291, MRI Path: C:\\Users\\ishsh\\OneDrive\\Desktop\\QML_Project\\data\\processed\\mri\\derivatives\\cleaned_skullstrip\\sub-291\\anat\\sub-291_T1w_skullstripped.nii.gz, ROI Data Shape: (1, 114)\n"
     ]
    },
    {
     "name": "stderr",
     "output_type": "stream",
     "text": [
      "c:\\Users\\ishsh\\OneDrive\\Desktop\\QML_Project\\venv4qml\\Lib\\site-packages\\nilearn\\maskers\\nifti_labels_masker.py:888: UserWarning: After resampling the label image to the data image, the following labels were removed: {6221, 6222, 5101, 5102, 5201, 5202, 5011, 5012, 5301, 5302, 9140, 6101}. Label image only contains 105 labels (including background).\n",
      "  warnings.warn(\n"
     ]
    },
    {
     "name": "stdout",
     "output_type": "stream",
     "text": [
      "(Reference MRI-Only) Subject: sub-292, MRI Path: C:\\Users\\ishsh\\OneDrive\\Desktop\\QML_Project\\data\\processed\\mri\\derivatives\\cleaned_skullstrip\\sub-292\\anat\\sub-292_T1w_skullstripped.nii.gz, ROI Data Shape: (1, 104)\n",
      "(Reference MRI-Only) Subject: sub-293, MRI Path: C:\\Users\\ishsh\\OneDrive\\Desktop\\QML_Project\\data\\processed\\mri\\derivatives\\cleaned_skullstrip\\sub-293\\anat\\sub-293_T1w_skullstripped.nii.gz, ROI Data Shape: (1, 116)\n",
      "(Reference MRI-Only) Subject: sub-294, MRI Path: C:\\Users\\ishsh\\OneDrive\\Desktop\\QML_Project\\data\\processed\\mri\\derivatives\\cleaned_skullstrip\\sub-294\\anat\\sub-294_T1w_skullstripped.nii.gz, ROI Data Shape: (1, 116)\n",
      "(Reference MRI-Only) Subject: sub-295, MRI Path: C:\\Users\\ishsh\\OneDrive\\Desktop\\QML_Project\\data\\processed\\mri\\derivatives\\cleaned_skullstrip\\sub-295\\anat\\sub-295_T1w_skullstripped.nii.gz, ROI Data Shape: (1, 116)\n",
      "(Reference MRI-Only) Subject: sub-296, MRI Path: C:\\Users\\ishsh\\OneDrive\\Desktop\\QML_Project\\data\\processed\\mri\\derivatives\\cleaned_skullstrip\\sub-296\\anat\\sub-296_T1w_skullstripped.nii.gz, ROI Data Shape: (1, 116)\n",
      "(Reference MRI-Only) Subject: sub-297, MRI Path: C:\\Users\\ishsh\\OneDrive\\Desktop\\QML_Project\\data\\processed\\mri\\derivatives\\cleaned_skullstrip\\sub-297\\anat\\sub-297_T1w_skullstripped.nii.gz, ROI Data Shape: (1, 116)\n",
      "(Reference MRI-Only) Subject: sub-298, MRI Path: C:\\Users\\ishsh\\OneDrive\\Desktop\\QML_Project\\data\\processed\\mri\\derivatives\\cleaned_skullstrip\\sub-298\\anat\\sub-298_T1w_skullstripped.nii.gz, ROI Data Shape: (1, 116)\n"
     ]
    },
    {
     "name": "stderr",
     "output_type": "stream",
     "text": [
      "c:\\Users\\ishsh\\OneDrive\\Desktop\\QML_Project\\venv4qml\\Lib\\site-packages\\nilearn\\maskers\\nifti_labels_masker.py:888: UserWarning: After resampling the label image to the data image, the following labels were removed: {5101, 5102}. Label image only contains 115 labels (including background).\n",
      "  warnings.warn(\n"
     ]
    },
    {
     "name": "stdout",
     "output_type": "stream",
     "text": [
      "(Reference MRI-Only) Subject: sub-299, MRI Path: C:\\Users\\ishsh\\OneDrive\\Desktop\\QML_Project\\data\\processed\\mri\\derivatives\\cleaned_skullstrip\\sub-299\\anat\\sub-299_T1w_skullstripped.nii.gz, ROI Data Shape: (1, 114)\n",
      "(Reference MRI-Only) Subject: sub-3, MRI Path: C:\\Users\\ishsh\\OneDrive\\Desktop\\QML_Project\\data\\processed\\mri\\derivatives\\cleaned_skullstrip\\sub-3\\anat\\sub-3_T1w_skullstripped.nii.gz, ROI Data Shape: (1, 116)\n",
      "(Reference MRI-Only) Subject: sub-30, MRI Path: C:\\Users\\ishsh\\OneDrive\\Desktop\\QML_Project\\data\\processed\\mri\\derivatives\\cleaned_skullstrip\\sub-30\\anat\\sub-30_T1w_skullstripped.nii.gz, ROI Data Shape: (1, 116)\n"
     ]
    },
    {
     "name": "stderr",
     "output_type": "stream",
     "text": [
      "c:\\Users\\ishsh\\OneDrive\\Desktop\\QML_Project\\venv4qml\\Lib\\site-packages\\nilearn\\maskers\\nifti_labels_masker.py:888: UserWarning: After resampling the label image to the data image, the following labels were removed: {5102}. Label image only contains 116 labels (including background).\n",
      "  warnings.warn(\n"
     ]
    },
    {
     "name": "stdout",
     "output_type": "stream",
     "text": [
      "(Reference MRI-Only) Subject: sub-300, MRI Path: C:\\Users\\ishsh\\OneDrive\\Desktop\\QML_Project\\data\\processed\\mri\\derivatives\\cleaned_skullstrip\\sub-300\\anat\\sub-300_T1w_skullstripped.nii.gz, ROI Data Shape: (1, 115)\n",
      "(Reference MRI-Only) Subject: sub-301, MRI Path: C:\\Users\\ishsh\\OneDrive\\Desktop\\QML_Project\\data\\processed\\mri\\derivatives\\cleaned_skullstrip\\sub-301\\anat\\sub-301_T1w_skullstripped.nii.gz, ROI Data Shape: (1, 116)\n",
      "(Reference MRI-Only) Subject: sub-302, MRI Path: C:\\Users\\ishsh\\OneDrive\\Desktop\\QML_Project\\data\\processed\\mri\\derivatives\\cleaned_skullstrip\\sub-302\\anat\\sub-302_T1w_skullstripped.nii.gz, ROI Data Shape: (1, 116)\n"
     ]
    },
    {
     "name": "stderr",
     "output_type": "stream",
     "text": [
      "c:\\Users\\ishsh\\OneDrive\\Desktop\\QML_Project\\venv4qml\\Lib\\site-packages\\nilearn\\maskers\\nifti_labels_masker.py:888: UserWarning: After resampling the label image to the data image, the following labels were removed: {5202, 5101, 5102}. Label image only contains 114 labels (including background).\n",
      "  warnings.warn(\n"
     ]
    },
    {
     "name": "stdout",
     "output_type": "stream",
     "text": [
      "(Reference MRI-Only) Subject: sub-303, MRI Path: C:\\Users\\ishsh\\OneDrive\\Desktop\\QML_Project\\data\\processed\\mri\\derivatives\\cleaned_skullstrip\\sub-303\\anat\\sub-303_T1w_skullstripped.nii.gz, ROI Data Shape: (1, 113)\n",
      "(Reference MRI-Only) Subject: sub-304, MRI Path: C:\\Users\\ishsh\\OneDrive\\Desktop\\QML_Project\\data\\processed\\mri\\derivatives\\cleaned_skullstrip\\sub-304\\anat\\sub-304_T1w_skullstripped.nii.gz, ROI Data Shape: (1, 116)\n"
     ]
    },
    {
     "name": "stderr",
     "output_type": "stream",
     "text": [
      "c:\\Users\\ishsh\\OneDrive\\Desktop\\QML_Project\\venv4qml\\Lib\\site-packages\\nilearn\\maskers\\nifti_labels_masker.py:888: UserWarning: After resampling the label image to the data image, the following labels were removed: {5202, 5012, 5101, 5102}. Label image only contains 113 labels (including background).\n",
      "  warnings.warn(\n"
     ]
    },
    {
     "name": "stdout",
     "output_type": "stream",
     "text": [
      "(Reference MRI-Only) Subject: sub-305, MRI Path: C:\\Users\\ishsh\\OneDrive\\Desktop\\QML_Project\\data\\processed\\mri\\derivatives\\cleaned_skullstrip\\sub-305\\anat\\sub-305_T1w_skullstripped.nii.gz, ROI Data Shape: (1, 112)\n",
      "(Reference MRI-Only) Subject: sub-306, MRI Path: C:\\Users\\ishsh\\OneDrive\\Desktop\\QML_Project\\data\\processed\\mri\\derivatives\\cleaned_skullstrip\\sub-306\\anat\\sub-306_T1w_skullstripped.nii.gz, ROI Data Shape: (1, 116)\n",
      "(Reference MRI-Only) Subject: sub-308, MRI Path: C:\\Users\\ishsh\\OneDrive\\Desktop\\QML_Project\\data\\processed\\mri\\derivatives\\cleaned_skullstrip\\sub-308\\anat\\sub-308_T1w_skullstripped.nii.gz, ROI Data Shape: (1, 116)\n",
      "(Reference MRI-Only) Subject: sub-309, MRI Path: C:\\Users\\ishsh\\OneDrive\\Desktop\\QML_Project\\data\\processed\\mri\\derivatives\\cleaned_skullstrip\\sub-309\\anat\\sub-309_T1w_skullstripped.nii.gz, ROI Data Shape: (1, 116)\n",
      "(Reference MRI-Only) Subject: sub-31, MRI Path: C:\\Users\\ishsh\\OneDrive\\Desktop\\QML_Project\\data\\processed\\mri\\derivatives\\cleaned_skullstrip\\sub-31\\anat\\sub-31_T1w_skullstripped.nii.gz, ROI Data Shape: (1, 116)\n",
      "(Reference MRI-Only) Subject: sub-310, MRI Path: C:\\Users\\ishsh\\OneDrive\\Desktop\\QML_Project\\data\\processed\\mri\\derivatives\\cleaned_skullstrip\\sub-310\\anat\\sub-310_T1w_skullstripped.nii.gz, ROI Data Shape: (1, 116)\n",
      "(Reference MRI-Only) Subject: sub-311, MRI Path: C:\\Users\\ishsh\\OneDrive\\Desktop\\QML_Project\\data\\processed\\mri\\derivatives\\cleaned_skullstrip\\sub-311\\anat\\sub-311_T1w_skullstripped.nii.gz, ROI Data Shape: (1, 116)\n",
      "(Reference MRI-Only) Subject: sub-312, MRI Path: C:\\Users\\ishsh\\OneDrive\\Desktop\\QML_Project\\data\\processed\\mri\\derivatives\\cleaned_skullstrip\\sub-312\\anat\\sub-312_T1w_skullstripped.nii.gz, ROI Data Shape: (1, 116)\n"
     ]
    },
    {
     "name": "stderr",
     "output_type": "stream",
     "text": [
      "c:\\Users\\ishsh\\OneDrive\\Desktop\\QML_Project\\venv4qml\\Lib\\site-packages\\nilearn\\maskers\\nifti_labels_masker.py:888: UserWarning: After resampling the label image to the data image, the following labels were removed: {5102}. Label image only contains 116 labels (including background).\n",
      "  warnings.warn(\n"
     ]
    },
    {
     "name": "stdout",
     "output_type": "stream",
     "text": [
      "(Reference MRI-Only) Subject: sub-313, MRI Path: C:\\Users\\ishsh\\OneDrive\\Desktop\\QML_Project\\data\\processed\\mri\\derivatives\\cleaned_skullstrip\\sub-313\\anat\\sub-313_T1w_skullstripped.nii.gz, ROI Data Shape: (1, 115)\n",
      "(Reference MRI-Only) Subject: sub-314, MRI Path: C:\\Users\\ishsh\\OneDrive\\Desktop\\QML_Project\\data\\processed\\mri\\derivatives\\cleaned_skullstrip\\sub-314\\anat\\sub-314_T1w_skullstripped.nii.gz, ROI Data Shape: (1, 116)\n"
     ]
    },
    {
     "name": "stderr",
     "output_type": "stream",
     "text": [
      "c:\\Users\\ishsh\\OneDrive\\Desktop\\QML_Project\\venv4qml\\Lib\\site-packages\\nilearn\\maskers\\nifti_labels_masker.py:888: UserWarning: After resampling the label image to the data image, the following labels were removed: {5101, 5102}. Label image only contains 115 labels (including background).\n",
      "  warnings.warn(\n"
     ]
    },
    {
     "name": "stdout",
     "output_type": "stream",
     "text": [
      "(Reference MRI-Only) Subject: sub-315, MRI Path: C:\\Users\\ishsh\\OneDrive\\Desktop\\QML_Project\\data\\processed\\mri\\derivatives\\cleaned_skullstrip\\sub-315\\anat\\sub-315_T1w_skullstripped.nii.gz, ROI Data Shape: (1, 114)\n",
      "(Reference MRI-Only) Subject: sub-316, MRI Path: C:\\Users\\ishsh\\OneDrive\\Desktop\\QML_Project\\data\\processed\\mri\\derivatives\\cleaned_skullstrip\\sub-316\\anat\\sub-316_T1w_skullstripped.nii.gz, ROI Data Shape: (1, 116)\n",
      "(Reference MRI-Only) Subject: sub-317, MRI Path: C:\\Users\\ishsh\\OneDrive\\Desktop\\QML_Project\\data\\processed\\mri\\derivatives\\cleaned_skullstrip\\sub-317\\anat\\sub-317_T1w_skullstripped.nii.gz, ROI Data Shape: (1, 116)\n",
      "(Reference MRI-Only) Subject: sub-319, MRI Path: C:\\Users\\ishsh\\OneDrive\\Desktop\\QML_Project\\data\\processed\\mri\\derivatives\\cleaned_skullstrip\\sub-319\\anat\\sub-319_T1w_skullstripped.nii.gz, ROI Data Shape: (1, 116)\n",
      "(Reference MRI-Only) Subject: sub-32, MRI Path: C:\\Users\\ishsh\\OneDrive\\Desktop\\QML_Project\\data\\processed\\mri\\derivatives\\cleaned_skullstrip\\sub-32\\anat\\sub-32_T1w_skullstripped.nii.gz, ROI Data Shape: (1, 116)\n",
      "(Reference MRI-Only) Subject: sub-320, MRI Path: C:\\Users\\ishsh\\OneDrive\\Desktop\\QML_Project\\data\\processed\\mri\\derivatives\\cleaned_skullstrip\\sub-320\\anat\\sub-320_T1w_skullstripped.nii.gz, ROI Data Shape: (1, 116)\n",
      "(Reference MRI-Only) Subject: sub-321, MRI Path: C:\\Users\\ishsh\\OneDrive\\Desktop\\QML_Project\\data\\processed\\mri\\derivatives\\cleaned_skullstrip\\sub-321\\anat\\sub-321_T1w_skullstripped.nii.gz, ROI Data Shape: (1, 116)\n",
      "(Reference MRI-Only) Subject: sub-322, MRI Path: C:\\Users\\ishsh\\OneDrive\\Desktop\\QML_Project\\data\\processed\\mri\\derivatives\\cleaned_skullstrip\\sub-322\\anat\\sub-322_T1w_skullstripped.nii.gz, ROI Data Shape: (1, 116)\n",
      "(Reference MRI-Only) Subject: sub-323, MRI Path: C:\\Users\\ishsh\\OneDrive\\Desktop\\QML_Project\\data\\processed\\mri\\derivatives\\cleaned_skullstrip\\sub-323\\anat\\sub-323_T1w_skullstripped.nii.gz, ROI Data Shape: (1, 116)\n",
      "(Reference MRI-Only) Subject: sub-324, MRI Path: C:\\Users\\ishsh\\OneDrive\\Desktop\\QML_Project\\data\\processed\\mri\\derivatives\\cleaned_skullstrip\\sub-324\\anat\\sub-324_T1w_skullstripped.nii.gz, ROI Data Shape: (1, 116)\n",
      "(Reference MRI-Only) Subject: sub-325, MRI Path: C:\\Users\\ishsh\\OneDrive\\Desktop\\QML_Project\\data\\processed\\mri\\derivatives\\cleaned_skullstrip\\sub-325\\anat\\sub-325_T1w_skullstripped.nii.gz, ROI Data Shape: (1, 116)\n",
      "(Reference MRI-Only) Subject: sub-326, MRI Path: C:\\Users\\ishsh\\OneDrive\\Desktop\\QML_Project\\data\\processed\\mri\\derivatives\\cleaned_skullstrip\\sub-326\\anat\\sub-326_T1w_skullstripped.nii.gz, ROI Data Shape: (1, 116)\n",
      "(Reference MRI-Only) Subject: sub-327, MRI Path: C:\\Users\\ishsh\\OneDrive\\Desktop\\QML_Project\\data\\processed\\mri\\derivatives\\cleaned_skullstrip\\sub-327\\anat\\sub-327_T1w_skullstripped.nii.gz, ROI Data Shape: (1, 116)\n",
      "(Reference MRI-Only) Subject: sub-328, MRI Path: C:\\Users\\ishsh\\OneDrive\\Desktop\\QML_Project\\data\\processed\\mri\\derivatives\\cleaned_skullstrip\\sub-328\\anat\\sub-328_T1w_skullstripped.nii.gz, ROI Data Shape: (1, 116)\n",
      "(Reference MRI-Only) Subject: sub-329, MRI Path: C:\\Users\\ishsh\\OneDrive\\Desktop\\QML_Project\\data\\processed\\mri\\derivatives\\cleaned_skullstrip\\sub-329\\anat\\sub-329_T1w_skullstripped.nii.gz, ROI Data Shape: (1, 116)\n"
     ]
    },
    {
     "name": "stderr",
     "output_type": "stream",
     "text": [
      "c:\\Users\\ishsh\\OneDrive\\Desktop\\QML_Project\\venv4qml\\Lib\\site-packages\\nilearn\\maskers\\nifti_labels_masker.py:888: UserWarning: After resampling the label image to the data image, the following labels were removed: {9051, 9052, 9061, 9062}. Label image only contains 113 labels (including background).\n",
      "  warnings.warn(\n"
     ]
    },
    {
     "name": "stdout",
     "output_type": "stream",
     "text": [
      "(Reference MRI-Only) Subject: sub-33, MRI Path: C:\\Users\\ishsh\\OneDrive\\Desktop\\QML_Project\\data\\processed\\mri\\derivatives\\cleaned_skullstrip\\sub-33\\anat\\sub-33_T1w_skullstripped.nii.gz, ROI Data Shape: (1, 112)\n"
     ]
    },
    {
     "name": "stderr",
     "output_type": "stream",
     "text": [
      "c:\\Users\\ishsh\\OneDrive\\Desktop\\QML_Project\\venv4qml\\Lib\\site-packages\\nilearn\\maskers\\nifti_labels_masker.py:888: UserWarning: After resampling the label image to the data image, the following labels were removed: {5202, 5012, 5101, 5102}. Label image only contains 113 labels (including background).\n",
      "  warnings.warn(\n"
     ]
    },
    {
     "name": "stdout",
     "output_type": "stream",
     "text": [
      "(Reference MRI-Only) Subject: sub-330, MRI Path: C:\\Users\\ishsh\\OneDrive\\Desktop\\QML_Project\\data\\processed\\mri\\derivatives\\cleaned_skullstrip\\sub-330\\anat\\sub-330_T1w_skullstripped.nii.gz, ROI Data Shape: (1, 112)\n",
      "(Reference MRI-Only) Subject: sub-331, MRI Path: C:\\Users\\ishsh\\OneDrive\\Desktop\\QML_Project\\data\\processed\\mri\\derivatives\\cleaned_skullstrip\\sub-331\\anat\\sub-331_T1w_skullstripped.nii.gz, ROI Data Shape: (1, 116)\n"
     ]
    },
    {
     "name": "stderr",
     "output_type": "stream",
     "text": [
      "c:\\Users\\ishsh\\OneDrive\\Desktop\\QML_Project\\venv4qml\\Lib\\site-packages\\nilearn\\maskers\\nifti_labels_masker.py:888: UserWarning: After resampling the label image to the data image, the following labels were removed: {5101, 5102, 5202, 5011, 5012, 6101}. Label image only contains 111 labels (including background).\n",
      "  warnings.warn(\n"
     ]
    },
    {
     "name": "stdout",
     "output_type": "stream",
     "text": [
      "(Reference MRI-Only) Subject: sub-332, MRI Path: C:\\Users\\ishsh\\OneDrive\\Desktop\\QML_Project\\data\\processed\\mri\\derivatives\\cleaned_skullstrip\\sub-332\\anat\\sub-332_T1w_skullstripped.nii.gz, ROI Data Shape: (1, 110)\n"
     ]
    },
    {
     "name": "stderr",
     "output_type": "stream",
     "text": [
      "c:\\Users\\ishsh\\OneDrive\\Desktop\\QML_Project\\venv4qml\\Lib\\site-packages\\nilearn\\maskers\\nifti_labels_masker.py:888: UserWarning: After resampling the label image to the data image, the following labels were removed: {6221, 5101, 5102, 5201, 5202, 5011, 5012, 5301, 5302, 9140}. Label image only contains 107 labels (including background).\n",
      "  warnings.warn(\n"
     ]
    },
    {
     "name": "stdout",
     "output_type": "stream",
     "text": [
      "(Reference MRI-Only) Subject: sub-333, MRI Path: C:\\Users\\ishsh\\OneDrive\\Desktop\\QML_Project\\data\\processed\\mri\\derivatives\\cleaned_skullstrip\\sub-333\\anat\\sub-333_T1w_skullstripped.nii.gz, ROI Data Shape: (1, 106)\n",
      "(Reference MRI-Only) Subject: sub-334, MRI Path: C:\\Users\\ishsh\\OneDrive\\Desktop\\QML_Project\\data\\processed\\mri\\derivatives\\cleaned_skullstrip\\sub-334\\anat\\sub-334_T1w_skullstripped.nii.gz, ROI Data Shape: (1, 116)\n",
      "(Reference MRI-Only) Subject: sub-335, MRI Path: C:\\Users\\ishsh\\OneDrive\\Desktop\\QML_Project\\data\\processed\\mri\\derivatives\\cleaned_skullstrip\\sub-335\\anat\\sub-335_T1w_skullstripped.nii.gz, ROI Data Shape: (1, 116)\n",
      "(Reference MRI-Only) Subject: sub-336, MRI Path: C:\\Users\\ishsh\\OneDrive\\Desktop\\QML_Project\\data\\processed\\mri\\derivatives\\cleaned_skullstrip\\sub-336\\anat\\sub-336_T1w_skullstripped.nii.gz, ROI Data Shape: (1, 116)\n",
      "(Reference MRI-Only) Subject: sub-337, MRI Path: C:\\Users\\ishsh\\OneDrive\\Desktop\\QML_Project\\data\\processed\\mri\\derivatives\\cleaned_skullstrip\\sub-337\\anat\\sub-337_T1w_skullstripped.nii.gz, ROI Data Shape: (1, 116)\n"
     ]
    },
    {
     "name": "stderr",
     "output_type": "stream",
     "text": [
      "c:\\Users\\ishsh\\OneDrive\\Desktop\\QML_Project\\venv4qml\\Lib\\site-packages\\nilearn\\maskers\\nifti_labels_masker.py:888: UserWarning: After resampling the label image to the data image, the following labels were removed: {5202, 5101, 5102}. Label image only contains 114 labels (including background).\n",
      "  warnings.warn(\n"
     ]
    },
    {
     "name": "stdout",
     "output_type": "stream",
     "text": [
      "(Reference MRI-Only) Subject: sub-338, MRI Path: C:\\Users\\ishsh\\OneDrive\\Desktop\\QML_Project\\data\\processed\\mri\\derivatives\\cleaned_skullstrip\\sub-338\\anat\\sub-338_T1w_skullstripped.nii.gz, ROI Data Shape: (1, 113)\n",
      "(Reference MRI-Only) Subject: sub-339, MRI Path: C:\\Users\\ishsh\\OneDrive\\Desktop\\QML_Project\\data\\processed\\mri\\derivatives\\cleaned_skullstrip\\sub-339\\anat\\sub-339_T1w_skullstripped.nii.gz, ROI Data Shape: (1, 116)\n",
      "(Reference MRI-Only) Subject: sub-34, MRI Path: C:\\Users\\ishsh\\OneDrive\\Desktop\\QML_Project\\data\\processed\\mri\\derivatives\\cleaned_skullstrip\\sub-34\\anat\\sub-34_T1w_skullstripped.nii.gz, ROI Data Shape: (1, 116)\n"
     ]
    },
    {
     "name": "stderr",
     "output_type": "stream",
     "text": [
      "c:\\Users\\ishsh\\OneDrive\\Desktop\\QML_Project\\venv4qml\\Lib\\site-packages\\nilearn\\maskers\\nifti_labels_masker.py:888: UserWarning: After resampling the label image to the data image, the following labels were removed: {5202, 5101, 5102}. Label image only contains 114 labels (including background).\n",
      "  warnings.warn(\n"
     ]
    },
    {
     "name": "stdout",
     "output_type": "stream",
     "text": [
      "(Reference MRI-Only) Subject: sub-340, MRI Path: C:\\Users\\ishsh\\OneDrive\\Desktop\\QML_Project\\data\\processed\\mri\\derivatives\\cleaned_skullstrip\\sub-340\\anat\\sub-340_T1w_skullstripped.nii.gz, ROI Data Shape: (1, 113)\n",
      "(Reference MRI-Only) Subject: sub-341, MRI Path: C:\\Users\\ishsh\\OneDrive\\Desktop\\QML_Project\\data\\processed\\mri\\derivatives\\cleaned_skullstrip\\sub-341\\anat\\sub-341_T1w_skullstripped.nii.gz, ROI Data Shape: (1, 116)\n",
      "(Reference MRI-Only) Subject: sub-343, MRI Path: C:\\Users\\ishsh\\OneDrive\\Desktop\\QML_Project\\data\\processed\\mri\\derivatives\\cleaned_skullstrip\\sub-343\\anat\\sub-343_T1w_skullstripped.nii.gz, ROI Data Shape: (1, 116)\n"
     ]
    },
    {
     "name": "stderr",
     "output_type": "stream",
     "text": [
      "c:\\Users\\ishsh\\OneDrive\\Desktop\\QML_Project\\venv4qml\\Lib\\site-packages\\nilearn\\maskers\\nifti_labels_masker.py:888: UserWarning: After resampling the label image to the data image, the following labels were removed: {5202, 5101, 5102}. Label image only contains 114 labels (including background).\n",
      "  warnings.warn(\n"
     ]
    },
    {
     "name": "stdout",
     "output_type": "stream",
     "text": [
      "(Reference MRI-Only) Subject: sub-344, MRI Path: C:\\Users\\ishsh\\OneDrive\\Desktop\\QML_Project\\data\\processed\\mri\\derivatives\\cleaned_skullstrip\\sub-344\\anat\\sub-344_T1w_skullstripped.nii.gz, ROI Data Shape: (1, 113)\n"
     ]
    },
    {
     "name": "stderr",
     "output_type": "stream",
     "text": [
      "c:\\Users\\ishsh\\OneDrive\\Desktop\\QML_Project\\venv4qml\\Lib\\site-packages\\nilearn\\maskers\\nifti_labels_masker.py:888: UserWarning: After resampling the label image to the data image, the following labels were removed: {5202, 5101, 5102}. Label image only contains 114 labels (including background).\n",
      "  warnings.warn(\n"
     ]
    },
    {
     "name": "stdout",
     "output_type": "stream",
     "text": [
      "(Reference MRI-Only) Subject: sub-345, MRI Path: C:\\Users\\ishsh\\OneDrive\\Desktop\\QML_Project\\data\\processed\\mri\\derivatives\\cleaned_skullstrip\\sub-345\\anat\\sub-345_T1w_skullstripped.nii.gz, ROI Data Shape: (1, 113)\n",
      "(Reference MRI-Only) Subject: sub-346, MRI Path: C:\\Users\\ishsh\\OneDrive\\Desktop\\QML_Project\\data\\processed\\mri\\derivatives\\cleaned_skullstrip\\sub-346\\anat\\sub-346_T1w_skullstripped.nii.gz, ROI Data Shape: (1, 116)\n",
      "(Reference MRI-Only) Subject: sub-347, MRI Path: C:\\Users\\ishsh\\OneDrive\\Desktop\\QML_Project\\data\\processed\\mri\\derivatives\\cleaned_skullstrip\\sub-347\\anat\\sub-347_T1w_skullstripped.nii.gz, ROI Data Shape: (1, 116)\n",
      "(Reference MRI-Only) Subject: sub-348, MRI Path: C:\\Users\\ishsh\\OneDrive\\Desktop\\QML_Project\\data\\processed\\mri\\derivatives\\cleaned_skullstrip\\sub-348\\anat\\sub-348_T1w_skullstripped.nii.gz, ROI Data Shape: (1, 116)\n",
      "(Reference MRI-Only) Subject: sub-349, MRI Path: C:\\Users\\ishsh\\OneDrive\\Desktop\\QML_Project\\data\\processed\\mri\\derivatives\\cleaned_skullstrip\\sub-349\\anat\\sub-349_T1w_skullstripped.nii.gz, ROI Data Shape: (1, 116)\n",
      "(Reference MRI-Only) Subject: sub-35, MRI Path: C:\\Users\\ishsh\\OneDrive\\Desktop\\QML_Project\\data\\processed\\mri\\derivatives\\cleaned_skullstrip\\sub-35\\anat\\sub-35_T1w_skullstripped.nii.gz, ROI Data Shape: (1, 116)\n",
      "(Reference MRI-Only) Subject: sub-350, MRI Path: C:\\Users\\ishsh\\OneDrive\\Desktop\\QML_Project\\data\\processed\\mri\\derivatives\\cleaned_skullstrip\\sub-350\\anat\\sub-350_T1w_skullstripped.nii.gz, ROI Data Shape: (1, 116)\n",
      "(Reference MRI-Only) Subject: sub-351, MRI Path: C:\\Users\\ishsh\\OneDrive\\Desktop\\QML_Project\\data\\processed\\mri\\derivatives\\cleaned_skullstrip\\sub-351\\anat\\sub-351_T1w_skullstripped.nii.gz, ROI Data Shape: (1, 116)\n",
      "(Reference MRI-Only) Subject: sub-352, MRI Path: C:\\Users\\ishsh\\OneDrive\\Desktop\\QML_Project\\data\\processed\\mri\\derivatives\\cleaned_skullstrip\\sub-352\\anat\\sub-352_T1w_skullstripped.nii.gz, ROI Data Shape: (1, 116)\n",
      "(Reference MRI-Only) Subject: sub-353, MRI Path: C:\\Users\\ishsh\\OneDrive\\Desktop\\QML_Project\\data\\processed\\mri\\derivatives\\cleaned_skullstrip\\sub-353\\anat\\sub-353_T1w_skullstripped.nii.gz, ROI Data Shape: (1, 116)\n",
      "(Reference MRI-Only) Subject: sub-354, MRI Path: C:\\Users\\ishsh\\OneDrive\\Desktop\\QML_Project\\data\\processed\\mri\\derivatives\\cleaned_skullstrip\\sub-354\\anat\\sub-354_T1w_skullstripped.nii.gz, ROI Data Shape: (1, 116)\n",
      "(Reference MRI-Only) Subject: sub-355, MRI Path: C:\\Users\\ishsh\\OneDrive\\Desktop\\QML_Project\\data\\processed\\mri\\derivatives\\cleaned_skullstrip\\sub-355\\anat\\sub-355_T1w_skullstripped.nii.gz, ROI Data Shape: (1, 116)\n",
      "(Reference MRI-Only) Subject: sub-356, MRI Path: C:\\Users\\ishsh\\OneDrive\\Desktop\\QML_Project\\data\\processed\\mri\\derivatives\\cleaned_skullstrip\\sub-356\\anat\\sub-356_T1w_skullstripped.nii.gz, ROI Data Shape: (1, 116)\n",
      "(Reference MRI-Only) Subject: sub-357, MRI Path: C:\\Users\\ishsh\\OneDrive\\Desktop\\QML_Project\\data\\processed\\mri\\derivatives\\cleaned_skullstrip\\sub-357\\anat\\sub-357_T1w_skullstripped.nii.gz, ROI Data Shape: (1, 116)\n"
     ]
    },
    {
     "name": "stderr",
     "output_type": "stream",
     "text": [
      "c:\\Users\\ishsh\\OneDrive\\Desktop\\QML_Project\\venv4qml\\Lib\\site-packages\\nilearn\\maskers\\nifti_labels_masker.py:888: UserWarning: After resampling the label image to the data image, the following labels were removed: {5101, 5102, 5201, 5202, 5011, 5012}. Label image only contains 111 labels (including background).\n",
      "  warnings.warn(\n"
     ]
    },
    {
     "name": "stdout",
     "output_type": "stream",
     "text": [
      "(Reference MRI-Only) Subject: sub-358, MRI Path: C:\\Users\\ishsh\\OneDrive\\Desktop\\QML_Project\\data\\processed\\mri\\derivatives\\cleaned_skullstrip\\sub-358\\anat\\sub-358_T1w_skullstripped.nii.gz, ROI Data Shape: (1, 110)\n"
     ]
    },
    {
     "name": "stderr",
     "output_type": "stream",
     "text": [
      "c:\\Users\\ishsh\\OneDrive\\Desktop\\QML_Project\\venv4qml\\Lib\\site-packages\\nilearn\\maskers\\nifti_labels_masker.py:888: UserWarning: After resampling the label image to the data image, the following labels were removed: {5202, 5101, 5102}. Label image only contains 114 labels (including background).\n",
      "  warnings.warn(\n"
     ]
    },
    {
     "name": "stdout",
     "output_type": "stream",
     "text": [
      "(Reference MRI-Only) Subject: sub-36, MRI Path: C:\\Users\\ishsh\\OneDrive\\Desktop\\QML_Project\\data\\processed\\mri\\derivatives\\cleaned_skullstrip\\sub-36\\anat\\sub-36_T1w_skullstripped.nii.gz, ROI Data Shape: (1, 113)\n"
     ]
    },
    {
     "name": "stderr",
     "output_type": "stream",
     "text": [
      "c:\\Users\\ishsh\\OneDrive\\Desktop\\QML_Project\\venv4qml\\Lib\\site-packages\\nilearn\\maskers\\nifti_labels_masker.py:888: UserWarning: After resampling the label image to the data image, the following labels were removed: {5202, 5101, 5102}. Label image only contains 114 labels (including background).\n",
      "  warnings.warn(\n"
     ]
    },
    {
     "name": "stdout",
     "output_type": "stream",
     "text": [
      "(Reference MRI-Only) Subject: sub-360, MRI Path: C:\\Users\\ishsh\\OneDrive\\Desktop\\QML_Project\\data\\processed\\mri\\derivatives\\cleaned_skullstrip\\sub-360\\anat\\sub-360_T1w_skullstripped.nii.gz, ROI Data Shape: (1, 113)\n",
      "(Reference MRI-Only) Subject: sub-361, MRI Path: C:\\Users\\ishsh\\OneDrive\\Desktop\\QML_Project\\data\\processed\\mri\\derivatives\\cleaned_skullstrip\\sub-361\\anat\\sub-361_T1w_skullstripped.nii.gz, ROI Data Shape: (1, 116)\n",
      "(Reference MRI-Only) Subject: sub-362, MRI Path: C:\\Users\\ishsh\\OneDrive\\Desktop\\QML_Project\\data\\processed\\mri\\derivatives\\cleaned_skullstrip\\sub-362\\anat\\sub-362_T1w_skullstripped.nii.gz, ROI Data Shape: (1, 116)\n",
      "(Reference MRI-Only) Subject: sub-363, MRI Path: C:\\Users\\ishsh\\OneDrive\\Desktop\\QML_Project\\data\\processed\\mri\\derivatives\\cleaned_skullstrip\\sub-363\\anat\\sub-363_T1w_skullstripped.nii.gz, ROI Data Shape: (1, 116)\n",
      "(Reference MRI-Only) Subject: sub-364, MRI Path: C:\\Users\\ishsh\\OneDrive\\Desktop\\QML_Project\\data\\processed\\mri\\derivatives\\cleaned_skullstrip\\sub-364\\anat\\sub-364_T1w_skullstripped.nii.gz, ROI Data Shape: (1, 116)\n"
     ]
    },
    {
     "name": "stderr",
     "output_type": "stream",
     "text": [
      "c:\\Users\\ishsh\\OneDrive\\Desktop\\QML_Project\\venv4qml\\Lib\\site-packages\\nilearn\\maskers\\nifti_labels_masker.py:888: UserWarning: After resampling the label image to the data image, the following labels were removed: {5202, 5101, 5102}. Label image only contains 114 labels (including background).\n",
      "  warnings.warn(\n"
     ]
    },
    {
     "name": "stdout",
     "output_type": "stream",
     "text": [
      "(Reference MRI-Only) Subject: sub-365, MRI Path: C:\\Users\\ishsh\\OneDrive\\Desktop\\QML_Project\\data\\processed\\mri\\derivatives\\cleaned_skullstrip\\sub-365\\anat\\sub-365_T1w_skullstripped.nii.gz, ROI Data Shape: (1, 113)\n",
      "(Reference MRI-Only) Subject: sub-366, MRI Path: C:\\Users\\ishsh\\OneDrive\\Desktop\\QML_Project\\data\\processed\\mri\\derivatives\\cleaned_skullstrip\\sub-366\\anat\\sub-366_T1w_skullstripped.nii.gz, ROI Data Shape: (1, 116)\n",
      "(Reference MRI-Only) Subject: sub-367, MRI Path: C:\\Users\\ishsh\\OneDrive\\Desktop\\QML_Project\\data\\processed\\mri\\derivatives\\cleaned_skullstrip\\sub-367\\anat\\sub-367_T1w_skullstripped.nii.gz, ROI Data Shape: (1, 116)\n"
     ]
    },
    {
     "name": "stderr",
     "output_type": "stream",
     "text": [
      "c:\\Users\\ishsh\\OneDrive\\Desktop\\QML_Project\\venv4qml\\Lib\\site-packages\\nilearn\\maskers\\nifti_labels_masker.py:888: UserWarning: After resampling the label image to the data image, the following labels were removed: {5201, 5101, 5102}. Label image only contains 114 labels (including background).\n",
      "  warnings.warn(\n"
     ]
    },
    {
     "name": "stdout",
     "output_type": "stream",
     "text": [
      "(Reference MRI-Only) Subject: sub-368, MRI Path: C:\\Users\\ishsh\\OneDrive\\Desktop\\QML_Project\\data\\processed\\mri\\derivatives\\cleaned_skullstrip\\sub-368\\anat\\sub-368_T1w_skullstripped.nii.gz, ROI Data Shape: (1, 113)\n",
      "(Reference MRI-Only) Subject: sub-369, MRI Path: C:\\Users\\ishsh\\OneDrive\\Desktop\\QML_Project\\data\\processed\\mri\\derivatives\\cleaned_skullstrip\\sub-369\\anat\\sub-369_T1w_skullstripped.nii.gz, ROI Data Shape: (1, 116)\n",
      "(Reference MRI-Only) Subject: sub-37, MRI Path: C:\\Users\\ishsh\\OneDrive\\Desktop\\QML_Project\\data\\processed\\mri\\derivatives\\cleaned_skullstrip\\sub-37\\anat\\sub-37_T1w_skullstripped.nii.gz, ROI Data Shape: (1, 116)\n",
      "(Reference MRI-Only) Subject: sub-370, MRI Path: C:\\Users\\ishsh\\OneDrive\\Desktop\\QML_Project\\data\\processed\\mri\\derivatives\\cleaned_skullstrip\\sub-370\\anat\\sub-370_T1w_skullstripped.nii.gz, ROI Data Shape: (1, 116)\n",
      "(Reference MRI-Only) Subject: sub-371, MRI Path: C:\\Users\\ishsh\\OneDrive\\Desktop\\QML_Project\\data\\processed\\mri\\derivatives\\cleaned_skullstrip\\sub-371\\anat\\sub-371_T1w_skullstripped.nii.gz, ROI Data Shape: (1, 116)\n"
     ]
    },
    {
     "name": "stderr",
     "output_type": "stream",
     "text": [
      "c:\\Users\\ishsh\\OneDrive\\Desktop\\QML_Project\\venv4qml\\Lib\\site-packages\\nilearn\\maskers\\nifti_labels_masker.py:888: UserWarning: After resampling the label image to the data image, the following labels were removed: {5101, 5102}. Label image only contains 115 labels (including background).\n",
      "  warnings.warn(\n"
     ]
    },
    {
     "name": "stdout",
     "output_type": "stream",
     "text": [
      "(Reference MRI-Only) Subject: sub-372, MRI Path: C:\\Users\\ishsh\\OneDrive\\Desktop\\QML_Project\\data\\processed\\mri\\derivatives\\cleaned_skullstrip\\sub-372\\anat\\sub-372_T1w_skullstripped.nii.gz, ROI Data Shape: (1, 114)\n",
      "(Reference MRI-Only) Subject: sub-373, MRI Path: C:\\Users\\ishsh\\OneDrive\\Desktop\\QML_Project\\data\\processed\\mri\\derivatives\\cleaned_skullstrip\\sub-373\\anat\\sub-373_T1w_skullstripped.nii.gz, ROI Data Shape: (1, 116)\n",
      "(Reference MRI-Only) Subject: sub-374, MRI Path: C:\\Users\\ishsh\\OneDrive\\Desktop\\QML_Project\\data\\processed\\mri\\derivatives\\cleaned_skullstrip\\sub-374\\anat\\sub-374_T1w_skullstripped.nii.gz, ROI Data Shape: (1, 116)\n",
      "(Reference MRI-Only) Subject: sub-375, MRI Path: C:\\Users\\ishsh\\OneDrive\\Desktop\\QML_Project\\data\\processed\\mri\\derivatives\\cleaned_skullstrip\\sub-375\\anat\\sub-375_T1w_skullstripped.nii.gz, ROI Data Shape: (1, 116)\n"
     ]
    },
    {
     "name": "stderr",
     "output_type": "stream",
     "text": [
      "c:\\Users\\ishsh\\OneDrive\\Desktop\\QML_Project\\venv4qml\\Lib\\site-packages\\nilearn\\maskers\\nifti_labels_masker.py:888: UserWarning: After resampling the label image to the data image, the following labels were removed: {5101, 5102}. Label image only contains 115 labels (including background).\n",
      "  warnings.warn(\n"
     ]
    },
    {
     "name": "stdout",
     "output_type": "stream",
     "text": [
      "(Reference MRI-Only) Subject: sub-376, MRI Path: C:\\Users\\ishsh\\OneDrive\\Desktop\\QML_Project\\data\\processed\\mri\\derivatives\\cleaned_skullstrip\\sub-376\\anat\\sub-376_T1w_skullstripped.nii.gz, ROI Data Shape: (1, 114)\n",
      "(Reference MRI-Only) Subject: sub-377, MRI Path: C:\\Users\\ishsh\\OneDrive\\Desktop\\QML_Project\\data\\processed\\mri\\derivatives\\cleaned_skullstrip\\sub-377\\anat\\sub-377_T1w_skullstripped.nii.gz, ROI Data Shape: (1, 116)\n",
      "(Reference MRI-Only) Subject: sub-378, MRI Path: C:\\Users\\ishsh\\OneDrive\\Desktop\\QML_Project\\data\\processed\\mri\\derivatives\\cleaned_skullstrip\\sub-378\\anat\\sub-378_T1w_skullstripped.nii.gz, ROI Data Shape: (1, 116)\n",
      "(Reference MRI-Only) Subject: sub-379, MRI Path: C:\\Users\\ishsh\\OneDrive\\Desktop\\QML_Project\\data\\processed\\mri\\derivatives\\cleaned_skullstrip\\sub-379\\anat\\sub-379_T1w_skullstripped.nii.gz, ROI Data Shape: (1, 116)\n",
      "(Reference MRI-Only) Subject: sub-38, MRI Path: C:\\Users\\ishsh\\OneDrive\\Desktop\\QML_Project\\data\\processed\\mri\\derivatives\\cleaned_skullstrip\\sub-38\\anat\\sub-38_T1w_skullstripped.nii.gz, ROI Data Shape: (1, 116)\n"
     ]
    },
    {
     "name": "stderr",
     "output_type": "stream",
     "text": [
      "c:\\Users\\ishsh\\OneDrive\\Desktop\\QML_Project\\venv4qml\\Lib\\site-packages\\nilearn\\maskers\\nifti_labels_masker.py:888: UserWarning: After resampling the label image to the data image, the following labels were removed: {5102}. Label image only contains 116 labels (including background).\n",
      "  warnings.warn(\n"
     ]
    },
    {
     "name": "stdout",
     "output_type": "stream",
     "text": [
      "(Reference MRI-Only) Subject: sub-380, MRI Path: C:\\Users\\ishsh\\OneDrive\\Desktop\\QML_Project\\data\\processed\\mri\\derivatives\\cleaned_skullstrip\\sub-380\\anat\\sub-380_T1w_skullstripped.nii.gz, ROI Data Shape: (1, 115)\n",
      "(Reference MRI-Only) Subject: sub-381, MRI Path: C:\\Users\\ishsh\\OneDrive\\Desktop\\QML_Project\\data\\processed\\mri\\derivatives\\cleaned_skullstrip\\sub-381\\anat\\sub-381_T1w_skullstripped.nii.gz, ROI Data Shape: (1, 116)\n",
      "(Reference MRI-Only) Subject: sub-382, MRI Path: C:\\Users\\ishsh\\OneDrive\\Desktop\\QML_Project\\data\\processed\\mri\\derivatives\\cleaned_skullstrip\\sub-382\\anat\\sub-382_T1w_skullstripped.nii.gz, ROI Data Shape: (1, 116)\n",
      "(Reference MRI-Only) Subject: sub-383, MRI Path: C:\\Users\\ishsh\\OneDrive\\Desktop\\QML_Project\\data\\processed\\mri\\derivatives\\cleaned_skullstrip\\sub-383\\anat\\sub-383_T1w_skullstripped.nii.gz, ROI Data Shape: (1, 116)\n"
     ]
    },
    {
     "name": "stderr",
     "output_type": "stream",
     "text": [
      "c:\\Users\\ishsh\\OneDrive\\Desktop\\QML_Project\\venv4qml\\Lib\\site-packages\\nilearn\\maskers\\nifti_labels_masker.py:888: UserWarning: After resampling the label image to the data image, the following labels were removed: {5201, 5202, 5101, 5102}. Label image only contains 113 labels (including background).\n",
      "  warnings.warn(\n"
     ]
    },
    {
     "name": "stdout",
     "output_type": "stream",
     "text": [
      "(Reference MRI-Only) Subject: sub-384, MRI Path: C:\\Users\\ishsh\\OneDrive\\Desktop\\QML_Project\\data\\processed\\mri\\derivatives\\cleaned_skullstrip\\sub-384\\anat\\sub-384_T1w_skullstripped.nii.gz, ROI Data Shape: (1, 112)\n",
      "(Reference MRI-Only) Subject: sub-385, MRI Path: C:\\Users\\ishsh\\OneDrive\\Desktop\\QML_Project\\data\\processed\\mri\\derivatives\\cleaned_skullstrip\\sub-385\\anat\\sub-385_T1w_skullstripped.nii.gz, ROI Data Shape: (1, 116)\n",
      "(Reference MRI-Only) Subject: sub-387, MRI Path: C:\\Users\\ishsh\\OneDrive\\Desktop\\QML_Project\\data\\processed\\mri\\derivatives\\cleaned_skullstrip\\sub-387\\anat\\sub-387_T1w_skullstripped.nii.gz, ROI Data Shape: (1, 116)\n"
     ]
    },
    {
     "name": "stderr",
     "output_type": "stream",
     "text": [
      "c:\\Users\\ishsh\\OneDrive\\Desktop\\QML_Project\\venv4qml\\Lib\\site-packages\\nilearn\\maskers\\nifti_labels_masker.py:888: UserWarning: After resampling the label image to the data image, the following labels were removed: {5101, 5102}. Label image only contains 115 labels (including background).\n",
      "  warnings.warn(\n"
     ]
    },
    {
     "name": "stdout",
     "output_type": "stream",
     "text": [
      "(Reference MRI-Only) Subject: sub-388, MRI Path: C:\\Users\\ishsh\\OneDrive\\Desktop\\QML_Project\\data\\processed\\mri\\derivatives\\cleaned_skullstrip\\sub-388\\anat\\sub-388_T1w_skullstripped.nii.gz, ROI Data Shape: (1, 114)\n",
      "(Reference MRI-Only) Subject: sub-389, MRI Path: C:\\Users\\ishsh\\OneDrive\\Desktop\\QML_Project\\data\\processed\\mri\\derivatives\\cleaned_skullstrip\\sub-389\\anat\\sub-389_T1w_skullstripped.nii.gz, ROI Data Shape: (1, 116)\n",
      "(Reference MRI-Only) Subject: sub-39, MRI Path: C:\\Users\\ishsh\\OneDrive\\Desktop\\QML_Project\\data\\processed\\mri\\derivatives\\cleaned_skullstrip\\sub-39\\anat\\sub-39_T1w_skullstripped.nii.gz, ROI Data Shape: (1, 116)\n",
      "(Reference MRI-Only) Subject: sub-390, MRI Path: C:\\Users\\ishsh\\OneDrive\\Desktop\\QML_Project\\data\\processed\\mri\\derivatives\\cleaned_skullstrip\\sub-390\\anat\\sub-390_T1w_skullstripped.nii.gz, ROI Data Shape: (1, 116)\n"
     ]
    },
    {
     "name": "stderr",
     "output_type": "stream",
     "text": [
      "c:\\Users\\ishsh\\OneDrive\\Desktop\\QML_Project\\venv4qml\\Lib\\site-packages\\nilearn\\maskers\\nifti_labels_masker.py:888: UserWarning: After resampling the label image to the data image, the following labels were removed: {5202, 5101, 5102}. Label image only contains 114 labels (including background).\n",
      "  warnings.warn(\n"
     ]
    },
    {
     "name": "stdout",
     "output_type": "stream",
     "text": [
      "(Reference MRI-Only) Subject: sub-391, MRI Path: C:\\Users\\ishsh\\OneDrive\\Desktop\\QML_Project\\data\\processed\\mri\\derivatives\\cleaned_skullstrip\\sub-391\\anat\\sub-391_T1w_skullstripped.nii.gz, ROI Data Shape: (1, 113)\n",
      "(Reference MRI-Only) Subject: sub-392, MRI Path: C:\\Users\\ishsh\\OneDrive\\Desktop\\QML_Project\\data\\processed\\mri\\derivatives\\cleaned_skullstrip\\sub-392\\anat\\sub-392_T1w_skullstripped.nii.gz, ROI Data Shape: (1, 116)\n"
     ]
    },
    {
     "name": "stderr",
     "output_type": "stream",
     "text": [
      "c:\\Users\\ishsh\\OneDrive\\Desktop\\QML_Project\\venv4qml\\Lib\\site-packages\\nilearn\\maskers\\nifti_labels_masker.py:888: UserWarning: After resampling the label image to the data image, the following labels were removed: {5102}. Label image only contains 116 labels (including background).\n",
      "  warnings.warn(\n"
     ]
    },
    {
     "name": "stdout",
     "output_type": "stream",
     "text": [
      "(Reference MRI-Only) Subject: sub-393, MRI Path: C:\\Users\\ishsh\\OneDrive\\Desktop\\QML_Project\\data\\processed\\mri\\derivatives\\cleaned_skullstrip\\sub-393\\anat\\sub-393_T1w_skullstripped.nii.gz, ROI Data Shape: (1, 115)\n"
     ]
    },
    {
     "name": "stderr",
     "output_type": "stream",
     "text": [
      "c:\\Users\\ishsh\\OneDrive\\Desktop\\QML_Project\\venv4qml\\Lib\\site-packages\\nilearn\\maskers\\nifti_labels_masker.py:888: UserWarning: After resampling the label image to the data image, the following labels were removed: {5101, 5102}. Label image only contains 115 labels (including background).\n",
      "  warnings.warn(\n"
     ]
    },
    {
     "name": "stdout",
     "output_type": "stream",
     "text": [
      "(Reference MRI-Only) Subject: sub-394, MRI Path: C:\\Users\\ishsh\\OneDrive\\Desktop\\QML_Project\\data\\processed\\mri\\derivatives\\cleaned_skullstrip\\sub-394\\anat\\sub-394_T1w_skullstripped.nii.gz, ROI Data Shape: (1, 114)\n",
      "(Reference MRI-Only) Subject: sub-395, MRI Path: C:\\Users\\ishsh\\OneDrive\\Desktop\\QML_Project\\data\\processed\\mri\\derivatives\\cleaned_skullstrip\\sub-395\\anat\\sub-395_T1w_skullstripped.nii.gz, ROI Data Shape: (1, 116)\n"
     ]
    },
    {
     "name": "stderr",
     "output_type": "stream",
     "text": [
      "c:\\Users\\ishsh\\OneDrive\\Desktop\\QML_Project\\venv4qml\\Lib\\site-packages\\nilearn\\maskers\\nifti_labels_masker.py:888: UserWarning: After resampling the label image to the data image, the following labels were removed: {5101, 6101, 5102}. Label image only contains 114 labels (including background).\n",
      "  warnings.warn(\n"
     ]
    },
    {
     "name": "stdout",
     "output_type": "stream",
     "text": [
      "(Reference MRI-Only) Subject: sub-396, MRI Path: C:\\Users\\ishsh\\OneDrive\\Desktop\\QML_Project\\data\\processed\\mri\\derivatives\\cleaned_skullstrip\\sub-396\\anat\\sub-396_T1w_skullstripped.nii.gz, ROI Data Shape: (1, 113)\n",
      "(Reference MRI-Only) Subject: sub-397, MRI Path: C:\\Users\\ishsh\\OneDrive\\Desktop\\QML_Project\\data\\processed\\mri\\derivatives\\cleaned_skullstrip\\sub-397\\anat\\sub-397_T1w_skullstripped.nii.gz, ROI Data Shape: (1, 116)\n",
      "(Reference MRI-Only) Subject: sub-399, MRI Path: C:\\Users\\ishsh\\OneDrive\\Desktop\\QML_Project\\data\\processed\\mri\\derivatives\\cleaned_skullstrip\\sub-399\\anat\\sub-399_T1w_skullstripped.nii.gz, ROI Data Shape: (1, 116)\n"
     ]
    },
    {
     "name": "stderr",
     "output_type": "stream",
     "text": [
      "c:\\Users\\ishsh\\OneDrive\\Desktop\\QML_Project\\venv4qml\\Lib\\site-packages\\nilearn\\maskers\\nifti_labels_masker.py:888: UserWarning: After resampling the label image to the data image, the following labels were removed: {5102}. Label image only contains 116 labels (including background).\n",
      "  warnings.warn(\n"
     ]
    },
    {
     "name": "stdout",
     "output_type": "stream",
     "text": [
      "(Reference MRI-Only) Subject: sub-4, MRI Path: C:\\Users\\ishsh\\OneDrive\\Desktop\\QML_Project\\data\\processed\\mri\\derivatives\\cleaned_skullstrip\\sub-4\\anat\\sub-4_T1w_skullstripped.nii.gz, ROI Data Shape: (1, 115)\n",
      "(Reference MRI-Only) Subject: sub-40, MRI Path: C:\\Users\\ishsh\\OneDrive\\Desktop\\QML_Project\\data\\processed\\mri\\derivatives\\cleaned_skullstrip\\sub-40\\anat\\sub-40_T1w_skullstripped.nii.gz, ROI Data Shape: (1, 116)\n",
      "(Reference MRI-Only) Subject: sub-400, MRI Path: C:\\Users\\ishsh\\OneDrive\\Desktop\\QML_Project\\data\\processed\\mri\\derivatives\\cleaned_skullstrip\\sub-400\\anat\\sub-400_T1w_skullstripped.nii.gz, ROI Data Shape: (1, 116)\n",
      "(Reference MRI-Only) Subject: sub-4001, MRI Path: C:\\Users\\ishsh\\OneDrive\\Desktop\\QML_Project\\data\\processed\\mri\\derivatives\\cleaned_skullstrip\\sub-4001\\anat\\sub-4001_T1w_skullstripped.nii.gz, ROI Data Shape: (1, 116)\n"
     ]
    },
    {
     "name": "stderr",
     "output_type": "stream",
     "text": [
      "c:\\Users\\ishsh\\OneDrive\\Desktop\\QML_Project\\venv4qml\\Lib\\site-packages\\nilearn\\maskers\\nifti_labels_masker.py:888: UserWarning: After resampling the label image to the data image, the following labels were removed: {5101, 5102}. Label image only contains 115 labels (including background).\n",
      "  warnings.warn(\n"
     ]
    },
    {
     "name": "stdout",
     "output_type": "stream",
     "text": [
      "(Reference MRI-Only) Subject: sub-4002, MRI Path: C:\\Users\\ishsh\\OneDrive\\Desktop\\QML_Project\\data\\processed\\mri\\derivatives\\cleaned_skullstrip\\sub-4002\\anat\\sub-4002_T1w_skullstripped.nii.gz, ROI Data Shape: (1, 114)\n",
      "(Reference MRI-Only) Subject: sub-4003, MRI Path: C:\\Users\\ishsh\\OneDrive\\Desktop\\QML_Project\\data\\processed\\mri\\derivatives\\cleaned_skullstrip\\sub-4003\\anat\\sub-4003_T1w_skullstripped.nii.gz, ROI Data Shape: (1, 116)\n",
      "(Reference MRI-Only) Subject: sub-4004, MRI Path: C:\\Users\\ishsh\\OneDrive\\Desktop\\QML_Project\\data\\processed\\mri\\derivatives\\cleaned_skullstrip\\sub-4004\\anat\\sub-4004_T1w_skullstripped.nii.gz, ROI Data Shape: (1, 116)\n",
      "(Reference MRI-Only) Subject: sub-4005, MRI Path: C:\\Users\\ishsh\\OneDrive\\Desktop\\QML_Project\\data\\processed\\mri\\derivatives\\cleaned_skullstrip\\sub-4005\\anat\\sub-4005_T1w_skullstripped.nii.gz, ROI Data Shape: (1, 116)\n",
      "(Reference MRI-Only) Subject: sub-4006, MRI Path: C:\\Users\\ishsh\\OneDrive\\Desktop\\QML_Project\\data\\processed\\mri\\derivatives\\cleaned_skullstrip\\sub-4006\\anat\\sub-4006_T1w_skullstripped.nii.gz, ROI Data Shape: (1, 116)\n",
      "(Reference MRI-Only) Subject: sub-4007, MRI Path: C:\\Users\\ishsh\\OneDrive\\Desktop\\QML_Project\\data\\processed\\mri\\derivatives\\cleaned_skullstrip\\sub-4007\\anat\\sub-4007_T1w_skullstripped.nii.gz, ROI Data Shape: (1, 116)\n",
      "(Reference MRI-Only) Subject: sub-4008, MRI Path: C:\\Users\\ishsh\\OneDrive\\Desktop\\QML_Project\\data\\processed\\mri\\derivatives\\cleaned_skullstrip\\sub-4008\\anat\\sub-4008_T1w_skullstripped.nii.gz, ROI Data Shape: (1, 116)\n",
      "(Reference MRI-Only) Subject: sub-4009, MRI Path: C:\\Users\\ishsh\\OneDrive\\Desktop\\QML_Project\\data\\processed\\mri\\derivatives\\cleaned_skullstrip\\sub-4009\\anat\\sub-4009_T1w_skullstripped.nii.gz, ROI Data Shape: (1, 116)\n"
     ]
    },
    {
     "name": "stderr",
     "output_type": "stream",
     "text": [
      "c:\\Users\\ishsh\\OneDrive\\Desktop\\QML_Project\\venv4qml\\Lib\\site-packages\\nilearn\\maskers\\nifti_labels_masker.py:888: UserWarning: After resampling the label image to the data image, the following labels were removed: {5101, 5102}. Label image only contains 115 labels (including background).\n",
      "  warnings.warn(\n"
     ]
    },
    {
     "name": "stdout",
     "output_type": "stream",
     "text": [
      "(Reference MRI-Only) Subject: sub-401, MRI Path: C:\\Users\\ishsh\\OneDrive\\Desktop\\QML_Project\\data\\processed\\mri\\derivatives\\cleaned_skullstrip\\sub-401\\anat\\sub-401_T1w_skullstripped.nii.gz, ROI Data Shape: (1, 114)\n",
      "(Reference MRI-Only) Subject: sub-4010, MRI Path: C:\\Users\\ishsh\\OneDrive\\Desktop\\QML_Project\\data\\processed\\mri\\derivatives\\cleaned_skullstrip\\sub-4010\\anat\\sub-4010_T1w_skullstripped.nii.gz, ROI Data Shape: (1, 116)\n",
      "(Reference MRI-Only) Subject: sub-4011, MRI Path: C:\\Users\\ishsh\\OneDrive\\Desktop\\QML_Project\\data\\processed\\mri\\derivatives\\cleaned_skullstrip\\sub-4011\\anat\\sub-4011_T1w_skullstripped.nii.gz, ROI Data Shape: (1, 116)\n",
      "(Reference MRI-Only) Subject: sub-4012, MRI Path: C:\\Users\\ishsh\\OneDrive\\Desktop\\QML_Project\\data\\processed\\mri\\derivatives\\cleaned_skullstrip\\sub-4012\\anat\\sub-4012_T1w_skullstripped.nii.gz, ROI Data Shape: (1, 116)\n",
      "(Reference MRI-Only) Subject: sub-4013, MRI Path: C:\\Users\\ishsh\\OneDrive\\Desktop\\QML_Project\\data\\processed\\mri\\derivatives\\cleaned_skullstrip\\sub-4013\\anat\\sub-4013_T1w_skullstripped.nii.gz, ROI Data Shape: (1, 116)\n",
      "(Reference MRI-Only) Subject: sub-4014, MRI Path: C:\\Users\\ishsh\\OneDrive\\Desktop\\QML_Project\\data\\processed\\mri\\derivatives\\cleaned_skullstrip\\sub-4014\\anat\\sub-4014_T1w_skullstripped.nii.gz, ROI Data Shape: (1, 116)\n",
      "(Reference MRI-Only) Subject: sub-4015, MRI Path: C:\\Users\\ishsh\\OneDrive\\Desktop\\QML_Project\\data\\processed\\mri\\derivatives\\cleaned_skullstrip\\sub-4015\\anat\\sub-4015_T1w_skullstripped.nii.gz, ROI Data Shape: (1, 116)\n"
     ]
    },
    {
     "name": "stderr",
     "output_type": "stream",
     "text": [
      "c:\\Users\\ishsh\\OneDrive\\Desktop\\QML_Project\\venv4qml\\Lib\\site-packages\\nilearn\\maskers\\nifti_labels_masker.py:888: UserWarning: After resampling the label image to the data image, the following labels were removed: {5101, 6101, 5102}. Label image only contains 114 labels (including background).\n",
      "  warnings.warn(\n"
     ]
    },
    {
     "name": "stdout",
     "output_type": "stream",
     "text": [
      "(Reference MRI-Only) Subject: sub-4016, MRI Path: C:\\Users\\ishsh\\OneDrive\\Desktop\\QML_Project\\data\\processed\\mri\\derivatives\\cleaned_skullstrip\\sub-4016\\anat\\sub-4016_T1w_skullstripped.nii.gz, ROI Data Shape: (1, 113)\n",
      "(Reference MRI-Only) Subject: sub-4017, MRI Path: C:\\Users\\ishsh\\OneDrive\\Desktop\\QML_Project\\data\\processed\\mri\\derivatives\\cleaned_skullstrip\\sub-4017\\anat\\sub-4017_T1w_skullstripped.nii.gz, ROI Data Shape: (1, 116)\n",
      "(Reference MRI-Only) Subject: sub-4018, MRI Path: C:\\Users\\ishsh\\OneDrive\\Desktop\\QML_Project\\data\\processed\\mri\\derivatives\\cleaned_skullstrip\\sub-4018\\anat\\sub-4018_T1w_skullstripped.nii.gz, ROI Data Shape: (1, 116)\n",
      "(Reference MRI-Only) Subject: sub-4019, MRI Path: C:\\Users\\ishsh\\OneDrive\\Desktop\\QML_Project\\data\\processed\\mri\\derivatives\\cleaned_skullstrip\\sub-4019\\anat\\sub-4019_T1w_skullstripped.nii.gz, ROI Data Shape: (1, 116)\n",
      "(Reference MRI-Only) Subject: sub-402, MRI Path: C:\\Users\\ishsh\\OneDrive\\Desktop\\QML_Project\\data\\processed\\mri\\derivatives\\cleaned_skullstrip\\sub-402\\anat\\sub-402_T1w_skullstripped.nii.gz, ROI Data Shape: (1, 116)\n",
      "(Reference MRI-Only) Subject: sub-4020, MRI Path: C:\\Users\\ishsh\\OneDrive\\Desktop\\QML_Project\\data\\processed\\mri\\derivatives\\cleaned_skullstrip\\sub-4020\\anat\\sub-4020_T1w_skullstripped.nii.gz, ROI Data Shape: (1, 116)\n",
      "(Reference MRI-Only) Subject: sub-4021, MRI Path: C:\\Users\\ishsh\\OneDrive\\Desktop\\QML_Project\\data\\processed\\mri\\derivatives\\cleaned_skullstrip\\sub-4021\\anat\\sub-4021_T1w_skullstripped.nii.gz, ROI Data Shape: (1, 116)\n",
      "(Reference MRI-Only) Subject: sub-4022, MRI Path: C:\\Users\\ishsh\\OneDrive\\Desktop\\QML_Project\\data\\processed\\mri\\derivatives\\cleaned_skullstrip\\sub-4022\\anat\\sub-4022_T1w_skullstripped.nii.gz, ROI Data Shape: (1, 116)\n",
      "(Reference MRI-Only) Subject: sub-4023, MRI Path: C:\\Users\\ishsh\\OneDrive\\Desktop\\QML_Project\\data\\processed\\mri\\derivatives\\cleaned_skullstrip\\sub-4023\\anat\\sub-4023_T1w_skullstripped.nii.gz, ROI Data Shape: (1, 116)\n",
      "(Reference MRI-Only) Subject: sub-4024, MRI Path: C:\\Users\\ishsh\\OneDrive\\Desktop\\QML_Project\\data\\processed\\mri\\derivatives\\cleaned_skullstrip\\sub-4024\\anat\\sub-4024_T1w_skullstripped.nii.gz, ROI Data Shape: (1, 116)\n",
      "(Reference MRI-Only) Subject: sub-4025, MRI Path: C:\\Users\\ishsh\\OneDrive\\Desktop\\QML_Project\\data\\processed\\mri\\derivatives\\cleaned_skullstrip\\sub-4025\\anat\\sub-4025_T1w_skullstripped.nii.gz, ROI Data Shape: (1, 116)\n",
      "(Reference MRI-Only) Subject: sub-4026, MRI Path: C:\\Users\\ishsh\\OneDrive\\Desktop\\QML_Project\\data\\processed\\mri\\derivatives\\cleaned_skullstrip\\sub-4026\\anat\\sub-4026_T1w_skullstripped.nii.gz, ROI Data Shape: (1, 116)\n",
      "(Reference MRI-Only) Subject: sub-4027, MRI Path: C:\\Users\\ishsh\\OneDrive\\Desktop\\QML_Project\\data\\processed\\mri\\derivatives\\cleaned_skullstrip\\sub-4027\\anat\\sub-4027_T1w_skullstripped.nii.gz, ROI Data Shape: (1, 116)\n",
      "(Reference MRI-Only) Subject: sub-4028, MRI Path: C:\\Users\\ishsh\\OneDrive\\Desktop\\QML_Project\\data\\processed\\mri\\derivatives\\cleaned_skullstrip\\sub-4028\\anat\\sub-4028_T1w_skullstripped.nii.gz, ROI Data Shape: (1, 116)\n",
      "(Reference MRI-Only) Subject: sub-4029, MRI Path: C:\\Users\\ishsh\\OneDrive\\Desktop\\QML_Project\\data\\processed\\mri\\derivatives\\cleaned_skullstrip\\sub-4029\\anat\\sub-4029_T1w_skullstripped.nii.gz, ROI Data Shape: (1, 116)\n",
      "(Reference MRI-Only) Subject: sub-403, MRI Path: C:\\Users\\ishsh\\OneDrive\\Desktop\\QML_Project\\data\\processed\\mri\\derivatives\\cleaned_skullstrip\\sub-403\\anat\\sub-403_T1w_skullstripped.nii.gz, ROI Data Shape: (1, 116)\n",
      "(Reference MRI-Only) Subject: sub-4030, MRI Path: C:\\Users\\ishsh\\OneDrive\\Desktop\\QML_Project\\data\\processed\\mri\\derivatives\\cleaned_skullstrip\\sub-4030\\anat\\sub-4030_T1w_skullstripped.nii.gz, ROI Data Shape: (1, 116)\n"
     ]
    },
    {
     "name": "stderr",
     "output_type": "stream",
     "text": [
      "c:\\Users\\ishsh\\OneDrive\\Desktop\\QML_Project\\venv4qml\\Lib\\site-packages\\nilearn\\maskers\\nifti_labels_masker.py:888: UserWarning: After resampling the label image to the data image, the following labels were removed: {5202, 5101, 5102}. Label image only contains 114 labels (including background).\n",
      "  warnings.warn(\n"
     ]
    },
    {
     "name": "stdout",
     "output_type": "stream",
     "text": [
      "(Reference MRI-Only) Subject: sub-4031, MRI Path: C:\\Users\\ishsh\\OneDrive\\Desktop\\QML_Project\\data\\processed\\mri\\derivatives\\cleaned_skullstrip\\sub-4031\\anat\\sub-4031_T1w_skullstripped.nii.gz, ROI Data Shape: (1, 113)\n"
     ]
    },
    {
     "name": "stderr",
     "output_type": "stream",
     "text": [
      "c:\\Users\\ishsh\\OneDrive\\Desktop\\QML_Project\\venv4qml\\Lib\\site-packages\\nilearn\\maskers\\nifti_labels_masker.py:888: UserWarning: After resampling the label image to the data image, the following labels were removed: {5101, 6221, 5102, 5201, 5011}. Label image only contains 112 labels (including background).\n",
      "  warnings.warn(\n"
     ]
    },
    {
     "name": "stdout",
     "output_type": "stream",
     "text": [
      "(Reference MRI-Only) Subject: sub-4032, MRI Path: C:\\Users\\ishsh\\OneDrive\\Desktop\\QML_Project\\data\\processed\\mri\\derivatives\\cleaned_skullstrip\\sub-4032\\anat\\sub-4032_T1w_skullstripped.nii.gz, ROI Data Shape: (1, 111)\n",
      "(Reference MRI-Only) Subject: sub-4033, MRI Path: C:\\Users\\ishsh\\OneDrive\\Desktop\\QML_Project\\data\\processed\\mri\\derivatives\\cleaned_skullstrip\\sub-4033\\anat\\sub-4033_T1w_skullstripped.nii.gz, ROI Data Shape: (1, 116)\n",
      "(Reference MRI-Only) Subject: sub-4034, MRI Path: C:\\Users\\ishsh\\OneDrive\\Desktop\\QML_Project\\data\\processed\\mri\\derivatives\\cleaned_skullstrip\\sub-4034\\anat\\sub-4034_T1w_skullstripped.nii.gz, ROI Data Shape: (1, 116)\n",
      "(Reference MRI-Only) Subject: sub-4035, MRI Path: C:\\Users\\ishsh\\OneDrive\\Desktop\\QML_Project\\data\\processed\\mri\\derivatives\\cleaned_skullstrip\\sub-4035\\anat\\sub-4035_T1w_skullstripped.nii.gz, ROI Data Shape: (1, 116)\n"
     ]
    },
    {
     "name": "stderr",
     "output_type": "stream",
     "text": [
      "c:\\Users\\ishsh\\OneDrive\\Desktop\\QML_Project\\venv4qml\\Lib\\site-packages\\nilearn\\maskers\\nifti_labels_masker.py:888: UserWarning: After resampling the label image to the data image, the following labels were removed: {5101, 5102}. Label image only contains 115 labels (including background).\n",
      "  warnings.warn(\n"
     ]
    },
    {
     "name": "stdout",
     "output_type": "stream",
     "text": [
      "(Reference MRI-Only) Subject: sub-4036, MRI Path: C:\\Users\\ishsh\\OneDrive\\Desktop\\QML_Project\\data\\processed\\mri\\derivatives\\cleaned_skullstrip\\sub-4036\\anat\\sub-4036_T1w_skullstripped.nii.gz, ROI Data Shape: (1, 114)\n",
      "(Reference MRI-Only) Subject: sub-4037, MRI Path: C:\\Users\\ishsh\\OneDrive\\Desktop\\QML_Project\\data\\processed\\mri\\derivatives\\cleaned_skullstrip\\sub-4037\\anat\\sub-4037_T1w_skullstripped.nii.gz, ROI Data Shape: (1, 116)\n",
      "(Reference MRI-Only) Subject: sub-4038, MRI Path: C:\\Users\\ishsh\\OneDrive\\Desktop\\QML_Project\\data\\processed\\mri\\derivatives\\cleaned_skullstrip\\sub-4038\\anat\\sub-4038_T1w_skullstripped.nii.gz, ROI Data Shape: (1, 116)\n"
     ]
    },
    {
     "name": "stderr",
     "output_type": "stream",
     "text": [
      "c:\\Users\\ishsh\\OneDrive\\Desktop\\QML_Project\\venv4qml\\Lib\\site-packages\\nilearn\\maskers\\nifti_labels_masker.py:888: UserWarning: After resampling the label image to the data image, the following labels were removed: {5101, 6101, 5102}. Label image only contains 114 labels (including background).\n",
      "  warnings.warn(\n"
     ]
    },
    {
     "name": "stdout",
     "output_type": "stream",
     "text": [
      "(Reference MRI-Only) Subject: sub-4039, MRI Path: C:\\Users\\ishsh\\OneDrive\\Desktop\\QML_Project\\data\\processed\\mri\\derivatives\\cleaned_skullstrip\\sub-4039\\anat\\sub-4039_T1w_skullstripped.nii.gz, ROI Data Shape: (1, 113)\n",
      "(Reference MRI-Only) Subject: sub-404, MRI Path: C:\\Users\\ishsh\\OneDrive\\Desktop\\QML_Project\\data\\processed\\mri\\derivatives\\cleaned_skullstrip\\sub-404\\anat\\sub-404_T1w_skullstripped.nii.gz, ROI Data Shape: (1, 116)\n",
      "(Reference MRI-Only) Subject: sub-4040, MRI Path: C:\\Users\\ishsh\\OneDrive\\Desktop\\QML_Project\\data\\processed\\mri\\derivatives\\cleaned_skullstrip\\sub-4040\\anat\\sub-4040_T1w_skullstripped.nii.gz, ROI Data Shape: (1, 116)\n",
      "(Reference MRI-Only) Subject: sub-4041, MRI Path: C:\\Users\\ishsh\\OneDrive\\Desktop\\QML_Project\\data\\processed\\mri\\derivatives\\cleaned_skullstrip\\sub-4041\\anat\\sub-4041_T1w_skullstripped.nii.gz, ROI Data Shape: (1, 116)\n",
      "(Reference MRI-Only) Subject: sub-4042, MRI Path: C:\\Users\\ishsh\\OneDrive\\Desktop\\QML_Project\\data\\processed\\mri\\derivatives\\cleaned_skullstrip\\sub-4042\\anat\\sub-4042_T1w_skullstripped.nii.gz, ROI Data Shape: (1, 116)\n",
      "(Reference MRI-Only) Subject: sub-4043, MRI Path: C:\\Users\\ishsh\\OneDrive\\Desktop\\QML_Project\\data\\processed\\mri\\derivatives\\cleaned_skullstrip\\sub-4043\\anat\\sub-4043_T1w_skullstripped.nii.gz, ROI Data Shape: (1, 116)\n"
     ]
    },
    {
     "name": "stderr",
     "output_type": "stream",
     "text": [
      "c:\\Users\\ishsh\\OneDrive\\Desktop\\QML_Project\\venv4qml\\Lib\\site-packages\\nilearn\\maskers\\nifti_labels_masker.py:888: UserWarning: After resampling the label image to the data image, the following labels were removed: {5101, 5102}. Label image only contains 115 labels (including background).\n",
      "  warnings.warn(\n"
     ]
    },
    {
     "name": "stdout",
     "output_type": "stream",
     "text": [
      "(Reference MRI-Only) Subject: sub-4044, MRI Path: C:\\Users\\ishsh\\OneDrive\\Desktop\\QML_Project\\data\\processed\\mri\\derivatives\\cleaned_skullstrip\\sub-4044\\anat\\sub-4044_T1w_skullstripped.nii.gz, ROI Data Shape: (1, 114)\n",
      "(Reference MRI-Only) Subject: sub-4045, MRI Path: C:\\Users\\ishsh\\OneDrive\\Desktop\\QML_Project\\data\\processed\\mri\\derivatives\\cleaned_skullstrip\\sub-4045\\anat\\sub-4045_T1w_skullstripped.nii.gz, ROI Data Shape: (1, 116)\n",
      "(Reference MRI-Only) Subject: sub-4046, MRI Path: C:\\Users\\ishsh\\OneDrive\\Desktop\\QML_Project\\data\\processed\\mri\\derivatives\\cleaned_skullstrip\\sub-4046\\anat\\sub-4046_T1w_skullstripped.nii.gz, ROI Data Shape: (1, 116)\n",
      "(Reference MRI-Only) Subject: sub-4047, MRI Path: C:\\Users\\ishsh\\OneDrive\\Desktop\\QML_Project\\data\\processed\\mri\\derivatives\\cleaned_skullstrip\\sub-4047\\anat\\sub-4047_T1w_skullstripped.nii.gz, ROI Data Shape: (1, 116)\n",
      "(Reference MRI-Only) Subject: sub-4048, MRI Path: C:\\Users\\ishsh\\OneDrive\\Desktop\\QML_Project\\data\\processed\\mri\\derivatives\\cleaned_skullstrip\\sub-4048\\anat\\sub-4048_T1w_skullstripped.nii.gz, ROI Data Shape: (1, 116)\n",
      "(Reference MRI-Only) Subject: sub-4049, MRI Path: C:\\Users\\ishsh\\OneDrive\\Desktop\\QML_Project\\data\\processed\\mri\\derivatives\\cleaned_skullstrip\\sub-4049\\anat\\sub-4049_T1w_skullstripped.nii.gz, ROI Data Shape: (1, 116)\n",
      "(Reference MRI-Only) Subject: sub-405, MRI Path: C:\\Users\\ishsh\\OneDrive\\Desktop\\QML_Project\\data\\processed\\mri\\derivatives\\cleaned_skullstrip\\sub-405\\anat\\sub-405_T1w_skullstripped.nii.gz, ROI Data Shape: (1, 116)\n",
      "(Reference MRI-Only) Subject: sub-4050, MRI Path: C:\\Users\\ishsh\\OneDrive\\Desktop\\QML_Project\\data\\processed\\mri\\derivatives\\cleaned_skullstrip\\sub-4050\\anat\\sub-4050_T1w_skullstripped.nii.gz, ROI Data Shape: (1, 116)\n",
      "(Reference MRI-Only) Subject: sub-4051, MRI Path: C:\\Users\\ishsh\\OneDrive\\Desktop\\QML_Project\\data\\processed\\mri\\derivatives\\cleaned_skullstrip\\sub-4051\\anat\\sub-4051_T1w_skullstripped.nii.gz, ROI Data Shape: (1, 116)\n",
      "(Reference MRI-Only) Subject: sub-4052, MRI Path: C:\\Users\\ishsh\\OneDrive\\Desktop\\QML_Project\\data\\processed\\mri\\derivatives\\cleaned_skullstrip\\sub-4052\\anat\\sub-4052_T1w_skullstripped.nii.gz, ROI Data Shape: (1, 116)\n",
      "(Reference MRI-Only) Subject: sub-4053, MRI Path: C:\\Users\\ishsh\\OneDrive\\Desktop\\QML_Project\\data\\processed\\mri\\derivatives\\cleaned_skullstrip\\sub-4053\\anat\\sub-4053_T1w_skullstripped.nii.gz, ROI Data Shape: (1, 116)\n"
     ]
    },
    {
     "name": "stderr",
     "output_type": "stream",
     "text": [
      "c:\\Users\\ishsh\\OneDrive\\Desktop\\QML_Project\\venv4qml\\Lib\\site-packages\\nilearn\\maskers\\nifti_labels_masker.py:888: UserWarning: After resampling the label image to the data image, the following labels were removed: {5101, 5102}. Label image only contains 115 labels (including background).\n",
      "  warnings.warn(\n"
     ]
    },
    {
     "name": "stdout",
     "output_type": "stream",
     "text": [
      "(Reference MRI-Only) Subject: sub-4054, MRI Path: C:\\Users\\ishsh\\OneDrive\\Desktop\\QML_Project\\data\\processed\\mri\\derivatives\\cleaned_skullstrip\\sub-4054\\anat\\sub-4054_T1w_skullstripped.nii.gz, ROI Data Shape: (1, 114)\n",
      "(Reference MRI-Only) Subject: sub-4055, MRI Path: C:\\Users\\ishsh\\OneDrive\\Desktop\\QML_Project\\data\\processed\\mri\\derivatives\\cleaned_skullstrip\\sub-4055\\anat\\sub-4055_T1w_skullstripped.nii.gz, ROI Data Shape: (1, 116)\n"
     ]
    },
    {
     "name": "stderr",
     "output_type": "stream",
     "text": [
      "c:\\Users\\ishsh\\OneDrive\\Desktop\\QML_Project\\venv4qml\\Lib\\site-packages\\nilearn\\maskers\\nifti_labels_masker.py:888: UserWarning: After resampling the label image to the data image, the following labels were removed: {5101}. Label image only contains 116 labels (including background).\n",
      "  warnings.warn(\n"
     ]
    },
    {
     "name": "stdout",
     "output_type": "stream",
     "text": [
      "(Reference MRI-Only) Subject: sub-4056, MRI Path: C:\\Users\\ishsh\\OneDrive\\Desktop\\QML_Project\\data\\processed\\mri\\derivatives\\cleaned_skullstrip\\sub-4056\\anat\\sub-4056_T1w_skullstripped.nii.gz, ROI Data Shape: (1, 115)\n",
      "(Reference MRI-Only) Subject: sub-4057, MRI Path: C:\\Users\\ishsh\\OneDrive\\Desktop\\QML_Project\\data\\processed\\mri\\derivatives\\cleaned_skullstrip\\sub-4057\\anat\\sub-4057_T1w_skullstripped.nii.gz, ROI Data Shape: (1, 116)\n",
      "(Reference MRI-Only) Subject: sub-4058, MRI Path: C:\\Users\\ishsh\\OneDrive\\Desktop\\QML_Project\\data\\processed\\mri\\derivatives\\cleaned_skullstrip\\sub-4058\\anat\\sub-4058_T1w_skullstripped.nii.gz, ROI Data Shape: (1, 116)\n",
      "(Reference MRI-Only) Subject: sub-4059, MRI Path: C:\\Users\\ishsh\\OneDrive\\Desktop\\QML_Project\\data\\processed\\mri\\derivatives\\cleaned_skullstrip\\sub-4059\\anat\\sub-4059_T1w_skullstripped.nii.gz, ROI Data Shape: (1, 116)\n",
      "(Reference MRI-Only) Subject: sub-406, MRI Path: C:\\Users\\ishsh\\OneDrive\\Desktop\\QML_Project\\data\\processed\\mri\\derivatives\\cleaned_skullstrip\\sub-406\\anat\\sub-406_T1w_skullstripped.nii.gz, ROI Data Shape: (1, 116)\n",
      "(Reference MRI-Only) Subject: sub-4060, MRI Path: C:\\Users\\ishsh\\OneDrive\\Desktop\\QML_Project\\data\\processed\\mri\\derivatives\\cleaned_skullstrip\\sub-4060\\anat\\sub-4060_T1w_skullstripped.nii.gz, ROI Data Shape: (1, 116)\n",
      "(Reference MRI-Only) Subject: sub-4061, MRI Path: C:\\Users\\ishsh\\OneDrive\\Desktop\\QML_Project\\data\\processed\\mri\\derivatives\\cleaned_skullstrip\\sub-4061\\anat\\sub-4061_T1w_skullstripped.nii.gz, ROI Data Shape: (1, 116)\n",
      "(Reference MRI-Only) Subject: sub-4062, MRI Path: C:\\Users\\ishsh\\OneDrive\\Desktop\\QML_Project\\data\\processed\\mri\\derivatives\\cleaned_skullstrip\\sub-4062\\anat\\sub-4062_T1w_skullstripped.nii.gz, ROI Data Shape: (1, 116)\n",
      "(Reference MRI-Only) Subject: sub-4063, MRI Path: C:\\Users\\ishsh\\OneDrive\\Desktop\\QML_Project\\data\\processed\\mri\\derivatives\\cleaned_skullstrip\\sub-4063\\anat\\sub-4063_T1w_skullstripped.nii.gz, ROI Data Shape: (1, 116)\n",
      "(Reference MRI-Only) Subject: sub-4064, MRI Path: C:\\Users\\ishsh\\OneDrive\\Desktop\\QML_Project\\data\\processed\\mri\\derivatives\\cleaned_skullstrip\\sub-4064\\anat\\sub-4064_T1w_skullstripped.nii.gz, ROI Data Shape: (1, 116)\n"
     ]
    },
    {
     "name": "stderr",
     "output_type": "stream",
     "text": [
      "c:\\Users\\ishsh\\OneDrive\\Desktop\\QML_Project\\venv4qml\\Lib\\site-packages\\nilearn\\maskers\\nifti_labels_masker.py:888: UserWarning: After resampling the label image to the data image, the following labels were removed: {5101}. Label image only contains 116 labels (including background).\n",
      "  warnings.warn(\n"
     ]
    },
    {
     "name": "stdout",
     "output_type": "stream",
     "text": [
      "(Reference MRI-Only) Subject: sub-4065, MRI Path: C:\\Users\\ishsh\\OneDrive\\Desktop\\QML_Project\\data\\processed\\mri\\derivatives\\cleaned_skullstrip\\sub-4065\\anat\\sub-4065_T1w_skullstripped.nii.gz, ROI Data Shape: (1, 115)\n",
      "(Reference MRI-Only) Subject: sub-4066, MRI Path: C:\\Users\\ishsh\\OneDrive\\Desktop\\QML_Project\\data\\processed\\mri\\derivatives\\cleaned_skullstrip\\sub-4066\\anat\\sub-4066_T1w_skullstripped.nii.gz, ROI Data Shape: (1, 116)\n",
      "(Reference MRI-Only) Subject: sub-4067, MRI Path: C:\\Users\\ishsh\\OneDrive\\Desktop\\QML_Project\\data\\processed\\mri\\derivatives\\cleaned_skullstrip\\sub-4067\\anat\\sub-4067_T1w_skullstripped.nii.gz, ROI Data Shape: (1, 116)\n",
      "(Reference MRI-Only) Subject: sub-4068, MRI Path: C:\\Users\\ishsh\\OneDrive\\Desktop\\QML_Project\\data\\processed\\mri\\derivatives\\cleaned_skullstrip\\sub-4068\\anat\\sub-4068_T1w_skullstripped.nii.gz, ROI Data Shape: (1, 116)\n"
     ]
    },
    {
     "name": "stderr",
     "output_type": "stream",
     "text": [
      "c:\\Users\\ishsh\\OneDrive\\Desktop\\QML_Project\\venv4qml\\Lib\\site-packages\\nilearn\\maskers\\nifti_labels_masker.py:888: UserWarning: After resampling the label image to the data image, the following labels were removed: {5202, 5101, 5102}. Label image only contains 114 labels (including background).\n",
      "  warnings.warn(\n"
     ]
    },
    {
     "name": "stdout",
     "output_type": "stream",
     "text": [
      "(Reference MRI-Only) Subject: sub-4069, MRI Path: C:\\Users\\ishsh\\OneDrive\\Desktop\\QML_Project\\data\\processed\\mri\\derivatives\\cleaned_skullstrip\\sub-4069\\anat\\sub-4069_T1w_skullstripped.nii.gz, ROI Data Shape: (1, 113)\n"
     ]
    },
    {
     "name": "stderr",
     "output_type": "stream",
     "text": [
      "c:\\Users\\ishsh\\OneDrive\\Desktop\\QML_Project\\venv4qml\\Lib\\site-packages\\nilearn\\maskers\\nifti_labels_masker.py:888: UserWarning: After resampling the label image to the data image, the following labels were removed: {5101, 5102}. Label image only contains 115 labels (including background).\n",
      "  warnings.warn(\n"
     ]
    },
    {
     "name": "stdout",
     "output_type": "stream",
     "text": [
      "(Reference MRI-Only) Subject: sub-407, MRI Path: C:\\Users\\ishsh\\OneDrive\\Desktop\\QML_Project\\data\\processed\\mri\\derivatives\\cleaned_skullstrip\\sub-407\\anat\\sub-407_T1w_skullstripped.nii.gz, ROI Data Shape: (1, 114)\n",
      "(Reference MRI-Only) Subject: sub-4070, MRI Path: C:\\Users\\ishsh\\OneDrive\\Desktop\\QML_Project\\data\\processed\\mri\\derivatives\\cleaned_skullstrip\\sub-4070\\anat\\sub-4070_T1w_skullstripped.nii.gz, ROI Data Shape: (1, 116)\n",
      "(Reference MRI-Only) Subject: sub-4071, MRI Path: C:\\Users\\ishsh\\OneDrive\\Desktop\\QML_Project\\data\\processed\\mri\\derivatives\\cleaned_skullstrip\\sub-4071\\anat\\sub-4071_T1w_skullstripped.nii.gz, ROI Data Shape: (1, 116)\n"
     ]
    },
    {
     "name": "stderr",
     "output_type": "stream",
     "text": [
      "c:\\Users\\ishsh\\OneDrive\\Desktop\\QML_Project\\venv4qml\\Lib\\site-packages\\nilearn\\maskers\\nifti_labels_masker.py:888: UserWarning: After resampling the label image to the data image, the following labels were removed: {5101, 5102}. Label image only contains 115 labels (including background).\n",
      "  warnings.warn(\n"
     ]
    },
    {
     "name": "stdout",
     "output_type": "stream",
     "text": [
      "(Reference MRI-Only) Subject: sub-4072, MRI Path: C:\\Users\\ishsh\\OneDrive\\Desktop\\QML_Project\\data\\processed\\mri\\derivatives\\cleaned_skullstrip\\sub-4072\\anat\\sub-4072_T1w_skullstripped.nii.gz, ROI Data Shape: (1, 114)\n",
      "(Reference MRI-Only) Subject: sub-4073, MRI Path: C:\\Users\\ishsh\\OneDrive\\Desktop\\QML_Project\\data\\processed\\mri\\derivatives\\cleaned_skullstrip\\sub-4073\\anat\\sub-4073_T1w_skullstripped.nii.gz, ROI Data Shape: (1, 116)\n",
      "(Reference MRI-Only) Subject: sub-4074, MRI Path: C:\\Users\\ishsh\\OneDrive\\Desktop\\QML_Project\\data\\processed\\mri\\derivatives\\cleaned_skullstrip\\sub-4074\\anat\\sub-4074_T1w_skullstripped.nii.gz, ROI Data Shape: (1, 116)\n",
      "(Reference MRI-Only) Subject: sub-4075, MRI Path: C:\\Users\\ishsh\\OneDrive\\Desktop\\QML_Project\\data\\processed\\mri\\derivatives\\cleaned_skullstrip\\sub-4075\\anat\\sub-4075_T1w_skullstripped.nii.gz, ROI Data Shape: (1, 116)\n",
      "(Reference MRI-Only) Subject: sub-4076, MRI Path: C:\\Users\\ishsh\\OneDrive\\Desktop\\QML_Project\\data\\processed\\mri\\derivatives\\cleaned_skullstrip\\sub-4076\\anat\\sub-4076_T1w_skullstripped.nii.gz, ROI Data Shape: (1, 116)\n",
      "(Reference MRI-Only) Subject: sub-4077, MRI Path: C:\\Users\\ishsh\\OneDrive\\Desktop\\QML_Project\\data\\processed\\mri\\derivatives\\cleaned_skullstrip\\sub-4077\\anat\\sub-4077_T1w_skullstripped.nii.gz, ROI Data Shape: (1, 116)\n",
      "(Reference MRI-Only) Subject: sub-4078, MRI Path: C:\\Users\\ishsh\\OneDrive\\Desktop\\QML_Project\\data\\processed\\mri\\derivatives\\cleaned_skullstrip\\sub-4078\\anat\\sub-4078_T1w_skullstripped.nii.gz, ROI Data Shape: (1, 116)\n",
      "(Reference MRI-Only) Subject: sub-4079, MRI Path: C:\\Users\\ishsh\\OneDrive\\Desktop\\QML_Project\\data\\processed\\mri\\derivatives\\cleaned_skullstrip\\sub-4079\\anat\\sub-4079_T1w_skullstripped.nii.gz, ROI Data Shape: (1, 116)\n",
      "(Reference MRI-Only) Subject: sub-408, MRI Path: C:\\Users\\ishsh\\OneDrive\\Desktop\\QML_Project\\data\\processed\\mri\\derivatives\\cleaned_skullstrip\\sub-408\\anat\\sub-408_T1w_skullstripped.nii.gz, ROI Data Shape: (1, 116)\n",
      "(Reference MRI-Only) Subject: sub-4080, MRI Path: C:\\Users\\ishsh\\OneDrive\\Desktop\\QML_Project\\data\\processed\\mri\\derivatives\\cleaned_skullstrip\\sub-4080\\anat\\sub-4080_T1w_skullstripped.nii.gz, ROI Data Shape: (1, 116)\n",
      "(Reference MRI-Only) Subject: sub-4081, MRI Path: C:\\Users\\ishsh\\OneDrive\\Desktop\\QML_Project\\data\\processed\\mri\\derivatives\\cleaned_skullstrip\\sub-4081\\anat\\sub-4081_T1w_skullstripped.nii.gz, ROI Data Shape: (1, 116)\n",
      "(Reference MRI-Only) Subject: sub-4082, MRI Path: C:\\Users\\ishsh\\OneDrive\\Desktop\\QML_Project\\data\\processed\\mri\\derivatives\\cleaned_skullstrip\\sub-4082\\anat\\sub-4082_T1w_skullstripped.nii.gz, ROI Data Shape: (1, 116)\n",
      "(Reference MRI-Only) Subject: sub-4083, MRI Path: C:\\Users\\ishsh\\OneDrive\\Desktop\\QML_Project\\data\\processed\\mri\\derivatives\\cleaned_skullstrip\\sub-4083\\anat\\sub-4083_T1w_skullstripped.nii.gz, ROI Data Shape: (1, 116)\n",
      "(Reference MRI-Only) Subject: sub-4084, MRI Path: C:\\Users\\ishsh\\OneDrive\\Desktop\\QML_Project\\data\\processed\\mri\\derivatives\\cleaned_skullstrip\\sub-4084\\anat\\sub-4084_T1w_skullstripped.nii.gz, ROI Data Shape: (1, 116)\n",
      "(Reference MRI-Only) Subject: sub-4085, MRI Path: C:\\Users\\ishsh\\OneDrive\\Desktop\\QML_Project\\data\\processed\\mri\\derivatives\\cleaned_skullstrip\\sub-4085\\anat\\sub-4085_T1w_skullstripped.nii.gz, ROI Data Shape: (1, 116)\n"
     ]
    },
    {
     "name": "stderr",
     "output_type": "stream",
     "text": [
      "c:\\Users\\ishsh\\OneDrive\\Desktop\\QML_Project\\venv4qml\\Lib\\site-packages\\nilearn\\maskers\\nifti_labels_masker.py:888: UserWarning: After resampling the label image to the data image, the following labels were removed: {5101, 5102, 5201, 5202, 5011}. Label image only contains 112 labels (including background).\n",
      "  warnings.warn(\n"
     ]
    },
    {
     "name": "stdout",
     "output_type": "stream",
     "text": [
      "(Reference MRI-Only) Subject: sub-4086, MRI Path: C:\\Users\\ishsh\\OneDrive\\Desktop\\QML_Project\\data\\processed\\mri\\derivatives\\cleaned_skullstrip\\sub-4086\\anat\\sub-4086_T1w_skullstripped.nii.gz, ROI Data Shape: (1, 111)\n",
      "(Reference MRI-Only) Subject: sub-4087, MRI Path: C:\\Users\\ishsh\\OneDrive\\Desktop\\QML_Project\\data\\processed\\mri\\derivatives\\cleaned_skullstrip\\sub-4087\\anat\\sub-4087_T1w_skullstripped.nii.gz, ROI Data Shape: (1, 116)\n",
      "(Reference MRI-Only) Subject: sub-4088, MRI Path: C:\\Users\\ishsh\\OneDrive\\Desktop\\QML_Project\\data\\processed\\mri\\derivatives\\cleaned_skullstrip\\sub-4088\\anat\\sub-4088_T1w_skullstripped.nii.gz, ROI Data Shape: (1, 116)\n",
      "(Reference MRI-Only) Subject: sub-4089, MRI Path: C:\\Users\\ishsh\\OneDrive\\Desktop\\QML_Project\\data\\processed\\mri\\derivatives\\cleaned_skullstrip\\sub-4089\\anat\\sub-4089_T1w_skullstripped.nii.gz, ROI Data Shape: (1, 116)\n",
      "(Reference MRI-Only) Subject: sub-409, MRI Path: C:\\Users\\ishsh\\OneDrive\\Desktop\\QML_Project\\data\\processed\\mri\\derivatives\\cleaned_skullstrip\\sub-409\\anat\\sub-409_T1w_skullstripped.nii.gz, ROI Data Shape: (1, 116)\n",
      "(Reference MRI-Only) Subject: sub-4090, MRI Path: C:\\Users\\ishsh\\OneDrive\\Desktop\\QML_Project\\data\\processed\\mri\\derivatives\\cleaned_skullstrip\\sub-4090\\anat\\sub-4090_T1w_skullstripped.nii.gz, ROI Data Shape: (1, 116)\n",
      "(Reference MRI-Only) Subject: sub-4091, MRI Path: C:\\Users\\ishsh\\OneDrive\\Desktop\\QML_Project\\data\\processed\\mri\\derivatives\\cleaned_skullstrip\\sub-4091\\anat\\sub-4091_T1w_skullstripped.nii.gz, ROI Data Shape: (1, 116)\n",
      "(Reference MRI-Only) Subject: sub-4092, MRI Path: C:\\Users\\ishsh\\OneDrive\\Desktop\\QML_Project\\data\\processed\\mri\\derivatives\\cleaned_skullstrip\\sub-4092\\anat\\sub-4092_T1w_skullstripped.nii.gz, ROI Data Shape: (1, 116)\n"
     ]
    },
    {
     "name": "stderr",
     "output_type": "stream",
     "text": [
      "c:\\Users\\ishsh\\OneDrive\\Desktop\\QML_Project\\venv4qml\\Lib\\site-packages\\nilearn\\maskers\\nifti_labels_masker.py:888: UserWarning: After resampling the label image to the data image, the following labels were removed: {5101, 5102}. Label image only contains 115 labels (including background).\n",
      "  warnings.warn(\n"
     ]
    },
    {
     "name": "stdout",
     "output_type": "stream",
     "text": [
      "(Reference MRI-Only) Subject: sub-4093, MRI Path: C:\\Users\\ishsh\\OneDrive\\Desktop\\QML_Project\\data\\processed\\mri\\derivatives\\cleaned_skullstrip\\sub-4093\\anat\\sub-4093_T1w_skullstripped.nii.gz, ROI Data Shape: (1, 114)\n",
      "(Reference MRI-Only) Subject: sub-4094, MRI Path: C:\\Users\\ishsh\\OneDrive\\Desktop\\QML_Project\\data\\processed\\mri\\derivatives\\cleaned_skullstrip\\sub-4094\\anat\\sub-4094_T1w_skullstripped.nii.gz, ROI Data Shape: (1, 116)\n",
      "(Reference MRI-Only) Subject: sub-4095, MRI Path: C:\\Users\\ishsh\\OneDrive\\Desktop\\QML_Project\\data\\processed\\mri\\derivatives\\cleaned_skullstrip\\sub-4095\\anat\\sub-4095_T1w_skullstripped.nii.gz, ROI Data Shape: (1, 116)\n",
      "(Reference MRI-Only) Subject: sub-4096, MRI Path: C:\\Users\\ishsh\\OneDrive\\Desktop\\QML_Project\\data\\processed\\mri\\derivatives\\cleaned_skullstrip\\sub-4096\\anat\\sub-4096_T1w_skullstripped.nii.gz, ROI Data Shape: (1, 116)\n",
      "(Reference MRI-Only) Subject: sub-4097, MRI Path: C:\\Users\\ishsh\\OneDrive\\Desktop\\QML_Project\\data\\processed\\mri\\derivatives\\cleaned_skullstrip\\sub-4097\\anat\\sub-4097_T1w_skullstripped.nii.gz, ROI Data Shape: (1, 116)\n",
      "(Reference MRI-Only) Subject: sub-4098, MRI Path: C:\\Users\\ishsh\\OneDrive\\Desktop\\QML_Project\\data\\processed\\mri\\derivatives\\cleaned_skullstrip\\sub-4098\\anat\\sub-4098_T1w_skullstripped.nii.gz, ROI Data Shape: (1, 116)\n",
      "(Reference MRI-Only) Subject: sub-4099, MRI Path: C:\\Users\\ishsh\\OneDrive\\Desktop\\QML_Project\\data\\processed\\mri\\derivatives\\cleaned_skullstrip\\sub-4099\\anat\\sub-4099_T1w_skullstripped.nii.gz, ROI Data Shape: (1, 116)\n",
      "(Reference MRI-Only) Subject: sub-41, MRI Path: C:\\Users\\ishsh\\OneDrive\\Desktop\\QML_Project\\data\\processed\\mri\\derivatives\\cleaned_skullstrip\\sub-41\\anat\\sub-41_T1w_skullstripped.nii.gz, ROI Data Shape: (1, 116)\n"
     ]
    },
    {
     "name": "stderr",
     "output_type": "stream",
     "text": [
      "c:\\Users\\ishsh\\OneDrive\\Desktop\\QML_Project\\venv4qml\\Lib\\site-packages\\nilearn\\maskers\\nifti_labels_masker.py:888: UserWarning: After resampling the label image to the data image, the following labels were removed: {5101, 5102, 5201, 5202, 5011}. Label image only contains 112 labels (including background).\n",
      "  warnings.warn(\n"
     ]
    },
    {
     "name": "stdout",
     "output_type": "stream",
     "text": [
      "(Reference MRI-Only) Subject: sub-410, MRI Path: C:\\Users\\ishsh\\OneDrive\\Desktop\\QML_Project\\data\\processed\\mri\\derivatives\\cleaned_skullstrip\\sub-410\\anat\\sub-410_T1w_skullstripped.nii.gz, ROI Data Shape: (1, 111)\n",
      "(Reference MRI-Only) Subject: sub-4100, MRI Path: C:\\Users\\ishsh\\OneDrive\\Desktop\\QML_Project\\data\\processed\\mri\\derivatives\\cleaned_skullstrip\\sub-4100\\anat\\sub-4100_T1w_skullstripped.nii.gz, ROI Data Shape: (1, 116)\n",
      "(Reference MRI-Only) Subject: sub-411, MRI Path: C:\\Users\\ishsh\\OneDrive\\Desktop\\QML_Project\\data\\processed\\mri\\derivatives\\cleaned_skullstrip\\sub-411\\anat\\sub-411_T1w_skullstripped.nii.gz, ROI Data Shape: (1, 116)\n",
      "(Reference MRI-Only) Subject: sub-412, MRI Path: C:\\Users\\ishsh\\OneDrive\\Desktop\\QML_Project\\data\\processed\\mri\\derivatives\\cleaned_skullstrip\\sub-412\\anat\\sub-412_T1w_skullstripped.nii.gz, ROI Data Shape: (1, 116)\n"
     ]
    },
    {
     "name": "stderr",
     "output_type": "stream",
     "text": [
      "c:\\Users\\ishsh\\OneDrive\\Desktop\\QML_Project\\venv4qml\\Lib\\site-packages\\nilearn\\maskers\\nifti_labels_masker.py:888: UserWarning: After resampling the label image to the data image, the following labels were removed: {5101, 5102}. Label image only contains 115 labels (including background).\n",
      "  warnings.warn(\n"
     ]
    },
    {
     "name": "stdout",
     "output_type": "stream",
     "text": [
      "(Reference MRI-Only) Subject: sub-413, MRI Path: C:\\Users\\ishsh\\OneDrive\\Desktop\\QML_Project\\data\\processed\\mri\\derivatives\\cleaned_skullstrip\\sub-413\\anat\\sub-413_T1w_skullstripped.nii.gz, ROI Data Shape: (1, 114)\n",
      "(Reference MRI-Only) Subject: sub-414, MRI Path: C:\\Users\\ishsh\\OneDrive\\Desktop\\QML_Project\\data\\processed\\mri\\derivatives\\cleaned_skullstrip\\sub-414\\anat\\sub-414_T1w_skullstripped.nii.gz, ROI Data Shape: (1, 116)\n"
     ]
    },
    {
     "name": "stderr",
     "output_type": "stream",
     "text": [
      "c:\\Users\\ishsh\\OneDrive\\Desktop\\QML_Project\\venv4qml\\Lib\\site-packages\\nilearn\\maskers\\nifti_labels_masker.py:888: UserWarning: After resampling the label image to the data image, the following labels were removed: {5102}. Label image only contains 116 labels (including background).\n",
      "  warnings.warn(\n"
     ]
    },
    {
     "name": "stdout",
     "output_type": "stream",
     "text": [
      "(Reference MRI-Only) Subject: sub-415, MRI Path: C:\\Users\\ishsh\\OneDrive\\Desktop\\QML_Project\\data\\processed\\mri\\derivatives\\cleaned_skullstrip\\sub-415\\anat\\sub-415_T1w_skullstripped.nii.gz, ROI Data Shape: (1, 115)\n",
      "(Reference MRI-Only) Subject: sub-416, MRI Path: C:\\Users\\ishsh\\OneDrive\\Desktop\\QML_Project\\data\\processed\\mri\\derivatives\\cleaned_skullstrip\\sub-416\\anat\\sub-416_T1w_skullstripped.nii.gz, ROI Data Shape: (1, 116)\n",
      "(Reference MRI-Only) Subject: sub-417, MRI Path: C:\\Users\\ishsh\\OneDrive\\Desktop\\QML_Project\\data\\processed\\mri\\derivatives\\cleaned_skullstrip\\sub-417\\anat\\sub-417_T1w_skullstripped.nii.gz, ROI Data Shape: (1, 116)\n"
     ]
    },
    {
     "name": "stderr",
     "output_type": "stream",
     "text": [
      "c:\\Users\\ishsh\\OneDrive\\Desktop\\QML_Project\\venv4qml\\Lib\\site-packages\\nilearn\\maskers\\nifti_labels_masker.py:888: UserWarning: After resampling the label image to the data image, the following labels were removed: {5101, 5102}. Label image only contains 115 labels (including background).\n",
      "  warnings.warn(\n"
     ]
    },
    {
     "name": "stdout",
     "output_type": "stream",
     "text": [
      "(Reference MRI-Only) Subject: sub-418, MRI Path: C:\\Users\\ishsh\\OneDrive\\Desktop\\QML_Project\\data\\processed\\mri\\derivatives\\cleaned_skullstrip\\sub-418\\anat\\sub-418_T1w_skullstripped.nii.gz, ROI Data Shape: (1, 114)\n",
      "(Reference MRI-Only) Subject: sub-419, MRI Path: C:\\Users\\ishsh\\OneDrive\\Desktop\\QML_Project\\data\\processed\\mri\\derivatives\\cleaned_skullstrip\\sub-419\\anat\\sub-419_T1w_skullstripped.nii.gz, ROI Data Shape: (1, 116)\n",
      "(Reference MRI-Only) Subject: sub-42, MRI Path: C:\\Users\\ishsh\\OneDrive\\Desktop\\QML_Project\\data\\processed\\mri\\derivatives\\cleaned_skullstrip\\sub-42\\anat\\sub-42_T1w_skullstripped.nii.gz, ROI Data Shape: (1, 116)\n",
      "(Reference MRI-Only) Subject: sub-420, MRI Path: C:\\Users\\ishsh\\OneDrive\\Desktop\\QML_Project\\data\\processed\\mri\\derivatives\\cleaned_skullstrip\\sub-420\\anat\\sub-420_T1w_skullstripped.nii.gz, ROI Data Shape: (1, 116)\n",
      "(Reference MRI-Only) Subject: sub-421, MRI Path: C:\\Users\\ishsh\\OneDrive\\Desktop\\QML_Project\\data\\processed\\mri\\derivatives\\cleaned_skullstrip\\sub-421\\anat\\sub-421_T1w_skullstripped.nii.gz, ROI Data Shape: (1, 116)\n",
      "(Reference MRI-Only) Subject: sub-422, MRI Path: C:\\Users\\ishsh\\OneDrive\\Desktop\\QML_Project\\data\\processed\\mri\\derivatives\\cleaned_skullstrip\\sub-422\\anat\\sub-422_T1w_skullstripped.nii.gz, ROI Data Shape: (1, 116)\n",
      "(Reference MRI-Only) Subject: sub-423, MRI Path: C:\\Users\\ishsh\\OneDrive\\Desktop\\QML_Project\\data\\processed\\mri\\derivatives\\cleaned_skullstrip\\sub-423\\anat\\sub-423_T1w_skullstripped.nii.gz, ROI Data Shape: (1, 116)\n",
      "(Reference MRI-Only) Subject: sub-424, MRI Path: C:\\Users\\ishsh\\OneDrive\\Desktop\\QML_Project\\data\\processed\\mri\\derivatives\\cleaned_skullstrip\\sub-424\\anat\\sub-424_T1w_skullstripped.nii.gz, ROI Data Shape: (1, 116)\n",
      "(Reference MRI-Only) Subject: sub-425, MRI Path: C:\\Users\\ishsh\\OneDrive\\Desktop\\QML_Project\\data\\processed\\mri\\derivatives\\cleaned_skullstrip\\sub-425\\anat\\sub-425_T1w_skullstripped.nii.gz, ROI Data Shape: (1, 116)\n",
      "(Reference MRI-Only) Subject: sub-426, MRI Path: C:\\Users\\ishsh\\OneDrive\\Desktop\\QML_Project\\data\\processed\\mri\\derivatives\\cleaned_skullstrip\\sub-426\\anat\\sub-426_T1w_skullstripped.nii.gz, ROI Data Shape: (1, 116)\n",
      "(Reference MRI-Only) Subject: sub-427, MRI Path: C:\\Users\\ishsh\\OneDrive\\Desktop\\QML_Project\\data\\processed\\mri\\derivatives\\cleaned_skullstrip\\sub-427\\anat\\sub-427_T1w_skullstripped.nii.gz, ROI Data Shape: (1, 116)\n"
     ]
    },
    {
     "name": "stderr",
     "output_type": "stream",
     "text": [
      "c:\\Users\\ishsh\\OneDrive\\Desktop\\QML_Project\\venv4qml\\Lib\\site-packages\\nilearn\\maskers\\nifti_labels_masker.py:888: UserWarning: After resampling the label image to the data image, the following labels were removed: {9081}. Label image only contains 116 labels (including background).\n",
      "  warnings.warn(\n"
     ]
    },
    {
     "name": "stdout",
     "output_type": "stream",
     "text": [
      "(Reference MRI-Only) Subject: sub-428, MRI Path: C:\\Users\\ishsh\\OneDrive\\Desktop\\QML_Project\\data\\processed\\mri\\derivatives\\cleaned_skullstrip\\sub-428\\anat\\sub-428_T1w_skullstripped.nii.gz, ROI Data Shape: (1, 115)\n"
     ]
    },
    {
     "name": "stderr",
     "output_type": "stream",
     "text": [
      "c:\\Users\\ishsh\\OneDrive\\Desktop\\QML_Project\\venv4qml\\Lib\\site-packages\\nilearn\\maskers\\nifti_labels_masker.py:888: UserWarning: After resampling the label image to the data image, the following labels were removed: {5101, 5102}. Label image only contains 115 labels (including background).\n",
      "  warnings.warn(\n"
     ]
    },
    {
     "name": "stdout",
     "output_type": "stream",
     "text": [
      "(Reference MRI-Only) Subject: sub-429, MRI Path: C:\\Users\\ishsh\\OneDrive\\Desktop\\QML_Project\\data\\processed\\mri\\derivatives\\cleaned_skullstrip\\sub-429\\anat\\sub-429_T1w_skullstripped.nii.gz, ROI Data Shape: (1, 114)\n"
     ]
    },
    {
     "name": "stderr",
     "output_type": "stream",
     "text": [
      "c:\\Users\\ishsh\\OneDrive\\Desktop\\QML_Project\\venv4qml\\Lib\\site-packages\\nilearn\\maskers\\nifti_labels_masker.py:888: UserWarning: After resampling the label image to the data image, the following labels were removed: {5101, 5102}. Label image only contains 115 labels (including background).\n",
      "  warnings.warn(\n"
     ]
    },
    {
     "name": "stdout",
     "output_type": "stream",
     "text": [
      "(Reference MRI-Only) Subject: sub-43, MRI Path: C:\\Users\\ishsh\\OneDrive\\Desktop\\QML_Project\\data\\processed\\mri\\derivatives\\cleaned_skullstrip\\sub-43\\anat\\sub-43_T1w_skullstripped.nii.gz, ROI Data Shape: (1, 114)\n"
     ]
    },
    {
     "name": "stderr",
     "output_type": "stream",
     "text": [
      "c:\\Users\\ishsh\\OneDrive\\Desktop\\QML_Project\\venv4qml\\Lib\\site-packages\\nilearn\\maskers\\nifti_labels_masker.py:888: UserWarning: After resampling the label image to the data image, the following labels were removed: {5101, 5102, 5201, 5202, 5011, 5012, 6101}. Label image only contains 110 labels (including background).\n",
      "  warnings.warn(\n"
     ]
    },
    {
     "name": "stdout",
     "output_type": "stream",
     "text": [
      "(Reference MRI-Only) Subject: sub-430, MRI Path: C:\\Users\\ishsh\\OneDrive\\Desktop\\QML_Project\\data\\processed\\mri\\derivatives\\cleaned_skullstrip\\sub-430\\anat\\sub-430_T1w_skullstripped.nii.gz, ROI Data Shape: (1, 109)\n",
      "(Reference MRI-Only) Subject: sub-431, MRI Path: C:\\Users\\ishsh\\OneDrive\\Desktop\\QML_Project\\data\\processed\\mri\\derivatives\\cleaned_skullstrip\\sub-431\\anat\\sub-431_T1w_skullstripped.nii.gz, ROI Data Shape: (1, 116)\n",
      "(Reference MRI-Only) Subject: sub-432, MRI Path: C:\\Users\\ishsh\\OneDrive\\Desktop\\QML_Project\\data\\processed\\mri\\derivatives\\cleaned_skullstrip\\sub-432\\anat\\sub-432_T1w_skullstripped.nii.gz, ROI Data Shape: (1, 116)\n",
      "(Reference MRI-Only) Subject: sub-433, MRI Path: C:\\Users\\ishsh\\OneDrive\\Desktop\\QML_Project\\data\\processed\\mri\\derivatives\\cleaned_skullstrip\\sub-433\\anat\\sub-433_T1w_skullstripped.nii.gz, ROI Data Shape: (1, 116)\n",
      "(Reference MRI-Only) Subject: sub-434, MRI Path: C:\\Users\\ishsh\\OneDrive\\Desktop\\QML_Project\\data\\processed\\mri\\derivatives\\cleaned_skullstrip\\sub-434\\anat\\sub-434_T1w_skullstripped.nii.gz, ROI Data Shape: (1, 116)\n",
      "(Reference MRI-Only) Subject: sub-435, MRI Path: C:\\Users\\ishsh\\OneDrive\\Desktop\\QML_Project\\data\\processed\\mri\\derivatives\\cleaned_skullstrip\\sub-435\\anat\\sub-435_T1w_skullstripped.nii.gz, ROI Data Shape: (1, 116)\n",
      "(Reference MRI-Only) Subject: sub-436, MRI Path: C:\\Users\\ishsh\\OneDrive\\Desktop\\QML_Project\\data\\processed\\mri\\derivatives\\cleaned_skullstrip\\sub-436\\anat\\sub-436_T1w_skullstripped.nii.gz, ROI Data Shape: (1, 116)\n"
     ]
    },
    {
     "name": "stderr",
     "output_type": "stream",
     "text": [
      "c:\\Users\\ishsh\\OneDrive\\Desktop\\QML_Project\\venv4qml\\Lib\\site-packages\\nilearn\\maskers\\nifti_labels_masker.py:888: UserWarning: After resampling the label image to the data image, the following labels were removed: {5101, 5102}. Label image only contains 115 labels (including background).\n",
      "  warnings.warn(\n"
     ]
    },
    {
     "name": "stdout",
     "output_type": "stream",
     "text": [
      "(Reference MRI-Only) Subject: sub-437, MRI Path: C:\\Users\\ishsh\\OneDrive\\Desktop\\QML_Project\\data\\processed\\mri\\derivatives\\cleaned_skullstrip\\sub-437\\anat\\sub-437_T1w_skullstripped.nii.gz, ROI Data Shape: (1, 114)\n",
      "(Reference MRI-Only) Subject: sub-438, MRI Path: C:\\Users\\ishsh\\OneDrive\\Desktop\\QML_Project\\data\\processed\\mri\\derivatives\\cleaned_skullstrip\\sub-438\\anat\\sub-438_T1w_skullstripped.nii.gz, ROI Data Shape: (1, 116)\n"
     ]
    },
    {
     "name": "stderr",
     "output_type": "stream",
     "text": [
      "c:\\Users\\ishsh\\OneDrive\\Desktop\\QML_Project\\venv4qml\\Lib\\site-packages\\nilearn\\maskers\\nifti_labels_masker.py:888: UserWarning: After resampling the label image to the data image, the following labels were removed: {9071, 9072, 9081, 9082, 9051, 9052}. Label image only contains 111 labels (including background).\n",
      "  warnings.warn(\n"
     ]
    },
    {
     "name": "stdout",
     "output_type": "stream",
     "text": [
      "(Reference MRI-Only) Subject: sub-439, MRI Path: C:\\Users\\ishsh\\OneDrive\\Desktop\\QML_Project\\data\\processed\\mri\\derivatives\\cleaned_skullstrip\\sub-439\\anat\\sub-439_T1w_skullstripped.nii.gz, ROI Data Shape: (1, 110)\n",
      "(Reference MRI-Only) Subject: sub-44, MRI Path: C:\\Users\\ishsh\\OneDrive\\Desktop\\QML_Project\\data\\processed\\mri\\derivatives\\cleaned_skullstrip\\sub-44\\anat\\sub-44_T1w_skullstripped.nii.gz, ROI Data Shape: (1, 116)\n",
      "(Reference MRI-Only) Subject: sub-440, MRI Path: C:\\Users\\ishsh\\OneDrive\\Desktop\\QML_Project\\data\\processed\\mri\\derivatives\\cleaned_skullstrip\\sub-440\\anat\\sub-440_T1w_skullstripped.nii.gz, ROI Data Shape: (1, 116)\n",
      "(Reference MRI-Only) Subject: sub-441, MRI Path: C:\\Users\\ishsh\\OneDrive\\Desktop\\QML_Project\\data\\processed\\mri\\derivatives\\cleaned_skullstrip\\sub-441\\anat\\sub-441_T1w_skullstripped.nii.gz, ROI Data Shape: (1, 116)\n",
      "(Reference MRI-Only) Subject: sub-442, MRI Path: C:\\Users\\ishsh\\OneDrive\\Desktop\\QML_Project\\data\\processed\\mri\\derivatives\\cleaned_skullstrip\\sub-442\\anat\\sub-442_T1w_skullstripped.nii.gz, ROI Data Shape: (1, 116)\n",
      "(Reference MRI-Only) Subject: sub-443, MRI Path: C:\\Users\\ishsh\\OneDrive\\Desktop\\QML_Project\\data\\processed\\mri\\derivatives\\cleaned_skullstrip\\sub-443\\anat\\sub-443_T1w_skullstripped.nii.gz, ROI Data Shape: (1, 116)\n",
      "(Reference MRI-Only) Subject: sub-444, MRI Path: C:\\Users\\ishsh\\OneDrive\\Desktop\\QML_Project\\data\\processed\\mri\\derivatives\\cleaned_skullstrip\\sub-444\\anat\\sub-444_T1w_skullstripped.nii.gz, ROI Data Shape: (1, 116)\n",
      "(Reference MRI-Only) Subject: sub-445, MRI Path: C:\\Users\\ishsh\\OneDrive\\Desktop\\QML_Project\\data\\processed\\mri\\derivatives\\cleaned_skullstrip\\sub-445\\anat\\sub-445_T1w_skullstripped.nii.gz, ROI Data Shape: (1, 116)\n",
      "(Reference MRI-Only) Subject: sub-446, MRI Path: C:\\Users\\ishsh\\OneDrive\\Desktop\\QML_Project\\data\\processed\\mri\\derivatives\\cleaned_skullstrip\\sub-446\\anat\\sub-446_T1w_skullstripped.nii.gz, ROI Data Shape: (1, 116)\n",
      "(Reference MRI-Only) Subject: sub-447, MRI Path: C:\\Users\\ishsh\\OneDrive\\Desktop\\QML_Project\\data\\processed\\mri\\derivatives\\cleaned_skullstrip\\sub-447\\anat\\sub-447_T1w_skullstripped.nii.gz, ROI Data Shape: (1, 116)\n",
      "(Reference MRI-Only) Subject: sub-448, MRI Path: C:\\Users\\ishsh\\OneDrive\\Desktop\\QML_Project\\data\\processed\\mri\\derivatives\\cleaned_skullstrip\\sub-448\\anat\\sub-448_T1w_skullstripped.nii.gz, ROI Data Shape: (1, 116)\n",
      "(Reference MRI-Only) Subject: sub-449, MRI Path: C:\\Users\\ishsh\\OneDrive\\Desktop\\QML_Project\\data\\processed\\mri\\derivatives\\cleaned_skullstrip\\sub-449\\anat\\sub-449_T1w_skullstripped.nii.gz, ROI Data Shape: (1, 116)\n",
      "(Reference MRI-Only) Subject: sub-45, MRI Path: C:\\Users\\ishsh\\OneDrive\\Desktop\\QML_Project\\data\\processed\\mri\\derivatives\\cleaned_skullstrip\\sub-45\\anat\\sub-45_T1w_skullstripped.nii.gz, ROI Data Shape: (1, 116)\n",
      "(Reference MRI-Only) Subject: sub-450, MRI Path: C:\\Users\\ishsh\\OneDrive\\Desktop\\QML_Project\\data\\processed\\mri\\derivatives\\cleaned_skullstrip\\sub-450\\anat\\sub-450_T1w_skullstripped.nii.gz, ROI Data Shape: (1, 116)\n"
     ]
    },
    {
     "name": "stderr",
     "output_type": "stream",
     "text": [
      "c:\\Users\\ishsh\\OneDrive\\Desktop\\QML_Project\\venv4qml\\Lib\\site-packages\\nilearn\\maskers\\nifti_labels_masker.py:888: UserWarning: After resampling the label image to the data image, the following labels were removed: {5101, 5102}. Label image only contains 115 labels (including background).\n",
      "  warnings.warn(\n"
     ]
    },
    {
     "name": "stdout",
     "output_type": "stream",
     "text": [
      "(Reference MRI-Only) Subject: sub-451, MRI Path: C:\\Users\\ishsh\\OneDrive\\Desktop\\QML_Project\\data\\processed\\mri\\derivatives\\cleaned_skullstrip\\sub-451\\anat\\sub-451_T1w_skullstripped.nii.gz, ROI Data Shape: (1, 114)\n",
      "(Reference MRI-Only) Subject: sub-452, MRI Path: C:\\Users\\ishsh\\OneDrive\\Desktop\\QML_Project\\data\\processed\\mri\\derivatives\\cleaned_skullstrip\\sub-452\\anat\\sub-452_T1w_skullstripped.nii.gz, ROI Data Shape: (1, 116)\n"
     ]
    },
    {
     "name": "stderr",
     "output_type": "stream",
     "text": [
      "c:\\Users\\ishsh\\OneDrive\\Desktop\\QML_Project\\venv4qml\\Lib\\site-packages\\nilearn\\maskers\\nifti_labels_masker.py:888: UserWarning: After resampling the label image to the data image, the following labels were removed: {9061, 9062, 9160, 9071, 9072, 9012, 9081, 9082, 9051, 9052}. Label image only contains 107 labels (including background).\n",
      "  warnings.warn(\n"
     ]
    },
    {
     "name": "stdout",
     "output_type": "stream",
     "text": [
      "(Reference MRI-Only) Subject: sub-453, MRI Path: C:\\Users\\ishsh\\OneDrive\\Desktop\\QML_Project\\data\\processed\\mri\\derivatives\\cleaned_skullstrip\\sub-453\\anat\\sub-453_T1w_skullstripped.nii.gz, ROI Data Shape: (1, 106)\n"
     ]
    },
    {
     "name": "stderr",
     "output_type": "stream",
     "text": [
      "c:\\Users\\ishsh\\OneDrive\\Desktop\\QML_Project\\venv4qml\\Lib\\site-packages\\nilearn\\maskers\\nifti_labels_masker.py:888: UserWarning: After resampling the label image to the data image, the following labels were removed: {6221, 5101, 5102, 5201, 5202, 5011, 5012, 5301, 5302, 9140}. Label image only contains 107 labels (including background).\n",
      "  warnings.warn(\n"
     ]
    },
    {
     "name": "stdout",
     "output_type": "stream",
     "text": [
      "(Reference MRI-Only) Subject: sub-454, MRI Path: C:\\Users\\ishsh\\OneDrive\\Desktop\\QML_Project\\data\\processed\\mri\\derivatives\\cleaned_skullstrip\\sub-454\\anat\\sub-454_T1w_skullstripped.nii.gz, ROI Data Shape: (1, 106)\n",
      "(Reference MRI-Only) Subject: sub-455, MRI Path: C:\\Users\\ishsh\\OneDrive\\Desktop\\QML_Project\\data\\processed\\mri\\derivatives\\cleaned_skullstrip\\sub-455\\anat\\sub-455_T1w_skullstripped.nii.gz, ROI Data Shape: (1, 116)\n",
      "(Reference MRI-Only) Subject: sub-459, MRI Path: C:\\Users\\ishsh\\OneDrive\\Desktop\\QML_Project\\data\\processed\\mri\\derivatives\\cleaned_skullstrip\\sub-459\\anat\\sub-459_T1w_skullstripped.nii.gz, ROI Data Shape: (1, 116)\n"
     ]
    },
    {
     "name": "stderr",
     "output_type": "stream",
     "text": [
      "c:\\Users\\ishsh\\OneDrive\\Desktop\\QML_Project\\venv4qml\\Lib\\site-packages\\nilearn\\maskers\\nifti_labels_masker.py:888: UserWarning: After resampling the label image to the data image, the following labels were removed: {5101, 5102, 5202, 5012, 5302}. Label image only contains 112 labels (including background).\n",
      "  warnings.warn(\n"
     ]
    },
    {
     "name": "stdout",
     "output_type": "stream",
     "text": [
      "(Reference MRI-Only) Subject: sub-46, MRI Path: C:\\Users\\ishsh\\OneDrive\\Desktop\\QML_Project\\data\\processed\\mri\\derivatives\\cleaned_skullstrip\\sub-46\\anat\\sub-46_T1w_skullstripped.nii.gz, ROI Data Shape: (1, 111)\n"
     ]
    },
    {
     "name": "stderr",
     "output_type": "stream",
     "text": [
      "c:\\Users\\ishsh\\OneDrive\\Desktop\\QML_Project\\venv4qml\\Lib\\site-packages\\nilearn\\maskers\\nifti_labels_masker.py:888: UserWarning: After resampling the label image to the data image, the following labels were removed: {5101, 5102}. Label image only contains 115 labels (including background).\n",
      "  warnings.warn(\n"
     ]
    },
    {
     "name": "stdout",
     "output_type": "stream",
     "text": [
      "(Reference MRI-Only) Subject: sub-460, MRI Path: C:\\Users\\ishsh\\OneDrive\\Desktop\\QML_Project\\data\\processed\\mri\\derivatives\\cleaned_skullstrip\\sub-460\\anat\\sub-460_T1w_skullstripped.nii.gz, ROI Data Shape: (1, 114)\n"
     ]
    },
    {
     "name": "stderr",
     "output_type": "stream",
     "text": [
      "c:\\Users\\ishsh\\OneDrive\\Desktop\\QML_Project\\venv4qml\\Lib\\site-packages\\nilearn\\maskers\\nifti_labels_masker.py:888: UserWarning: After resampling the label image to the data image, the following labels were removed: {5101, 5102}. Label image only contains 115 labels (including background).\n",
      "  warnings.warn(\n"
     ]
    },
    {
     "name": "stdout",
     "output_type": "stream",
     "text": [
      "(Reference MRI-Only) Subject: sub-461, MRI Path: C:\\Users\\ishsh\\OneDrive\\Desktop\\QML_Project\\data\\processed\\mri\\derivatives\\cleaned_skullstrip\\sub-461\\anat\\sub-461_T1w_skullstripped.nii.gz, ROI Data Shape: (1, 114)\n",
      "(Reference MRI-Only) Subject: sub-462, MRI Path: C:\\Users\\ishsh\\OneDrive\\Desktop\\QML_Project\\data\\processed\\mri\\derivatives\\cleaned_skullstrip\\sub-462\\anat\\sub-462_T1w_skullstripped.nii.gz, ROI Data Shape: (1, 116)\n",
      "(Reference MRI-Only) Subject: sub-463, MRI Path: C:\\Users\\ishsh\\OneDrive\\Desktop\\QML_Project\\data\\processed\\mri\\derivatives\\cleaned_skullstrip\\sub-463\\anat\\sub-463_T1w_skullstripped.nii.gz, ROI Data Shape: (1, 116)\n"
     ]
    },
    {
     "name": "stderr",
     "output_type": "stream",
     "text": [
      "c:\\Users\\ishsh\\OneDrive\\Desktop\\QML_Project\\venv4qml\\Lib\\site-packages\\nilearn\\maskers\\nifti_labels_masker.py:888: UserWarning: After resampling the label image to the data image, the following labels were removed: {5001, 5002, 9130, 6221, 6222, 5101, 5102, 5201, 5202, 5011, 5012, 5301, 5302, 9140, 6101, 6102, 9150}. Label image only contains 100 labels (including background).\n",
      "  warnings.warn(\n"
     ]
    },
    {
     "name": "stdout",
     "output_type": "stream",
     "text": [
      "(Reference MRI-Only) Subject: sub-47, MRI Path: C:\\Users\\ishsh\\OneDrive\\Desktop\\QML_Project\\data\\processed\\mri\\derivatives\\cleaned_skullstrip\\sub-47\\anat\\sub-47_T1w_skullstripped.nii.gz, ROI Data Shape: (1, 99)\n",
      "(Reference MRI-Only) Subject: sub-48, MRI Path: C:\\Users\\ishsh\\OneDrive\\Desktop\\QML_Project\\data\\processed\\mri\\derivatives\\cleaned_skullstrip\\sub-48\\anat\\sub-48_T1w_skullstripped.nii.gz, ROI Data Shape: (1, 116)\n"
     ]
    },
    {
     "name": "stderr",
     "output_type": "stream",
     "text": [
      "c:\\Users\\ishsh\\OneDrive\\Desktop\\QML_Project\\venv4qml\\Lib\\site-packages\\nilearn\\maskers\\nifti_labels_masker.py:888: UserWarning: After resampling the label image to the data image, the following labels were removed: {5202, 5101, 5102}. Label image only contains 114 labels (including background).\n",
      "  warnings.warn(\n"
     ]
    },
    {
     "name": "stdout",
     "output_type": "stream",
     "text": [
      "(Reference MRI-Only) Subject: sub-49, MRI Path: C:\\Users\\ishsh\\OneDrive\\Desktop\\QML_Project\\data\\processed\\mri\\derivatives\\cleaned_skullstrip\\sub-49\\anat\\sub-49_T1w_skullstripped.nii.gz, ROI Data Shape: (1, 113)\n",
      "(Reference MRI-Only) Subject: sub-5, MRI Path: C:\\Users\\ishsh\\OneDrive\\Desktop\\QML_Project\\data\\processed\\mri\\derivatives\\cleaned_skullstrip\\sub-5\\anat\\sub-5_T1w_skullstripped.nii.gz, ROI Data Shape: (1, 116)\n"
     ]
    },
    {
     "name": "stderr",
     "output_type": "stream",
     "text": [
      "c:\\Users\\ishsh\\OneDrive\\Desktop\\QML_Project\\venv4qml\\Lib\\site-packages\\nilearn\\maskers\\nifti_labels_masker.py:888: UserWarning: After resampling the label image to the data image, the following labels were removed: {5101, 5102}. Label image only contains 115 labels (including background).\n",
      "  warnings.warn(\n"
     ]
    },
    {
     "name": "stdout",
     "output_type": "stream",
     "text": [
      "(Reference MRI-Only) Subject: sub-50, MRI Path: C:\\Users\\ishsh\\OneDrive\\Desktop\\QML_Project\\data\\processed\\mri\\derivatives\\cleaned_skullstrip\\sub-50\\anat\\sub-50_T1w_skullstripped.nii.gz, ROI Data Shape: (1, 114)\n"
     ]
    },
    {
     "name": "stderr",
     "output_type": "stream",
     "text": [
      "c:\\Users\\ishsh\\OneDrive\\Desktop\\QML_Project\\venv4qml\\Lib\\site-packages\\nilearn\\maskers\\nifti_labels_masker.py:888: UserWarning: After resampling the label image to the data image, the following labels were removed: {5201, 5101, 5102}. Label image only contains 114 labels (including background).\n",
      "  warnings.warn(\n"
     ]
    },
    {
     "name": "stdout",
     "output_type": "stream",
     "text": [
      "(Reference MRI-Only) Subject: sub-51, MRI Path: C:\\Users\\ishsh\\OneDrive\\Desktop\\QML_Project\\data\\processed\\mri\\derivatives\\cleaned_skullstrip\\sub-51\\anat\\sub-51_T1w_skullstripped.nii.gz, ROI Data Shape: (1, 113)\n"
     ]
    },
    {
     "name": "stderr",
     "output_type": "stream",
     "text": [
      "c:\\Users\\ishsh\\OneDrive\\Desktop\\QML_Project\\venv4qml\\Lib\\site-packages\\nilearn\\maskers\\nifti_labels_masker.py:888: UserWarning: After resampling the label image to the data image, the following labels were removed: {9071, 9072, 9081, 9082, 9051, 9052}. Label image only contains 111 labels (including background).\n",
      "  warnings.warn(\n"
     ]
    },
    {
     "name": "stdout",
     "output_type": "stream",
     "text": [
      "(Reference MRI-Only) Subject: sub-53, MRI Path: C:\\Users\\ishsh\\OneDrive\\Desktop\\QML_Project\\data\\processed\\mri\\derivatives\\cleaned_skullstrip\\sub-53\\anat\\sub-53_T1w_skullstripped.nii.gz, ROI Data Shape: (1, 110)\n"
     ]
    },
    {
     "name": "stderr",
     "output_type": "stream",
     "text": [
      "c:\\Users\\ishsh\\OneDrive\\Desktop\\QML_Project\\venv4qml\\Lib\\site-packages\\nilearn\\maskers\\nifti_labels_masker.py:888: UserWarning: After resampling the label image to the data image, the following labels were removed: {5101, 5102}. Label image only contains 115 labels (including background).\n",
      "  warnings.warn(\n"
     ]
    },
    {
     "name": "stdout",
     "output_type": "stream",
     "text": [
      "(Reference MRI-Only) Subject: sub-54, MRI Path: C:\\Users\\ishsh\\OneDrive\\Desktop\\QML_Project\\data\\processed\\mri\\derivatives\\cleaned_skullstrip\\sub-54\\anat\\sub-54_T1w_skullstripped.nii.gz, ROI Data Shape: (1, 114)\n",
      "(Reference MRI-Only) Subject: sub-55, MRI Path: C:\\Users\\ishsh\\OneDrive\\Desktop\\QML_Project\\data\\processed\\mri\\derivatives\\cleaned_skullstrip\\sub-55\\anat\\sub-55_T1w_skullstripped.nii.gz, ROI Data Shape: (1, 116)\n",
      "(Reference MRI-Only) Subject: sub-56, MRI Path: C:\\Users\\ishsh\\OneDrive\\Desktop\\QML_Project\\data\\processed\\mri\\derivatives\\cleaned_skullstrip\\sub-56\\anat\\sub-56_T1w_skullstripped.nii.gz, ROI Data Shape: (1, 116)\n"
     ]
    },
    {
     "name": "stderr",
     "output_type": "stream",
     "text": [
      "c:\\Users\\ishsh\\OneDrive\\Desktop\\QML_Project\\venv4qml\\Lib\\site-packages\\nilearn\\maskers\\nifti_labels_masker.py:888: UserWarning: After resampling the label image to the data image, the following labels were removed: {5202, 5101, 5102}. Label image only contains 114 labels (including background).\n",
      "  warnings.warn(\n"
     ]
    },
    {
     "name": "stdout",
     "output_type": "stream",
     "text": [
      "(Reference MRI-Only) Subject: sub-57, MRI Path: C:\\Users\\ishsh\\OneDrive\\Desktop\\QML_Project\\data\\processed\\mri\\derivatives\\cleaned_skullstrip\\sub-57\\anat\\sub-57_T1w_skullstripped.nii.gz, ROI Data Shape: (1, 113)\n",
      "(Reference MRI-Only) Subject: sub-58, MRI Path: C:\\Users\\ishsh\\OneDrive\\Desktop\\QML_Project\\data\\processed\\mri\\derivatives\\cleaned_skullstrip\\sub-58\\anat\\sub-58_T1w_skullstripped.nii.gz, ROI Data Shape: (1, 116)\n"
     ]
    },
    {
     "name": "stderr",
     "output_type": "stream",
     "text": [
      "c:\\Users\\ishsh\\OneDrive\\Desktop\\QML_Project\\venv4qml\\Lib\\site-packages\\nilearn\\maskers\\nifti_labels_masker.py:888: UserWarning: After resampling the label image to the data image, the following labels were removed: {5202, 5101, 5102}. Label image only contains 114 labels (including background).\n",
      "  warnings.warn(\n"
     ]
    },
    {
     "name": "stdout",
     "output_type": "stream",
     "text": [
      "(Reference MRI-Only) Subject: sub-59, MRI Path: C:\\Users\\ishsh\\OneDrive\\Desktop\\QML_Project\\data\\processed\\mri\\derivatives\\cleaned_skullstrip\\sub-59\\anat\\sub-59_T1w_skullstripped.nii.gz, ROI Data Shape: (1, 113)\n",
      "(Reference MRI-Only) Subject: sub-6, MRI Path: C:\\Users\\ishsh\\OneDrive\\Desktop\\QML_Project\\data\\processed\\mri\\derivatives\\cleaned_skullstrip\\sub-6\\anat\\sub-6_T1w_skullstripped.nii.gz, ROI Data Shape: (1, 116)\n",
      "(Reference MRI-Only) Subject: sub-60, MRI Path: C:\\Users\\ishsh\\OneDrive\\Desktop\\QML_Project\\data\\processed\\mri\\derivatives\\cleaned_skullstrip\\sub-60\\anat\\sub-60_T1w_skullstripped.nii.gz, ROI Data Shape: (1, 116)\n",
      "(Reference MRI-Only) Subject: sub-61, MRI Path: C:\\Users\\ishsh\\OneDrive\\Desktop\\QML_Project\\data\\processed\\mri\\derivatives\\cleaned_skullstrip\\sub-61\\anat\\sub-61_T1w_skullstripped.nii.gz, ROI Data Shape: (1, 116)\n",
      "(Reference MRI-Only) Subject: sub-62, MRI Path: C:\\Users\\ishsh\\OneDrive\\Desktop\\QML_Project\\data\\processed\\mri\\derivatives\\cleaned_skullstrip\\sub-62\\anat\\sub-62_T1w_skullstripped.nii.gz, ROI Data Shape: (1, 116)\n",
      "(Reference MRI-Only) Subject: sub-63, MRI Path: C:\\Users\\ishsh\\OneDrive\\Desktop\\QML_Project\\data\\processed\\mri\\derivatives\\cleaned_skullstrip\\sub-63\\anat\\sub-63_T1w_skullstripped.nii.gz, ROI Data Shape: (1, 116)\n",
      "(Reference MRI-Only) Subject: sub-64, MRI Path: C:\\Users\\ishsh\\OneDrive\\Desktop\\QML_Project\\data\\processed\\mri\\derivatives\\cleaned_skullstrip\\sub-64\\anat\\sub-64_T1w_skullstripped.nii.gz, ROI Data Shape: (1, 116)\n"
     ]
    },
    {
     "name": "stderr",
     "output_type": "stream",
     "text": [
      "c:\\Users\\ishsh\\OneDrive\\Desktop\\QML_Project\\venv4qml\\Lib\\site-packages\\nilearn\\maskers\\nifti_labels_masker.py:888: UserWarning: After resampling the label image to the data image, the following labels were removed: {5101, 5102}. Label image only contains 115 labels (including background).\n",
      "  warnings.warn(\n"
     ]
    },
    {
     "name": "stdout",
     "output_type": "stream",
     "text": [
      "(Reference MRI-Only) Subject: sub-65, MRI Path: C:\\Users\\ishsh\\OneDrive\\Desktop\\QML_Project\\data\\processed\\mri\\derivatives\\cleaned_skullstrip\\sub-65\\anat\\sub-65_T1w_skullstripped.nii.gz, ROI Data Shape: (1, 114)\n"
     ]
    },
    {
     "name": "stderr",
     "output_type": "stream",
     "text": [
      "c:\\Users\\ishsh\\OneDrive\\Desktop\\QML_Project\\venv4qml\\Lib\\site-packages\\nilearn\\maskers\\nifti_labels_masker.py:888: UserWarning: After resampling the label image to the data image, the following labels were removed: {5101, 5102}. Label image only contains 115 labels (including background).\n",
      "  warnings.warn(\n"
     ]
    },
    {
     "name": "stdout",
     "output_type": "stream",
     "text": [
      "(Reference MRI-Only) Subject: sub-66, MRI Path: C:\\Users\\ishsh\\OneDrive\\Desktop\\QML_Project\\data\\processed\\mri\\derivatives\\cleaned_skullstrip\\sub-66\\anat\\sub-66_T1w_skullstripped.nii.gz, ROI Data Shape: (1, 114)\n"
     ]
    },
    {
     "name": "stderr",
     "output_type": "stream",
     "text": [
      "c:\\Users\\ishsh\\OneDrive\\Desktop\\QML_Project\\venv4qml\\Lib\\site-packages\\nilearn\\maskers\\nifti_labels_masker.py:888: UserWarning: After resampling the label image to the data image, the following labels were removed: {5101, 5102}. Label image only contains 115 labels (including background).\n",
      "  warnings.warn(\n"
     ]
    },
    {
     "name": "stdout",
     "output_type": "stream",
     "text": [
      "(Reference MRI-Only) Subject: sub-67, MRI Path: C:\\Users\\ishsh\\OneDrive\\Desktop\\QML_Project\\data\\processed\\mri\\derivatives\\cleaned_skullstrip\\sub-67\\anat\\sub-67_T1w_skullstripped.nii.gz, ROI Data Shape: (1, 114)\n",
      "(Reference MRI-Only) Subject: sub-68, MRI Path: C:\\Users\\ishsh\\OneDrive\\Desktop\\QML_Project\\data\\processed\\mri\\derivatives\\cleaned_skullstrip\\sub-68\\anat\\sub-68_T1w_skullstripped.nii.gz, ROI Data Shape: (1, 116)\n",
      "(Reference MRI-Only) Subject: sub-69, MRI Path: C:\\Users\\ishsh\\OneDrive\\Desktop\\QML_Project\\data\\processed\\mri\\derivatives\\cleaned_skullstrip\\sub-69\\anat\\sub-69_T1w_skullstripped.nii.gz, ROI Data Shape: (1, 116)\n",
      "(Reference MRI-Only) Subject: sub-7, MRI Path: C:\\Users\\ishsh\\OneDrive\\Desktop\\QML_Project\\data\\processed\\mri\\derivatives\\cleaned_skullstrip\\sub-7\\anat\\sub-7_T1w_skullstripped.nii.gz, ROI Data Shape: (1, 116)\n",
      "(Reference MRI-Only) Subject: sub-70, MRI Path: C:\\Users\\ishsh\\OneDrive\\Desktop\\QML_Project\\data\\processed\\mri\\derivatives\\cleaned_skullstrip\\sub-70\\anat\\sub-70_T1w_skullstripped.nii.gz, ROI Data Shape: (1, 116)\n"
     ]
    },
    {
     "name": "stderr",
     "output_type": "stream",
     "text": [
      "c:\\Users\\ishsh\\OneDrive\\Desktop\\QML_Project\\venv4qml\\Lib\\site-packages\\nilearn\\maskers\\nifti_labels_masker.py:888: UserWarning: After resampling the label image to the data image, the following labels were removed: {5202, 5012, 5101, 5102}. Label image only contains 113 labels (including background).\n",
      "  warnings.warn(\n"
     ]
    },
    {
     "name": "stdout",
     "output_type": "stream",
     "text": [
      "(Reference MRI-Only) Subject: sub-71, MRI Path: C:\\Users\\ishsh\\OneDrive\\Desktop\\QML_Project\\data\\processed\\mri\\derivatives\\cleaned_skullstrip\\sub-71\\anat\\sub-71_T1w_skullstripped.nii.gz, ROI Data Shape: (1, 112)\n"
     ]
    },
    {
     "name": "stderr",
     "output_type": "stream",
     "text": [
      "c:\\Users\\ishsh\\OneDrive\\Desktop\\QML_Project\\venv4qml\\Lib\\site-packages\\nilearn\\maskers\\nifti_labels_masker.py:888: UserWarning: After resampling the label image to the data image, the following labels were removed: {6221, 5101, 5102, 5201, 5202, 5011, 5012, 5301, 9140}. Label image only contains 108 labels (including background).\n",
      "  warnings.warn(\n"
     ]
    },
    {
     "name": "stdout",
     "output_type": "stream",
     "text": [
      "(Reference MRI-Only) Subject: sub-72, MRI Path: C:\\Users\\ishsh\\OneDrive\\Desktop\\QML_Project\\data\\processed\\mri\\derivatives\\cleaned_skullstrip\\sub-72\\anat\\sub-72_T1w_skullstripped.nii.gz, ROI Data Shape: (1, 107)\n",
      "(Reference MRI-Only) Subject: sub-74, MRI Path: C:\\Users\\ishsh\\OneDrive\\Desktop\\QML_Project\\data\\processed\\mri\\derivatives\\cleaned_skullstrip\\sub-74\\anat\\sub-74_T1w_skullstripped.nii.gz, ROI Data Shape: (1, 116)\n",
      "(Reference MRI-Only) Subject: sub-75, MRI Path: C:\\Users\\ishsh\\OneDrive\\Desktop\\QML_Project\\data\\processed\\mri\\derivatives\\cleaned_skullstrip\\sub-75\\anat\\sub-75_T1w_skullstripped.nii.gz, ROI Data Shape: (1, 116)\n",
      "(Reference MRI-Only) Subject: sub-76, MRI Path: C:\\Users\\ishsh\\OneDrive\\Desktop\\QML_Project\\data\\processed\\mri\\derivatives\\cleaned_skullstrip\\sub-76\\anat\\sub-76_T1w_skullstripped.nii.gz, ROI Data Shape: (1, 116)\n"
     ]
    },
    {
     "name": "stderr",
     "output_type": "stream",
     "text": [
      "c:\\Users\\ishsh\\OneDrive\\Desktop\\QML_Project\\venv4qml\\Lib\\site-packages\\nilearn\\maskers\\nifti_labels_masker.py:888: UserWarning: After resampling the label image to the data image, the following labels were removed: {5202, 5101, 5102}. Label image only contains 114 labels (including background).\n",
      "  warnings.warn(\n"
     ]
    },
    {
     "name": "stdout",
     "output_type": "stream",
     "text": [
      "(Reference MRI-Only) Subject: sub-77, MRI Path: C:\\Users\\ishsh\\OneDrive\\Desktop\\QML_Project\\data\\processed\\mri\\derivatives\\cleaned_skullstrip\\sub-77\\anat\\sub-77_T1w_skullstripped.nii.gz, ROI Data Shape: (1, 113)\n",
      "(Reference MRI-Only) Subject: sub-78, MRI Path: C:\\Users\\ishsh\\OneDrive\\Desktop\\QML_Project\\data\\processed\\mri\\derivatives\\cleaned_skullstrip\\sub-78\\anat\\sub-78_T1w_skullstripped.nii.gz, ROI Data Shape: (1, 116)\n",
      "(Reference MRI-Only) Subject: sub-79, MRI Path: C:\\Users\\ishsh\\OneDrive\\Desktop\\QML_Project\\data\\processed\\mri\\derivatives\\cleaned_skullstrip\\sub-79\\anat\\sub-79_T1w_skullstripped.nii.gz, ROI Data Shape: (1, 116)\n",
      "(Reference MRI-Only) Subject: sub-8, MRI Path: C:\\Users\\ishsh\\OneDrive\\Desktop\\QML_Project\\data\\processed\\mri\\derivatives\\cleaned_skullstrip\\sub-8\\anat\\sub-8_T1w_skullstripped.nii.gz, ROI Data Shape: (1, 116)\n",
      "(Reference MRI-Only) Subject: sub-81, MRI Path: C:\\Users\\ishsh\\OneDrive\\Desktop\\QML_Project\\data\\processed\\mri\\derivatives\\cleaned_skullstrip\\sub-81\\anat\\sub-81_T1w_skullstripped.nii.gz, ROI Data Shape: (1, 116)\n",
      "(Reference MRI-Only) Subject: sub-82, MRI Path: C:\\Users\\ishsh\\OneDrive\\Desktop\\QML_Project\\data\\processed\\mri\\derivatives\\cleaned_skullstrip\\sub-82\\anat\\sub-82_T1w_skullstripped.nii.gz, ROI Data Shape: (1, 116)\n",
      "(Reference MRI-Only) Subject: sub-83, MRI Path: C:\\Users\\ishsh\\OneDrive\\Desktop\\QML_Project\\data\\processed\\mri\\derivatives\\cleaned_skullstrip\\sub-83\\anat\\sub-83_T1w_skullstripped.nii.gz, ROI Data Shape: (1, 116)\n"
     ]
    },
    {
     "name": "stderr",
     "output_type": "stream",
     "text": [
      "c:\\Users\\ishsh\\OneDrive\\Desktop\\QML_Project\\venv4qml\\Lib\\site-packages\\nilearn\\maskers\\nifti_labels_masker.py:888: UserWarning: After resampling the label image to the data image, the following labels were removed: {5202, 5101, 5102}. Label image only contains 114 labels (including background).\n",
      "  warnings.warn(\n"
     ]
    },
    {
     "name": "stdout",
     "output_type": "stream",
     "text": [
      "(Reference MRI-Only) Subject: sub-84, MRI Path: C:\\Users\\ishsh\\OneDrive\\Desktop\\QML_Project\\data\\processed\\mri\\derivatives\\cleaned_skullstrip\\sub-84\\anat\\sub-84_T1w_skullstripped.nii.gz, ROI Data Shape: (1, 113)\n",
      "(Reference MRI-Only) Subject: sub-85, MRI Path: C:\\Users\\ishsh\\OneDrive\\Desktop\\QML_Project\\data\\processed\\mri\\derivatives\\cleaned_skullstrip\\sub-85\\anat\\sub-85_T1w_skullstripped.nii.gz, ROI Data Shape: (1, 116)\n",
      "(Reference MRI-Only) Subject: sub-86, MRI Path: C:\\Users\\ishsh\\OneDrive\\Desktop\\QML_Project\\data\\processed\\mri\\derivatives\\cleaned_skullstrip\\sub-86\\anat\\sub-86_T1w_skullstripped.nii.gz, ROI Data Shape: (1, 116)\n"
     ]
    },
    {
     "name": "stderr",
     "output_type": "stream",
     "text": [
      "c:\\Users\\ishsh\\OneDrive\\Desktop\\QML_Project\\venv4qml\\Lib\\site-packages\\nilearn\\maskers\\nifti_labels_masker.py:888: UserWarning: After resampling the label image to the data image, the following labels were removed: {5101}. Label image only contains 116 labels (including background).\n",
      "  warnings.warn(\n"
     ]
    },
    {
     "name": "stdout",
     "output_type": "stream",
     "text": [
      "(Reference MRI-Only) Subject: sub-87, MRI Path: C:\\Users\\ishsh\\OneDrive\\Desktop\\QML_Project\\data\\processed\\mri\\derivatives\\cleaned_skullstrip\\sub-87\\anat\\sub-87_T1w_skullstripped.nii.gz, ROI Data Shape: (1, 115)\n",
      "(Reference MRI-Only) Subject: sub-88, MRI Path: C:\\Users\\ishsh\\OneDrive\\Desktop\\QML_Project\\data\\processed\\mri\\derivatives\\cleaned_skullstrip\\sub-88\\anat\\sub-88_T1w_skullstripped.nii.gz, ROI Data Shape: (1, 116)\n",
      "(Reference MRI-Only) Subject: sub-89, MRI Path: C:\\Users\\ishsh\\OneDrive\\Desktop\\QML_Project\\data\\processed\\mri\\derivatives\\cleaned_skullstrip\\sub-89\\anat\\sub-89_T1w_skullstripped.nii.gz, ROI Data Shape: (1, 116)\n",
      "(Reference MRI-Only) Subject: sub-9, MRI Path: C:\\Users\\ishsh\\OneDrive\\Desktop\\QML_Project\\data\\processed\\mri\\derivatives\\cleaned_skullstrip\\sub-9\\anat\\sub-9_T1w_skullstripped.nii.gz, ROI Data Shape: (1, 116)\n",
      "(Reference MRI-Only) Subject: sub-90, MRI Path: C:\\Users\\ishsh\\OneDrive\\Desktop\\QML_Project\\data\\processed\\mri\\derivatives\\cleaned_skullstrip\\sub-90\\anat\\sub-90_T1w_skullstripped.nii.gz, ROI Data Shape: (1, 116)\n",
      "(Reference MRI-Only) Subject: sub-91, MRI Path: C:\\Users\\ishsh\\OneDrive\\Desktop\\QML_Project\\data\\processed\\mri\\derivatives\\cleaned_skullstrip\\sub-91\\anat\\sub-91_T1w_skullstripped.nii.gz, ROI Data Shape: (1, 116)\n"
     ]
    },
    {
     "name": "stderr",
     "output_type": "stream",
     "text": [
      "c:\\Users\\ishsh\\OneDrive\\Desktop\\QML_Project\\venv4qml\\Lib\\site-packages\\nilearn\\maskers\\nifti_labels_masker.py:888: UserWarning: After resampling the label image to the data image, the following labels were removed: {9071, 9072, 9081, 9082, 9051, 9052}. Label image only contains 111 labels (including background).\n",
      "  warnings.warn(\n"
     ]
    },
    {
     "name": "stdout",
     "output_type": "stream",
     "text": [
      "(Reference MRI-Only) Subject: sub-92, MRI Path: C:\\Users\\ishsh\\OneDrive\\Desktop\\QML_Project\\data\\processed\\mri\\derivatives\\cleaned_skullstrip\\sub-92\\anat\\sub-92_T1w_skullstripped.nii.gz, ROI Data Shape: (1, 110)\n",
      "(Reference MRI-Only) Subject: sub-93, MRI Path: C:\\Users\\ishsh\\OneDrive\\Desktop\\QML_Project\\data\\processed\\mri\\derivatives\\cleaned_skullstrip\\sub-93\\anat\\sub-93_T1w_skullstripped.nii.gz, ROI Data Shape: (1, 116)\n",
      "(Reference MRI-Only) Subject: sub-94, MRI Path: C:\\Users\\ishsh\\OneDrive\\Desktop\\QML_Project\\data\\processed\\mri\\derivatives\\cleaned_skullstrip\\sub-94\\anat\\sub-94_T1w_skullstripped.nii.gz, ROI Data Shape: (1, 116)\n",
      "(Reference MRI-Only) Subject: sub-95, MRI Path: C:\\Users\\ishsh\\OneDrive\\Desktop\\QML_Project\\data\\processed\\mri\\derivatives\\cleaned_skullstrip\\sub-95\\anat\\sub-95_T1w_skullstripped.nii.gz, ROI Data Shape: (1, 116)\n",
      "(Reference MRI-Only) Subject: sub-96, MRI Path: C:\\Users\\ishsh\\OneDrive\\Desktop\\QML_Project\\data\\processed\\mri\\derivatives\\cleaned_skullstrip\\sub-96\\anat\\sub-96_T1w_skullstripped.nii.gz, ROI Data Shape: (1, 116)\n"
     ]
    },
    {
     "name": "stderr",
     "output_type": "stream",
     "text": [
      "c:\\Users\\ishsh\\OneDrive\\Desktop\\QML_Project\\venv4qml\\Lib\\site-packages\\nilearn\\maskers\\nifti_labels_masker.py:888: UserWarning: After resampling the label image to the data image, the following labels were removed: {5101}. Label image only contains 116 labels (including background).\n",
      "  warnings.warn(\n"
     ]
    },
    {
     "name": "stdout",
     "output_type": "stream",
     "text": [
      "(Reference MRI-Only) Subject: sub-97, MRI Path: C:\\Users\\ishsh\\OneDrive\\Desktop\\QML_Project\\data\\processed\\mri\\derivatives\\cleaned_skullstrip\\sub-97\\anat\\sub-97_T1w_skullstripped.nii.gz, ROI Data Shape: (1, 115)\n",
      "(Reference MRI-Only) Subject: sub-98, MRI Path: C:\\Users\\ishsh\\OneDrive\\Desktop\\QML_Project\\data\\processed\\mri\\derivatives\\cleaned_skullstrip\\sub-98\\anat\\sub-98_T1w_skullstripped.nii.gz, ROI Data Shape: (1, 116)\n",
      "(Reference MRI-Only) Subject: sub-99, MRI Path: C:\\Users\\ishsh\\OneDrive\\Desktop\\QML_Project\\data\\processed\\mri\\derivatives\\cleaned_skullstrip\\sub-99\\anat\\sub-99_T1w_skullstripped.nii.gz, ROI Data Shape: (1, 116)\n",
      "Surviving MRI-Only labels (after reference): range(0, 116)\n"
     ]
    },
    {
     "name": "stderr",
     "output_type": "stream",
     "text": [
      "c:\\Users\\ishsh\\OneDrive\\Desktop\\QML_Project\\venv4qml\\Lib\\site-packages\\nilearn\\maskers\\nifti_labels_masker.py:888: UserWarning: After resampling the label image to the data image, the following labels were removed: {5102}. Label image only contains 116 labels (including background).\n",
      "  warnings.warn(\n",
      "c:\\Users\\ishsh\\OneDrive\\Desktop\\QML_Project\\venv4qml\\Lib\\site-packages\\nilearn\\maskers\\nifti_labels_masker.py:888: UserWarning: After resampling the label image to the data image, the following labels were removed: {5101, 5102}. Label image only contains 115 labels (including background).\n",
      "  warnings.warn(\n",
      "c:\\Users\\ishsh\\OneDrive\\Desktop\\QML_Project\\venv4qml\\Lib\\site-packages\\nilearn\\maskers\\nifti_labels_masker.py:888: UserWarning: After resampling the label image to the data image, the following labels were removed: {5101, 5102}. Label image only contains 115 labels (including background).\n",
      "  warnings.warn(\n",
      "c:\\Users\\ishsh\\OneDrive\\Desktop\\QML_Project\\venv4qml\\Lib\\site-packages\\nilearn\\maskers\\nifti_labels_masker.py:888: UserWarning: After resampling the label image to the data image, the following labels were removed: {5101, 5102, 5201, 5202, 5011, 5012, 5302}. Label image only contains 110 labels (including background).\n",
      "  warnings.warn(\n",
      "c:\\Users\\ishsh\\OneDrive\\Desktop\\QML_Project\\venv4qml\\Lib\\site-packages\\nilearn\\maskers\\nifti_labels_masker.py:888: UserWarning: After resampling the label image to the data image, the following labels were removed: {5101}. Label image only contains 116 labels (including background).\n",
      "  warnings.warn(\n",
      "c:\\Users\\ishsh\\OneDrive\\Desktop\\QML_Project\\venv4qml\\Lib\\site-packages\\nilearn\\maskers\\nifti_labels_masker.py:888: UserWarning: After resampling the label image to the data image, the following labels were removed: {5102}. Label image only contains 116 labels (including background).\n",
      "  warnings.warn(\n",
      "c:\\Users\\ishsh\\OneDrive\\Desktop\\QML_Project\\venv4qml\\Lib\\site-packages\\nilearn\\maskers\\nifti_labels_masker.py:888: UserWarning: After resampling the label image to the data image, the following labels were removed: {5202, 5101, 5102}. Label image only contains 114 labels (including background).\n",
      "  warnings.warn(\n",
      "c:\\Users\\ishsh\\OneDrive\\Desktop\\QML_Project\\venv4qml\\Lib\\site-packages\\nilearn\\maskers\\nifti_labels_masker.py:888: UserWarning: After resampling the label image to the data image, the following labels were removed: {6102}. Label image only contains 116 labels (including background).\n",
      "  warnings.warn(\n",
      "c:\\Users\\ishsh\\OneDrive\\Desktop\\QML_Project\\venv4qml\\Lib\\site-packages\\nilearn\\maskers\\nifti_labels_masker.py:888: UserWarning: After resampling the label image to the data image, the following labels were removed: {5101, 5102}. Label image only contains 115 labels (including background).\n",
      "  warnings.warn(\n",
      "c:\\Users\\ishsh\\OneDrive\\Desktop\\QML_Project\\venv4qml\\Lib\\site-packages\\nilearn\\maskers\\nifti_labels_masker.py:888: UserWarning: After resampling the label image to the data image, the following labels were removed: {5101, 5102}. Label image only contains 115 labels (including background).\n",
      "  warnings.warn(\n",
      "c:\\Users\\ishsh\\OneDrive\\Desktop\\QML_Project\\venv4qml\\Lib\\site-packages\\nilearn\\maskers\\nifti_labels_masker.py:888: UserWarning: After resampling the label image to the data image, the following labels were removed: {5101, 5102, 5202, 5011, 5012, 5302}. Label image only contains 111 labels (including background).\n",
      "  warnings.warn(\n",
      "c:\\Users\\ishsh\\OneDrive\\Desktop\\QML_Project\\venv4qml\\Lib\\site-packages\\nilearn\\maskers\\nifti_labels_masker.py:888: UserWarning: After resampling the label image to the data image, the following labels were removed: {5202, 5102, 5101, 5302}. Label image only contains 113 labels (including background).\n",
      "  warnings.warn(\n",
      "c:\\Users\\ishsh\\OneDrive\\Desktop\\QML_Project\\venv4qml\\Lib\\site-packages\\nilearn\\maskers\\nifti_labels_masker.py:888: UserWarning: After resampling the label image to the data image, the following labels were removed: {9061, 9062, 9160, 9001, 9002, 9071, 9072, 9170, 9011, 9012, 9140, 9081, 9082, 9051, 9052, 9150}. Label image only contains 101 labels (including background).\n",
      "  warnings.warn(\n",
      "c:\\Users\\ishsh\\OneDrive\\Desktop\\QML_Project\\venv4qml\\Lib\\site-packages\\nilearn\\maskers\\nifti_labels_masker.py:888: UserWarning: After resampling the label image to the data image, the following labels were removed: {9081, 9052}. Label image only contains 115 labels (including background).\n",
      "  warnings.warn(\n",
      "c:\\Users\\ishsh\\OneDrive\\Desktop\\QML_Project\\venv4qml\\Lib\\site-packages\\nilearn\\maskers\\nifti_labels_masker.py:888: UserWarning: After resampling the label image to the data image, the following labels were removed: {5101, 5102, 5202, 5011, 5012, 6101}. Label image only contains 111 labels (including background).\n",
      "  warnings.warn(\n",
      "c:\\Users\\ishsh\\OneDrive\\Desktop\\QML_Project\\venv4qml\\Lib\\site-packages\\nilearn\\maskers\\nifti_labels_masker.py:888: UserWarning: After resampling the label image to the data image, the following labels were removed: {5101, 5102}. Label image only contains 115 labels (including background).\n",
      "  warnings.warn(\n",
      "c:\\Users\\ishsh\\OneDrive\\Desktop\\QML_Project\\venv4qml\\Lib\\site-packages\\nilearn\\maskers\\nifti_labels_masker.py:888: UserWarning: After resampling the label image to the data image, the following labels were removed: {9081, 9082, 9052}. Label image only contains 114 labels (including background).\n",
      "  warnings.warn(\n",
      "c:\\Users\\ishsh\\OneDrive\\Desktop\\QML_Project\\venv4qml\\Lib\\site-packages\\nilearn\\maskers\\nifti_labels_masker.py:888: UserWarning: After resampling the label image to the data image, the following labels were removed: {5101, 5102, 5202, 9140, 5301, 5302, 9150}. Label image only contains 110 labels (including background).\n",
      "  warnings.warn(\n",
      "c:\\Users\\ishsh\\OneDrive\\Desktop\\QML_Project\\venv4qml\\Lib\\site-packages\\nilearn\\maskers\\nifti_labels_masker.py:888: UserWarning: After resampling the label image to the data image, the following labels were removed: {5202, 5101, 5102}. Label image only contains 114 labels (including background).\n",
      "  warnings.warn(\n",
      "c:\\Users\\ishsh\\OneDrive\\Desktop\\QML_Project\\venv4qml\\Lib\\site-packages\\nilearn\\maskers\\nifti_labels_masker.py:888: UserWarning: After resampling the label image to the data image, the following labels were removed: {5101, 5102}. Label image only contains 115 labels (including background).\n",
      "  warnings.warn(\n",
      "c:\\Users\\ishsh\\OneDrive\\Desktop\\QML_Project\\venv4qml\\Lib\\site-packages\\nilearn\\maskers\\nifti_labels_masker.py:888: UserWarning: After resampling the label image to the data image, the following labels were removed: {5101, 5102}. Label image only contains 115 labels (including background).\n",
      "  warnings.warn(\n",
      "c:\\Users\\ishsh\\OneDrive\\Desktop\\QML_Project\\venv4qml\\Lib\\site-packages\\nilearn\\maskers\\nifti_labels_masker.py:888: UserWarning: After resampling the label image to the data image, the following labels were removed: {9071, 9072, 9081, 9082, 9051, 9052}. Label image only contains 111 labels (including background).\n",
      "  warnings.warn(\n",
      "c:\\Users\\ishsh\\OneDrive\\Desktop\\QML_Project\\venv4qml\\Lib\\site-packages\\nilearn\\maskers\\nifti_labels_masker.py:888: UserWarning: After resampling the label image to the data image, the following labels were removed: {5101, 5102, 5201, 5202, 9140, 5012, 5302}. Label image only contains 110 labels (including background).\n",
      "  warnings.warn(\n",
      "c:\\Users\\ishsh\\OneDrive\\Desktop\\QML_Project\\venv4qml\\Lib\\site-packages\\nilearn\\maskers\\nifti_labels_masker.py:888: UserWarning: After resampling the label image to the data image, the following labels were removed: {9051}. Label image only contains 116 labels (including background).\n",
      "  warnings.warn(\n",
      "c:\\Users\\ishsh\\OneDrive\\Desktop\\QML_Project\\venv4qml\\Lib\\site-packages\\nilearn\\maskers\\nifti_labels_masker.py:888: UserWarning: After resampling the label image to the data image, the following labels were removed: {5202, 5102}. Label image only contains 115 labels (including background).\n",
      "  warnings.warn(\n",
      "c:\\Users\\ishsh\\OneDrive\\Desktop\\QML_Project\\venv4qml\\Lib\\site-packages\\nilearn\\maskers\\nifti_labels_masker.py:888: UserWarning: After resampling the label image to the data image, the following labels were removed: {5202, 5102}. Label image only contains 115 labels (including background).\n",
      "  warnings.warn(\n",
      "c:\\Users\\ishsh\\OneDrive\\Desktop\\QML_Project\\venv4qml\\Lib\\site-packages\\nilearn\\maskers\\nifti_labels_masker.py:888: UserWarning: After resampling the label image to the data image, the following labels were removed: {5101, 5102}. Label image only contains 115 labels (including background).\n",
      "  warnings.warn(\n",
      "c:\\Users\\ishsh\\OneDrive\\Desktop\\QML_Project\\venv4qml\\Lib\\site-packages\\nilearn\\maskers\\nifti_labels_masker.py:888: UserWarning: After resampling the label image to the data image, the following labels were removed: {5101, 5102}. Label image only contains 115 labels (including background).\n",
      "  warnings.warn(\n",
      "c:\\Users\\ishsh\\OneDrive\\Desktop\\QML_Project\\venv4qml\\Lib\\site-packages\\nilearn\\maskers\\nifti_labels_masker.py:888: UserWarning: After resampling the label image to the data image, the following labels were removed: {5101}. Label image only contains 116 labels (including background).\n",
      "  warnings.warn(\n",
      "c:\\Users\\ishsh\\OneDrive\\Desktop\\QML_Project\\venv4qml\\Lib\\site-packages\\nilearn\\maskers\\nifti_labels_masker.py:888: UserWarning: After resampling the label image to the data image, the following labels were removed: {5101, 5102, 5201, 5202, 5011, 5012}. Label image only contains 111 labels (including background).\n",
      "  warnings.warn(\n",
      "c:\\Users\\ishsh\\OneDrive\\Desktop\\QML_Project\\venv4qml\\Lib\\site-packages\\nilearn\\maskers\\nifti_labels_masker.py:888: UserWarning: After resampling the label image to the data image, the following labels were removed: {5101}. Label image only contains 116 labels (including background).\n",
      "  warnings.warn(\n",
      "c:\\Users\\ishsh\\OneDrive\\Desktop\\QML_Project\\venv4qml\\Lib\\site-packages\\nilearn\\maskers\\nifti_labels_masker.py:888: UserWarning: After resampling the label image to the data image, the following labels were removed: {5102}. Label image only contains 116 labels (including background).\n",
      "  warnings.warn(\n",
      "c:\\Users\\ishsh\\OneDrive\\Desktop\\QML_Project\\venv4qml\\Lib\\site-packages\\nilearn\\maskers\\nifti_labels_masker.py:888: UserWarning: After resampling the label image to the data image, the following labels were removed: {5101, 5102}. Label image only contains 115 labels (including background).\n",
      "  warnings.warn(\n",
      "c:\\Users\\ishsh\\OneDrive\\Desktop\\QML_Project\\venv4qml\\Lib\\site-packages\\nilearn\\maskers\\nifti_labels_masker.py:888: UserWarning: After resampling the label image to the data image, the following labels were removed: {5101, 5102, 5201, 5202, 5011, 5012, 6101}. Label image only contains 110 labels (including background).\n",
      "  warnings.warn(\n",
      "c:\\Users\\ishsh\\OneDrive\\Desktop\\QML_Project\\venv4qml\\Lib\\site-packages\\nilearn\\maskers\\nifti_labels_masker.py:888: UserWarning: After resampling the label image to the data image, the following labels were removed: {5202, 5101, 5102}. Label image only contains 114 labels (including background).\n",
      "  warnings.warn(\n",
      "c:\\Users\\ishsh\\OneDrive\\Desktop\\QML_Project\\venv4qml\\Lib\\site-packages\\nilearn\\maskers\\nifti_labels_masker.py:888: UserWarning: After resampling the label image to the data image, the following labels were removed: {5202, 5101, 5102}. Label image only contains 114 labels (including background).\n",
      "  warnings.warn(\n",
      "c:\\Users\\ishsh\\OneDrive\\Desktop\\QML_Project\\venv4qml\\Lib\\site-packages\\nilearn\\maskers\\nifti_labels_masker.py:888: UserWarning: After resampling the label image to the data image, the following labels were removed: {5202, 5101, 5102}. Label image only contains 114 labels (including background).\n",
      "  warnings.warn(\n",
      "c:\\Users\\ishsh\\OneDrive\\Desktop\\QML_Project\\venv4qml\\Lib\\site-packages\\nilearn\\maskers\\nifti_labels_masker.py:888: UserWarning: After resampling the label image to the data image, the following labels were removed: {9130, 6221, 6222, 5101, 5102, 5201, 5202, 5011, 5012, 5301, 5302, 9140, 6101, 9150}. Label image only contains 103 labels (including background).\n",
      "  warnings.warn(\n",
      "c:\\Users\\ishsh\\OneDrive\\Desktop\\QML_Project\\venv4qml\\Lib\\site-packages\\nilearn\\maskers\\nifti_labels_masker.py:888: UserWarning: After resampling the label image to the data image, the following labels were removed: {5101, 5102, 5201, 5202, 5011, 5012, 9140, 5302}. Label image only contains 109 labels (including background).\n",
      "  warnings.warn(\n",
      "c:\\Users\\ishsh\\OneDrive\\Desktop\\QML_Project\\venv4qml\\Lib\\site-packages\\nilearn\\maskers\\nifti_labels_masker.py:888: UserWarning: After resampling the label image to the data image, the following labels were removed: {5101, 5102, 5201, 5202, 5011}. Label image only contains 112 labels (including background).\n",
      "  warnings.warn(\n",
      "c:\\Users\\ishsh\\OneDrive\\Desktop\\QML_Project\\venv4qml\\Lib\\site-packages\\nilearn\\maskers\\nifti_labels_masker.py:888: UserWarning: After resampling the label image to the data image, the following labels were removed: {5202, 5101, 5102}. Label image only contains 114 labels (including background).\n",
      "  warnings.warn(\n",
      "c:\\Users\\ishsh\\OneDrive\\Desktop\\QML_Project\\venv4qml\\Lib\\site-packages\\nilearn\\maskers\\nifti_labels_masker.py:888: UserWarning: After resampling the label image to the data image, the following labels were removed: {5201, 5202, 5101, 5102}. Label image only contains 113 labels (including background).\n",
      "  warnings.warn(\n",
      "c:\\Users\\ishsh\\OneDrive\\Desktop\\QML_Project\\venv4qml\\Lib\\site-packages\\nilearn\\maskers\\nifti_labels_masker.py:888: UserWarning: After resampling the label image to the data image, the following labels were removed: {5101, 5102, 5201, 5202, 5011, 5012, 6101}. Label image only contains 110 labels (including background).\n",
      "  warnings.warn(\n",
      "c:\\Users\\ishsh\\OneDrive\\Desktop\\QML_Project\\venv4qml\\Lib\\site-packages\\nilearn\\maskers\\nifti_labels_masker.py:888: UserWarning: After resampling the label image to the data image, the following labels were removed: {5201, 5101, 5102}. Label image only contains 114 labels (including background).\n",
      "  warnings.warn(\n",
      "c:\\Users\\ishsh\\OneDrive\\Desktop\\QML_Project\\venv4qml\\Lib\\site-packages\\nilearn\\maskers\\nifti_labels_masker.py:888: UserWarning: After resampling the label image to the data image, the following labels were removed: {5101, 5202, 6101, 5102}. Label image only contains 113 labels (including background).\n",
      "  warnings.warn(\n",
      "c:\\Users\\ishsh\\OneDrive\\Desktop\\QML_Project\\venv4qml\\Lib\\site-packages\\nilearn\\maskers\\nifti_labels_masker.py:888: UserWarning: After resampling the label image to the data image, the following labels were removed: {5101, 6222, 5102, 5201, 5202, 5011, 5012, 9140, 5302, 6101, 6102}. Label image only contains 106 labels (including background).\n",
      "  warnings.warn(\n",
      "c:\\Users\\ishsh\\OneDrive\\Desktop\\QML_Project\\venv4qml\\Lib\\site-packages\\nilearn\\maskers\\nifti_labels_masker.py:888: UserWarning: After resampling the label image to the data image, the following labels were removed: {5101, 5102}. Label image only contains 115 labels (including background).\n",
      "  warnings.warn(\n",
      "c:\\Users\\ishsh\\OneDrive\\Desktop\\QML_Project\\venv4qml\\Lib\\site-packages\\nilearn\\maskers\\nifti_labels_masker.py:888: UserWarning: After resampling the label image to the data image, the following labels were removed: {5101, 5102}. Label image only contains 115 labels (including background).\n",
      "  warnings.warn(\n",
      "c:\\Users\\ishsh\\OneDrive\\Desktop\\QML_Project\\venv4qml\\Lib\\site-packages\\nilearn\\maskers\\nifti_labels_masker.py:888: UserWarning: After resampling the label image to the data image, the following labels were removed: {5101, 5102}. Label image only contains 115 labels (including background).\n",
      "  warnings.warn(\n",
      "c:\\Users\\ishsh\\OneDrive\\Desktop\\QML_Project\\venv4qml\\Lib\\site-packages\\nilearn\\maskers\\nifti_labels_masker.py:888: UserWarning: After resampling the label image to the data image, the following labels were removed: {5102}. Label image only contains 116 labels (including background).\n",
      "  warnings.warn(\n",
      "c:\\Users\\ishsh\\OneDrive\\Desktop\\QML_Project\\venv4qml\\Lib\\site-packages\\nilearn\\maskers\\nifti_labels_masker.py:888: UserWarning: After resampling the label image to the data image, the following labels were removed: {5102}. Label image only contains 116 labels (including background).\n",
      "  warnings.warn(\n",
      "c:\\Users\\ishsh\\OneDrive\\Desktop\\QML_Project\\venv4qml\\Lib\\site-packages\\nilearn\\maskers\\nifti_labels_masker.py:888: UserWarning: After resampling the label image to the data image, the following labels were removed: {5101, 5102}. Label image only contains 115 labels (including background).\n",
      "  warnings.warn(\n",
      "c:\\Users\\ishsh\\OneDrive\\Desktop\\QML_Project\\venv4qml\\Lib\\site-packages\\nilearn\\maskers\\nifti_labels_masker.py:888: UserWarning: After resampling the label image to the data image, the following labels were removed: {5101, 5102}. Label image only contains 115 labels (including background).\n",
      "  warnings.warn(\n",
      "c:\\Users\\ishsh\\OneDrive\\Desktop\\QML_Project\\venv4qml\\Lib\\site-packages\\nilearn\\maskers\\nifti_labels_masker.py:888: UserWarning: After resampling the label image to the data image, the following labels were removed: {6221, 6222, 5101, 5102, 5201, 5202, 5011, 5012, 5301, 5302, 9140, 6101}. Label image only contains 105 labels (including background).\n",
      "  warnings.warn(\n",
      "c:\\Users\\ishsh\\OneDrive\\Desktop\\QML_Project\\venv4qml\\Lib\\site-packages\\nilearn\\maskers\\nifti_labels_masker.py:888: UserWarning: After resampling the label image to the data image, the following labels were removed: {5101, 5102}. Label image only contains 115 labels (including background).\n",
      "  warnings.warn(\n",
      "c:\\Users\\ishsh\\OneDrive\\Desktop\\QML_Project\\venv4qml\\Lib\\site-packages\\nilearn\\maskers\\nifti_labels_masker.py:888: UserWarning: After resampling the label image to the data image, the following labels were removed: {5102}. Label image only contains 116 labels (including background).\n",
      "  warnings.warn(\n",
      "c:\\Users\\ishsh\\OneDrive\\Desktop\\QML_Project\\venv4qml\\Lib\\site-packages\\nilearn\\maskers\\nifti_labels_masker.py:888: UserWarning: After resampling the label image to the data image, the following labels were removed: {5202, 5101, 5102}. Label image only contains 114 labels (including background).\n",
      "  warnings.warn(\n",
      "c:\\Users\\ishsh\\OneDrive\\Desktop\\QML_Project\\venv4qml\\Lib\\site-packages\\nilearn\\maskers\\nifti_labels_masker.py:888: UserWarning: After resampling the label image to the data image, the following labels were removed: {5202, 5012, 5101, 5102}. Label image only contains 113 labels (including background).\n",
      "  warnings.warn(\n",
      "c:\\Users\\ishsh\\OneDrive\\Desktop\\QML_Project\\venv4qml\\Lib\\site-packages\\nilearn\\maskers\\nifti_labels_masker.py:888: UserWarning: After resampling the label image to the data image, the following labels were removed: {5102}. Label image only contains 116 labels (including background).\n",
      "  warnings.warn(\n",
      "c:\\Users\\ishsh\\OneDrive\\Desktop\\QML_Project\\venv4qml\\Lib\\site-packages\\nilearn\\maskers\\nifti_labels_masker.py:888: UserWarning: After resampling the label image to the data image, the following labels were removed: {5101, 5102}. Label image only contains 115 labels (including background).\n",
      "  warnings.warn(\n",
      "c:\\Users\\ishsh\\OneDrive\\Desktop\\QML_Project\\venv4qml\\Lib\\site-packages\\nilearn\\maskers\\nifti_labels_masker.py:888: UserWarning: After resampling the label image to the data image, the following labels were removed: {9051, 9052, 9061, 9062}. Label image only contains 113 labels (including background).\n",
      "  warnings.warn(\n",
      "c:\\Users\\ishsh\\OneDrive\\Desktop\\QML_Project\\venv4qml\\Lib\\site-packages\\nilearn\\maskers\\nifti_labels_masker.py:888: UserWarning: After resampling the label image to the data image, the following labels were removed: {5202, 5012, 5101, 5102}. Label image only contains 113 labels (including background).\n",
      "  warnings.warn(\n",
      "c:\\Users\\ishsh\\OneDrive\\Desktop\\QML_Project\\venv4qml\\Lib\\site-packages\\nilearn\\maskers\\nifti_labels_masker.py:888: UserWarning: After resampling the label image to the data image, the following labels were removed: {5101, 5102, 5202, 5011, 5012, 6101}. Label image only contains 111 labels (including background).\n",
      "  warnings.warn(\n",
      "c:\\Users\\ishsh\\OneDrive\\Desktop\\QML_Project\\venv4qml\\Lib\\site-packages\\nilearn\\maskers\\nifti_labels_masker.py:888: UserWarning: After resampling the label image to the data image, the following labels were removed: {6221, 5101, 5102, 5201, 5202, 5011, 5012, 5301, 5302, 9140}. Label image only contains 107 labels (including background).\n",
      "  warnings.warn(\n",
      "c:\\Users\\ishsh\\OneDrive\\Desktop\\QML_Project\\venv4qml\\Lib\\site-packages\\nilearn\\maskers\\nifti_labels_masker.py:888: UserWarning: After resampling the label image to the data image, the following labels were removed: {5202, 5101, 5102}. Label image only contains 114 labels (including background).\n",
      "  warnings.warn(\n",
      "c:\\Users\\ishsh\\OneDrive\\Desktop\\QML_Project\\venv4qml\\Lib\\site-packages\\nilearn\\maskers\\nifti_labels_masker.py:888: UserWarning: After resampling the label image to the data image, the following labels were removed: {5202, 5101, 5102}. Label image only contains 114 labels (including background).\n",
      "  warnings.warn(\n",
      "c:\\Users\\ishsh\\OneDrive\\Desktop\\QML_Project\\venv4qml\\Lib\\site-packages\\nilearn\\maskers\\nifti_labels_masker.py:888: UserWarning: After resampling the label image to the data image, the following labels were removed: {5202, 5101, 5102}. Label image only contains 114 labels (including background).\n",
      "  warnings.warn(\n",
      "c:\\Users\\ishsh\\OneDrive\\Desktop\\QML_Project\\venv4qml\\Lib\\site-packages\\nilearn\\maskers\\nifti_labels_masker.py:888: UserWarning: After resampling the label image to the data image, the following labels were removed: {5202, 5101, 5102}. Label image only contains 114 labels (including background).\n",
      "  warnings.warn(\n",
      "c:\\Users\\ishsh\\OneDrive\\Desktop\\QML_Project\\venv4qml\\Lib\\site-packages\\nilearn\\maskers\\nifti_labels_masker.py:888: UserWarning: After resampling the label image to the data image, the following labels were removed: {5101, 5102, 5201, 5202, 5011, 5012}. Label image only contains 111 labels (including background).\n",
      "  warnings.warn(\n",
      "c:\\Users\\ishsh\\OneDrive\\Desktop\\QML_Project\\venv4qml\\Lib\\site-packages\\nilearn\\maskers\\nifti_labels_masker.py:888: UserWarning: After resampling the label image to the data image, the following labels were removed: {5202, 5101, 5102}. Label image only contains 114 labels (including background).\n",
      "  warnings.warn(\n",
      "c:\\Users\\ishsh\\OneDrive\\Desktop\\QML_Project\\venv4qml\\Lib\\site-packages\\nilearn\\maskers\\nifti_labels_masker.py:888: UserWarning: After resampling the label image to the data image, the following labels were removed: {5202, 5101, 5102}. Label image only contains 114 labels (including background).\n",
      "  warnings.warn(\n",
      "c:\\Users\\ishsh\\OneDrive\\Desktop\\QML_Project\\venv4qml\\Lib\\site-packages\\nilearn\\maskers\\nifti_labels_masker.py:888: UserWarning: After resampling the label image to the data image, the following labels were removed: {5202, 5101, 5102}. Label image only contains 114 labels (including background).\n",
      "  warnings.warn(\n",
      "c:\\Users\\ishsh\\OneDrive\\Desktop\\QML_Project\\venv4qml\\Lib\\site-packages\\nilearn\\maskers\\nifti_labels_masker.py:888: UserWarning: After resampling the label image to the data image, the following labels were removed: {5201, 5101, 5102}. Label image only contains 114 labels (including background).\n",
      "  warnings.warn(\n",
      "c:\\Users\\ishsh\\OneDrive\\Desktop\\QML_Project\\venv4qml\\Lib\\site-packages\\nilearn\\maskers\\nifti_labels_masker.py:888: UserWarning: After resampling the label image to the data image, the following labels were removed: {5101, 5102}. Label image only contains 115 labels (including background).\n",
      "  warnings.warn(\n",
      "c:\\Users\\ishsh\\OneDrive\\Desktop\\QML_Project\\venv4qml\\Lib\\site-packages\\nilearn\\maskers\\nifti_labels_masker.py:888: UserWarning: After resampling the label image to the data image, the following labels were removed: {5101, 5102}. Label image only contains 115 labels (including background).\n",
      "  warnings.warn(\n",
      "c:\\Users\\ishsh\\OneDrive\\Desktop\\QML_Project\\venv4qml\\Lib\\site-packages\\nilearn\\maskers\\nifti_labels_masker.py:888: UserWarning: After resampling the label image to the data image, the following labels were removed: {5102}. Label image only contains 116 labels (including background).\n",
      "  warnings.warn(\n",
      "c:\\Users\\ishsh\\OneDrive\\Desktop\\QML_Project\\venv4qml\\Lib\\site-packages\\nilearn\\maskers\\nifti_labels_masker.py:888: UserWarning: After resampling the label image to the data image, the following labels were removed: {5201, 5202, 5101, 5102}. Label image only contains 113 labels (including background).\n",
      "  warnings.warn(\n",
      "c:\\Users\\ishsh\\OneDrive\\Desktop\\QML_Project\\venv4qml\\Lib\\site-packages\\nilearn\\maskers\\nifti_labels_masker.py:888: UserWarning: After resampling the label image to the data image, the following labels were removed: {5101, 5102}. Label image only contains 115 labels (including background).\n",
      "  warnings.warn(\n",
      "c:\\Users\\ishsh\\OneDrive\\Desktop\\QML_Project\\venv4qml\\Lib\\site-packages\\nilearn\\maskers\\nifti_labels_masker.py:888: UserWarning: After resampling the label image to the data image, the following labels were removed: {5202, 5101, 5102}. Label image only contains 114 labels (including background).\n",
      "  warnings.warn(\n",
      "c:\\Users\\ishsh\\OneDrive\\Desktop\\QML_Project\\venv4qml\\Lib\\site-packages\\nilearn\\maskers\\nifti_labels_masker.py:888: UserWarning: After resampling the label image to the data image, the following labels were removed: {5102}. Label image only contains 116 labels (including background).\n",
      "  warnings.warn(\n",
      "c:\\Users\\ishsh\\OneDrive\\Desktop\\QML_Project\\venv4qml\\Lib\\site-packages\\nilearn\\maskers\\nifti_labels_masker.py:888: UserWarning: After resampling the label image to the data image, the following labels were removed: {5101, 5102}. Label image only contains 115 labels (including background).\n",
      "  warnings.warn(\n",
      "c:\\Users\\ishsh\\OneDrive\\Desktop\\QML_Project\\venv4qml\\Lib\\site-packages\\nilearn\\maskers\\nifti_labels_masker.py:888: UserWarning: After resampling the label image to the data image, the following labels were removed: {5101, 6101, 5102}. Label image only contains 114 labels (including background).\n",
      "  warnings.warn(\n",
      "c:\\Users\\ishsh\\OneDrive\\Desktop\\QML_Project\\venv4qml\\Lib\\site-packages\\nilearn\\maskers\\nifti_labels_masker.py:888: UserWarning: After resampling the label image to the data image, the following labels were removed: {5102}. Label image only contains 116 labels (including background).\n",
      "  warnings.warn(\n",
      "c:\\Users\\ishsh\\OneDrive\\Desktop\\QML_Project\\venv4qml\\Lib\\site-packages\\nilearn\\maskers\\nifti_labels_masker.py:888: UserWarning: After resampling the label image to the data image, the following labels were removed: {5101, 5102}. Label image only contains 115 labels (including background).\n",
      "  warnings.warn(\n",
      "c:\\Users\\ishsh\\OneDrive\\Desktop\\QML_Project\\venv4qml\\Lib\\site-packages\\nilearn\\maskers\\nifti_labels_masker.py:888: UserWarning: After resampling the label image to the data image, the following labels were removed: {5101, 5102}. Label image only contains 115 labels (including background).\n",
      "  warnings.warn(\n",
      "c:\\Users\\ishsh\\OneDrive\\Desktop\\QML_Project\\venv4qml\\Lib\\site-packages\\nilearn\\maskers\\nifti_labels_masker.py:888: UserWarning: After resampling the label image to the data image, the following labels were removed: {5101, 6101, 5102}. Label image only contains 114 labels (including background).\n",
      "  warnings.warn(\n",
      "c:\\Users\\ishsh\\OneDrive\\Desktop\\QML_Project\\venv4qml\\Lib\\site-packages\\nilearn\\maskers\\nifti_labels_masker.py:888: UserWarning: After resampling the label image to the data image, the following labels were removed: {5202, 5101, 5102}. Label image only contains 114 labels (including background).\n",
      "  warnings.warn(\n",
      "c:\\Users\\ishsh\\OneDrive\\Desktop\\QML_Project\\venv4qml\\Lib\\site-packages\\nilearn\\maskers\\nifti_labels_masker.py:888: UserWarning: After resampling the label image to the data image, the following labels were removed: {5101, 6221, 5102, 5201, 5011}. Label image only contains 112 labels (including background).\n",
      "  warnings.warn(\n",
      "c:\\Users\\ishsh\\OneDrive\\Desktop\\QML_Project\\venv4qml\\Lib\\site-packages\\nilearn\\maskers\\nifti_labels_masker.py:888: UserWarning: After resampling the label image to the data image, the following labels were removed: {5101, 5102}. Label image only contains 115 labels (including background).\n",
      "  warnings.warn(\n",
      "c:\\Users\\ishsh\\OneDrive\\Desktop\\QML_Project\\venv4qml\\Lib\\site-packages\\nilearn\\maskers\\nifti_labels_masker.py:888: UserWarning: After resampling the label image to the data image, the following labels were removed: {5101, 6101, 5102}. Label image only contains 114 labels (including background).\n",
      "  warnings.warn(\n",
      "c:\\Users\\ishsh\\OneDrive\\Desktop\\QML_Project\\venv4qml\\Lib\\site-packages\\nilearn\\maskers\\nifti_labels_masker.py:888: UserWarning: After resampling the label image to the data image, the following labels were removed: {5101, 5102}. Label image only contains 115 labels (including background).\n",
      "  warnings.warn(\n",
      "c:\\Users\\ishsh\\OneDrive\\Desktop\\QML_Project\\venv4qml\\Lib\\site-packages\\nilearn\\maskers\\nifti_labels_masker.py:888: UserWarning: After resampling the label image to the data image, the following labels were removed: {5101, 5102}. Label image only contains 115 labels (including background).\n",
      "  warnings.warn(\n",
      "c:\\Users\\ishsh\\OneDrive\\Desktop\\QML_Project\\venv4qml\\Lib\\site-packages\\nilearn\\maskers\\nifti_labels_masker.py:888: UserWarning: After resampling the label image to the data image, the following labels were removed: {5101}. Label image only contains 116 labels (including background).\n",
      "  warnings.warn(\n",
      "c:\\Users\\ishsh\\OneDrive\\Desktop\\QML_Project\\venv4qml\\Lib\\site-packages\\nilearn\\maskers\\nifti_labels_masker.py:888: UserWarning: After resampling the label image to the data image, the following labels were removed: {5101}. Label image only contains 116 labels (including background).\n",
      "  warnings.warn(\n",
      "c:\\Users\\ishsh\\OneDrive\\Desktop\\QML_Project\\venv4qml\\Lib\\site-packages\\nilearn\\maskers\\nifti_labels_masker.py:888: UserWarning: After resampling the label image to the data image, the following labels were removed: {5202, 5101, 5102}. Label image only contains 114 labels (including background).\n",
      "  warnings.warn(\n",
      "c:\\Users\\ishsh\\OneDrive\\Desktop\\QML_Project\\venv4qml\\Lib\\site-packages\\nilearn\\maskers\\nifti_labels_masker.py:888: UserWarning: After resampling the label image to the data image, the following labels were removed: {5101, 5102}. Label image only contains 115 labels (including background).\n",
      "  warnings.warn(\n",
      "c:\\Users\\ishsh\\OneDrive\\Desktop\\QML_Project\\venv4qml\\Lib\\site-packages\\nilearn\\maskers\\nifti_labels_masker.py:888: UserWarning: After resampling the label image to the data image, the following labels were removed: {5101, 5102}. Label image only contains 115 labels (including background).\n",
      "  warnings.warn(\n",
      "c:\\Users\\ishsh\\OneDrive\\Desktop\\QML_Project\\venv4qml\\Lib\\site-packages\\nilearn\\maskers\\nifti_labels_masker.py:888: UserWarning: After resampling the label image to the data image, the following labels were removed: {5101, 5102, 5201, 5202, 5011}. Label image only contains 112 labels (including background).\n",
      "  warnings.warn(\n",
      "c:\\Users\\ishsh\\OneDrive\\Desktop\\QML_Project\\venv4qml\\Lib\\site-packages\\nilearn\\maskers\\nifti_labels_masker.py:888: UserWarning: After resampling the label image to the data image, the following labels were removed: {5101, 5102}. Label image only contains 115 labels (including background).\n",
      "  warnings.warn(\n",
      "c:\\Users\\ishsh\\OneDrive\\Desktop\\QML_Project\\venv4qml\\Lib\\site-packages\\nilearn\\maskers\\nifti_labels_masker.py:888: UserWarning: After resampling the label image to the data image, the following labels were removed: {5101, 5102, 5201, 5202, 5011}. Label image only contains 112 labels (including background).\n",
      "  warnings.warn(\n",
      "c:\\Users\\ishsh\\OneDrive\\Desktop\\QML_Project\\venv4qml\\Lib\\site-packages\\nilearn\\maskers\\nifti_labels_masker.py:888: UserWarning: After resampling the label image to the data image, the following labels were removed: {5101, 5102}. Label image only contains 115 labels (including background).\n",
      "  warnings.warn(\n",
      "c:\\Users\\ishsh\\OneDrive\\Desktop\\QML_Project\\venv4qml\\Lib\\site-packages\\nilearn\\maskers\\nifti_labels_masker.py:888: UserWarning: After resampling the label image to the data image, the following labels were removed: {5102}. Label image only contains 116 labels (including background).\n",
      "  warnings.warn(\n",
      "c:\\Users\\ishsh\\OneDrive\\Desktop\\QML_Project\\venv4qml\\Lib\\site-packages\\nilearn\\maskers\\nifti_labels_masker.py:888: UserWarning: After resampling the label image to the data image, the following labels were removed: {5101, 5102}. Label image only contains 115 labels (including background).\n",
      "  warnings.warn(\n",
      "c:\\Users\\ishsh\\OneDrive\\Desktop\\QML_Project\\venv4qml\\Lib\\site-packages\\nilearn\\maskers\\nifti_labels_masker.py:888: UserWarning: After resampling the label image to the data image, the following labels were removed: {9081}. Label image only contains 116 labels (including background).\n",
      "  warnings.warn(\n",
      "c:\\Users\\ishsh\\OneDrive\\Desktop\\QML_Project\\venv4qml\\Lib\\site-packages\\nilearn\\maskers\\nifti_labels_masker.py:888: UserWarning: After resampling the label image to the data image, the following labels were removed: {5101, 5102}. Label image only contains 115 labels (including background).\n",
      "  warnings.warn(\n",
      "c:\\Users\\ishsh\\OneDrive\\Desktop\\QML_Project\\venv4qml\\Lib\\site-packages\\nilearn\\maskers\\nifti_labels_masker.py:888: UserWarning: After resampling the label image to the data image, the following labels were removed: {5101, 5102}. Label image only contains 115 labels (including background).\n",
      "  warnings.warn(\n",
      "c:\\Users\\ishsh\\OneDrive\\Desktop\\QML_Project\\venv4qml\\Lib\\site-packages\\nilearn\\maskers\\nifti_labels_masker.py:888: UserWarning: After resampling the label image to the data image, the following labels were removed: {5101, 5102, 5201, 5202, 5011, 5012, 6101}. Label image only contains 110 labels (including background).\n",
      "  warnings.warn(\n",
      "c:\\Users\\ishsh\\OneDrive\\Desktop\\QML_Project\\venv4qml\\Lib\\site-packages\\nilearn\\maskers\\nifti_labels_masker.py:888: UserWarning: After resampling the label image to the data image, the following labels were removed: {5101, 5102}. Label image only contains 115 labels (including background).\n",
      "  warnings.warn(\n",
      "c:\\Users\\ishsh\\OneDrive\\Desktop\\QML_Project\\venv4qml\\Lib\\site-packages\\nilearn\\maskers\\nifti_labels_masker.py:888: UserWarning: After resampling the label image to the data image, the following labels were removed: {9071, 9072, 9081, 9082, 9051, 9052}. Label image only contains 111 labels (including background).\n",
      "  warnings.warn(\n",
      "c:\\Users\\ishsh\\OneDrive\\Desktop\\QML_Project\\venv4qml\\Lib\\site-packages\\nilearn\\maskers\\nifti_labels_masker.py:888: UserWarning: After resampling the label image to the data image, the following labels were removed: {5101, 5102}. Label image only contains 115 labels (including background).\n",
      "  warnings.warn(\n",
      "c:\\Users\\ishsh\\OneDrive\\Desktop\\QML_Project\\venv4qml\\Lib\\site-packages\\nilearn\\maskers\\nifti_labels_masker.py:888: UserWarning: After resampling the label image to the data image, the following labels were removed: {9061, 9062, 9160, 9071, 9072, 9012, 9081, 9082, 9051, 9052}. Label image only contains 107 labels (including background).\n",
      "  warnings.warn(\n",
      "c:\\Users\\ishsh\\OneDrive\\Desktop\\QML_Project\\venv4qml\\Lib\\site-packages\\nilearn\\maskers\\nifti_labels_masker.py:888: UserWarning: After resampling the label image to the data image, the following labels were removed: {6221, 5101, 5102, 5201, 5202, 5011, 5012, 5301, 5302, 9140}. Label image only contains 107 labels (including background).\n",
      "  warnings.warn(\n",
      "c:\\Users\\ishsh\\OneDrive\\Desktop\\QML_Project\\venv4qml\\Lib\\site-packages\\nilearn\\maskers\\nifti_labels_masker.py:888: UserWarning: After resampling the label image to the data image, the following labels were removed: {5101, 5102, 5202, 5012, 5302}. Label image only contains 112 labels (including background).\n",
      "  warnings.warn(\n",
      "c:\\Users\\ishsh\\OneDrive\\Desktop\\QML_Project\\venv4qml\\Lib\\site-packages\\nilearn\\maskers\\nifti_labels_masker.py:888: UserWarning: After resampling the label image to the data image, the following labels were removed: {5101, 5102}. Label image only contains 115 labels (including background).\n",
      "  warnings.warn(\n",
      "c:\\Users\\ishsh\\OneDrive\\Desktop\\QML_Project\\venv4qml\\Lib\\site-packages\\nilearn\\maskers\\nifti_labels_masker.py:888: UserWarning: After resampling the label image to the data image, the following labels were removed: {5101, 5102}. Label image only contains 115 labels (including background).\n",
      "  warnings.warn(\n",
      "c:\\Users\\ishsh\\OneDrive\\Desktop\\QML_Project\\venv4qml\\Lib\\site-packages\\nilearn\\maskers\\nifti_labels_masker.py:888: UserWarning: After resampling the label image to the data image, the following labels were removed: {5001, 5002, 9130, 6221, 6222, 5101, 5102, 5201, 5202, 5011, 5012, 5301, 5302, 9140, 6101, 6102, 9150}. Label image only contains 100 labels (including background).\n",
      "  warnings.warn(\n",
      "c:\\Users\\ishsh\\OneDrive\\Desktop\\QML_Project\\venv4qml\\Lib\\site-packages\\nilearn\\maskers\\nifti_labels_masker.py:888: UserWarning: After resampling the label image to the data image, the following labels were removed: {5202, 5101, 5102}. Label image only contains 114 labels (including background).\n",
      "  warnings.warn(\n",
      "c:\\Users\\ishsh\\OneDrive\\Desktop\\QML_Project\\venv4qml\\Lib\\site-packages\\nilearn\\maskers\\nifti_labels_masker.py:888: UserWarning: After resampling the label image to the data image, the following labels were removed: {5101, 5102}. Label image only contains 115 labels (including background).\n",
      "  warnings.warn(\n",
      "c:\\Users\\ishsh\\OneDrive\\Desktop\\QML_Project\\venv4qml\\Lib\\site-packages\\nilearn\\maskers\\nifti_labels_masker.py:888: UserWarning: After resampling the label image to the data image, the following labels were removed: {5201, 5101, 5102}. Label image only contains 114 labels (including background).\n",
      "  warnings.warn(\n",
      "c:\\Users\\ishsh\\OneDrive\\Desktop\\QML_Project\\venv4qml\\Lib\\site-packages\\nilearn\\maskers\\nifti_labels_masker.py:888: UserWarning: After resampling the label image to the data image, the following labels were removed: {9071, 9072, 9081, 9082, 9051, 9052}. Label image only contains 111 labels (including background).\n",
      "  warnings.warn(\n",
      "c:\\Users\\ishsh\\OneDrive\\Desktop\\QML_Project\\venv4qml\\Lib\\site-packages\\nilearn\\maskers\\nifti_labels_masker.py:888: UserWarning: After resampling the label image to the data image, the following labels were removed: {5101, 5102}. Label image only contains 115 labels (including background).\n",
      "  warnings.warn(\n",
      "c:\\Users\\ishsh\\OneDrive\\Desktop\\QML_Project\\venv4qml\\Lib\\site-packages\\nilearn\\maskers\\nifti_labels_masker.py:888: UserWarning: After resampling the label image to the data image, the following labels were removed: {5202, 5101, 5102}. Label image only contains 114 labels (including background).\n",
      "  warnings.warn(\n",
      "c:\\Users\\ishsh\\OneDrive\\Desktop\\QML_Project\\venv4qml\\Lib\\site-packages\\nilearn\\maskers\\nifti_labels_masker.py:888: UserWarning: After resampling the label image to the data image, the following labels were removed: {5202, 5101, 5102}. Label image only contains 114 labels (including background).\n",
      "  warnings.warn(\n",
      "c:\\Users\\ishsh\\OneDrive\\Desktop\\QML_Project\\venv4qml\\Lib\\site-packages\\nilearn\\maskers\\nifti_labels_masker.py:888: UserWarning: After resampling the label image to the data image, the following labels were removed: {5101, 5102}. Label image only contains 115 labels (including background).\n",
      "  warnings.warn(\n",
      "c:\\Users\\ishsh\\OneDrive\\Desktop\\QML_Project\\venv4qml\\Lib\\site-packages\\nilearn\\maskers\\nifti_labels_masker.py:888: UserWarning: After resampling the label image to the data image, the following labels were removed: {5101, 5102}. Label image only contains 115 labels (including background).\n",
      "  warnings.warn(\n",
      "c:\\Users\\ishsh\\OneDrive\\Desktop\\QML_Project\\venv4qml\\Lib\\site-packages\\nilearn\\maskers\\nifti_labels_masker.py:888: UserWarning: After resampling the label image to the data image, the following labels were removed: {5101, 5102}. Label image only contains 115 labels (including background).\n",
      "  warnings.warn(\n",
      "c:\\Users\\ishsh\\OneDrive\\Desktop\\QML_Project\\venv4qml\\Lib\\site-packages\\nilearn\\maskers\\nifti_labels_masker.py:888: UserWarning: After resampling the label image to the data image, the following labels were removed: {5202, 5012, 5101, 5102}. Label image only contains 113 labels (including background).\n",
      "  warnings.warn(\n",
      "c:\\Users\\ishsh\\OneDrive\\Desktop\\QML_Project\\venv4qml\\Lib\\site-packages\\nilearn\\maskers\\nifti_labels_masker.py:888: UserWarning: After resampling the label image to the data image, the following labels were removed: {6221, 5101, 5102, 5201, 5202, 5011, 5012, 5301, 9140}. Label image only contains 108 labels (including background).\n",
      "  warnings.warn(\n",
      "c:\\Users\\ishsh\\OneDrive\\Desktop\\QML_Project\\venv4qml\\Lib\\site-packages\\nilearn\\maskers\\nifti_labels_masker.py:888: UserWarning: After resampling the label image to the data image, the following labels were removed: {5202, 5101, 5102}. Label image only contains 114 labels (including background).\n",
      "  warnings.warn(\n",
      "c:\\Users\\ishsh\\OneDrive\\Desktop\\QML_Project\\venv4qml\\Lib\\site-packages\\nilearn\\maskers\\nifti_labels_masker.py:888: UserWarning: After resampling the label image to the data image, the following labels were removed: {5202, 5101, 5102}. Label image only contains 114 labels (including background).\n",
      "  warnings.warn(\n",
      "c:\\Users\\ishsh\\OneDrive\\Desktop\\QML_Project\\venv4qml\\Lib\\site-packages\\nilearn\\maskers\\nifti_labels_masker.py:888: UserWarning: After resampling the label image to the data image, the following labels were removed: {5101}. Label image only contains 116 labels (including background).\n",
      "  warnings.warn(\n",
      "c:\\Users\\ishsh\\OneDrive\\Desktop\\QML_Project\\venv4qml\\Lib\\site-packages\\nilearn\\maskers\\nifti_labels_masker.py:888: UserWarning: After resampling the label image to the data image, the following labels were removed: {9071, 9072, 9081, 9082, 9051, 9052}. Label image only contains 111 labels (including background).\n",
      "  warnings.warn(\n",
      "c:\\Users\\ishsh\\OneDrive\\Desktop\\QML_Project\\venv4qml\\Lib\\site-packages\\nilearn\\maskers\\nifti_labels_masker.py:888: UserWarning: After resampling the label image to the data image, the following labels were removed: {5101}. Label image only contains 116 labels (including background).\n",
      "  warnings.warn(\n"
     ]
    },
    {
     "name": "stdout",
     "output_type": "stream",
     "text": [
      "MRI-PET (Anat) Data Path: C:\\Users\\ishsh\\OneDrive\\Desktop\\QML_Project\\data\\processed\\mri_pet\\derivatives\\cleaned_skullstrip\n",
      "PET (Processed) Data Path: C:\\Users\\ishsh\\OneDrive\\Desktop\\QML_Project\\data\\processed\\mri_pet\\derivatives\\preprocessed_pet\n"
     ]
    }
   ],
   "source": [
    "\n",
    "mri_only_data = []\n",
    "reference_mri_skullstrip_path = None\n",
    "max_rois_mri_skullstrip = 0\n",
    "\n",
    "for subject_folder in os.listdir(mri_skullstrip_data_path):\n",
    "    if subject_folder.startswith(\"sub-\"):\n",
    "        mri_path = os.path.join(mri_skullstrip_data_path, subject_folder, \"anat\", f\"{subject_folder}_T1w_skullstripped.nii.gz\")\n",
    "        try:\n",
    "            img = nib.load(mri_path)\n",
    "            masker = input_data.NiftiLabelsMasker(labels_img=atlas_filename, standardize=False)\n",
    "            roi_data = masker.fit_transform(img)\n",
    "            num_rois = roi_data.shape[1]\n",
    "\n",
    "            if num_rois > max_rois_mri_skullstrip:\n",
    "                max_rois_mri_skullstrip = num_rois\n",
    "                reference_mri_skullstrip_path = mri_path\n",
    "            print(f\"(Reference MRI-Only) Subject: {subject_folder}, MRI Path: {mri_path}, ROI Data Shape: {roi_data.shape}\") # DEBUG\n",
    "        except FileNotFoundError:\n",
    "            logging.warning(f\"MRI file not found for subject: {subject_folder} in {mri_path}\")\n",
    "        except Exception as e:\n",
    "            logging.error(f\"Error loading or processing MRI image {mri_path}: {e}\")\n",
    "\n",
    "if reference_mri_skullstrip_path:\n",
    "    _, surviving_mri_skullstrip_labels = extract_roi_features(reference_mri_skullstrip_path, atlas_filename)\n",
    "    print(f\"Surviving MRI-Only labels (after reference): {surviving_mri_skullstrip_labels}\") # DEBUG\n",
    "\n",
    "    for subject_folder in os.listdir(mri_skullstrip_data_path):\n",
    "        if subject_folder.startswith(\"sub-\"):\n",
    "            mri_path = os.path.join(mri_skullstrip_data_path, subject_folder, \"anat\", f\"{subject_folder}_T1w_skullstripped.nii.gz\")\n",
    "            features, _ = extract_roi_features(mri_path, atlas_filename, surviving_mri_skullstrip_labels)\n",
    "            if features is not None:\n",
    "                subject_id = subject_folder\n",
    "                try:\n",
    "                    numeric_id = int(subject_id.replace(\"sub-\", \"\"))\n",
    "                    label = 1 if numeric_id < 4000 else 0\n",
    "                except ValueError:\n",
    "                    logging.warning(f\"Could not extract numeric ID from {subject_folder}. Assigning default label 0.\")\n",
    "                    label = 0\n",
    "                feature_dict = {f'M{i+1}': val for i, val in enumerate(features.flatten())}\n",
    "                mri_only_data.append({'subject_id': subject_id, **feature_dict, 'label': label})\n",
    "else:\n",
    "    logging.error(\"No reference MRI found for MRI-only data. Skipping MRI-only processing.\")\n",
    "\n",
    "print(f\"MRI-PET (Anat) Data Path: {mri_pet_anat_data_path}\") # DEBUG\n",
    "print(f\"PET (Processed) Data Path: {pet_processed_data_path}\") # DEBUG"
   ]
  },
  {
   "cell_type": "markdown",
   "id": "9b09ff47",
   "metadata": {},
   "source": [
    "# Process MRI and PET (from MRI-PET) data"
   ]
  },
  {
   "cell_type": "code",
   "execution_count": 6,
   "id": "834c38c3",
   "metadata": {},
   "outputs": [
    {
     "name": "stderr",
     "output_type": "stream",
     "text": [
      "c:\\Users\\ishsh\\OneDrive\\Desktop\\QML_Project\\venv4qml\\Lib\\site-packages\\nilearn\\maskers\\nifti_labels_masker.py:888: UserWarning: After resampling the label image to the data image, the following labels were removed: {6401, 6402, 4101, 4102, 2311, 8201, 8202, 4111, 4112, 2321, 2322, 8211, 8212, 5401, 5402, 2331, 9001, 9002, 2611, 2612, 2101, 9011, 9012, 6201, 6202, 9021, 9022, 2111, 2112, 6211, 6212, 9031, 9032, 6221, 6222, 5201, 5202, 9041, 9042, 7001, 9051, 9052, 7011, 9061, 9062, 4201, 4202, 8301, 8302, 7021, 9071, 9072, 6001, 9081, 9082, 5001, 5002, 9100, 2701, 2702, 5011, 5012, 9110, 2201, 6301, 6302, 5021, 5022, 9120, 2211, 2212, 8101, 9130, 8111, 9140, 5301, 5302, 4021, 4022, 3001, 8121, 7101, 7102, 9150, 2501, 2502, 9160, 2001, 9170, 6101, 6102, 5101, 5102, 2301}. Label image only contains 23 labels (including background).\n",
      "  warnings.warn(\n"
     ]
    },
    {
     "name": "stdout",
     "output_type": "stream",
     "text": [
      "(Reference MRI-PET MRI) Subject: sub-control01, MRI Path: C:\\Users\\ishsh\\OneDrive\\Desktop\\QML_Project\\data\\processed\\mri_pet\\derivatives\\cleaned_skullstrip\\sub-control01\\anat\\sub-control01_T1w_skullstripped.nii.gz, ROI Data Shape: (1, 22)\n"
     ]
    },
    {
     "name": "stderr",
     "output_type": "stream",
     "text": [
      "c:\\Users\\ishsh\\OneDrive\\Desktop\\QML_Project\\venv4qml\\Lib\\site-packages\\nilearn\\maskers\\nifti_labels_masker.py:888: UserWarning: After resampling the label image to the data image, the following labels were removed: {6401, 6402, 4101, 4102, 2311, 8201, 8202, 4111, 4112, 2321, 2322, 8211, 8212, 5401, 5402, 2331, 9001, 9002, 2611, 2612, 2101, 9011, 9012, 6201, 6202, 9021, 9022, 2111, 2112, 6211, 6212, 9031, 9032, 6221, 6222, 5201, 5202, 9041, 9042, 7001, 9051, 9052, 7011, 9061, 9062, 4201, 4202, 8301, 8302, 7021, 9071, 9072, 6001, 9081, 9082, 5001, 5002, 9100, 2701, 2702, 5011, 5012, 9110, 2201, 6301, 6302, 5021, 5022, 9120, 2211, 2212, 8101, 9130, 8111, 9140, 5301, 5302, 4021, 4022, 3001, 8121, 7101, 7102, 9150, 2501, 2502, 9160, 2001, 9170, 6101, 6102, 5101, 5102, 2301}. Label image only contains 23 labels (including background).\n",
      "  warnings.warn(\n"
     ]
    },
    {
     "name": "stdout",
     "output_type": "stream",
     "text": [
      "(Reference MRI-PET MRI) Subject: sub-control02, MRI Path: C:\\Users\\ishsh\\OneDrive\\Desktop\\QML_Project\\data\\processed\\mri_pet\\derivatives\\cleaned_skullstrip\\sub-control02\\anat\\sub-control02_T1w_skullstripped.nii.gz, ROI Data Shape: (1, 22)\n"
     ]
    },
    {
     "name": "stderr",
     "output_type": "stream",
     "text": [
      "c:\\Users\\ishsh\\OneDrive\\Desktop\\QML_Project\\venv4qml\\Lib\\site-packages\\nilearn\\maskers\\nifti_labels_masker.py:888: UserWarning: After resampling the label image to the data image, the following labels were removed: {6401, 6402, 4101, 4102, 2311, 8201, 8202, 4111, 4112, 2321, 2322, 8211, 8212, 5401, 5402, 2331, 9001, 9002, 2611, 2612, 2101, 9011, 9012, 6201, 6202, 9021, 9022, 2111, 2112, 6211, 6212, 9031, 9032, 6221, 6222, 5201, 5202, 9041, 9042, 7001, 9051, 9052, 7011, 9061, 9062, 4201, 4202, 8301, 8302, 7021, 9071, 9072, 6001, 9081, 9082, 5001, 5002, 9100, 2701, 2702, 5011, 5012, 9110, 2201, 6301, 6302, 5021, 5022, 9120, 2211, 2212, 8101, 9130, 8111, 9140, 5301, 5302, 4021, 4022, 3001, 8121, 7101, 7102, 9150, 2501, 2502, 9160, 2001, 9170, 6101, 6102, 5101, 5102, 2301}. Label image only contains 23 labels (including background).\n",
      "  warnings.warn(\n"
     ]
    },
    {
     "name": "stdout",
     "output_type": "stream",
     "text": [
      "(Reference MRI-PET MRI) Subject: sub-control03, MRI Path: C:\\Users\\ishsh\\OneDrive\\Desktop\\QML_Project\\data\\processed\\mri_pet\\derivatives\\cleaned_skullstrip\\sub-control03\\anat\\sub-control03_T1w_skullstripped.nii.gz, ROI Data Shape: (1, 22)\n"
     ]
    },
    {
     "name": "stderr",
     "output_type": "stream",
     "text": [
      "c:\\Users\\ishsh\\OneDrive\\Desktop\\QML_Project\\venv4qml\\Lib\\site-packages\\nilearn\\maskers\\nifti_labels_masker.py:888: UserWarning: After resampling the label image to the data image, the following labels were removed: {6401, 6402, 4101, 4102, 2311, 8201, 8202, 4111, 4112, 2321, 2322, 8211, 8212, 5401, 5402, 2331, 9001, 9002, 2611, 2612, 2101, 9011, 9012, 6201, 6202, 9021, 9022, 2111, 2112, 6211, 6212, 9031, 9032, 6221, 6222, 5201, 5202, 9041, 9042, 7001, 9051, 9052, 7011, 9061, 9062, 4201, 4202, 8301, 8302, 7021, 9071, 9072, 6001, 9081, 9082, 5001, 5002, 9100, 2701, 2702, 5011, 5012, 9110, 2201, 6301, 6302, 5021, 5022, 9120, 2211, 2212, 8101, 9130, 8111, 9140, 5301, 5302, 4021, 4022, 3001, 8121, 7101, 7102, 9150, 2501, 2502, 9160, 2001, 9170, 6101, 6102, 5101, 5102, 2301}. Label image only contains 23 labels (including background).\n",
      "  warnings.warn(\n"
     ]
    },
    {
     "name": "stdout",
     "output_type": "stream",
     "text": [
      "(Reference MRI-PET MRI) Subject: sub-control04, MRI Path: C:\\Users\\ishsh\\OneDrive\\Desktop\\QML_Project\\data\\processed\\mri_pet\\derivatives\\cleaned_skullstrip\\sub-control04\\anat\\sub-control04_T1w_skullstripped.nii.gz, ROI Data Shape: (1, 22)\n"
     ]
    },
    {
     "name": "stderr",
     "output_type": "stream",
     "text": [
      "c:\\Users\\ishsh\\OneDrive\\Desktop\\QML_Project\\venv4qml\\Lib\\site-packages\\nilearn\\maskers\\nifti_labels_masker.py:888: UserWarning: After resampling the label image to the data image, the following labels were removed: {6401, 6402, 4101, 4102, 2311, 8201, 8202, 4111, 4112, 2321, 2322, 8211, 8212, 5401, 5402, 2331, 9001, 9002, 2611, 2612, 2101, 9011, 9012, 6201, 6202, 9021, 9022, 2111, 2112, 6211, 6212, 9031, 9032, 6221, 6222, 5201, 5202, 9041, 9042, 7001, 9051, 9052, 7011, 9061, 9062, 4201, 4202, 8301, 8302, 7021, 9071, 9072, 6001, 9081, 9082, 5001, 5002, 9100, 2701, 2702, 5011, 5012, 9110, 2201, 6301, 6302, 5021, 5022, 9120, 2211, 2212, 8101, 9130, 8111, 9140, 5301, 5302, 4021, 4022, 3001, 8121, 7101, 7102, 9150, 2501, 2502, 9160, 2001, 9170, 6101, 6102, 5101, 5102, 2301}. Label image only contains 23 labels (including background).\n",
      "  warnings.warn(\n"
     ]
    },
    {
     "name": "stdout",
     "output_type": "stream",
     "text": [
      "(Reference MRI-PET MRI) Subject: sub-control05, MRI Path: C:\\Users\\ishsh\\OneDrive\\Desktop\\QML_Project\\data\\processed\\mri_pet\\derivatives\\cleaned_skullstrip\\sub-control05\\anat\\sub-control05_T1w_skullstripped.nii.gz, ROI Data Shape: (1, 22)\n"
     ]
    },
    {
     "name": "stderr",
     "output_type": "stream",
     "text": [
      "c:\\Users\\ishsh\\OneDrive\\Desktop\\QML_Project\\venv4qml\\Lib\\site-packages\\nilearn\\maskers\\nifti_labels_masker.py:888: UserWarning: After resampling the label image to the data image, the following labels were removed: {6401, 6402, 4101, 4102, 2311, 8201, 8202, 4111, 4112, 2321, 2322, 8211, 8212, 5401, 5402, 2331, 9001, 9002, 2611, 2612, 2101, 9011, 9012, 6201, 6202, 9021, 9022, 2111, 2112, 6211, 6212, 9031, 9032, 6221, 6222, 5201, 5202, 9041, 9042, 7001, 9051, 9052, 7011, 9061, 9062, 4201, 4202, 8301, 8302, 7021, 9071, 9072, 6001, 9081, 9082, 5001, 5002, 9100, 2701, 2702, 5011, 5012, 9110, 2201, 6301, 6302, 5021, 5022, 9120, 2211, 2212, 8101, 9130, 8111, 9140, 5301, 5302, 4021, 4022, 3001, 8121, 7101, 7102, 9150, 2501, 2502, 9160, 2001, 9170, 6101, 6102, 5101, 5102, 2301}. Label image only contains 23 labels (including background).\n",
      "  warnings.warn(\n"
     ]
    },
    {
     "name": "stdout",
     "output_type": "stream",
     "text": [
      "(Reference MRI-PET MRI) Subject: sub-control06, MRI Path: C:\\Users\\ishsh\\OneDrive\\Desktop\\QML_Project\\data\\processed\\mri_pet\\derivatives\\cleaned_skullstrip\\sub-control06\\anat\\sub-control06_T1w_skullstripped.nii.gz, ROI Data Shape: (1, 22)\n"
     ]
    },
    {
     "name": "stderr",
     "output_type": "stream",
     "text": [
      "c:\\Users\\ishsh\\OneDrive\\Desktop\\QML_Project\\venv4qml\\Lib\\site-packages\\nilearn\\maskers\\nifti_labels_masker.py:888: UserWarning: After resampling the label image to the data image, the following labels were removed: {6401, 6402, 4101, 4102, 2311, 8201, 8202, 4111, 4112, 2321, 2322, 8211, 8212, 5401, 5402, 2331, 9001, 9002, 2611, 2612, 2101, 9011, 9012, 6201, 6202, 9021, 9022, 2111, 2112, 6211, 6212, 9031, 9032, 6221, 6222, 5201, 5202, 9041, 9042, 7001, 9051, 9052, 7011, 9061, 9062, 4201, 4202, 8301, 8302, 7021, 9071, 9072, 6001, 9081, 9082, 5001, 5002, 9100, 2701, 2702, 5011, 5012, 9110, 2201, 6301, 6302, 5021, 5022, 9120, 2211, 2212, 8101, 9130, 8111, 9140, 5301, 5302, 4021, 4022, 3001, 8121, 7101, 7102, 9150, 2501, 2502, 9160, 2001, 9170, 6101, 6102, 5101, 5102, 2301}. Label image only contains 23 labels (including background).\n",
      "  warnings.warn(\n"
     ]
    },
    {
     "name": "stdout",
     "output_type": "stream",
     "text": [
      "(Reference MRI-PET MRI) Subject: sub-control07, MRI Path: C:\\Users\\ishsh\\OneDrive\\Desktop\\QML_Project\\data\\processed\\mri_pet\\derivatives\\cleaned_skullstrip\\sub-control07\\anat\\sub-control07_T1w_skullstripped.nii.gz, ROI Data Shape: (1, 22)\n"
     ]
    },
    {
     "name": "stderr",
     "output_type": "stream",
     "text": [
      "c:\\Users\\ishsh\\OneDrive\\Desktop\\QML_Project\\venv4qml\\Lib\\site-packages\\nilearn\\maskers\\nifti_labels_masker.py:888: UserWarning: After resampling the label image to the data image, the following labels were removed: {6401, 6402, 4101, 4102, 2311, 8201, 8202, 4111, 4112, 2321, 2322, 8211, 8212, 5401, 5402, 2331, 9001, 9002, 2611, 2612, 2101, 9011, 9012, 6201, 6202, 9021, 9022, 2111, 2112, 6211, 6212, 9031, 9032, 6221, 6222, 5201, 5202, 9041, 9042, 7001, 9051, 9052, 7011, 9061, 9062, 4201, 4202, 8301, 8302, 7021, 9071, 9072, 6001, 9081, 9082, 5001, 5002, 9100, 2701, 2702, 5011, 5012, 9110, 2201, 6301, 6302, 5021, 5022, 9120, 2211, 2212, 8101, 9130, 8111, 9140, 5301, 5302, 4021, 4022, 3001, 8121, 7101, 7102, 9150, 2501, 2502, 9160, 2001, 9170, 6101, 6102, 5101, 5102, 2301}. Label image only contains 23 labels (including background).\n",
      "  warnings.warn(\n"
     ]
    },
    {
     "name": "stdout",
     "output_type": "stream",
     "text": [
      "(Reference MRI-PET MRI) Subject: sub-control08, MRI Path: C:\\Users\\ishsh\\OneDrive\\Desktop\\QML_Project\\data\\processed\\mri_pet\\derivatives\\cleaned_skullstrip\\sub-control08\\anat\\sub-control08_T1w_skullstripped.nii.gz, ROI Data Shape: (1, 22)\n"
     ]
    },
    {
     "name": "stderr",
     "output_type": "stream",
     "text": [
      "c:\\Users\\ishsh\\OneDrive\\Desktop\\QML_Project\\venv4qml\\Lib\\site-packages\\nilearn\\maskers\\nifti_labels_masker.py:888: UserWarning: After resampling the label image to the data image, the following labels were removed: {6401, 6402, 4101, 4102, 2311, 8201, 8202, 4111, 4112, 2321, 2322, 8211, 8212, 5401, 5402, 2331, 9001, 9002, 2611, 2612, 2101, 9011, 9012, 6201, 6202, 9021, 9022, 2111, 2112, 6211, 6212, 9031, 9032, 6221, 6222, 5201, 5202, 9041, 9042, 7001, 9051, 9052, 7011, 9061, 9062, 4201, 4202, 8301, 8302, 7021, 9071, 9072, 6001, 9081, 9082, 5001, 5002, 9100, 2701, 2702, 5011, 5012, 9110, 2201, 6301, 6302, 5021, 5022, 9120, 2211, 2212, 8101, 9130, 8111, 9140, 5301, 5302, 4021, 4022, 3001, 8121, 7101, 7102, 9150, 2501, 2502, 9160, 2001, 9170, 6101, 6102, 5101, 5102, 2301}. Label image only contains 23 labels (including background).\n",
      "  warnings.warn(\n"
     ]
    },
    {
     "name": "stdout",
     "output_type": "stream",
     "text": [
      "(Reference MRI-PET MRI) Subject: sub-control09, MRI Path: C:\\Users\\ishsh\\OneDrive\\Desktop\\QML_Project\\data\\processed\\mri_pet\\derivatives\\cleaned_skullstrip\\sub-control09\\anat\\sub-control09_T1w_skullstripped.nii.gz, ROI Data Shape: (1, 22)\n"
     ]
    },
    {
     "name": "stderr",
     "output_type": "stream",
     "text": [
      "c:\\Users\\ishsh\\OneDrive\\Desktop\\QML_Project\\venv4qml\\Lib\\site-packages\\nilearn\\maskers\\nifti_labels_masker.py:888: UserWarning: After resampling the label image to the data image, the following labels were removed: {6401, 6402, 4101, 4102, 2311, 8201, 8202, 4111, 4112, 2321, 2322, 8211, 8212, 5401, 5402, 2331, 9001, 9002, 2611, 2612, 2101, 9011, 9012, 6201, 6202, 9021, 9022, 2111, 2112, 6211, 6212, 9031, 9032, 6221, 6222, 5201, 5202, 9041, 9042, 7001, 9051, 9052, 7011, 9061, 9062, 4201, 4202, 8301, 8302, 7021, 9071, 9072, 6001, 9081, 9082, 5001, 5002, 9100, 2701, 2702, 5011, 5012, 9110, 2201, 6301, 6302, 5021, 5022, 9120, 2211, 2212, 8101, 9130, 8111, 9140, 5301, 5302, 4021, 4022, 3001, 8121, 7101, 7102, 9150, 2501, 2502, 9160, 2001, 9170, 6101, 6102, 5101, 5102, 2301}. Label image only contains 23 labels (including background).\n",
      "  warnings.warn(\n"
     ]
    },
    {
     "name": "stdout",
     "output_type": "stream",
     "text": [
      "(Reference MRI-PET MRI) Subject: sub-control10, MRI Path: C:\\Users\\ishsh\\OneDrive\\Desktop\\QML_Project\\data\\processed\\mri_pet\\derivatives\\cleaned_skullstrip\\sub-control10\\anat\\sub-control10_T1w_skullstripped.nii.gz, ROI Data Shape: (1, 22)\n"
     ]
    },
    {
     "name": "stderr",
     "output_type": "stream",
     "text": [
      "c:\\Users\\ishsh\\OneDrive\\Desktop\\QML_Project\\venv4qml\\Lib\\site-packages\\nilearn\\maskers\\nifti_labels_masker.py:888: UserWarning: After resampling the label image to the data image, the following labels were removed: {6401, 6402, 4101, 4102, 2311, 8201, 8202, 4111, 4112, 2321, 2322, 8211, 8212, 5401, 5402, 2331, 9001, 9002, 2611, 2612, 2101, 9011, 9012, 6201, 6202, 9021, 9022, 2111, 2112, 6211, 6212, 9031, 9032, 6221, 6222, 5201, 5202, 9041, 9042, 7001, 9051, 9052, 7011, 9061, 9062, 4201, 4202, 8301, 8302, 7021, 9071, 9072, 6001, 9081, 9082, 5001, 5002, 9100, 2701, 2702, 5011, 5012, 9110, 2201, 6301, 6302, 5021, 5022, 9120, 2211, 2212, 8101, 9130, 8111, 9140, 5301, 5302, 4021, 4022, 3001, 8121, 7101, 7102, 9150, 2501, 2502, 9160, 2001, 9170, 6101, 6102, 5101, 5102, 2301}. Label image only contains 23 labels (including background).\n",
      "  warnings.warn(\n"
     ]
    },
    {
     "name": "stdout",
     "output_type": "stream",
     "text": [
      "(Reference MRI-PET MRI) Subject: sub-control11, MRI Path: C:\\Users\\ishsh\\OneDrive\\Desktop\\QML_Project\\data\\processed\\mri_pet\\derivatives\\cleaned_skullstrip\\sub-control11\\anat\\sub-control11_T1w_skullstripped.nii.gz, ROI Data Shape: (1, 22)\n"
     ]
    },
    {
     "name": "stderr",
     "output_type": "stream",
     "text": [
      "c:\\Users\\ishsh\\OneDrive\\Desktop\\QML_Project\\venv4qml\\Lib\\site-packages\\nilearn\\maskers\\nifti_labels_masker.py:888: UserWarning: After resampling the label image to the data image, the following labels were removed: {6401, 6402, 4101, 4102, 2311, 8201, 8202, 4111, 4112, 2321, 2322, 8211, 8212, 5401, 5402, 2331, 9001, 9002, 2611, 2612, 2101, 9011, 9012, 6201, 6202, 9021, 9022, 2111, 2112, 6211, 6212, 9031, 9032, 6221, 6222, 5201, 5202, 9041, 9042, 7001, 9051, 9052, 7011, 9061, 9062, 4201, 4202, 8301, 8302, 7021, 9071, 9072, 6001, 9081, 9082, 5001, 5002, 9100, 2701, 2702, 5011, 5012, 9110, 2201, 6301, 6302, 5021, 5022, 9120, 2211, 2212, 8101, 9130, 8111, 9140, 5301, 5302, 4021, 4022, 3001, 8121, 7101, 7102, 9150, 2501, 2502, 9160, 2001, 9170, 6101, 6102, 5101, 5102, 2301}. Label image only contains 23 labels (including background).\n",
      "  warnings.warn(\n"
     ]
    },
    {
     "name": "stdout",
     "output_type": "stream",
     "text": [
      "(Reference MRI-PET MRI) Subject: sub-control12, MRI Path: C:\\Users\\ishsh\\OneDrive\\Desktop\\QML_Project\\data\\processed\\mri_pet\\derivatives\\cleaned_skullstrip\\sub-control12\\anat\\sub-control12_T1w_skullstripped.nii.gz, ROI Data Shape: (1, 22)\n"
     ]
    },
    {
     "name": "stderr",
     "output_type": "stream",
     "text": [
      "c:\\Users\\ishsh\\OneDrive\\Desktop\\QML_Project\\venv4qml\\Lib\\site-packages\\nilearn\\maskers\\nifti_labels_masker.py:888: UserWarning: After resampling the label image to the data image, the following labels were removed: {6401, 6402, 4101, 4102, 2311, 8201, 8202, 4111, 4112, 2321, 2322, 8211, 8212, 5401, 5402, 2331, 9001, 9002, 2611, 2612, 2101, 9011, 9012, 6201, 6202, 9021, 9022, 2111, 2112, 6211, 6212, 9031, 9032, 6221, 6222, 5201, 5202, 9041, 9042, 7001, 9051, 9052, 7011, 9061, 9062, 4201, 4202, 8301, 8302, 7021, 9071, 9072, 6001, 9081, 9082, 5001, 5002, 9100, 2701, 2702, 5011, 5012, 9110, 2201, 6301, 6302, 5021, 5022, 9120, 2211, 2212, 8101, 9130, 8111, 9140, 5301, 5302, 4021, 4022, 3001, 8121, 7101, 7102, 9150, 2501, 2502, 9160, 2001, 9170, 6101, 6102, 5101, 5102, 2301}. Label image only contains 23 labels (including background).\n",
      "  warnings.warn(\n"
     ]
    },
    {
     "name": "stdout",
     "output_type": "stream",
     "text": [
      "(Reference MRI-PET MRI) Subject: sub-control13, MRI Path: C:\\Users\\ishsh\\OneDrive\\Desktop\\QML_Project\\data\\processed\\mri_pet\\derivatives\\cleaned_skullstrip\\sub-control13\\anat\\sub-control13_T1w_skullstripped.nii.gz, ROI Data Shape: (1, 22)\n"
     ]
    },
    {
     "name": "stderr",
     "output_type": "stream",
     "text": [
      "c:\\Users\\ishsh\\OneDrive\\Desktop\\QML_Project\\venv4qml\\Lib\\site-packages\\nilearn\\maskers\\nifti_labels_masker.py:888: UserWarning: After resampling the label image to the data image, the following labels were removed: {6401, 6402, 4101, 4102, 2311, 8201, 8202, 4111, 4112, 2321, 2322, 8211, 8212, 5401, 5402, 2331, 9001, 9002, 2611, 2612, 2101, 9011, 9012, 6201, 6202, 9021, 9022, 2111, 2112, 6211, 6212, 9031, 9032, 6221, 6222, 5201, 5202, 9041, 9042, 7001, 9051, 9052, 7011, 9061, 9062, 4201, 4202, 8301, 8302, 7021, 9071, 9072, 6001, 9081, 9082, 5001, 5002, 9100, 2701, 2702, 5011, 5012, 9110, 2201, 6301, 6302, 5021, 5022, 9120, 2211, 2212, 8101, 9130, 8111, 9140, 5301, 5302, 4021, 4022, 3001, 8121, 7101, 7102, 9150, 2501, 2502, 9160, 2001, 9170, 6101, 6102, 5101, 5102, 2301}. Label image only contains 23 labels (including background).\n",
      "  warnings.warn(\n"
     ]
    },
    {
     "name": "stdout",
     "output_type": "stream",
     "text": [
      "(Reference MRI-PET MRI) Subject: sub-control14, MRI Path: C:\\Users\\ishsh\\OneDrive\\Desktop\\QML_Project\\data\\processed\\mri_pet\\derivatives\\cleaned_skullstrip\\sub-control14\\anat\\sub-control14_T1w_skullstripped.nii.gz, ROI Data Shape: (1, 22)\n"
     ]
    },
    {
     "name": "stderr",
     "output_type": "stream",
     "text": [
      "c:\\Users\\ishsh\\OneDrive\\Desktop\\QML_Project\\venv4qml\\Lib\\site-packages\\nilearn\\maskers\\nifti_labels_masker.py:888: UserWarning: After resampling the label image to the data image, the following labels were removed: {6401, 6402, 4101, 4102, 2311, 8201, 8202, 4111, 4112, 2321, 2322, 8211, 8212, 5401, 5402, 2331, 9001, 9002, 2611, 2612, 2101, 9011, 9012, 6201, 6202, 9021, 9022, 2111, 2112, 6211, 6212, 9031, 9032, 6221, 6222, 5201, 5202, 9041, 9042, 7001, 9051, 9052, 7011, 9061, 9062, 4201, 4202, 8301, 8302, 7021, 9071, 9072, 6001, 9081, 9082, 5001, 5002, 9100, 2701, 2702, 5011, 5012, 9110, 2201, 6301, 6302, 5021, 5022, 9120, 2211, 2212, 8101, 9130, 8111, 9140, 5301, 5302, 4021, 4022, 3001, 8121, 7101, 7102, 9150, 2501, 2502, 9160, 2001, 9170, 6101, 6102, 5101, 5102, 2301}. Label image only contains 23 labels (including background).\n",
      "  warnings.warn(\n"
     ]
    },
    {
     "name": "stdout",
     "output_type": "stream",
     "text": [
      "(Reference MRI-PET MRI) Subject: sub-control15, MRI Path: C:\\Users\\ishsh\\OneDrive\\Desktop\\QML_Project\\data\\processed\\mri_pet\\derivatives\\cleaned_skullstrip\\sub-control15\\anat\\sub-control15_T1w_skullstripped.nii.gz, ROI Data Shape: (1, 22)\n"
     ]
    },
    {
     "name": "stderr",
     "output_type": "stream",
     "text": [
      "c:\\Users\\ishsh\\OneDrive\\Desktop\\QML_Project\\venv4qml\\Lib\\site-packages\\nilearn\\maskers\\nifti_labels_masker.py:888: UserWarning: After resampling the label image to the data image, the following labels were removed: {6401, 6402, 4101, 4102, 2311, 8201, 8202, 4111, 4112, 2321, 2322, 8211, 8212, 5401, 5402, 2331, 9001, 9002, 2611, 2612, 2101, 9011, 9012, 6201, 6202, 9021, 9022, 2111, 2112, 6211, 6212, 9031, 9032, 6221, 6222, 5201, 5202, 9041, 9042, 7001, 9051, 9052, 7011, 9061, 9062, 4201, 4202, 8301, 8302, 7021, 9071, 9072, 6001, 9081, 9082, 5001, 5002, 9100, 2701, 2702, 5011, 5012, 9110, 2201, 6301, 6302, 5021, 5022, 9120, 2211, 2212, 8101, 9130, 8111, 9140, 5301, 5302, 4021, 4022, 3001, 8121, 7101, 7102, 9150, 2501, 2502, 9160, 2001, 9170, 6101, 6102, 5101, 5102, 2301}. Label image only contains 23 labels (including background).\n",
      "  warnings.warn(\n"
     ]
    },
    {
     "name": "stdout",
     "output_type": "stream",
     "text": [
      "(Reference MRI-PET MRI) Subject: sub-control16, MRI Path: C:\\Users\\ishsh\\OneDrive\\Desktop\\QML_Project\\data\\processed\\mri_pet\\derivatives\\cleaned_skullstrip\\sub-control16\\anat\\sub-control16_T1w_skullstripped.nii.gz, ROI Data Shape: (1, 22)\n"
     ]
    },
    {
     "name": "stderr",
     "output_type": "stream",
     "text": [
      "c:\\Users\\ishsh\\OneDrive\\Desktop\\QML_Project\\venv4qml\\Lib\\site-packages\\nilearn\\maskers\\nifti_labels_masker.py:888: UserWarning: After resampling the label image to the data image, the following labels were removed: {6401, 6402, 4101, 4102, 2311, 8201, 8202, 4111, 4112, 2321, 2322, 8211, 8212, 5401, 5402, 2331, 9001, 9002, 2611, 2612, 2101, 9011, 9012, 6201, 6202, 9021, 9022, 2111, 2112, 6211, 6212, 9031, 9032, 6221, 6222, 5201, 5202, 9041, 9042, 7001, 9051, 9052, 7011, 9061, 9062, 4201, 4202, 8301, 8302, 7021, 9071, 9072, 6001, 9081, 9082, 5001, 5002, 9100, 2701, 2702, 5011, 5012, 9110, 2201, 6301, 6302, 5021, 5022, 9120, 2211, 2212, 8101, 9130, 8111, 9140, 5301, 5302, 4021, 4022, 3001, 8121, 7101, 7102, 9150, 2501, 2502, 9160, 2001, 9170, 6101, 6102, 5101, 5102, 2301}. Label image only contains 23 labels (including background).\n",
      "  warnings.warn(\n"
     ]
    },
    {
     "name": "stdout",
     "output_type": "stream",
     "text": [
      "(Reference MRI-PET MRI) Subject: sub-control17, MRI Path: C:\\Users\\ishsh\\OneDrive\\Desktop\\QML_Project\\data\\processed\\mri_pet\\derivatives\\cleaned_skullstrip\\sub-control17\\anat\\sub-control17_T1w_skullstripped.nii.gz, ROI Data Shape: (1, 22)\n"
     ]
    },
    {
     "name": "stderr",
     "output_type": "stream",
     "text": [
      "c:\\Users\\ishsh\\OneDrive\\Desktop\\QML_Project\\venv4qml\\Lib\\site-packages\\nilearn\\maskers\\nifti_labels_masker.py:888: UserWarning: After resampling the label image to the data image, the following labels were removed: {6401, 6402, 4101, 4102, 2311, 8201, 8202, 4111, 4112, 2321, 2322, 8211, 8212, 5401, 5402, 2331, 9001, 9002, 2611, 2612, 2101, 9011, 9012, 6201, 6202, 9021, 9022, 2111, 2112, 6211, 6212, 9031, 9032, 6221, 6222, 5201, 5202, 9041, 9042, 7001, 9051, 9052, 7011, 9061, 9062, 4201, 4202, 8301, 8302, 7021, 9071, 9072, 6001, 9081, 9082, 5001, 5002, 9100, 2701, 2702, 5011, 5012, 9110, 2201, 6301, 6302, 5021, 5022, 9120, 2211, 2212, 8101, 9130, 8111, 9140, 5301, 5302, 4021, 4022, 3001, 8121, 7101, 7102, 9150, 2501, 2502, 9160, 2001, 9170, 6101, 6102, 5101, 5102, 2301}. Label image only contains 23 labels (including background).\n",
      "  warnings.warn(\n"
     ]
    },
    {
     "name": "stdout",
     "output_type": "stream",
     "text": [
      "(Reference MRI-PET MRI) Subject: sub-control18, MRI Path: C:\\Users\\ishsh\\OneDrive\\Desktop\\QML_Project\\data\\processed\\mri_pet\\derivatives\\cleaned_skullstrip\\sub-control18\\anat\\sub-control18_T1w_skullstripped.nii.gz, ROI Data Shape: (1, 22)\n"
     ]
    },
    {
     "name": "stderr",
     "output_type": "stream",
     "text": [
      "c:\\Users\\ishsh\\OneDrive\\Desktop\\QML_Project\\venv4qml\\Lib\\site-packages\\nilearn\\maskers\\nifti_labels_masker.py:888: UserWarning: After resampling the label image to the data image, the following labels were removed: {6401, 6402, 4101, 4102, 2311, 8201, 8202, 4111, 4112, 2321, 2322, 8211, 8212, 5401, 5402, 2331, 9001, 9002, 2611, 2612, 2101, 9011, 9012, 6201, 6202, 9021, 9022, 2111, 2112, 6211, 6212, 9031, 9032, 6221, 6222, 5201, 5202, 9041, 9042, 7001, 9051, 9052, 7011, 9061, 9062, 4201, 4202, 8301, 8302, 7021, 9071, 9072, 6001, 9081, 9082, 5001, 5002, 9100, 2701, 2702, 5011, 5012, 9110, 2201, 6301, 6302, 5021, 5022, 9120, 2211, 2212, 8101, 9130, 8111, 9140, 5301, 5302, 4021, 4022, 3001, 8121, 7101, 7102, 9150, 2501, 2502, 9160, 2001, 9170, 6101, 6102, 5101, 5102, 2301}. Label image only contains 23 labels (including background).\n",
      "  warnings.warn(\n"
     ]
    },
    {
     "name": "stdout",
     "output_type": "stream",
     "text": [
      "(Reference MRI-PET MRI) Subject: sub-patient01, MRI Path: C:\\Users\\ishsh\\OneDrive\\Desktop\\QML_Project\\data\\processed\\mri_pet\\derivatives\\cleaned_skullstrip\\sub-patient01\\anat\\sub-patient01_T1w_skullstripped.nii.gz, ROI Data Shape: (1, 22)\n"
     ]
    },
    {
     "name": "stderr",
     "output_type": "stream",
     "text": [
      "c:\\Users\\ishsh\\OneDrive\\Desktop\\QML_Project\\venv4qml\\Lib\\site-packages\\nilearn\\maskers\\nifti_labels_masker.py:888: UserWarning: After resampling the label image to the data image, the following labels were removed: {6401, 6402, 4101, 4102, 2311, 8201, 8202, 4111, 4112, 2321, 2322, 8211, 8212, 5401, 5402, 2331, 9001, 9002, 2611, 2612, 2101, 9011, 9012, 6201, 6202, 9021, 9022, 2111, 2112, 6211, 6212, 9031, 9032, 6221, 6222, 5201, 5202, 9041, 9042, 7001, 9051, 9052, 7011, 9061, 9062, 4201, 4202, 8301, 8302, 7021, 9071, 9072, 6001, 9081, 9082, 5001, 5002, 9100, 2701, 2702, 5011, 5012, 9110, 2201, 6301, 6302, 5021, 5022, 9120, 2211, 2212, 8101, 9130, 8111, 9140, 5301, 5302, 4021, 4022, 3001, 8121, 7101, 7102, 9150, 2501, 2502, 9160, 2001, 9170, 6101, 6102, 5101, 5102, 2301}. Label image only contains 23 labels (including background).\n",
      "  warnings.warn(\n"
     ]
    },
    {
     "name": "stdout",
     "output_type": "stream",
     "text": [
      "(Reference MRI-PET MRI) Subject: sub-patient02, MRI Path: C:\\Users\\ishsh\\OneDrive\\Desktop\\QML_Project\\data\\processed\\mri_pet\\derivatives\\cleaned_skullstrip\\sub-patient02\\anat\\sub-patient02_T1w_skullstripped.nii.gz, ROI Data Shape: (1, 22)\n"
     ]
    },
    {
     "name": "stderr",
     "output_type": "stream",
     "text": [
      "c:\\Users\\ishsh\\OneDrive\\Desktop\\QML_Project\\venv4qml\\Lib\\site-packages\\nilearn\\maskers\\nifti_labels_masker.py:888: UserWarning: After resampling the label image to the data image, the following labels were removed: {6401, 6402, 4101, 4102, 2311, 8201, 8202, 4111, 4112, 2321, 2322, 8211, 8212, 5401, 5402, 2331, 9001, 9002, 2611, 2612, 2101, 9011, 9012, 6201, 6202, 9021, 9022, 2111, 2112, 6211, 6212, 9031, 9032, 6221, 6222, 5201, 5202, 9041, 9042, 7001, 9051, 9052, 7011, 9061, 9062, 4201, 4202, 8301, 8302, 7021, 9071, 9072, 6001, 9081, 9082, 5001, 5002, 9100, 2701, 2702, 5011, 5012, 9110, 2201, 6301, 6302, 5021, 5022, 9120, 2211, 2212, 8101, 9130, 8111, 9140, 5301, 5302, 4021, 4022, 3001, 8121, 7101, 7102, 9150, 2501, 2502, 9160, 2001, 9170, 6101, 6102, 5101, 5102, 2301}. Label image only contains 23 labels (including background).\n",
      "  warnings.warn(\n"
     ]
    },
    {
     "name": "stdout",
     "output_type": "stream",
     "text": [
      "(Reference MRI-PET MRI) Subject: sub-patient03, MRI Path: C:\\Users\\ishsh\\OneDrive\\Desktop\\QML_Project\\data\\processed\\mri_pet\\derivatives\\cleaned_skullstrip\\sub-patient03\\anat\\sub-patient03_T1w_skullstripped.nii.gz, ROI Data Shape: (1, 22)\n"
     ]
    },
    {
     "name": "stderr",
     "output_type": "stream",
     "text": [
      "c:\\Users\\ishsh\\OneDrive\\Desktop\\QML_Project\\venv4qml\\Lib\\site-packages\\nilearn\\maskers\\nifti_labels_masker.py:888: UserWarning: After resampling the label image to the data image, the following labels were removed: {6401, 6402, 4101, 4102, 2311, 8201, 8202, 4111, 4112, 2321, 2322, 8211, 8212, 5401, 5402, 2331, 9001, 9002, 2611, 2612, 2101, 9011, 9012, 6201, 6202, 9021, 9022, 2111, 2112, 6211, 6212, 9031, 9032, 6221, 6222, 5201, 5202, 9041, 9042, 7001, 9051, 9052, 7011, 9061, 9062, 4201, 4202, 8301, 8302, 7021, 9071, 9072, 6001, 9081, 9082, 5001, 5002, 9100, 2701, 2702, 5011, 5012, 9110, 2201, 6301, 6302, 5021, 5022, 9120, 2211, 2212, 8101, 9130, 8111, 9140, 5301, 5302, 4021, 4022, 3001, 8121, 7101, 7102, 9150, 2501, 2502, 9160, 2001, 9170, 6101, 6102, 5101, 5102, 2301}. Label image only contains 23 labels (including background).\n",
      "  warnings.warn(\n"
     ]
    },
    {
     "name": "stdout",
     "output_type": "stream",
     "text": [
      "(Reference MRI-PET MRI) Subject: sub-patient04, MRI Path: C:\\Users\\ishsh\\OneDrive\\Desktop\\QML_Project\\data\\processed\\mri_pet\\derivatives\\cleaned_skullstrip\\sub-patient04\\anat\\sub-patient04_T1w_skullstripped.nii.gz, ROI Data Shape: (1, 22)\n"
     ]
    },
    {
     "name": "stderr",
     "output_type": "stream",
     "text": [
      "c:\\Users\\ishsh\\OneDrive\\Desktop\\QML_Project\\venv4qml\\Lib\\site-packages\\nilearn\\maskers\\nifti_labels_masker.py:888: UserWarning: After resampling the label image to the data image, the following labels were removed: {6401, 6402, 4101, 4102, 2311, 8201, 8202, 4111, 4112, 2321, 2322, 8211, 8212, 5401, 5402, 2331, 9001, 9002, 2611, 2612, 2101, 9011, 9012, 6201, 6202, 9021, 9022, 2111, 2112, 6211, 6212, 9031, 9032, 6221, 6222, 5201, 5202, 9041, 9042, 7001, 9051, 9052, 7011, 9061, 9062, 4201, 4202, 8301, 8302, 7021, 9071, 9072, 6001, 9081, 9082, 5001, 5002, 9100, 2701, 2702, 5011, 5012, 9110, 2201, 6301, 6302, 5021, 5022, 9120, 2211, 2212, 8101, 9130, 8111, 9140, 5301, 5302, 4021, 4022, 3001, 8121, 7101, 7102, 9150, 2501, 2502, 9160, 2001, 9170, 6101, 6102, 5101, 5102, 2301}. Label image only contains 23 labels (including background).\n",
      "  warnings.warn(\n"
     ]
    },
    {
     "name": "stdout",
     "output_type": "stream",
     "text": [
      "(Reference MRI-PET MRI) Subject: sub-patient05, MRI Path: C:\\Users\\ishsh\\OneDrive\\Desktop\\QML_Project\\data\\processed\\mri_pet\\derivatives\\cleaned_skullstrip\\sub-patient05\\anat\\sub-patient05_T1w_skullstripped.nii.gz, ROI Data Shape: (1, 22)\n"
     ]
    },
    {
     "name": "stderr",
     "output_type": "stream",
     "text": [
      "c:\\Users\\ishsh\\OneDrive\\Desktop\\QML_Project\\venv4qml\\Lib\\site-packages\\nilearn\\maskers\\nifti_labels_masker.py:888: UserWarning: After resampling the label image to the data image, the following labels were removed: {6401, 6402, 4101, 4102, 2311, 8201, 8202, 4111, 4112, 2321, 2322, 8211, 8212, 5401, 5402, 2331, 9001, 9002, 2611, 2612, 2101, 9011, 9012, 6201, 6202, 9021, 9022, 2111, 2112, 6211, 6212, 9031, 9032, 6221, 6222, 5201, 5202, 9041, 9042, 7001, 9051, 9052, 7011, 9061, 9062, 4201, 4202, 8301, 8302, 7021, 9071, 9072, 6001, 9081, 9082, 5001, 5002, 9100, 2701, 2702, 5011, 5012, 9110, 2201, 6301, 6302, 5021, 5022, 9120, 2211, 2212, 8101, 9130, 8111, 9140, 5301, 5302, 4021, 4022, 3001, 8121, 7101, 7102, 9150, 2501, 2502, 9160, 2001, 9170, 6101, 6102, 5101, 5102, 2301}. Label image only contains 23 labels (including background).\n",
      "  warnings.warn(\n"
     ]
    },
    {
     "name": "stdout",
     "output_type": "stream",
     "text": [
      "(Reference MRI-PET MRI) Subject: sub-patient06, MRI Path: C:\\Users\\ishsh\\OneDrive\\Desktop\\QML_Project\\data\\processed\\mri_pet\\derivatives\\cleaned_skullstrip\\sub-patient06\\anat\\sub-patient06_T1w_skullstripped.nii.gz, ROI Data Shape: (1, 22)\n"
     ]
    },
    {
     "name": "stderr",
     "output_type": "stream",
     "text": [
      "c:\\Users\\ishsh\\OneDrive\\Desktop\\QML_Project\\venv4qml\\Lib\\site-packages\\nilearn\\maskers\\nifti_labels_masker.py:888: UserWarning: After resampling the label image to the data image, the following labels were removed: {6401, 6402, 4101, 4102, 2311, 8201, 8202, 4111, 4112, 2321, 2322, 8211, 8212, 5401, 5402, 2331, 9001, 9002, 2611, 2612, 2101, 9011, 9012, 6201, 6202, 9021, 9022, 2111, 2112, 6211, 6212, 9031, 9032, 6221, 6222, 5201, 5202, 9041, 9042, 7001, 9051, 9052, 7011, 9061, 9062, 4201, 4202, 8301, 8302, 7021, 9071, 9072, 6001, 9081, 9082, 5001, 5002, 9100, 2701, 2702, 5011, 5012, 9110, 2201, 6301, 6302, 5021, 5022, 9120, 2211, 2212, 8101, 9130, 8111, 9140, 5301, 5302, 4021, 4022, 3001, 8121, 7101, 7102, 9150, 2501, 2502, 9160, 2001, 9170, 6101, 6102, 5101, 5102, 2301}. Label image only contains 23 labels (including background).\n",
      "  warnings.warn(\n"
     ]
    },
    {
     "name": "stdout",
     "output_type": "stream",
     "text": [
      "(Reference MRI-PET MRI) Subject: sub-patient07, MRI Path: C:\\Users\\ishsh\\OneDrive\\Desktop\\QML_Project\\data\\processed\\mri_pet\\derivatives\\cleaned_skullstrip\\sub-patient07\\anat\\sub-patient07_T1w_skullstripped.nii.gz, ROI Data Shape: (1, 22)\n"
     ]
    },
    {
     "name": "stderr",
     "output_type": "stream",
     "text": [
      "c:\\Users\\ishsh\\OneDrive\\Desktop\\QML_Project\\venv4qml\\Lib\\site-packages\\nilearn\\maskers\\nifti_labels_masker.py:888: UserWarning: After resampling the label image to the data image, the following labels were removed: {6401, 6402, 4101, 4102, 2311, 8201, 8202, 4111, 4112, 2321, 2322, 8211, 8212, 5401, 5402, 2331, 9001, 9002, 2611, 2612, 2101, 9011, 9012, 6201, 6202, 9021, 9022, 2111, 2112, 6211, 6212, 9031, 9032, 6221, 6222, 5201, 5202, 9041, 9042, 7001, 9051, 9052, 7011, 9061, 9062, 4201, 4202, 8301, 8302, 7021, 9071, 9072, 6001, 9081, 9082, 5001, 5002, 9100, 2701, 2702, 5011, 5012, 9110, 2201, 6301, 6302, 5021, 5022, 9120, 2211, 2212, 8101, 9130, 8111, 9140, 5301, 5302, 4021, 4022, 3001, 8121, 7101, 7102, 9150, 2501, 2502, 9160, 2001, 9170, 6101, 6102, 5101, 5102, 2301}. Label image only contains 23 labels (including background).\n",
      "  warnings.warn(\n"
     ]
    },
    {
     "name": "stdout",
     "output_type": "stream",
     "text": [
      "(Reference MRI-PET MRI) Subject: sub-patient08, MRI Path: C:\\Users\\ishsh\\OneDrive\\Desktop\\QML_Project\\data\\processed\\mri_pet\\derivatives\\cleaned_skullstrip\\sub-patient08\\anat\\sub-patient08_T1w_skullstripped.nii.gz, ROI Data Shape: (1, 22)\n"
     ]
    },
    {
     "name": "stderr",
     "output_type": "stream",
     "text": [
      "c:\\Users\\ishsh\\OneDrive\\Desktop\\QML_Project\\venv4qml\\Lib\\site-packages\\nilearn\\maskers\\nifti_labels_masker.py:888: UserWarning: After resampling the label image to the data image, the following labels were removed: {6401, 6402, 4101, 4102, 2311, 8201, 8202, 4111, 4112, 2321, 2322, 8211, 8212, 5401, 5402, 2331, 9001, 9002, 2611, 2612, 2101, 9011, 9012, 6201, 6202, 9021, 9022, 2111, 2112, 6211, 6212, 9031, 9032, 6221, 6222, 5201, 5202, 9041, 9042, 7001, 9051, 9052, 7011, 9061, 9062, 4201, 4202, 8301, 8302, 7021, 9071, 9072, 6001, 9081, 9082, 5001, 5002, 9100, 2701, 2702, 5011, 5012, 9110, 2201, 6301, 6302, 5021, 5022, 9120, 2211, 2212, 8101, 9130, 8111, 9140, 5301, 5302, 4021, 4022, 3001, 8121, 7101, 7102, 9150, 2501, 2502, 9160, 2001, 9170, 6101, 6102, 5101, 5102, 2301}. Label image only contains 23 labels (including background).\n",
      "  warnings.warn(\n"
     ]
    },
    {
     "name": "stdout",
     "output_type": "stream",
     "text": [
      "(Reference MRI-PET MRI) Subject: sub-patient09, MRI Path: C:\\Users\\ishsh\\OneDrive\\Desktop\\QML_Project\\data\\processed\\mri_pet\\derivatives\\cleaned_skullstrip\\sub-patient09\\anat\\sub-patient09_T1w_skullstripped.nii.gz, ROI Data Shape: (1, 22)\n"
     ]
    },
    {
     "name": "stderr",
     "output_type": "stream",
     "text": [
      "c:\\Users\\ishsh\\OneDrive\\Desktop\\QML_Project\\venv4qml\\Lib\\site-packages\\nilearn\\maskers\\nifti_labels_masker.py:888: UserWarning: After resampling the label image to the data image, the following labels were removed: {6401, 6402, 4101, 4102, 2311, 8201, 8202, 4111, 4112, 2321, 2322, 8211, 8212, 5401, 5402, 2331, 9001, 9002, 2611, 2612, 2101, 9011, 9012, 6201, 6202, 9021, 9022, 2111, 2112, 6211, 6212, 9031, 9032, 6221, 6222, 5201, 5202, 9041, 9042, 7001, 9051, 9052, 7011, 9061, 9062, 4201, 4202, 8301, 8302, 7021, 9071, 9072, 6001, 9081, 9082, 5001, 5002, 9100, 2701, 2702, 5011, 5012, 9110, 2201, 6301, 6302, 5021, 5022, 9120, 2211, 2212, 8101, 9130, 8111, 9140, 5301, 5302, 4021, 4022, 3001, 8121, 7101, 7102, 9150, 2501, 2502, 9160, 2001, 9170, 6101, 6102, 5101, 5102, 2301}. Label image only contains 23 labels (including background).\n",
      "  warnings.warn(\n"
     ]
    },
    {
     "name": "stdout",
     "output_type": "stream",
     "text": [
      "(Reference MRI-PET MRI) Subject: sub-patient10, MRI Path: C:\\Users\\ishsh\\OneDrive\\Desktop\\QML_Project\\data\\processed\\mri_pet\\derivatives\\cleaned_skullstrip\\sub-patient10\\anat\\sub-patient10_T1w_skullstripped.nii.gz, ROI Data Shape: (1, 22)\n"
     ]
    },
    {
     "name": "stderr",
     "output_type": "stream",
     "text": [
      "c:\\Users\\ishsh\\OneDrive\\Desktop\\QML_Project\\venv4qml\\Lib\\site-packages\\nilearn\\maskers\\nifti_labels_masker.py:888: UserWarning: After resampling the label image to the data image, the following labels were removed: {6401, 6402, 4101, 4102, 2311, 8201, 8202, 4111, 4112, 2321, 2322, 8211, 8212, 5401, 5402, 2331, 9001, 9002, 2611, 2612, 2101, 9011, 9012, 6201, 6202, 9021, 9022, 2111, 2112, 6211, 6212, 9031, 9032, 6221, 6222, 5201, 5202, 9041, 9042, 7001, 9051, 9052, 7011, 9061, 9062, 4201, 4202, 8301, 8302, 7021, 9071, 9072, 6001, 9081, 9082, 5001, 5002, 9100, 2701, 2702, 5011, 5012, 9110, 2201, 6301, 6302, 5021, 5022, 9120, 2211, 2212, 8101, 9130, 8111, 9140, 5301, 5302, 4021, 4022, 3001, 8121, 7101, 7102, 9150, 2501, 2502, 9160, 2001, 9170, 6101, 6102, 5101, 5102, 2301}. Label image only contains 23 labels (including background).\n",
      "  warnings.warn(\n"
     ]
    },
    {
     "name": "stdout",
     "output_type": "stream",
     "text": [
      "(Reference MRI-PET MRI) Subject: sub-patient11, MRI Path: C:\\Users\\ishsh\\OneDrive\\Desktop\\QML_Project\\data\\processed\\mri_pet\\derivatives\\cleaned_skullstrip\\sub-patient11\\anat\\sub-patient11_T1w_skullstripped.nii.gz, ROI Data Shape: (1, 22)\n"
     ]
    },
    {
     "name": "stderr",
     "output_type": "stream",
     "text": [
      "c:\\Users\\ishsh\\OneDrive\\Desktop\\QML_Project\\venv4qml\\Lib\\site-packages\\nilearn\\maskers\\nifti_labels_masker.py:888: UserWarning: After resampling the label image to the data image, the following labels were removed: {6401, 6402, 4101, 4102, 2311, 8201, 8202, 4111, 4112, 2321, 2322, 8211, 8212, 5401, 5402, 2331, 9001, 9002, 2611, 2612, 2101, 9011, 9012, 6201, 6202, 9021, 9022, 2111, 2112, 6211, 6212, 9031, 9032, 6221, 6222, 5201, 5202, 9041, 9042, 7001, 9051, 9052, 7011, 9061, 9062, 4201, 4202, 8301, 8302, 7021, 9071, 9072, 6001, 9081, 9082, 5001, 5002, 9100, 2701, 2702, 5011, 5012, 9110, 2201, 6301, 6302, 5021, 5022, 9120, 2211, 2212, 8101, 9130, 8111, 9140, 5301, 5302, 4021, 4022, 3001, 8121, 7101, 7102, 9150, 2501, 2502, 9160, 2001, 9170, 6101, 6102, 5101, 5102, 2301}. Label image only contains 23 labels (including background).\n",
      "  warnings.warn(\n"
     ]
    },
    {
     "name": "stdout",
     "output_type": "stream",
     "text": [
      "(Reference MRI-PET MRI) Subject: sub-patient12, MRI Path: C:\\Users\\ishsh\\OneDrive\\Desktop\\QML_Project\\data\\processed\\mri_pet\\derivatives\\cleaned_skullstrip\\sub-patient12\\anat\\sub-patient12_T1w_skullstripped.nii.gz, ROI Data Shape: (1, 22)\n"
     ]
    },
    {
     "name": "stderr",
     "output_type": "stream",
     "text": [
      "c:\\Users\\ishsh\\OneDrive\\Desktop\\QML_Project\\venv4qml\\Lib\\site-packages\\nilearn\\maskers\\nifti_labels_masker.py:888: UserWarning: After resampling the label image to the data image, the following labels were removed: {6401, 6402, 4101, 4102, 2311, 8201, 8202, 4111, 4112, 2321, 2322, 8211, 8212, 5401, 5402, 2331, 9001, 9002, 2611, 2612, 2101, 9011, 9012, 6201, 6202, 9021, 9022, 2111, 2112, 6211, 6212, 9031, 9032, 6221, 6222, 5201, 5202, 9041, 9042, 7001, 9051, 9052, 7011, 9061, 9062, 4201, 4202, 8301, 8302, 7021, 9071, 9072, 6001, 9081, 9082, 5001, 5002, 9100, 2701, 2702, 5011, 5012, 9110, 2201, 6301, 6302, 5021, 5022, 9120, 2211, 2212, 8101, 9130, 8111, 9140, 5301, 5302, 4021, 4022, 3001, 8121, 7101, 7102, 9150, 2501, 2502, 9160, 2001, 9170, 6101, 6102, 5101, 5102, 2301}. Label image only contains 23 labels (including background).\n",
      "  warnings.warn(\n"
     ]
    },
    {
     "name": "stdout",
     "output_type": "stream",
     "text": [
      "(Reference MRI-PET MRI) Subject: sub-patient13, MRI Path: C:\\Users\\ishsh\\OneDrive\\Desktop\\QML_Project\\data\\processed\\mri_pet\\derivatives\\cleaned_skullstrip\\sub-patient13\\anat\\sub-patient13_T1w_skullstripped.nii.gz, ROI Data Shape: (1, 22)\n"
     ]
    },
    {
     "name": "stderr",
     "output_type": "stream",
     "text": [
      "c:\\Users\\ishsh\\OneDrive\\Desktop\\QML_Project\\venv4qml\\Lib\\site-packages\\nilearn\\maskers\\nifti_labels_masker.py:888: UserWarning: After resampling the label image to the data image, the following labels were removed: {6401, 6402, 4101, 4102, 2311, 8201, 8202, 4111, 4112, 2321, 2322, 8211, 8212, 5401, 5402, 2331, 9001, 9002, 2611, 2612, 2101, 9011, 9012, 6201, 6202, 9021, 9022, 2111, 2112, 6211, 6212, 9031, 9032, 6221, 6222, 5201, 5202, 9041, 9042, 7001, 9051, 9052, 7011, 9061, 9062, 4201, 4202, 8301, 8302, 7021, 9071, 9072, 6001, 9081, 9082, 5001, 5002, 9100, 2701, 2702, 5011, 5012, 9110, 2201, 6301, 6302, 5021, 5022, 9120, 2211, 2212, 8101, 9130, 8111, 9140, 5301, 5302, 4021, 4022, 3001, 8121, 7101, 7102, 9150, 2501, 2502, 9160, 2001, 9170, 6101, 6102, 5101, 5102, 2301}. Label image only contains 23 labels (including background).\n",
      "  warnings.warn(\n"
     ]
    },
    {
     "name": "stdout",
     "output_type": "stream",
     "text": [
      "(Reference MRI-PET MRI) Subject: sub-patient14, MRI Path: C:\\Users\\ishsh\\OneDrive\\Desktop\\QML_Project\\data\\processed\\mri_pet\\derivatives\\cleaned_skullstrip\\sub-patient14\\anat\\sub-patient14_T1w_skullstripped.nii.gz, ROI Data Shape: (1, 22)\n"
     ]
    },
    {
     "name": "stderr",
     "output_type": "stream",
     "text": [
      "c:\\Users\\ishsh\\OneDrive\\Desktop\\QML_Project\\venv4qml\\Lib\\site-packages\\nilearn\\maskers\\nifti_labels_masker.py:888: UserWarning: After resampling the label image to the data image, the following labels were removed: {6401, 6402, 4101, 4102, 2311, 8201, 8202, 4111, 4112, 2321, 2322, 8211, 8212, 5401, 5402, 2331, 9001, 9002, 2611, 2612, 2101, 9011, 9012, 6201, 6202, 9021, 9022, 2111, 2112, 6211, 6212, 9031, 9032, 6221, 6222, 5201, 5202, 9041, 9042, 7001, 9051, 9052, 7011, 9061, 9062, 4201, 4202, 8301, 8302, 7021, 9071, 9072, 6001, 9081, 9082, 5001, 5002, 9100, 2701, 2702, 5011, 5012, 9110, 2201, 6301, 6302, 5021, 5022, 9120, 2211, 2212, 8101, 9130, 8111, 9140, 5301, 5302, 4021, 4022, 3001, 8121, 7101, 7102, 9150, 2501, 2502, 9160, 2001, 9170, 6101, 6102, 5101, 5102, 2301}. Label image only contains 23 labels (including background).\n",
      "  warnings.warn(\n"
     ]
    },
    {
     "name": "stdout",
     "output_type": "stream",
     "text": [
      "(Reference MRI-PET MRI) Subject: sub-patient15, MRI Path: C:\\Users\\ishsh\\OneDrive\\Desktop\\QML_Project\\data\\processed\\mri_pet\\derivatives\\cleaned_skullstrip\\sub-patient15\\anat\\sub-patient15_T1w_skullstripped.nii.gz, ROI Data Shape: (1, 22)\n"
     ]
    },
    {
     "name": "stderr",
     "output_type": "stream",
     "text": [
      "c:\\Users\\ishsh\\OneDrive\\Desktop\\QML_Project\\venv4qml\\Lib\\site-packages\\nilearn\\maskers\\nifti_labels_masker.py:888: UserWarning: After resampling the label image to the data image, the following labels were removed: {6401, 6402, 4101, 4102, 2311, 8201, 8202, 4111, 4112, 2321, 2322, 8211, 8212, 5401, 5402, 2331, 9001, 9002, 2611, 2612, 2101, 9011, 9012, 6201, 6202, 9021, 9022, 2111, 2112, 6211, 6212, 9031, 9032, 6221, 6222, 5201, 5202, 9041, 9042, 7001, 9051, 9052, 7011, 9061, 9062, 4201, 4202, 8301, 8302, 7021, 9071, 9072, 6001, 9081, 9082, 5001, 5002, 9100, 2701, 2702, 5011, 5012, 9110, 2201, 6301, 6302, 5021, 5022, 9120, 2211, 2212, 8101, 9130, 8111, 9140, 5301, 5302, 4021, 4022, 3001, 8121, 7101, 7102, 9150, 2501, 2502, 9160, 2001, 9170, 6101, 6102, 5101, 5102, 2301}. Label image only contains 23 labels (including background).\n",
      "  warnings.warn(\n"
     ]
    },
    {
     "name": "stdout",
     "output_type": "stream",
     "text": [
      "(Reference MRI-PET MRI) Subject: sub-patient16, MRI Path: C:\\Users\\ishsh\\OneDrive\\Desktop\\QML_Project\\data\\processed\\mri_pet\\derivatives\\cleaned_skullstrip\\sub-patient16\\anat\\sub-patient16_T1w_skullstripped.nii.gz, ROI Data Shape: (1, 22)\n"
     ]
    },
    {
     "name": "stderr",
     "output_type": "stream",
     "text": [
      "c:\\Users\\ishsh\\OneDrive\\Desktop\\QML_Project\\venv4qml\\Lib\\site-packages\\nilearn\\maskers\\nifti_labels_masker.py:888: UserWarning: After resampling the label image to the data image, the following labels were removed: {6401, 6402, 4101, 4102, 2311, 8201, 8202, 4111, 4112, 2321, 2322, 8211, 8212, 5401, 5402, 2331, 9001, 9002, 2611, 2612, 2101, 9011, 9012, 6201, 6202, 9021, 9022, 2111, 2112, 6211, 6212, 9031, 9032, 6221, 6222, 5201, 5202, 9041, 9042, 7001, 9051, 9052, 7011, 9061, 9062, 4201, 4202, 8301, 8302, 7021, 9071, 9072, 6001, 9081, 9082, 5001, 5002, 9100, 2701, 2702, 5011, 5012, 9110, 2201, 6301, 6302, 5021, 5022, 9120, 2211, 2212, 8101, 9130, 8111, 9140, 5301, 5302, 4021, 4022, 3001, 8121, 7101, 7102, 9150, 2501, 2502, 9160, 2001, 9170, 6101, 6102, 5101, 5102, 2301}. Label image only contains 23 labels (including background).\n",
      "  warnings.warn(\n"
     ]
    },
    {
     "name": "stdout",
     "output_type": "stream",
     "text": [
      "(Reference MRI-PET MRI) Subject: sub-patient17, MRI Path: C:\\Users\\ishsh\\OneDrive\\Desktop\\QML_Project\\data\\processed\\mri_pet\\derivatives\\cleaned_skullstrip\\sub-patient17\\anat\\sub-patient17_T1w_skullstripped.nii.gz, ROI Data Shape: (1, 22)\n"
     ]
    },
    {
     "name": "stderr",
     "output_type": "stream",
     "text": [
      "c:\\Users\\ishsh\\OneDrive\\Desktop\\QML_Project\\venv4qml\\Lib\\site-packages\\nilearn\\maskers\\nifti_labels_masker.py:888: UserWarning: After resampling the label image to the data image, the following labels were removed: {6401, 6402, 4101, 4102, 2311, 8201, 8202, 4111, 4112, 2321, 2322, 8211, 8212, 5401, 5402, 2331, 9001, 9002, 2611, 2612, 2101, 9011, 9012, 6201, 6202, 9021, 9022, 2111, 2112, 6211, 6212, 9031, 9032, 6221, 6222, 5201, 5202, 9041, 9042, 7001, 9051, 9052, 7011, 9061, 9062, 4201, 4202, 8301, 8302, 7021, 9071, 9072, 6001, 9081, 9082, 5001, 5002, 9100, 2701, 2702, 5011, 5012, 9110, 2201, 6301, 6302, 5021, 5022, 9120, 2211, 2212, 8101, 9130, 8111, 9140, 5301, 5302, 4021, 4022, 3001, 8121, 7101, 7102, 9150, 2501, 2502, 9160, 2001, 9170, 6101, 6102, 5101, 5102, 2301}. Label image only contains 23 labels (including background).\n",
      "  warnings.warn(\n"
     ]
    },
    {
     "name": "stdout",
     "output_type": "stream",
     "text": [
      "(Reference MRI-PET MRI) Subject: sub-patient18, MRI Path: C:\\Users\\ishsh\\OneDrive\\Desktop\\QML_Project\\data\\processed\\mri_pet\\derivatives\\cleaned_skullstrip\\sub-patient18\\anat\\sub-patient18_T1w_skullstripped.nii.gz, ROI Data Shape: (1, 22)\n"
     ]
    },
    {
     "name": "stderr",
     "output_type": "stream",
     "text": [
      "c:\\Users\\ishsh\\OneDrive\\Desktop\\QML_Project\\venv4qml\\Lib\\site-packages\\nilearn\\maskers\\nifti_labels_masker.py:888: UserWarning: After resampling the label image to the data image, the following labels were removed: {6401, 6402, 4101, 4102, 2311, 8201, 8202, 4111, 4112, 2321, 2322, 8211, 8212, 5401, 5402, 2331, 9001, 9002, 2611, 2612, 2101, 9011, 9012, 6201, 6202, 9021, 9022, 2111, 2112, 6211, 6212, 9031, 9032, 6221, 6222, 5201, 5202, 9041, 9042, 7001, 9051, 9052, 7011, 9061, 9062, 4201, 4202, 8301, 8302, 7021, 9071, 9072, 6001, 9081, 9082, 5001, 5002, 9100, 2701, 2702, 5011, 5012, 9110, 2201, 6301, 6302, 5021, 5022, 9120, 2211, 2212, 8101, 9130, 8111, 9140, 5301, 5302, 4021, 4022, 3001, 8121, 7101, 7102, 9150, 2501, 2502, 9160, 2001, 9170, 6101, 6102, 5101, 5102, 2301}. Label image only contains 23 labels (including background).\n",
      "  warnings.warn(\n"
     ]
    },
    {
     "name": "stdout",
     "output_type": "stream",
     "text": [
      "(Reference MRI-PET MRI) Subject: sub-patient19, MRI Path: C:\\Users\\ishsh\\OneDrive\\Desktop\\QML_Project\\data\\processed\\mri_pet\\derivatives\\cleaned_skullstrip\\sub-patient19\\anat\\sub-patient19_T1w_skullstripped.nii.gz, ROI Data Shape: (1, 22)\n"
     ]
    },
    {
     "name": "stderr",
     "output_type": "stream",
     "text": [
      "c:\\Users\\ishsh\\OneDrive\\Desktop\\QML_Project\\venv4qml\\Lib\\site-packages\\nilearn\\maskers\\nifti_labels_masker.py:888: UserWarning: After resampling the label image to the data image, the following labels were removed: {6401, 6402, 4101, 4102, 2311, 8201, 8202, 4111, 4112, 2321, 2322, 8211, 8212, 5401, 5402, 2331, 9001, 9002, 2611, 2612, 2101, 9011, 9012, 6201, 6202, 9021, 9022, 2111, 2112, 6211, 6212, 9031, 9032, 6221, 6222, 5201, 5202, 9041, 9042, 7001, 9051, 9052, 7011, 9061, 9062, 4201, 4202, 8301, 8302, 7021, 9071, 9072, 6001, 9081, 9082, 5001, 5002, 9100, 2701, 2702, 5011, 5012, 9110, 2201, 6301, 6302, 5021, 5022, 9120, 2211, 2212, 8101, 9130, 8111, 9140, 5301, 5302, 4021, 4022, 3001, 8121, 7101, 7102, 9150, 2501, 2502, 9160, 2001, 9170, 6101, 6102, 5101, 5102, 2301}. Label image only contains 23 labels (including background).\n",
      "  warnings.warn(\n"
     ]
    },
    {
     "name": "stdout",
     "output_type": "stream",
     "text": [
      "(Reference MRI-PET MRI) Subject: sub-patient20, MRI Path: C:\\Users\\ishsh\\OneDrive\\Desktop\\QML_Project\\data\\processed\\mri_pet\\derivatives\\cleaned_skullstrip\\sub-patient20\\anat\\sub-patient20_T1w_skullstripped.nii.gz, ROI Data Shape: (1, 22)\n"
     ]
    },
    {
     "name": "stderr",
     "output_type": "stream",
     "text": [
      "c:\\Users\\ishsh\\OneDrive\\Desktop\\QML_Project\\venv4qml\\Lib\\site-packages\\nilearn\\maskers\\nifti_labels_masker.py:888: UserWarning: After resampling the label image to the data image, the following labels were removed: {6401, 6402, 4101, 4102, 2311, 8201, 8202, 4111, 4112, 2321, 2322, 8211, 8212, 5401, 5402, 2331, 9001, 9002, 2611, 2612, 2101, 9011, 9012, 6201, 6202, 9021, 9022, 2111, 2112, 6211, 6212, 9031, 9032, 6221, 6222, 5201, 5202, 9041, 9042, 7001, 9051, 9052, 7011, 9061, 9062, 4201, 4202, 8301, 8302, 7021, 9071, 9072, 6001, 9081, 9082, 5001, 5002, 9100, 2701, 2702, 5011, 5012, 9110, 2201, 6301, 6302, 5021, 5022, 9120, 2211, 2212, 8101, 9130, 8111, 9140, 5301, 5302, 4021, 4022, 3001, 8121, 7101, 7102, 9150, 2501, 2502, 9160, 2001, 9170, 6101, 6102, 5101, 5102, 2301}. Label image only contains 23 labels (including background).\n",
      "  warnings.warn(\n"
     ]
    },
    {
     "name": "stdout",
     "output_type": "stream",
     "text": [
      "(Reference MRI-PET MRI) Subject: sub-patient21, MRI Path: C:\\Users\\ishsh\\OneDrive\\Desktop\\QML_Project\\data\\processed\\mri_pet\\derivatives\\cleaned_skullstrip\\sub-patient21\\anat\\sub-patient21_T1w_skullstripped.nii.gz, ROI Data Shape: (1, 22)\n"
     ]
    },
    {
     "name": "stderr",
     "output_type": "stream",
     "text": [
      "c:\\Users\\ishsh\\OneDrive\\Desktop\\QML_Project\\venv4qml\\Lib\\site-packages\\nilearn\\maskers\\nifti_labels_masker.py:888: UserWarning: After resampling the label image to the data image, the following labels were removed: {6401, 6402, 4101, 4102, 2311, 8201, 8202, 4111, 4112, 2321, 2322, 8211, 8212, 5401, 5402, 2331, 9001, 9002, 2611, 2612, 2101, 9011, 9012, 6201, 6202, 9021, 9022, 2111, 2112, 6211, 6212, 9031, 9032, 6221, 6222, 5201, 5202, 9041, 9042, 7001, 9051, 9052, 7011, 9061, 9062, 4201, 4202, 8301, 8302, 7021, 9071, 9072, 6001, 9081, 9082, 5001, 5002, 9100, 2701, 2702, 5011, 5012, 9110, 2201, 6301, 6302, 5021, 5022, 9120, 2211, 2212, 8101, 9130, 8111, 9140, 5301, 5302, 4021, 4022, 3001, 8121, 7101, 7102, 9150, 2501, 2502, 9160, 2001, 9170, 6101, 6102, 5101, 5102, 2301}. Label image only contains 23 labels (including background).\n",
      "  warnings.warn(\n"
     ]
    },
    {
     "name": "stdout",
     "output_type": "stream",
     "text": [
      "(Reference MRI-PET MRI) Subject: sub-patient22, MRI Path: C:\\Users\\ishsh\\OneDrive\\Desktop\\QML_Project\\data\\processed\\mri_pet\\derivatives\\cleaned_skullstrip\\sub-patient22\\anat\\sub-patient22_T1w_skullstripped.nii.gz, ROI Data Shape: (1, 22)\n"
     ]
    },
    {
     "name": "stderr",
     "output_type": "stream",
     "text": [
      "c:\\Users\\ishsh\\OneDrive\\Desktop\\QML_Project\\venv4qml\\Lib\\site-packages\\nilearn\\maskers\\nifti_labels_masker.py:888: UserWarning: After resampling the label image to the data image, the following labels were removed: {6401, 6402, 4101, 4102, 2311, 8201, 8202, 4111, 4112, 2321, 2322, 8211, 8212, 5401, 5402, 2331, 9001, 9002, 2611, 2612, 2101, 9011, 9012, 6201, 6202, 9021, 9022, 2111, 2112, 6211, 6212, 9031, 9032, 6221, 6222, 5201, 5202, 9041, 9042, 7001, 9051, 9052, 7011, 9061, 9062, 4201, 4202, 8301, 8302, 7021, 9071, 9072, 6001, 9081, 9082, 5001, 5002, 9100, 2701, 2702, 5011, 5012, 9110, 2201, 6301, 6302, 5021, 5022, 9120, 2211, 2212, 8101, 9130, 8111, 9140, 5301, 5302, 4021, 4022, 3001, 8121, 7101, 7102, 9150, 2501, 2502, 9160, 2001, 9170, 6101, 6102, 5101, 5102, 2301}. Label image only contains 23 labels (including background).\n",
      "  warnings.warn(\n"
     ]
    },
    {
     "name": "stdout",
     "output_type": "stream",
     "text": [
      "(Reference MRI-PET MRI) Subject: sub-patient23, MRI Path: C:\\Users\\ishsh\\OneDrive\\Desktop\\QML_Project\\data\\processed\\mri_pet\\derivatives\\cleaned_skullstrip\\sub-patient23\\anat\\sub-patient23_T1w_skullstripped.nii.gz, ROI Data Shape: (1, 22)\n"
     ]
    },
    {
     "name": "stderr",
     "output_type": "stream",
     "text": [
      "c:\\Users\\ishsh\\OneDrive\\Desktop\\QML_Project\\venv4qml\\Lib\\site-packages\\nilearn\\maskers\\nifti_labels_masker.py:888: UserWarning: After resampling the label image to the data image, the following labels were removed: {6401, 6402, 4101, 4102, 2311, 8201, 8202, 4111, 4112, 2321, 2322, 8211, 8212, 5401, 5402, 2331, 9001, 9002, 2611, 2612, 2101, 9011, 9012, 6201, 6202, 9021, 9022, 2111, 2112, 6211, 6212, 9031, 9032, 6221, 6222, 5201, 5202, 9041, 9042, 7001, 9051, 9052, 7011, 9061, 9062, 4201, 4202, 8301, 8302, 7021, 9071, 9072, 6001, 9081, 9082, 5001, 5002, 9100, 2701, 2702, 5011, 5012, 9110, 2201, 6301, 6302, 5021, 5022, 9120, 2211, 2212, 8101, 9130, 8111, 9140, 5301, 5302, 4021, 4022, 3001, 8121, 7101, 7102, 9150, 2501, 2502, 9160, 2001, 9170, 6101, 6102, 5101, 5102, 2301}. Label image only contains 23 labels (including background).\n",
      "  warnings.warn(\n"
     ]
    },
    {
     "name": "stdout",
     "output_type": "stream",
     "text": [
      "(Reference MRI-PET MRI) Subject: sub-patient24, MRI Path: C:\\Users\\ishsh\\OneDrive\\Desktop\\QML_Project\\data\\processed\\mri_pet\\derivatives\\cleaned_skullstrip\\sub-patient24\\anat\\sub-patient24_T1w_skullstripped.nii.gz, ROI Data Shape: (1, 22)\n"
     ]
    },
    {
     "name": "stderr",
     "output_type": "stream",
     "text": [
      "c:\\Users\\ishsh\\OneDrive\\Desktop\\QML_Project\\venv4qml\\Lib\\site-packages\\nilearn\\maskers\\nifti_labels_masker.py:888: UserWarning: After resampling the label image to the data image, the following labels were removed: {6401, 6402, 4101, 4102, 2311, 8201, 8202, 4111, 4112, 2321, 2322, 8211, 8212, 5401, 5402, 2331, 9001, 9002, 2611, 2612, 2101, 9011, 9012, 6201, 6202, 9021, 9022, 2111, 2112, 6211, 6212, 9031, 9032, 6221, 6222, 5201, 5202, 9041, 9042, 7001, 9051, 9052, 7011, 9061, 9062, 4201, 4202, 8301, 8302, 7021, 9071, 9072, 6001, 9081, 9082, 5001, 5002, 9100, 2701, 2702, 5011, 5012, 9110, 2201, 6301, 6302, 5021, 5022, 9120, 2211, 2212, 8101, 9130, 8111, 9140, 5301, 5302, 4021, 4022, 3001, 8121, 7101, 7102, 9150, 2501, 2502, 9160, 2001, 9170, 6101, 6102, 5101, 5102, 2301}. Label image only contains 23 labels (including background).\n",
      "  warnings.warn(\n"
     ]
    },
    {
     "name": "stdout",
     "output_type": "stream",
     "text": [
      "Surviving MRI-PET labels (after reference): range(0, 22)\n",
      "(Processing MRI-PET MRI) Subject: sub-control01, MRI Path: C:\\Users\\ishsh\\OneDrive\\Desktop\\QML_Project\\data\\processed\\mri_pet\\derivatives\\cleaned_skullstrip\\sub-control01\\anat\\sub-control01_T1w_skullstripped.nii.gz\n"
     ]
    },
    {
     "name": "stderr",
     "output_type": "stream",
     "text": [
      "c:\\Users\\ishsh\\OneDrive\\Desktop\\QML_Project\\venv4qml\\Lib\\site-packages\\nilearn\\maskers\\nifti_labels_masker.py:888: UserWarning: After resampling the label image to the data image, the following labels were removed: {6401, 6402, 4101, 4102, 2311, 8201, 8202, 4111, 4112, 2321, 2322, 8211, 8212, 5401, 5402, 2331, 9001, 9002, 2611, 2612, 2101, 9011, 9012, 6201, 6202, 9021, 9022, 2111, 2112, 6211, 6212, 9031, 9032, 6221, 6222, 5201, 5202, 9041, 9042, 7001, 9051, 9052, 7011, 9061, 9062, 4201, 4202, 8301, 8302, 7021, 9071, 9072, 6001, 9081, 9082, 5001, 5002, 9100, 2701, 2702, 5011, 5012, 9110, 2201, 6301, 6302, 5021, 5022, 9120, 2211, 2212, 8101, 9130, 8111, 9140, 5301, 5302, 4021, 4022, 3001, 8121, 7101, 7102, 9150, 2501, 2502, 9160, 2001, 9170, 6101, 6102, 5101, 5102, 2301}. Label image only contains 23 labels (including background).\n",
      "  warnings.warn(\n"
     ]
    },
    {
     "name": "stdout",
     "output_type": "stream",
     "text": [
      "(Processing PET) Subject: sub-control01, PET Path: C:\\Users\\ishsh\\OneDrive\\Desktop\\QML_Project\\data\\processed\\mri_pet\\derivatives\\preprocessed_pet\\sub-control01\\pet\\sub-control01_space-MNI152NLin2009aPET.nii.gz\n",
      "(Processing MRI-PET MRI) Subject: sub-control02, MRI Path: C:\\Users\\ishsh\\OneDrive\\Desktop\\QML_Project\\data\\processed\\mri_pet\\derivatives\\cleaned_skullstrip\\sub-control02\\anat\\sub-control02_T1w_skullstripped.nii.gz\n"
     ]
    },
    {
     "name": "stderr",
     "output_type": "stream",
     "text": [
      "c:\\Users\\ishsh\\OneDrive\\Desktop\\QML_Project\\venv4qml\\Lib\\site-packages\\nilearn\\maskers\\nifti_labels_masker.py:888: UserWarning: After resampling the label image to the data image, the following labels were removed: {6401, 6402, 4101, 4102, 2311, 8201, 8202, 4111, 4112, 2321, 2322, 8211, 8212, 5401, 5402, 2331, 9001, 9002, 2611, 2612, 2101, 9011, 9012, 6201, 6202, 9021, 9022, 2111, 2112, 6211, 6212, 9031, 9032, 6221, 6222, 5201, 5202, 9041, 9042, 7001, 9051, 9052, 7011, 9061, 9062, 4201, 4202, 8301, 8302, 7021, 9071, 9072, 6001, 9081, 9082, 5001, 5002, 9100, 2701, 2702, 5011, 5012, 9110, 2201, 6301, 6302, 5021, 5022, 9120, 2211, 2212, 8101, 9130, 8111, 9140, 5301, 5302, 4021, 4022, 3001, 8121, 7101, 7102, 9150, 2501, 2502, 9160, 2001, 9170, 6101, 6102, 5101, 5102, 2301}. Label image only contains 23 labels (including background).\n",
      "  warnings.warn(\n"
     ]
    },
    {
     "name": "stdout",
     "output_type": "stream",
     "text": [
      "(Processing PET) Subject: sub-control02, PET Path: C:\\Users\\ishsh\\OneDrive\\Desktop\\QML_Project\\data\\processed\\mri_pet\\derivatives\\preprocessed_pet\\sub-control02\\pet\\sub-control02_space-MNI152NLin2009aPET.nii.gz\n",
      "(Processing MRI-PET MRI) Subject: sub-control03, MRI Path: C:\\Users\\ishsh\\OneDrive\\Desktop\\QML_Project\\data\\processed\\mri_pet\\derivatives\\cleaned_skullstrip\\sub-control03\\anat\\sub-control03_T1w_skullstripped.nii.gz\n"
     ]
    },
    {
     "name": "stderr",
     "output_type": "stream",
     "text": [
      "c:\\Users\\ishsh\\OneDrive\\Desktop\\QML_Project\\venv4qml\\Lib\\site-packages\\nilearn\\maskers\\nifti_labels_masker.py:888: UserWarning: After resampling the label image to the data image, the following labels were removed: {6401, 6402, 4101, 4102, 2311, 8201, 8202, 4111, 4112, 2321, 2322, 8211, 8212, 5401, 5402, 2331, 9001, 9002, 2611, 2612, 2101, 9011, 9012, 6201, 6202, 9021, 9022, 2111, 2112, 6211, 6212, 9031, 9032, 6221, 6222, 5201, 5202, 9041, 9042, 7001, 9051, 9052, 7011, 9061, 9062, 4201, 4202, 8301, 8302, 7021, 9071, 9072, 6001, 9081, 9082, 5001, 5002, 9100, 2701, 2702, 5011, 5012, 9110, 2201, 6301, 6302, 5021, 5022, 9120, 2211, 2212, 8101, 9130, 8111, 9140, 5301, 5302, 4021, 4022, 3001, 8121, 7101, 7102, 9150, 2501, 2502, 9160, 2001, 9170, 6101, 6102, 5101, 5102, 2301}. Label image only contains 23 labels (including background).\n",
      "  warnings.warn(\n"
     ]
    },
    {
     "name": "stdout",
     "output_type": "stream",
     "text": [
      "(Processing PET) Subject: sub-control03, PET Path: C:\\Users\\ishsh\\OneDrive\\Desktop\\QML_Project\\data\\processed\\mri_pet\\derivatives\\preprocessed_pet\\sub-control03\\pet\\sub-control03_space-MNI152NLin2009aPET.nii.gz\n",
      "(Processing MRI-PET MRI) Subject: sub-control04, MRI Path: C:\\Users\\ishsh\\OneDrive\\Desktop\\QML_Project\\data\\processed\\mri_pet\\derivatives\\cleaned_skullstrip\\sub-control04\\anat\\sub-control04_T1w_skullstripped.nii.gz\n"
     ]
    },
    {
     "name": "stderr",
     "output_type": "stream",
     "text": [
      "c:\\Users\\ishsh\\OneDrive\\Desktop\\QML_Project\\venv4qml\\Lib\\site-packages\\nilearn\\maskers\\nifti_labels_masker.py:888: UserWarning: After resampling the label image to the data image, the following labels were removed: {6401, 6402, 4101, 4102, 2311, 8201, 8202, 4111, 4112, 2321, 2322, 8211, 8212, 5401, 5402, 2331, 9001, 9002, 2611, 2612, 2101, 9011, 9012, 6201, 6202, 9021, 9022, 2111, 2112, 6211, 6212, 9031, 9032, 6221, 6222, 5201, 5202, 9041, 9042, 7001, 9051, 9052, 7011, 9061, 9062, 4201, 4202, 8301, 8302, 7021, 9071, 9072, 6001, 9081, 9082, 5001, 5002, 9100, 2701, 2702, 5011, 5012, 9110, 2201, 6301, 6302, 5021, 5022, 9120, 2211, 2212, 8101, 9130, 8111, 9140, 5301, 5302, 4021, 4022, 3001, 8121, 7101, 7102, 9150, 2501, 2502, 9160, 2001, 9170, 6101, 6102, 5101, 5102, 2301}. Label image only contains 23 labels (including background).\n",
      "  warnings.warn(\n"
     ]
    },
    {
     "name": "stdout",
     "output_type": "stream",
     "text": [
      "(Processing PET) Subject: sub-control04, PET Path: C:\\Users\\ishsh\\OneDrive\\Desktop\\QML_Project\\data\\processed\\mri_pet\\derivatives\\preprocessed_pet\\sub-control04\\pet\\sub-control04_space-MNI152NLin2009aPET.nii.gz\n",
      "(Processing MRI-PET MRI) Subject: sub-control05, MRI Path: C:\\Users\\ishsh\\OneDrive\\Desktop\\QML_Project\\data\\processed\\mri_pet\\derivatives\\cleaned_skullstrip\\sub-control05\\anat\\sub-control05_T1w_skullstripped.nii.gz\n"
     ]
    },
    {
     "name": "stderr",
     "output_type": "stream",
     "text": [
      "c:\\Users\\ishsh\\OneDrive\\Desktop\\QML_Project\\venv4qml\\Lib\\site-packages\\nilearn\\maskers\\nifti_labels_masker.py:888: UserWarning: After resampling the label image to the data image, the following labels were removed: {6401, 6402, 4101, 4102, 2311, 8201, 8202, 4111, 4112, 2321, 2322, 8211, 8212, 5401, 5402, 2331, 9001, 9002, 2611, 2612, 2101, 9011, 9012, 6201, 6202, 9021, 9022, 2111, 2112, 6211, 6212, 9031, 9032, 6221, 6222, 5201, 5202, 9041, 9042, 7001, 9051, 9052, 7011, 9061, 9062, 4201, 4202, 8301, 8302, 7021, 9071, 9072, 6001, 9081, 9082, 5001, 5002, 9100, 2701, 2702, 5011, 5012, 9110, 2201, 6301, 6302, 5021, 5022, 9120, 2211, 2212, 8101, 9130, 8111, 9140, 5301, 5302, 4021, 4022, 3001, 8121, 7101, 7102, 9150, 2501, 2502, 9160, 2001, 9170, 6101, 6102, 5101, 5102, 2301}. Label image only contains 23 labels (including background).\n",
      "  warnings.warn(\n"
     ]
    },
    {
     "name": "stdout",
     "output_type": "stream",
     "text": [
      "(Processing PET) Subject: sub-control05, PET Path: C:\\Users\\ishsh\\OneDrive\\Desktop\\QML_Project\\data\\processed\\mri_pet\\derivatives\\preprocessed_pet\\sub-control05\\pet\\sub-control05_space-MNI152NLin2009aPET.nii.gz\n",
      "(Processing MRI-PET MRI) Subject: sub-control06, MRI Path: C:\\Users\\ishsh\\OneDrive\\Desktop\\QML_Project\\data\\processed\\mri_pet\\derivatives\\cleaned_skullstrip\\sub-control06\\anat\\sub-control06_T1w_skullstripped.nii.gz\n"
     ]
    },
    {
     "name": "stderr",
     "output_type": "stream",
     "text": [
      "c:\\Users\\ishsh\\OneDrive\\Desktop\\QML_Project\\venv4qml\\Lib\\site-packages\\nilearn\\maskers\\nifti_labels_masker.py:888: UserWarning: After resampling the label image to the data image, the following labels were removed: {6401, 6402, 4101, 4102, 2311, 8201, 8202, 4111, 4112, 2321, 2322, 8211, 8212, 5401, 5402, 2331, 9001, 9002, 2611, 2612, 2101, 9011, 9012, 6201, 6202, 9021, 9022, 2111, 2112, 6211, 6212, 9031, 9032, 6221, 6222, 5201, 5202, 9041, 9042, 7001, 9051, 9052, 7011, 9061, 9062, 4201, 4202, 8301, 8302, 7021, 9071, 9072, 6001, 9081, 9082, 5001, 5002, 9100, 2701, 2702, 5011, 5012, 9110, 2201, 6301, 6302, 5021, 5022, 9120, 2211, 2212, 8101, 9130, 8111, 9140, 5301, 5302, 4021, 4022, 3001, 8121, 7101, 7102, 9150, 2501, 2502, 9160, 2001, 9170, 6101, 6102, 5101, 5102, 2301}. Label image only contains 23 labels (including background).\n",
      "  warnings.warn(\n"
     ]
    },
    {
     "name": "stdout",
     "output_type": "stream",
     "text": [
      "(Processing PET) Subject: sub-control06, PET Path: C:\\Users\\ishsh\\OneDrive\\Desktop\\QML_Project\\data\\processed\\mri_pet\\derivatives\\preprocessed_pet\\sub-control06\\pet\\sub-control06_space-MNI152NLin2009aPET.nii.gz\n",
      "(Processing MRI-PET MRI) Subject: sub-control07, MRI Path: C:\\Users\\ishsh\\OneDrive\\Desktop\\QML_Project\\data\\processed\\mri_pet\\derivatives\\cleaned_skullstrip\\sub-control07\\anat\\sub-control07_T1w_skullstripped.nii.gz\n"
     ]
    },
    {
     "name": "stderr",
     "output_type": "stream",
     "text": [
      "c:\\Users\\ishsh\\OneDrive\\Desktop\\QML_Project\\venv4qml\\Lib\\site-packages\\nilearn\\maskers\\nifti_labels_masker.py:888: UserWarning: After resampling the label image to the data image, the following labels were removed: {6401, 6402, 4101, 4102, 2311, 8201, 8202, 4111, 4112, 2321, 2322, 8211, 8212, 5401, 5402, 2331, 9001, 9002, 2611, 2612, 2101, 9011, 9012, 6201, 6202, 9021, 9022, 2111, 2112, 6211, 6212, 9031, 9032, 6221, 6222, 5201, 5202, 9041, 9042, 7001, 9051, 9052, 7011, 9061, 9062, 4201, 4202, 8301, 8302, 7021, 9071, 9072, 6001, 9081, 9082, 5001, 5002, 9100, 2701, 2702, 5011, 5012, 9110, 2201, 6301, 6302, 5021, 5022, 9120, 2211, 2212, 8101, 9130, 8111, 9140, 5301, 5302, 4021, 4022, 3001, 8121, 7101, 7102, 9150, 2501, 2502, 9160, 2001, 9170, 6101, 6102, 5101, 5102, 2301}. Label image only contains 23 labels (including background).\n",
      "  warnings.warn(\n"
     ]
    },
    {
     "name": "stdout",
     "output_type": "stream",
     "text": [
      "(Processing PET) Subject: sub-control07, PET Path: C:\\Users\\ishsh\\OneDrive\\Desktop\\QML_Project\\data\\processed\\mri_pet\\derivatives\\preprocessed_pet\\sub-control07\\pet\\sub-control07_space-MNI152NLin2009aPET.nii.gz\n",
      "(Processing MRI-PET MRI) Subject: sub-control08, MRI Path: C:\\Users\\ishsh\\OneDrive\\Desktop\\QML_Project\\data\\processed\\mri_pet\\derivatives\\cleaned_skullstrip\\sub-control08\\anat\\sub-control08_T1w_skullstripped.nii.gz\n"
     ]
    },
    {
     "name": "stderr",
     "output_type": "stream",
     "text": [
      "c:\\Users\\ishsh\\OneDrive\\Desktop\\QML_Project\\venv4qml\\Lib\\site-packages\\nilearn\\maskers\\nifti_labels_masker.py:888: UserWarning: After resampling the label image to the data image, the following labels were removed: {6401, 6402, 4101, 4102, 2311, 8201, 8202, 4111, 4112, 2321, 2322, 8211, 8212, 5401, 5402, 2331, 9001, 9002, 2611, 2612, 2101, 9011, 9012, 6201, 6202, 9021, 9022, 2111, 2112, 6211, 6212, 9031, 9032, 6221, 6222, 5201, 5202, 9041, 9042, 7001, 9051, 9052, 7011, 9061, 9062, 4201, 4202, 8301, 8302, 7021, 9071, 9072, 6001, 9081, 9082, 5001, 5002, 9100, 2701, 2702, 5011, 5012, 9110, 2201, 6301, 6302, 5021, 5022, 9120, 2211, 2212, 8101, 9130, 8111, 9140, 5301, 5302, 4021, 4022, 3001, 8121, 7101, 7102, 9150, 2501, 2502, 9160, 2001, 9170, 6101, 6102, 5101, 5102, 2301}. Label image only contains 23 labels (including background).\n",
      "  warnings.warn(\n"
     ]
    },
    {
     "name": "stdout",
     "output_type": "stream",
     "text": [
      "(Processing PET) Subject: sub-control08, PET Path: C:\\Users\\ishsh\\OneDrive\\Desktop\\QML_Project\\data\\processed\\mri_pet\\derivatives\\preprocessed_pet\\sub-control08\\pet\\sub-control08_space-MNI152NLin2009aPET.nii.gz\n",
      "(Processing MRI-PET MRI) Subject: sub-control09, MRI Path: C:\\Users\\ishsh\\OneDrive\\Desktop\\QML_Project\\data\\processed\\mri_pet\\derivatives\\cleaned_skullstrip\\sub-control09\\anat\\sub-control09_T1w_skullstripped.nii.gz\n"
     ]
    },
    {
     "name": "stderr",
     "output_type": "stream",
     "text": [
      "c:\\Users\\ishsh\\OneDrive\\Desktop\\QML_Project\\venv4qml\\Lib\\site-packages\\nilearn\\maskers\\nifti_labels_masker.py:888: UserWarning: After resampling the label image to the data image, the following labels were removed: {6401, 6402, 4101, 4102, 2311, 8201, 8202, 4111, 4112, 2321, 2322, 8211, 8212, 5401, 5402, 2331, 9001, 9002, 2611, 2612, 2101, 9011, 9012, 6201, 6202, 9021, 9022, 2111, 2112, 6211, 6212, 9031, 9032, 6221, 6222, 5201, 5202, 9041, 9042, 7001, 9051, 9052, 7011, 9061, 9062, 4201, 4202, 8301, 8302, 7021, 9071, 9072, 6001, 9081, 9082, 5001, 5002, 9100, 2701, 2702, 5011, 5012, 9110, 2201, 6301, 6302, 5021, 5022, 9120, 2211, 2212, 8101, 9130, 8111, 9140, 5301, 5302, 4021, 4022, 3001, 8121, 7101, 7102, 9150, 2501, 2502, 9160, 2001, 9170, 6101, 6102, 5101, 5102, 2301}. Label image only contains 23 labels (including background).\n",
      "  warnings.warn(\n"
     ]
    },
    {
     "name": "stdout",
     "output_type": "stream",
     "text": [
      "(Processing PET) Subject: sub-control09, PET Path: C:\\Users\\ishsh\\OneDrive\\Desktop\\QML_Project\\data\\processed\\mri_pet\\derivatives\\preprocessed_pet\\sub-control09\\pet\\sub-control09_space-MNI152NLin2009aPET.nii.gz\n",
      "(Processing MRI-PET MRI) Subject: sub-control10, MRI Path: C:\\Users\\ishsh\\OneDrive\\Desktop\\QML_Project\\data\\processed\\mri_pet\\derivatives\\cleaned_skullstrip\\sub-control10\\anat\\sub-control10_T1w_skullstripped.nii.gz\n"
     ]
    },
    {
     "name": "stderr",
     "output_type": "stream",
     "text": [
      "c:\\Users\\ishsh\\OneDrive\\Desktop\\QML_Project\\venv4qml\\Lib\\site-packages\\nilearn\\maskers\\nifti_labels_masker.py:888: UserWarning: After resampling the label image to the data image, the following labels were removed: {6401, 6402, 4101, 4102, 2311, 8201, 8202, 4111, 4112, 2321, 2322, 8211, 8212, 5401, 5402, 2331, 9001, 9002, 2611, 2612, 2101, 9011, 9012, 6201, 6202, 9021, 9022, 2111, 2112, 6211, 6212, 9031, 9032, 6221, 6222, 5201, 5202, 9041, 9042, 7001, 9051, 9052, 7011, 9061, 9062, 4201, 4202, 8301, 8302, 7021, 9071, 9072, 6001, 9081, 9082, 5001, 5002, 9100, 2701, 2702, 5011, 5012, 9110, 2201, 6301, 6302, 5021, 5022, 9120, 2211, 2212, 8101, 9130, 8111, 9140, 5301, 5302, 4021, 4022, 3001, 8121, 7101, 7102, 9150, 2501, 2502, 9160, 2001, 9170, 6101, 6102, 5101, 5102, 2301}. Label image only contains 23 labels (including background).\n",
      "  warnings.warn(\n"
     ]
    },
    {
     "name": "stdout",
     "output_type": "stream",
     "text": [
      "(Processing PET) Subject: sub-control10, PET Path: C:\\Users\\ishsh\\OneDrive\\Desktop\\QML_Project\\data\\processed\\mri_pet\\derivatives\\preprocessed_pet\\sub-control10\\pet\\sub-control10_space-MNI152NLin2009aPET.nii.gz\n",
      "(Processing MRI-PET MRI) Subject: sub-control11, MRI Path: C:\\Users\\ishsh\\OneDrive\\Desktop\\QML_Project\\data\\processed\\mri_pet\\derivatives\\cleaned_skullstrip\\sub-control11\\anat\\sub-control11_T1w_skullstripped.nii.gz\n"
     ]
    },
    {
     "name": "stderr",
     "output_type": "stream",
     "text": [
      "c:\\Users\\ishsh\\OneDrive\\Desktop\\QML_Project\\venv4qml\\Lib\\site-packages\\nilearn\\maskers\\nifti_labels_masker.py:888: UserWarning: After resampling the label image to the data image, the following labels were removed: {6401, 6402, 4101, 4102, 2311, 8201, 8202, 4111, 4112, 2321, 2322, 8211, 8212, 5401, 5402, 2331, 9001, 9002, 2611, 2612, 2101, 9011, 9012, 6201, 6202, 9021, 9022, 2111, 2112, 6211, 6212, 9031, 9032, 6221, 6222, 5201, 5202, 9041, 9042, 7001, 9051, 9052, 7011, 9061, 9062, 4201, 4202, 8301, 8302, 7021, 9071, 9072, 6001, 9081, 9082, 5001, 5002, 9100, 2701, 2702, 5011, 5012, 9110, 2201, 6301, 6302, 5021, 5022, 9120, 2211, 2212, 8101, 9130, 8111, 9140, 5301, 5302, 4021, 4022, 3001, 8121, 7101, 7102, 9150, 2501, 2502, 9160, 2001, 9170, 6101, 6102, 5101, 5102, 2301}. Label image only contains 23 labels (including background).\n",
      "  warnings.warn(\n"
     ]
    },
    {
     "name": "stdout",
     "output_type": "stream",
     "text": [
      "(Processing PET) Subject: sub-control11, PET Path: C:\\Users\\ishsh\\OneDrive\\Desktop\\QML_Project\\data\\processed\\mri_pet\\derivatives\\preprocessed_pet\\sub-control11\\pet\\sub-control11_space-MNI152NLin2009aPET.nii.gz\n",
      "(Processing MRI-PET MRI) Subject: sub-control12, MRI Path: C:\\Users\\ishsh\\OneDrive\\Desktop\\QML_Project\\data\\processed\\mri_pet\\derivatives\\cleaned_skullstrip\\sub-control12\\anat\\sub-control12_T1w_skullstripped.nii.gz\n"
     ]
    },
    {
     "name": "stderr",
     "output_type": "stream",
     "text": [
      "c:\\Users\\ishsh\\OneDrive\\Desktop\\QML_Project\\venv4qml\\Lib\\site-packages\\nilearn\\maskers\\nifti_labels_masker.py:888: UserWarning: After resampling the label image to the data image, the following labels were removed: {6401, 6402, 4101, 4102, 2311, 8201, 8202, 4111, 4112, 2321, 2322, 8211, 8212, 5401, 5402, 2331, 9001, 9002, 2611, 2612, 2101, 9011, 9012, 6201, 6202, 9021, 9022, 2111, 2112, 6211, 6212, 9031, 9032, 6221, 6222, 5201, 5202, 9041, 9042, 7001, 9051, 9052, 7011, 9061, 9062, 4201, 4202, 8301, 8302, 7021, 9071, 9072, 6001, 9081, 9082, 5001, 5002, 9100, 2701, 2702, 5011, 5012, 9110, 2201, 6301, 6302, 5021, 5022, 9120, 2211, 2212, 8101, 9130, 8111, 9140, 5301, 5302, 4021, 4022, 3001, 8121, 7101, 7102, 9150, 2501, 2502, 9160, 2001, 9170, 6101, 6102, 5101, 5102, 2301}. Label image only contains 23 labels (including background).\n",
      "  warnings.warn(\n"
     ]
    },
    {
     "name": "stdout",
     "output_type": "stream",
     "text": [
      "(Processing PET) Subject: sub-control12, PET Path: C:\\Users\\ishsh\\OneDrive\\Desktop\\QML_Project\\data\\processed\\mri_pet\\derivatives\\preprocessed_pet\\sub-control12\\pet\\sub-control12_space-MNI152NLin2009aPET.nii.gz\n",
      "(Processing MRI-PET MRI) Subject: sub-control13, MRI Path: C:\\Users\\ishsh\\OneDrive\\Desktop\\QML_Project\\data\\processed\\mri_pet\\derivatives\\cleaned_skullstrip\\sub-control13\\anat\\sub-control13_T1w_skullstripped.nii.gz\n"
     ]
    },
    {
     "name": "stderr",
     "output_type": "stream",
     "text": [
      "c:\\Users\\ishsh\\OneDrive\\Desktop\\QML_Project\\venv4qml\\Lib\\site-packages\\nilearn\\maskers\\nifti_labels_masker.py:888: UserWarning: After resampling the label image to the data image, the following labels were removed: {6401, 6402, 4101, 4102, 2311, 8201, 8202, 4111, 4112, 2321, 2322, 8211, 8212, 5401, 5402, 2331, 9001, 9002, 2611, 2612, 2101, 9011, 9012, 6201, 6202, 9021, 9022, 2111, 2112, 6211, 6212, 9031, 9032, 6221, 6222, 5201, 5202, 9041, 9042, 7001, 9051, 9052, 7011, 9061, 9062, 4201, 4202, 8301, 8302, 7021, 9071, 9072, 6001, 9081, 9082, 5001, 5002, 9100, 2701, 2702, 5011, 5012, 9110, 2201, 6301, 6302, 5021, 5022, 9120, 2211, 2212, 8101, 9130, 8111, 9140, 5301, 5302, 4021, 4022, 3001, 8121, 7101, 7102, 9150, 2501, 2502, 9160, 2001, 9170, 6101, 6102, 5101, 5102, 2301}. Label image only contains 23 labels (including background).\n",
      "  warnings.warn(\n"
     ]
    },
    {
     "name": "stdout",
     "output_type": "stream",
     "text": [
      "(Processing PET) Subject: sub-control13, PET Path: C:\\Users\\ishsh\\OneDrive\\Desktop\\QML_Project\\data\\processed\\mri_pet\\derivatives\\preprocessed_pet\\sub-control13\\pet\\sub-control13_space-MNI152NLin2009aPET.nii.gz\n",
      "(Processing MRI-PET MRI) Subject: sub-control14, MRI Path: C:\\Users\\ishsh\\OneDrive\\Desktop\\QML_Project\\data\\processed\\mri_pet\\derivatives\\cleaned_skullstrip\\sub-control14\\anat\\sub-control14_T1w_skullstripped.nii.gz\n"
     ]
    },
    {
     "name": "stderr",
     "output_type": "stream",
     "text": [
      "c:\\Users\\ishsh\\OneDrive\\Desktop\\QML_Project\\venv4qml\\Lib\\site-packages\\nilearn\\maskers\\nifti_labels_masker.py:888: UserWarning: After resampling the label image to the data image, the following labels were removed: {6401, 6402, 4101, 4102, 2311, 8201, 8202, 4111, 4112, 2321, 2322, 8211, 8212, 5401, 5402, 2331, 9001, 9002, 2611, 2612, 2101, 9011, 9012, 6201, 6202, 9021, 9022, 2111, 2112, 6211, 6212, 9031, 9032, 6221, 6222, 5201, 5202, 9041, 9042, 7001, 9051, 9052, 7011, 9061, 9062, 4201, 4202, 8301, 8302, 7021, 9071, 9072, 6001, 9081, 9082, 5001, 5002, 9100, 2701, 2702, 5011, 5012, 9110, 2201, 6301, 6302, 5021, 5022, 9120, 2211, 2212, 8101, 9130, 8111, 9140, 5301, 5302, 4021, 4022, 3001, 8121, 7101, 7102, 9150, 2501, 2502, 9160, 2001, 9170, 6101, 6102, 5101, 5102, 2301}. Label image only contains 23 labels (including background).\n",
      "  warnings.warn(\n"
     ]
    },
    {
     "name": "stdout",
     "output_type": "stream",
     "text": [
      "(Processing PET) Subject: sub-control14, PET Path: C:\\Users\\ishsh\\OneDrive\\Desktop\\QML_Project\\data\\processed\\mri_pet\\derivatives\\preprocessed_pet\\sub-control14\\pet\\sub-control14_space-MNI152NLin2009aPET.nii.gz\n",
      "(Processing MRI-PET MRI) Subject: sub-control15, MRI Path: C:\\Users\\ishsh\\OneDrive\\Desktop\\QML_Project\\data\\processed\\mri_pet\\derivatives\\cleaned_skullstrip\\sub-control15\\anat\\sub-control15_T1w_skullstripped.nii.gz\n"
     ]
    },
    {
     "name": "stderr",
     "output_type": "stream",
     "text": [
      "c:\\Users\\ishsh\\OneDrive\\Desktop\\QML_Project\\venv4qml\\Lib\\site-packages\\nilearn\\maskers\\nifti_labels_masker.py:888: UserWarning: After resampling the label image to the data image, the following labels were removed: {6401, 6402, 4101, 4102, 2311, 8201, 8202, 4111, 4112, 2321, 2322, 8211, 8212, 5401, 5402, 2331, 9001, 9002, 2611, 2612, 2101, 9011, 9012, 6201, 6202, 9021, 9022, 2111, 2112, 6211, 6212, 9031, 9032, 6221, 6222, 5201, 5202, 9041, 9042, 7001, 9051, 9052, 7011, 9061, 9062, 4201, 4202, 8301, 8302, 7021, 9071, 9072, 6001, 9081, 9082, 5001, 5002, 9100, 2701, 2702, 5011, 5012, 9110, 2201, 6301, 6302, 5021, 5022, 9120, 2211, 2212, 8101, 9130, 8111, 9140, 5301, 5302, 4021, 4022, 3001, 8121, 7101, 7102, 9150, 2501, 2502, 9160, 2001, 9170, 6101, 6102, 5101, 5102, 2301}. Label image only contains 23 labels (including background).\n",
      "  warnings.warn(\n"
     ]
    },
    {
     "name": "stdout",
     "output_type": "stream",
     "text": [
      "(Processing PET) Subject: sub-control15, PET Path: C:\\Users\\ishsh\\OneDrive\\Desktop\\QML_Project\\data\\processed\\mri_pet\\derivatives\\preprocessed_pet\\sub-control15\\pet\\sub-control15_space-MNI152NLin2009aPET.nii.gz\n",
      "(Processing MRI-PET MRI) Subject: sub-control16, MRI Path: C:\\Users\\ishsh\\OneDrive\\Desktop\\QML_Project\\data\\processed\\mri_pet\\derivatives\\cleaned_skullstrip\\sub-control16\\anat\\sub-control16_T1w_skullstripped.nii.gz\n"
     ]
    },
    {
     "name": "stderr",
     "output_type": "stream",
     "text": [
      "c:\\Users\\ishsh\\OneDrive\\Desktop\\QML_Project\\venv4qml\\Lib\\site-packages\\nilearn\\maskers\\nifti_labels_masker.py:888: UserWarning: After resampling the label image to the data image, the following labels were removed: {6401, 6402, 4101, 4102, 2311, 8201, 8202, 4111, 4112, 2321, 2322, 8211, 8212, 5401, 5402, 2331, 9001, 9002, 2611, 2612, 2101, 9011, 9012, 6201, 6202, 9021, 9022, 2111, 2112, 6211, 6212, 9031, 9032, 6221, 6222, 5201, 5202, 9041, 9042, 7001, 9051, 9052, 7011, 9061, 9062, 4201, 4202, 8301, 8302, 7021, 9071, 9072, 6001, 9081, 9082, 5001, 5002, 9100, 2701, 2702, 5011, 5012, 9110, 2201, 6301, 6302, 5021, 5022, 9120, 2211, 2212, 8101, 9130, 8111, 9140, 5301, 5302, 4021, 4022, 3001, 8121, 7101, 7102, 9150, 2501, 2502, 9160, 2001, 9170, 6101, 6102, 5101, 5102, 2301}. Label image only contains 23 labels (including background).\n",
      "  warnings.warn(\n"
     ]
    },
    {
     "name": "stdout",
     "output_type": "stream",
     "text": [
      "(Processing PET) Subject: sub-control16, PET Path: C:\\Users\\ishsh\\OneDrive\\Desktop\\QML_Project\\data\\processed\\mri_pet\\derivatives\\preprocessed_pet\\sub-control16\\pet\\sub-control16_space-MNI152NLin2009aPET.nii.gz\n",
      "(Processing MRI-PET MRI) Subject: sub-control17, MRI Path: C:\\Users\\ishsh\\OneDrive\\Desktop\\QML_Project\\data\\processed\\mri_pet\\derivatives\\cleaned_skullstrip\\sub-control17\\anat\\sub-control17_T1w_skullstripped.nii.gz\n"
     ]
    },
    {
     "name": "stderr",
     "output_type": "stream",
     "text": [
      "c:\\Users\\ishsh\\OneDrive\\Desktop\\QML_Project\\venv4qml\\Lib\\site-packages\\nilearn\\maskers\\nifti_labels_masker.py:888: UserWarning: After resampling the label image to the data image, the following labels were removed: {6401, 6402, 4101, 4102, 2311, 8201, 8202, 4111, 4112, 2321, 2322, 8211, 8212, 5401, 5402, 2331, 9001, 9002, 2611, 2612, 2101, 9011, 9012, 6201, 6202, 9021, 9022, 2111, 2112, 6211, 6212, 9031, 9032, 6221, 6222, 5201, 5202, 9041, 9042, 7001, 9051, 9052, 7011, 9061, 9062, 4201, 4202, 8301, 8302, 7021, 9071, 9072, 6001, 9081, 9082, 5001, 5002, 9100, 2701, 2702, 5011, 5012, 9110, 2201, 6301, 6302, 5021, 5022, 9120, 2211, 2212, 8101, 9130, 8111, 9140, 5301, 5302, 4021, 4022, 3001, 8121, 7101, 7102, 9150, 2501, 2502, 9160, 2001, 9170, 6101, 6102, 5101, 5102, 2301}. Label image only contains 23 labels (including background).\n",
      "  warnings.warn(\n"
     ]
    },
    {
     "name": "stdout",
     "output_type": "stream",
     "text": [
      "(Processing PET) Subject: sub-control17, PET Path: C:\\Users\\ishsh\\OneDrive\\Desktop\\QML_Project\\data\\processed\\mri_pet\\derivatives\\preprocessed_pet\\sub-control17\\pet\\sub-control17_space-MNI152NLin2009aPET.nii.gz\n",
      "(Processing MRI-PET MRI) Subject: sub-control18, MRI Path: C:\\Users\\ishsh\\OneDrive\\Desktop\\QML_Project\\data\\processed\\mri_pet\\derivatives\\cleaned_skullstrip\\sub-control18\\anat\\sub-control18_T1w_skullstripped.nii.gz\n"
     ]
    },
    {
     "name": "stderr",
     "output_type": "stream",
     "text": [
      "c:\\Users\\ishsh\\OneDrive\\Desktop\\QML_Project\\venv4qml\\Lib\\site-packages\\nilearn\\maskers\\nifti_labels_masker.py:888: UserWarning: After resampling the label image to the data image, the following labels were removed: {6401, 6402, 4101, 4102, 2311, 8201, 8202, 4111, 4112, 2321, 2322, 8211, 8212, 5401, 5402, 2331, 9001, 9002, 2611, 2612, 2101, 9011, 9012, 6201, 6202, 9021, 9022, 2111, 2112, 6211, 6212, 9031, 9032, 6221, 6222, 5201, 5202, 9041, 9042, 7001, 9051, 9052, 7011, 9061, 9062, 4201, 4202, 8301, 8302, 7021, 9071, 9072, 6001, 9081, 9082, 5001, 5002, 9100, 2701, 2702, 5011, 5012, 9110, 2201, 6301, 6302, 5021, 5022, 9120, 2211, 2212, 8101, 9130, 8111, 9140, 5301, 5302, 4021, 4022, 3001, 8121, 7101, 7102, 9150, 2501, 2502, 9160, 2001, 9170, 6101, 6102, 5101, 5102, 2301}. Label image only contains 23 labels (including background).\n",
      "  warnings.warn(\n"
     ]
    },
    {
     "name": "stdout",
     "output_type": "stream",
     "text": [
      "(Processing PET) Subject: sub-control18, PET Path: C:\\Users\\ishsh\\OneDrive\\Desktop\\QML_Project\\data\\processed\\mri_pet\\derivatives\\preprocessed_pet\\sub-control18\\pet\\sub-control18_space-MNI152NLin2009aPET.nii.gz\n",
      "(Processing MRI-PET MRI) Subject: sub-patient01, MRI Path: C:\\Users\\ishsh\\OneDrive\\Desktop\\QML_Project\\data\\processed\\mri_pet\\derivatives\\cleaned_skullstrip\\sub-patient01\\anat\\sub-patient01_T1w_skullstripped.nii.gz\n"
     ]
    },
    {
     "name": "stderr",
     "output_type": "stream",
     "text": [
      "c:\\Users\\ishsh\\OneDrive\\Desktop\\QML_Project\\venv4qml\\Lib\\site-packages\\nilearn\\maskers\\nifti_labels_masker.py:888: UserWarning: After resampling the label image to the data image, the following labels were removed: {6401, 6402, 4101, 4102, 2311, 8201, 8202, 4111, 4112, 2321, 2322, 8211, 8212, 5401, 5402, 2331, 9001, 9002, 2611, 2612, 2101, 9011, 9012, 6201, 6202, 9021, 9022, 2111, 2112, 6211, 6212, 9031, 9032, 6221, 6222, 5201, 5202, 9041, 9042, 7001, 9051, 9052, 7011, 9061, 9062, 4201, 4202, 8301, 8302, 7021, 9071, 9072, 6001, 9081, 9082, 5001, 5002, 9100, 2701, 2702, 5011, 5012, 9110, 2201, 6301, 6302, 5021, 5022, 9120, 2211, 2212, 8101, 9130, 8111, 9140, 5301, 5302, 4021, 4022, 3001, 8121, 7101, 7102, 9150, 2501, 2502, 9160, 2001, 9170, 6101, 6102, 5101, 5102, 2301}. Label image only contains 23 labels (including background).\n",
      "  warnings.warn(\n"
     ]
    },
    {
     "name": "stdout",
     "output_type": "stream",
     "text": [
      "(Processing PET) Subject: sub-patient01, PET Path: C:\\Users\\ishsh\\OneDrive\\Desktop\\QML_Project\\data\\processed\\mri_pet\\derivatives\\preprocessed_pet\\sub-patient01\\pet\\sub-patient01_space-MNI152NLin2009aPET.nii.gz\n",
      "(Processing MRI-PET MRI) Subject: sub-patient02, MRI Path: C:\\Users\\ishsh\\OneDrive\\Desktop\\QML_Project\\data\\processed\\mri_pet\\derivatives\\cleaned_skullstrip\\sub-patient02\\anat\\sub-patient02_T1w_skullstripped.nii.gz\n"
     ]
    },
    {
     "name": "stderr",
     "output_type": "stream",
     "text": [
      "c:\\Users\\ishsh\\OneDrive\\Desktop\\QML_Project\\venv4qml\\Lib\\site-packages\\nilearn\\maskers\\nifti_labels_masker.py:888: UserWarning: After resampling the label image to the data image, the following labels were removed: {6401, 6402, 4101, 4102, 2311, 8201, 8202, 4111, 4112, 2321, 2322, 8211, 8212, 5401, 5402, 2331, 9001, 9002, 2611, 2612, 2101, 9011, 9012, 6201, 6202, 9021, 9022, 2111, 2112, 6211, 6212, 9031, 9032, 6221, 6222, 5201, 5202, 9041, 9042, 7001, 9051, 9052, 7011, 9061, 9062, 4201, 4202, 8301, 8302, 7021, 9071, 9072, 6001, 9081, 9082, 5001, 5002, 9100, 2701, 2702, 5011, 5012, 9110, 2201, 6301, 6302, 5021, 5022, 9120, 2211, 2212, 8101, 9130, 8111, 9140, 5301, 5302, 4021, 4022, 3001, 8121, 7101, 7102, 9150, 2501, 2502, 9160, 2001, 9170, 6101, 6102, 5101, 5102, 2301}. Label image only contains 23 labels (including background).\n",
      "  warnings.warn(\n"
     ]
    },
    {
     "name": "stdout",
     "output_type": "stream",
     "text": [
      "(Processing PET) Subject: sub-patient02, PET Path: C:\\Users\\ishsh\\OneDrive\\Desktop\\QML_Project\\data\\processed\\mri_pet\\derivatives\\preprocessed_pet\\sub-patient02\\pet\\sub-patient02_space-MNI152NLin2009aPET.nii.gz\n",
      "(Processing MRI-PET MRI) Subject: sub-patient03, MRI Path: C:\\Users\\ishsh\\OneDrive\\Desktop\\QML_Project\\data\\processed\\mri_pet\\derivatives\\cleaned_skullstrip\\sub-patient03\\anat\\sub-patient03_T1w_skullstripped.nii.gz\n"
     ]
    },
    {
     "name": "stderr",
     "output_type": "stream",
     "text": [
      "c:\\Users\\ishsh\\OneDrive\\Desktop\\QML_Project\\venv4qml\\Lib\\site-packages\\nilearn\\maskers\\nifti_labels_masker.py:888: UserWarning: After resampling the label image to the data image, the following labels were removed: {6401, 6402, 4101, 4102, 2311, 8201, 8202, 4111, 4112, 2321, 2322, 8211, 8212, 5401, 5402, 2331, 9001, 9002, 2611, 2612, 2101, 9011, 9012, 6201, 6202, 9021, 9022, 2111, 2112, 6211, 6212, 9031, 9032, 6221, 6222, 5201, 5202, 9041, 9042, 7001, 9051, 9052, 7011, 9061, 9062, 4201, 4202, 8301, 8302, 7021, 9071, 9072, 6001, 9081, 9082, 5001, 5002, 9100, 2701, 2702, 5011, 5012, 9110, 2201, 6301, 6302, 5021, 5022, 9120, 2211, 2212, 8101, 9130, 8111, 9140, 5301, 5302, 4021, 4022, 3001, 8121, 7101, 7102, 9150, 2501, 2502, 9160, 2001, 9170, 6101, 6102, 5101, 5102, 2301}. Label image only contains 23 labels (including background).\n",
      "  warnings.warn(\n"
     ]
    },
    {
     "name": "stdout",
     "output_type": "stream",
     "text": [
      "(Processing PET) Subject: sub-patient03, PET Path: C:\\Users\\ishsh\\OneDrive\\Desktop\\QML_Project\\data\\processed\\mri_pet\\derivatives\\preprocessed_pet\\sub-patient03\\pet\\sub-patient03_space-MNI152NLin2009aPET.nii.gz\n",
      "(Processing MRI-PET MRI) Subject: sub-patient04, MRI Path: C:\\Users\\ishsh\\OneDrive\\Desktop\\QML_Project\\data\\processed\\mri_pet\\derivatives\\cleaned_skullstrip\\sub-patient04\\anat\\sub-patient04_T1w_skullstripped.nii.gz\n"
     ]
    },
    {
     "name": "stderr",
     "output_type": "stream",
     "text": [
      "c:\\Users\\ishsh\\OneDrive\\Desktop\\QML_Project\\venv4qml\\Lib\\site-packages\\nilearn\\maskers\\nifti_labels_masker.py:888: UserWarning: After resampling the label image to the data image, the following labels were removed: {6401, 6402, 4101, 4102, 2311, 8201, 8202, 4111, 4112, 2321, 2322, 8211, 8212, 5401, 5402, 2331, 9001, 9002, 2611, 2612, 2101, 9011, 9012, 6201, 6202, 9021, 9022, 2111, 2112, 6211, 6212, 9031, 9032, 6221, 6222, 5201, 5202, 9041, 9042, 7001, 9051, 9052, 7011, 9061, 9062, 4201, 4202, 8301, 8302, 7021, 9071, 9072, 6001, 9081, 9082, 5001, 5002, 9100, 2701, 2702, 5011, 5012, 9110, 2201, 6301, 6302, 5021, 5022, 9120, 2211, 2212, 8101, 9130, 8111, 9140, 5301, 5302, 4021, 4022, 3001, 8121, 7101, 7102, 9150, 2501, 2502, 9160, 2001, 9170, 6101, 6102, 5101, 5102, 2301}. Label image only contains 23 labels (including background).\n",
      "  warnings.warn(\n"
     ]
    },
    {
     "name": "stdout",
     "output_type": "stream",
     "text": [
      "(Processing PET) Subject: sub-patient04, PET Path: C:\\Users\\ishsh\\OneDrive\\Desktop\\QML_Project\\data\\processed\\mri_pet\\derivatives\\preprocessed_pet\\sub-patient04\\pet\\sub-patient04_space-MNI152NLin2009aPET.nii.gz\n",
      "(Processing MRI-PET MRI) Subject: sub-patient05, MRI Path: C:\\Users\\ishsh\\OneDrive\\Desktop\\QML_Project\\data\\processed\\mri_pet\\derivatives\\cleaned_skullstrip\\sub-patient05\\anat\\sub-patient05_T1w_skullstripped.nii.gz\n"
     ]
    },
    {
     "name": "stderr",
     "output_type": "stream",
     "text": [
      "c:\\Users\\ishsh\\OneDrive\\Desktop\\QML_Project\\venv4qml\\Lib\\site-packages\\nilearn\\maskers\\nifti_labels_masker.py:888: UserWarning: After resampling the label image to the data image, the following labels were removed: {6401, 6402, 4101, 4102, 2311, 8201, 8202, 4111, 4112, 2321, 2322, 8211, 8212, 5401, 5402, 2331, 9001, 9002, 2611, 2612, 2101, 9011, 9012, 6201, 6202, 9021, 9022, 2111, 2112, 6211, 6212, 9031, 9032, 6221, 6222, 5201, 5202, 9041, 9042, 7001, 9051, 9052, 7011, 9061, 9062, 4201, 4202, 8301, 8302, 7021, 9071, 9072, 6001, 9081, 9082, 5001, 5002, 9100, 2701, 2702, 5011, 5012, 9110, 2201, 6301, 6302, 5021, 5022, 9120, 2211, 2212, 8101, 9130, 8111, 9140, 5301, 5302, 4021, 4022, 3001, 8121, 7101, 7102, 9150, 2501, 2502, 9160, 2001, 9170, 6101, 6102, 5101, 5102, 2301}. Label image only contains 23 labels (including background).\n",
      "  warnings.warn(\n"
     ]
    },
    {
     "name": "stdout",
     "output_type": "stream",
     "text": [
      "(Processing PET) Subject: sub-patient05, PET Path: C:\\Users\\ishsh\\OneDrive\\Desktop\\QML_Project\\data\\processed\\mri_pet\\derivatives\\preprocessed_pet\\sub-patient05\\pet\\sub-patient05_space-MNI152NLin2009aPET.nii.gz\n",
      "(Processing MRI-PET MRI) Subject: sub-patient06, MRI Path: C:\\Users\\ishsh\\OneDrive\\Desktop\\QML_Project\\data\\processed\\mri_pet\\derivatives\\cleaned_skullstrip\\sub-patient06\\anat\\sub-patient06_T1w_skullstripped.nii.gz\n"
     ]
    },
    {
     "name": "stderr",
     "output_type": "stream",
     "text": [
      "c:\\Users\\ishsh\\OneDrive\\Desktop\\QML_Project\\venv4qml\\Lib\\site-packages\\nilearn\\maskers\\nifti_labels_masker.py:888: UserWarning: After resampling the label image to the data image, the following labels were removed: {6401, 6402, 4101, 4102, 2311, 8201, 8202, 4111, 4112, 2321, 2322, 8211, 8212, 5401, 5402, 2331, 9001, 9002, 2611, 2612, 2101, 9011, 9012, 6201, 6202, 9021, 9022, 2111, 2112, 6211, 6212, 9031, 9032, 6221, 6222, 5201, 5202, 9041, 9042, 7001, 9051, 9052, 7011, 9061, 9062, 4201, 4202, 8301, 8302, 7021, 9071, 9072, 6001, 9081, 9082, 5001, 5002, 9100, 2701, 2702, 5011, 5012, 9110, 2201, 6301, 6302, 5021, 5022, 9120, 2211, 2212, 8101, 9130, 8111, 9140, 5301, 5302, 4021, 4022, 3001, 8121, 7101, 7102, 9150, 2501, 2502, 9160, 2001, 9170, 6101, 6102, 5101, 5102, 2301}. Label image only contains 23 labels (including background).\n",
      "  warnings.warn(\n"
     ]
    },
    {
     "name": "stdout",
     "output_type": "stream",
     "text": [
      "(Processing PET) Subject: sub-patient06, PET Path: C:\\Users\\ishsh\\OneDrive\\Desktop\\QML_Project\\data\\processed\\mri_pet\\derivatives\\preprocessed_pet\\sub-patient06\\pet\\sub-patient06_space-MNI152NLin2009aPET.nii.gz\n",
      "(Processing MRI-PET MRI) Subject: sub-patient07, MRI Path: C:\\Users\\ishsh\\OneDrive\\Desktop\\QML_Project\\data\\processed\\mri_pet\\derivatives\\cleaned_skullstrip\\sub-patient07\\anat\\sub-patient07_T1w_skullstripped.nii.gz\n"
     ]
    },
    {
     "name": "stderr",
     "output_type": "stream",
     "text": [
      "c:\\Users\\ishsh\\OneDrive\\Desktop\\QML_Project\\venv4qml\\Lib\\site-packages\\nilearn\\maskers\\nifti_labels_masker.py:888: UserWarning: After resampling the label image to the data image, the following labels were removed: {6401, 6402, 4101, 4102, 2311, 8201, 8202, 4111, 4112, 2321, 2322, 8211, 8212, 5401, 5402, 2331, 9001, 9002, 2611, 2612, 2101, 9011, 9012, 6201, 6202, 9021, 9022, 2111, 2112, 6211, 6212, 9031, 9032, 6221, 6222, 5201, 5202, 9041, 9042, 7001, 9051, 9052, 7011, 9061, 9062, 4201, 4202, 8301, 8302, 7021, 9071, 9072, 6001, 9081, 9082, 5001, 5002, 9100, 2701, 2702, 5011, 5012, 9110, 2201, 6301, 6302, 5021, 5022, 9120, 2211, 2212, 8101, 9130, 8111, 9140, 5301, 5302, 4021, 4022, 3001, 8121, 7101, 7102, 9150, 2501, 2502, 9160, 2001, 9170, 6101, 6102, 5101, 5102, 2301}. Label image only contains 23 labels (including background).\n",
      "  warnings.warn(\n"
     ]
    },
    {
     "name": "stdout",
     "output_type": "stream",
     "text": [
      "(Processing PET) Subject: sub-patient07, PET Path: C:\\Users\\ishsh\\OneDrive\\Desktop\\QML_Project\\data\\processed\\mri_pet\\derivatives\\preprocessed_pet\\sub-patient07\\pet\\sub-patient07_space-MNI152NLin2009aPET.nii.gz\n",
      "(Processing MRI-PET MRI) Subject: sub-patient08, MRI Path: C:\\Users\\ishsh\\OneDrive\\Desktop\\QML_Project\\data\\processed\\mri_pet\\derivatives\\cleaned_skullstrip\\sub-patient08\\anat\\sub-patient08_T1w_skullstripped.nii.gz\n"
     ]
    },
    {
     "name": "stderr",
     "output_type": "stream",
     "text": [
      "c:\\Users\\ishsh\\OneDrive\\Desktop\\QML_Project\\venv4qml\\Lib\\site-packages\\nilearn\\maskers\\nifti_labels_masker.py:888: UserWarning: After resampling the label image to the data image, the following labels were removed: {6401, 6402, 4101, 4102, 2311, 8201, 8202, 4111, 4112, 2321, 2322, 8211, 8212, 5401, 5402, 2331, 9001, 9002, 2611, 2612, 2101, 9011, 9012, 6201, 6202, 9021, 9022, 2111, 2112, 6211, 6212, 9031, 9032, 6221, 6222, 5201, 5202, 9041, 9042, 7001, 9051, 9052, 7011, 9061, 9062, 4201, 4202, 8301, 8302, 7021, 9071, 9072, 6001, 9081, 9082, 5001, 5002, 9100, 2701, 2702, 5011, 5012, 9110, 2201, 6301, 6302, 5021, 5022, 9120, 2211, 2212, 8101, 9130, 8111, 9140, 5301, 5302, 4021, 4022, 3001, 8121, 7101, 7102, 9150, 2501, 2502, 9160, 2001, 9170, 6101, 6102, 5101, 5102, 2301}. Label image only contains 23 labels (including background).\n",
      "  warnings.warn(\n"
     ]
    },
    {
     "name": "stdout",
     "output_type": "stream",
     "text": [
      "(Processing PET) Subject: sub-patient08, PET Path: C:\\Users\\ishsh\\OneDrive\\Desktop\\QML_Project\\data\\processed\\mri_pet\\derivatives\\preprocessed_pet\\sub-patient08\\pet\\sub-patient08_space-MNI152NLin2009aPET.nii.gz\n",
      "(Processing MRI-PET MRI) Subject: sub-patient09, MRI Path: C:\\Users\\ishsh\\OneDrive\\Desktop\\QML_Project\\data\\processed\\mri_pet\\derivatives\\cleaned_skullstrip\\sub-patient09\\anat\\sub-patient09_T1w_skullstripped.nii.gz\n"
     ]
    },
    {
     "name": "stderr",
     "output_type": "stream",
     "text": [
      "c:\\Users\\ishsh\\OneDrive\\Desktop\\QML_Project\\venv4qml\\Lib\\site-packages\\nilearn\\maskers\\nifti_labels_masker.py:888: UserWarning: After resampling the label image to the data image, the following labels were removed: {6401, 6402, 4101, 4102, 2311, 8201, 8202, 4111, 4112, 2321, 2322, 8211, 8212, 5401, 5402, 2331, 9001, 9002, 2611, 2612, 2101, 9011, 9012, 6201, 6202, 9021, 9022, 2111, 2112, 6211, 6212, 9031, 9032, 6221, 6222, 5201, 5202, 9041, 9042, 7001, 9051, 9052, 7011, 9061, 9062, 4201, 4202, 8301, 8302, 7021, 9071, 9072, 6001, 9081, 9082, 5001, 5002, 9100, 2701, 2702, 5011, 5012, 9110, 2201, 6301, 6302, 5021, 5022, 9120, 2211, 2212, 8101, 9130, 8111, 9140, 5301, 5302, 4021, 4022, 3001, 8121, 7101, 7102, 9150, 2501, 2502, 9160, 2001, 9170, 6101, 6102, 5101, 5102, 2301}. Label image only contains 23 labels (including background).\n",
      "  warnings.warn(\n"
     ]
    },
    {
     "name": "stdout",
     "output_type": "stream",
     "text": [
      "(Processing PET) Subject: sub-patient09, PET Path: C:\\Users\\ishsh\\OneDrive\\Desktop\\QML_Project\\data\\processed\\mri_pet\\derivatives\\preprocessed_pet\\sub-patient09\\pet\\sub-patient09_space-MNI152NLin2009aPET.nii.gz\n",
      "(Processing MRI-PET MRI) Subject: sub-patient10, MRI Path: C:\\Users\\ishsh\\OneDrive\\Desktop\\QML_Project\\data\\processed\\mri_pet\\derivatives\\cleaned_skullstrip\\sub-patient10\\anat\\sub-patient10_T1w_skullstripped.nii.gz\n"
     ]
    },
    {
     "name": "stderr",
     "output_type": "stream",
     "text": [
      "c:\\Users\\ishsh\\OneDrive\\Desktop\\QML_Project\\venv4qml\\Lib\\site-packages\\nilearn\\maskers\\nifti_labels_masker.py:888: UserWarning: After resampling the label image to the data image, the following labels were removed: {6401, 6402, 4101, 4102, 2311, 8201, 8202, 4111, 4112, 2321, 2322, 8211, 8212, 5401, 5402, 2331, 9001, 9002, 2611, 2612, 2101, 9011, 9012, 6201, 6202, 9021, 9022, 2111, 2112, 6211, 6212, 9031, 9032, 6221, 6222, 5201, 5202, 9041, 9042, 7001, 9051, 9052, 7011, 9061, 9062, 4201, 4202, 8301, 8302, 7021, 9071, 9072, 6001, 9081, 9082, 5001, 5002, 9100, 2701, 2702, 5011, 5012, 9110, 2201, 6301, 6302, 5021, 5022, 9120, 2211, 2212, 8101, 9130, 8111, 9140, 5301, 5302, 4021, 4022, 3001, 8121, 7101, 7102, 9150, 2501, 2502, 9160, 2001, 9170, 6101, 6102, 5101, 5102, 2301}. Label image only contains 23 labels (including background).\n",
      "  warnings.warn(\n"
     ]
    },
    {
     "name": "stdout",
     "output_type": "stream",
     "text": [
      "(Processing PET) Subject: sub-patient10, PET Path: C:\\Users\\ishsh\\OneDrive\\Desktop\\QML_Project\\data\\processed\\mri_pet\\derivatives\\preprocessed_pet\\sub-patient10\\pet\\sub-patient10_space-MNI152NLin2009aPET.nii.gz\n",
      "(Processing MRI-PET MRI) Subject: sub-patient11, MRI Path: C:\\Users\\ishsh\\OneDrive\\Desktop\\QML_Project\\data\\processed\\mri_pet\\derivatives\\cleaned_skullstrip\\sub-patient11\\anat\\sub-patient11_T1w_skullstripped.nii.gz\n"
     ]
    },
    {
     "name": "stderr",
     "output_type": "stream",
     "text": [
      "c:\\Users\\ishsh\\OneDrive\\Desktop\\QML_Project\\venv4qml\\Lib\\site-packages\\nilearn\\maskers\\nifti_labels_masker.py:888: UserWarning: After resampling the label image to the data image, the following labels were removed: {6401, 6402, 4101, 4102, 2311, 8201, 8202, 4111, 4112, 2321, 2322, 8211, 8212, 5401, 5402, 2331, 9001, 9002, 2611, 2612, 2101, 9011, 9012, 6201, 6202, 9021, 9022, 2111, 2112, 6211, 6212, 9031, 9032, 6221, 6222, 5201, 5202, 9041, 9042, 7001, 9051, 9052, 7011, 9061, 9062, 4201, 4202, 8301, 8302, 7021, 9071, 9072, 6001, 9081, 9082, 5001, 5002, 9100, 2701, 2702, 5011, 5012, 9110, 2201, 6301, 6302, 5021, 5022, 9120, 2211, 2212, 8101, 9130, 8111, 9140, 5301, 5302, 4021, 4022, 3001, 8121, 7101, 7102, 9150, 2501, 2502, 9160, 2001, 9170, 6101, 6102, 5101, 5102, 2301}. Label image only contains 23 labels (including background).\n",
      "  warnings.warn(\n"
     ]
    },
    {
     "name": "stdout",
     "output_type": "stream",
     "text": [
      "(Processing PET) Subject: sub-patient11, PET Path: C:\\Users\\ishsh\\OneDrive\\Desktop\\QML_Project\\data\\processed\\mri_pet\\derivatives\\preprocessed_pet\\sub-patient11\\pet\\sub-patient11_space-MNI152NLin2009aPET.nii.gz\n",
      "(Processing MRI-PET MRI) Subject: sub-patient12, MRI Path: C:\\Users\\ishsh\\OneDrive\\Desktop\\QML_Project\\data\\processed\\mri_pet\\derivatives\\cleaned_skullstrip\\sub-patient12\\anat\\sub-patient12_T1w_skullstripped.nii.gz\n"
     ]
    },
    {
     "name": "stderr",
     "output_type": "stream",
     "text": [
      "c:\\Users\\ishsh\\OneDrive\\Desktop\\QML_Project\\venv4qml\\Lib\\site-packages\\nilearn\\maskers\\nifti_labels_masker.py:888: UserWarning: After resampling the label image to the data image, the following labels were removed: {6401, 6402, 4101, 4102, 2311, 8201, 8202, 4111, 4112, 2321, 2322, 8211, 8212, 5401, 5402, 2331, 9001, 9002, 2611, 2612, 2101, 9011, 9012, 6201, 6202, 9021, 9022, 2111, 2112, 6211, 6212, 9031, 9032, 6221, 6222, 5201, 5202, 9041, 9042, 7001, 9051, 9052, 7011, 9061, 9062, 4201, 4202, 8301, 8302, 7021, 9071, 9072, 6001, 9081, 9082, 5001, 5002, 9100, 2701, 2702, 5011, 5012, 9110, 2201, 6301, 6302, 5021, 5022, 9120, 2211, 2212, 8101, 9130, 8111, 9140, 5301, 5302, 4021, 4022, 3001, 8121, 7101, 7102, 9150, 2501, 2502, 9160, 2001, 9170, 6101, 6102, 5101, 5102, 2301}. Label image only contains 23 labels (including background).\n",
      "  warnings.warn(\n"
     ]
    },
    {
     "name": "stdout",
     "output_type": "stream",
     "text": [
      "(Processing PET) Subject: sub-patient12, PET Path: C:\\Users\\ishsh\\OneDrive\\Desktop\\QML_Project\\data\\processed\\mri_pet\\derivatives\\preprocessed_pet\\sub-patient12\\pet\\sub-patient12_space-MNI152NLin2009aPET.nii.gz\n",
      "(Processing MRI-PET MRI) Subject: sub-patient13, MRI Path: C:\\Users\\ishsh\\OneDrive\\Desktop\\QML_Project\\data\\processed\\mri_pet\\derivatives\\cleaned_skullstrip\\sub-patient13\\anat\\sub-patient13_T1w_skullstripped.nii.gz\n"
     ]
    },
    {
     "name": "stderr",
     "output_type": "stream",
     "text": [
      "c:\\Users\\ishsh\\OneDrive\\Desktop\\QML_Project\\venv4qml\\Lib\\site-packages\\nilearn\\maskers\\nifti_labels_masker.py:888: UserWarning: After resampling the label image to the data image, the following labels were removed: {6401, 6402, 4101, 4102, 2311, 8201, 8202, 4111, 4112, 2321, 2322, 8211, 8212, 5401, 5402, 2331, 9001, 9002, 2611, 2612, 2101, 9011, 9012, 6201, 6202, 9021, 9022, 2111, 2112, 6211, 6212, 9031, 9032, 6221, 6222, 5201, 5202, 9041, 9042, 7001, 9051, 9052, 7011, 9061, 9062, 4201, 4202, 8301, 8302, 7021, 9071, 9072, 6001, 9081, 9082, 5001, 5002, 9100, 2701, 2702, 5011, 5012, 9110, 2201, 6301, 6302, 5021, 5022, 9120, 2211, 2212, 8101, 9130, 8111, 9140, 5301, 5302, 4021, 4022, 3001, 8121, 7101, 7102, 9150, 2501, 2502, 9160, 2001, 9170, 6101, 6102, 5101, 5102, 2301}. Label image only contains 23 labels (including background).\n",
      "  warnings.warn(\n"
     ]
    },
    {
     "name": "stdout",
     "output_type": "stream",
     "text": [
      "(Processing PET) Subject: sub-patient13, PET Path: C:\\Users\\ishsh\\OneDrive\\Desktop\\QML_Project\\data\\processed\\mri_pet\\derivatives\\preprocessed_pet\\sub-patient13\\pet\\sub-patient13_space-MNI152NLin2009aPET.nii.gz\n",
      "(Processing MRI-PET MRI) Subject: sub-patient14, MRI Path: C:\\Users\\ishsh\\OneDrive\\Desktop\\QML_Project\\data\\processed\\mri_pet\\derivatives\\cleaned_skullstrip\\sub-patient14\\anat\\sub-patient14_T1w_skullstripped.nii.gz\n"
     ]
    },
    {
     "name": "stderr",
     "output_type": "stream",
     "text": [
      "c:\\Users\\ishsh\\OneDrive\\Desktop\\QML_Project\\venv4qml\\Lib\\site-packages\\nilearn\\maskers\\nifti_labels_masker.py:888: UserWarning: After resampling the label image to the data image, the following labels were removed: {6401, 6402, 4101, 4102, 2311, 8201, 8202, 4111, 4112, 2321, 2322, 8211, 8212, 5401, 5402, 2331, 9001, 9002, 2611, 2612, 2101, 9011, 9012, 6201, 6202, 9021, 9022, 2111, 2112, 6211, 6212, 9031, 9032, 6221, 6222, 5201, 5202, 9041, 9042, 7001, 9051, 9052, 7011, 9061, 9062, 4201, 4202, 8301, 8302, 7021, 9071, 9072, 6001, 9081, 9082, 5001, 5002, 9100, 2701, 2702, 5011, 5012, 9110, 2201, 6301, 6302, 5021, 5022, 9120, 2211, 2212, 8101, 9130, 8111, 9140, 5301, 5302, 4021, 4022, 3001, 8121, 7101, 7102, 9150, 2501, 2502, 9160, 2001, 9170, 6101, 6102, 5101, 5102, 2301}. Label image only contains 23 labels (including background).\n",
      "  warnings.warn(\n"
     ]
    },
    {
     "name": "stdout",
     "output_type": "stream",
     "text": [
      "(Processing PET) Subject: sub-patient14, PET Path: C:\\Users\\ishsh\\OneDrive\\Desktop\\QML_Project\\data\\processed\\mri_pet\\derivatives\\preprocessed_pet\\sub-patient14\\pet\\sub-patient14_space-MNI152NLin2009aPET.nii.gz\n",
      "(Processing MRI-PET MRI) Subject: sub-patient15, MRI Path: C:\\Users\\ishsh\\OneDrive\\Desktop\\QML_Project\\data\\processed\\mri_pet\\derivatives\\cleaned_skullstrip\\sub-patient15\\anat\\sub-patient15_T1w_skullstripped.nii.gz\n"
     ]
    },
    {
     "name": "stderr",
     "output_type": "stream",
     "text": [
      "c:\\Users\\ishsh\\OneDrive\\Desktop\\QML_Project\\venv4qml\\Lib\\site-packages\\nilearn\\maskers\\nifti_labels_masker.py:888: UserWarning: After resampling the label image to the data image, the following labels were removed: {6401, 6402, 4101, 4102, 2311, 8201, 8202, 4111, 4112, 2321, 2322, 8211, 8212, 5401, 5402, 2331, 9001, 9002, 2611, 2612, 2101, 9011, 9012, 6201, 6202, 9021, 9022, 2111, 2112, 6211, 6212, 9031, 9032, 6221, 6222, 5201, 5202, 9041, 9042, 7001, 9051, 9052, 7011, 9061, 9062, 4201, 4202, 8301, 8302, 7021, 9071, 9072, 6001, 9081, 9082, 5001, 5002, 9100, 2701, 2702, 5011, 5012, 9110, 2201, 6301, 6302, 5021, 5022, 9120, 2211, 2212, 8101, 9130, 8111, 9140, 5301, 5302, 4021, 4022, 3001, 8121, 7101, 7102, 9150, 2501, 2502, 9160, 2001, 9170, 6101, 6102, 5101, 5102, 2301}. Label image only contains 23 labels (including background).\n",
      "  warnings.warn(\n"
     ]
    },
    {
     "name": "stdout",
     "output_type": "stream",
     "text": [
      "(Processing PET) Subject: sub-patient15, PET Path: C:\\Users\\ishsh\\OneDrive\\Desktop\\QML_Project\\data\\processed\\mri_pet\\derivatives\\preprocessed_pet\\sub-patient15\\pet\\sub-patient15_space-MNI152NLin2009aPET.nii.gz\n",
      "(Processing MRI-PET MRI) Subject: sub-patient16, MRI Path: C:\\Users\\ishsh\\OneDrive\\Desktop\\QML_Project\\data\\processed\\mri_pet\\derivatives\\cleaned_skullstrip\\sub-patient16\\anat\\sub-patient16_T1w_skullstripped.nii.gz\n"
     ]
    },
    {
     "name": "stderr",
     "output_type": "stream",
     "text": [
      "c:\\Users\\ishsh\\OneDrive\\Desktop\\QML_Project\\venv4qml\\Lib\\site-packages\\nilearn\\maskers\\nifti_labels_masker.py:888: UserWarning: After resampling the label image to the data image, the following labels were removed: {6401, 6402, 4101, 4102, 2311, 8201, 8202, 4111, 4112, 2321, 2322, 8211, 8212, 5401, 5402, 2331, 9001, 9002, 2611, 2612, 2101, 9011, 9012, 6201, 6202, 9021, 9022, 2111, 2112, 6211, 6212, 9031, 9032, 6221, 6222, 5201, 5202, 9041, 9042, 7001, 9051, 9052, 7011, 9061, 9062, 4201, 4202, 8301, 8302, 7021, 9071, 9072, 6001, 9081, 9082, 5001, 5002, 9100, 2701, 2702, 5011, 5012, 9110, 2201, 6301, 6302, 5021, 5022, 9120, 2211, 2212, 8101, 9130, 8111, 9140, 5301, 5302, 4021, 4022, 3001, 8121, 7101, 7102, 9150, 2501, 2502, 9160, 2001, 9170, 6101, 6102, 5101, 5102, 2301}. Label image only contains 23 labels (including background).\n",
      "  warnings.warn(\n"
     ]
    },
    {
     "name": "stdout",
     "output_type": "stream",
     "text": [
      "(Processing PET) Subject: sub-patient16, PET Path: C:\\Users\\ishsh\\OneDrive\\Desktop\\QML_Project\\data\\processed\\mri_pet\\derivatives\\preprocessed_pet\\sub-patient16\\pet\\sub-patient16_space-MNI152NLin2009aPET.nii.gz\n",
      "(Processing MRI-PET MRI) Subject: sub-patient17, MRI Path: C:\\Users\\ishsh\\OneDrive\\Desktop\\QML_Project\\data\\processed\\mri_pet\\derivatives\\cleaned_skullstrip\\sub-patient17\\anat\\sub-patient17_T1w_skullstripped.nii.gz\n"
     ]
    },
    {
     "name": "stderr",
     "output_type": "stream",
     "text": [
      "c:\\Users\\ishsh\\OneDrive\\Desktop\\QML_Project\\venv4qml\\Lib\\site-packages\\nilearn\\maskers\\nifti_labels_masker.py:888: UserWarning: After resampling the label image to the data image, the following labels were removed: {6401, 6402, 4101, 4102, 2311, 8201, 8202, 4111, 4112, 2321, 2322, 8211, 8212, 5401, 5402, 2331, 9001, 9002, 2611, 2612, 2101, 9011, 9012, 6201, 6202, 9021, 9022, 2111, 2112, 6211, 6212, 9031, 9032, 6221, 6222, 5201, 5202, 9041, 9042, 7001, 9051, 9052, 7011, 9061, 9062, 4201, 4202, 8301, 8302, 7021, 9071, 9072, 6001, 9081, 9082, 5001, 5002, 9100, 2701, 2702, 5011, 5012, 9110, 2201, 6301, 6302, 5021, 5022, 9120, 2211, 2212, 8101, 9130, 8111, 9140, 5301, 5302, 4021, 4022, 3001, 8121, 7101, 7102, 9150, 2501, 2502, 9160, 2001, 9170, 6101, 6102, 5101, 5102, 2301}. Label image only contains 23 labels (including background).\n",
      "  warnings.warn(\n"
     ]
    },
    {
     "name": "stdout",
     "output_type": "stream",
     "text": [
      "(Processing PET) Subject: sub-patient17, PET Path: C:\\Users\\ishsh\\OneDrive\\Desktop\\QML_Project\\data\\processed\\mri_pet\\derivatives\\preprocessed_pet\\sub-patient17\\pet\\sub-patient17_space-MNI152NLin2009aPET.nii.gz\n",
      "(Processing MRI-PET MRI) Subject: sub-patient18, MRI Path: C:\\Users\\ishsh\\OneDrive\\Desktop\\QML_Project\\data\\processed\\mri_pet\\derivatives\\cleaned_skullstrip\\sub-patient18\\anat\\sub-patient18_T1w_skullstripped.nii.gz\n"
     ]
    },
    {
     "name": "stderr",
     "output_type": "stream",
     "text": [
      "c:\\Users\\ishsh\\OneDrive\\Desktop\\QML_Project\\venv4qml\\Lib\\site-packages\\nilearn\\maskers\\nifti_labels_masker.py:888: UserWarning: After resampling the label image to the data image, the following labels were removed: {6401, 6402, 4101, 4102, 2311, 8201, 8202, 4111, 4112, 2321, 2322, 8211, 8212, 5401, 5402, 2331, 9001, 9002, 2611, 2612, 2101, 9011, 9012, 6201, 6202, 9021, 9022, 2111, 2112, 6211, 6212, 9031, 9032, 6221, 6222, 5201, 5202, 9041, 9042, 7001, 9051, 9052, 7011, 9061, 9062, 4201, 4202, 8301, 8302, 7021, 9071, 9072, 6001, 9081, 9082, 5001, 5002, 9100, 2701, 2702, 5011, 5012, 9110, 2201, 6301, 6302, 5021, 5022, 9120, 2211, 2212, 8101, 9130, 8111, 9140, 5301, 5302, 4021, 4022, 3001, 8121, 7101, 7102, 9150, 2501, 2502, 9160, 2001, 9170, 6101, 6102, 5101, 5102, 2301}. Label image only contains 23 labels (including background).\n",
      "  warnings.warn(\n"
     ]
    },
    {
     "name": "stdout",
     "output_type": "stream",
     "text": [
      "(Processing PET) Subject: sub-patient18, PET Path: C:\\Users\\ishsh\\OneDrive\\Desktop\\QML_Project\\data\\processed\\mri_pet\\derivatives\\preprocessed_pet\\sub-patient18\\pet\\sub-patient18_space-MNI152NLin2009aPET.nii.gz\n",
      "(Processing MRI-PET MRI) Subject: sub-patient19, MRI Path: C:\\Users\\ishsh\\OneDrive\\Desktop\\QML_Project\\data\\processed\\mri_pet\\derivatives\\cleaned_skullstrip\\sub-patient19\\anat\\sub-patient19_T1w_skullstripped.nii.gz\n"
     ]
    },
    {
     "name": "stderr",
     "output_type": "stream",
     "text": [
      "c:\\Users\\ishsh\\OneDrive\\Desktop\\QML_Project\\venv4qml\\Lib\\site-packages\\nilearn\\maskers\\nifti_labels_masker.py:888: UserWarning: After resampling the label image to the data image, the following labels were removed: {6401, 6402, 4101, 4102, 2311, 8201, 8202, 4111, 4112, 2321, 2322, 8211, 8212, 5401, 5402, 2331, 9001, 9002, 2611, 2612, 2101, 9011, 9012, 6201, 6202, 9021, 9022, 2111, 2112, 6211, 6212, 9031, 9032, 6221, 6222, 5201, 5202, 9041, 9042, 7001, 9051, 9052, 7011, 9061, 9062, 4201, 4202, 8301, 8302, 7021, 9071, 9072, 6001, 9081, 9082, 5001, 5002, 9100, 2701, 2702, 5011, 5012, 9110, 2201, 6301, 6302, 5021, 5022, 9120, 2211, 2212, 8101, 9130, 8111, 9140, 5301, 5302, 4021, 4022, 3001, 8121, 7101, 7102, 9150, 2501, 2502, 9160, 2001, 9170, 6101, 6102, 5101, 5102, 2301}. Label image only contains 23 labels (including background).\n",
      "  warnings.warn(\n"
     ]
    },
    {
     "name": "stdout",
     "output_type": "stream",
     "text": [
      "(Processing PET) Subject: sub-patient19, PET Path: C:\\Users\\ishsh\\OneDrive\\Desktop\\QML_Project\\data\\processed\\mri_pet\\derivatives\\preprocessed_pet\\sub-patient19\\pet\\sub-patient19_space-MNI152NLin2009aPET.nii.gz\n",
      "(Processing MRI-PET MRI) Subject: sub-patient20, MRI Path: C:\\Users\\ishsh\\OneDrive\\Desktop\\QML_Project\\data\\processed\\mri_pet\\derivatives\\cleaned_skullstrip\\sub-patient20\\anat\\sub-patient20_T1w_skullstripped.nii.gz\n"
     ]
    },
    {
     "name": "stderr",
     "output_type": "stream",
     "text": [
      "c:\\Users\\ishsh\\OneDrive\\Desktop\\QML_Project\\venv4qml\\Lib\\site-packages\\nilearn\\maskers\\nifti_labels_masker.py:888: UserWarning: After resampling the label image to the data image, the following labels were removed: {6401, 6402, 4101, 4102, 2311, 8201, 8202, 4111, 4112, 2321, 2322, 8211, 8212, 5401, 5402, 2331, 9001, 9002, 2611, 2612, 2101, 9011, 9012, 6201, 6202, 9021, 9022, 2111, 2112, 6211, 6212, 9031, 9032, 6221, 6222, 5201, 5202, 9041, 9042, 7001, 9051, 9052, 7011, 9061, 9062, 4201, 4202, 8301, 8302, 7021, 9071, 9072, 6001, 9081, 9082, 5001, 5002, 9100, 2701, 2702, 5011, 5012, 9110, 2201, 6301, 6302, 5021, 5022, 9120, 2211, 2212, 8101, 9130, 8111, 9140, 5301, 5302, 4021, 4022, 3001, 8121, 7101, 7102, 9150, 2501, 2502, 9160, 2001, 9170, 6101, 6102, 5101, 5102, 2301}. Label image only contains 23 labels (including background).\n",
      "  warnings.warn(\n"
     ]
    },
    {
     "name": "stdout",
     "output_type": "stream",
     "text": [
      "(Processing PET) Subject: sub-patient20, PET Path: C:\\Users\\ishsh\\OneDrive\\Desktop\\QML_Project\\data\\processed\\mri_pet\\derivatives\\preprocessed_pet\\sub-patient20\\pet\\sub-patient20_space-MNI152NLin2009aPET.nii.gz\n",
      "(Processing MRI-PET MRI) Subject: sub-patient21, MRI Path: C:\\Users\\ishsh\\OneDrive\\Desktop\\QML_Project\\data\\processed\\mri_pet\\derivatives\\cleaned_skullstrip\\sub-patient21\\anat\\sub-patient21_T1w_skullstripped.nii.gz\n"
     ]
    },
    {
     "name": "stderr",
     "output_type": "stream",
     "text": [
      "c:\\Users\\ishsh\\OneDrive\\Desktop\\QML_Project\\venv4qml\\Lib\\site-packages\\nilearn\\maskers\\nifti_labels_masker.py:888: UserWarning: After resampling the label image to the data image, the following labels were removed: {6401, 6402, 4101, 4102, 2311, 8201, 8202, 4111, 4112, 2321, 2322, 8211, 8212, 5401, 5402, 2331, 9001, 9002, 2611, 2612, 2101, 9011, 9012, 6201, 6202, 9021, 9022, 2111, 2112, 6211, 6212, 9031, 9032, 6221, 6222, 5201, 5202, 9041, 9042, 7001, 9051, 9052, 7011, 9061, 9062, 4201, 4202, 8301, 8302, 7021, 9071, 9072, 6001, 9081, 9082, 5001, 5002, 9100, 2701, 2702, 5011, 5012, 9110, 2201, 6301, 6302, 5021, 5022, 9120, 2211, 2212, 8101, 9130, 8111, 9140, 5301, 5302, 4021, 4022, 3001, 8121, 7101, 7102, 9150, 2501, 2502, 9160, 2001, 9170, 6101, 6102, 5101, 5102, 2301}. Label image only contains 23 labels (including background).\n",
      "  warnings.warn(\n"
     ]
    },
    {
     "name": "stdout",
     "output_type": "stream",
     "text": [
      "(Processing PET) Subject: sub-patient21, PET Path: C:\\Users\\ishsh\\OneDrive\\Desktop\\QML_Project\\data\\processed\\mri_pet\\derivatives\\preprocessed_pet\\sub-patient21\\pet\\sub-patient21_space-MNI152NLin2009aPET.nii.gz\n",
      "(Processing MRI-PET MRI) Subject: sub-patient22, MRI Path: C:\\Users\\ishsh\\OneDrive\\Desktop\\QML_Project\\data\\processed\\mri_pet\\derivatives\\cleaned_skullstrip\\sub-patient22\\anat\\sub-patient22_T1w_skullstripped.nii.gz\n"
     ]
    },
    {
     "name": "stderr",
     "output_type": "stream",
     "text": [
      "c:\\Users\\ishsh\\OneDrive\\Desktop\\QML_Project\\venv4qml\\Lib\\site-packages\\nilearn\\maskers\\nifti_labels_masker.py:888: UserWarning: After resampling the label image to the data image, the following labels were removed: {6401, 6402, 4101, 4102, 2311, 8201, 8202, 4111, 4112, 2321, 2322, 8211, 8212, 5401, 5402, 2331, 9001, 9002, 2611, 2612, 2101, 9011, 9012, 6201, 6202, 9021, 9022, 2111, 2112, 6211, 6212, 9031, 9032, 6221, 6222, 5201, 5202, 9041, 9042, 7001, 9051, 9052, 7011, 9061, 9062, 4201, 4202, 8301, 8302, 7021, 9071, 9072, 6001, 9081, 9082, 5001, 5002, 9100, 2701, 2702, 5011, 5012, 9110, 2201, 6301, 6302, 5021, 5022, 9120, 2211, 2212, 8101, 9130, 8111, 9140, 5301, 5302, 4021, 4022, 3001, 8121, 7101, 7102, 9150, 2501, 2502, 9160, 2001, 9170, 6101, 6102, 5101, 5102, 2301}. Label image only contains 23 labels (including background).\n",
      "  warnings.warn(\n"
     ]
    },
    {
     "name": "stdout",
     "output_type": "stream",
     "text": [
      "(Processing PET) Subject: sub-patient22, PET Path: C:\\Users\\ishsh\\OneDrive\\Desktop\\QML_Project\\data\\processed\\mri_pet\\derivatives\\preprocessed_pet\\sub-patient22\\pet\\sub-patient22_space-MNI152NLin2009aPET.nii.gz\n",
      "(Processing MRI-PET MRI) Subject: sub-patient23, MRI Path: C:\\Users\\ishsh\\OneDrive\\Desktop\\QML_Project\\data\\processed\\mri_pet\\derivatives\\cleaned_skullstrip\\sub-patient23\\anat\\sub-patient23_T1w_skullstripped.nii.gz\n"
     ]
    },
    {
     "name": "stderr",
     "output_type": "stream",
     "text": [
      "c:\\Users\\ishsh\\OneDrive\\Desktop\\QML_Project\\venv4qml\\Lib\\site-packages\\nilearn\\maskers\\nifti_labels_masker.py:888: UserWarning: After resampling the label image to the data image, the following labels were removed: {6401, 6402, 4101, 4102, 2311, 8201, 8202, 4111, 4112, 2321, 2322, 8211, 8212, 5401, 5402, 2331, 9001, 9002, 2611, 2612, 2101, 9011, 9012, 6201, 6202, 9021, 9022, 2111, 2112, 6211, 6212, 9031, 9032, 6221, 6222, 5201, 5202, 9041, 9042, 7001, 9051, 9052, 7011, 9061, 9062, 4201, 4202, 8301, 8302, 7021, 9071, 9072, 6001, 9081, 9082, 5001, 5002, 9100, 2701, 2702, 5011, 5012, 9110, 2201, 6301, 6302, 5021, 5022, 9120, 2211, 2212, 8101, 9130, 8111, 9140, 5301, 5302, 4021, 4022, 3001, 8121, 7101, 7102, 9150, 2501, 2502, 9160, 2001, 9170, 6101, 6102, 5101, 5102, 2301}. Label image only contains 23 labels (including background).\n",
      "  warnings.warn(\n"
     ]
    },
    {
     "name": "stdout",
     "output_type": "stream",
     "text": [
      "(Processing PET) Subject: sub-patient23, PET Path: C:\\Users\\ishsh\\OneDrive\\Desktop\\QML_Project\\data\\processed\\mri_pet\\derivatives\\preprocessed_pet\\sub-patient23\\pet\\sub-patient23_space-MNI152NLin2009aPET.nii.gz\n",
      "(Processing MRI-PET MRI) Subject: sub-patient24, MRI Path: C:\\Users\\ishsh\\OneDrive\\Desktop\\QML_Project\\data\\processed\\mri_pet\\derivatives\\cleaned_skullstrip\\sub-patient24\\anat\\sub-patient24_T1w_skullstripped.nii.gz\n"
     ]
    },
    {
     "name": "stderr",
     "output_type": "stream",
     "text": [
      "c:\\Users\\ishsh\\OneDrive\\Desktop\\QML_Project\\venv4qml\\Lib\\site-packages\\nilearn\\maskers\\nifti_labels_masker.py:888: UserWarning: After resampling the label image to the data image, the following labels were removed: {6401, 6402, 4101, 4102, 2311, 8201, 8202, 4111, 4112, 2321, 2322, 8211, 8212, 5401, 5402, 2331, 9001, 9002, 2611, 2612, 2101, 9011, 9012, 6201, 6202, 9021, 9022, 2111, 2112, 6211, 6212, 9031, 9032, 6221, 6222, 5201, 5202, 9041, 9042, 7001, 9051, 9052, 7011, 9061, 9062, 4201, 4202, 8301, 8302, 7021, 9071, 9072, 6001, 9081, 9082, 5001, 5002, 9100, 2701, 2702, 5011, 5012, 9110, 2201, 6301, 6302, 5021, 5022, 9120, 2211, 2212, 8101, 9130, 8111, 9140, 5301, 5302, 4021, 4022, 3001, 8121, 7101, 7102, 9150, 2501, 2502, 9160, 2001, 9170, 6101, 6102, 5101, 5102, 2301}. Label image only contains 23 labels (including background).\n",
      "  warnings.warn(\n"
     ]
    },
    {
     "name": "stdout",
     "output_type": "stream",
     "text": [
      "(Processing PET) Subject: sub-patient24, PET Path: C:\\Users\\ishsh\\OneDrive\\Desktop\\QML_Project\\data\\processed\\mri_pet\\derivatives\\preprocessed_pet\\sub-patient24\\pet\\sub-patient24_space-MNI152NLin2009aPET.nii.gz\n"
     ]
    }
   ],
   "source": [
    "\n",
    "mri_pet_data = {}\n",
    "surviving_mri_pet_labels = None\n",
    "reference_mri_pet_path = None\n",
    "max_rois_mri_pet = 0\n",
    "\n",
    "for subject_folder in os.listdir(mri_pet_anat_data_path):\n",
    "    if subject_folder.startswith(\"sub-control\") or subject_folder.startswith(\"sub-patient\"):\n",
    "        mri_path = os.path.join(mri_pet_anat_data_path, subject_folder, \"anat\", f\"{subject_folder}_T1w_skullstripped.nii.gz\")\n",
    "        try:\n",
    "            img = nib.load(mri_path)\n",
    "            masker = input_data.NiftiLabelsMasker(labels_img=atlas_filename, standardize=False)\n",
    "            roi_data = masker.fit_transform(img)\n",
    "            num_rois = roi_data.shape[1]\n",
    "\n",
    "            if num_rois > max_rois_mri_pet:\n",
    "                max_rois_mri_pet = num_rois\n",
    "                reference_mri_pet_path = mri_path\n",
    "            print(f\"(Reference MRI-PET MRI) Subject: {subject_folder}, MRI Path: {mri_path}, ROI Data Shape: {roi_data.shape}\") # DEBUG\n",
    "        except FileNotFoundError:\n",
    "            logging.warning(f\"MRI file not found for subject: {subject_folder} in {mri_path}\")\n",
    "        except Exception as e:\n",
    "            logging.error(f\"Error loading or processing MRI image {mri_path}: {e}\")\n",
    "\n",
    "if reference_mri_pet_path:\n",
    "    _, surviving_mri_pet_labels = extract_roi_features(reference_mri_pet_path, atlas_filename)\n",
    "    print(f\"Surviving MRI-PET labels (after reference): {surviving_mri_pet_labels}\") # DEBUG\n",
    "else:\n",
    "    logging.error(\"No reference MRI found for MRI-PET data. Skipping MRI-PET processing.\")\n",
    "\n",
    "if surviving_mri_pet_labels is not None:\n",
    "    for subject_folder in os.listdir(mri_pet_anat_data_path):\n",
    "        if subject_folder.startswith(\"sub-control\") or subject_folder.startswith(\"sub-patient\"):\n",
    "            subject_id = subject_folder\n",
    "            mri_path = os.path.join(mri_pet_anat_data_path, subject_folder, \"anat\", f\"{subject_folder}_T1w_skullstripped.nii.gz\")\n",
    "            print(f\"(Processing MRI-PET MRI) Subject: {subject_folder}, MRI Path: {mri_path}\") # DEBUG\n",
    "            mri_features, _ = extract_roi_features(mri_path, atlas_filename, surviving_mri_pet_labels)\n",
    "\n",
    "            pet_folder = os.path.join(pet_processed_data_path, subject_folder, \"pet\")\n",
    "            pet_path = None\n",
    "            try:\n",
    "                for filename in os.listdir(pet_folder):\n",
    "                    if filename.endswith(\"_space-MNI152NLin2009aPET.nii.gz\"):\n",
    "                        pet_path = os.path.join(pet_folder, filename)\n",
    "                        break\n",
    "                if pet_path:\n",
    "                    print(f\"(Processing PET) Subject: {subject_folder}, PET Path: {pet_path}\") # DEBUG\n",
    "                    pet_features, _ = extract_roi_features(pet_path, atlas_filename, surviving_mri_pet_labels)\n",
    "                else:\n",
    "                    pet_features = None\n",
    "                    logging.warning(f\"PET image not found for subject: {subject_folder} in {pet_folder}\")\n",
    "            except FileNotFoundError:\n",
    "                pet_features = None\n",
    "                logging.warning(f\"PET folder not found for subject: {subject_folder} at {pet_folder}\")\n",
    "\n",
    "            label = 0 if \"control\" in subject_folder else 1\n",
    "            mri_pet_data[subject_id] = {\n",
    "                **({f'M{i+1}': val for i, val in enumerate(mri_features.flatten())} if mri_features is not None else {}),\n",
    "                **({f'P{i+1}': val for i, val in enumerate(pet_features.flatten())} if pet_features is not None else {}),\n",
    "                'label': label\n",
    "            }\n"
   ]
  },
  {
   "cell_type": "markdown",
   "id": "787bef51",
   "metadata": {},
   "source": [
    "# --- Save to CSV files ---"
   ]
  },
  {
   "cell_type": "code",
   "execution_count": 7,
   "id": "39a02ad7",
   "metadata": {},
   "outputs": [
    {
     "name": "stdout",
     "output_type": "stream",
     "text": [
      "\n",
      "Data saved to mri_only_data_wide.csv\n",
      "\n",
      "Combined MRI-PET data saved to mri_pet_combined_wide.csv\n",
      "\n",
      "Processing complete. Data saved to wide format CSV files.\n",
      "\n",
      "Head of MRI-Only Data (Wide Format):\n",
      "  subject_id           M1   M2  M3  M4   M5   M6   M7   M8           M9  ...  \\\n",
      "0      sub-1   477.709106  0.0 NaN NaN  0.0  0.0  0.0  0.0   384.788971  ...   \n",
      "1     sub-10  3398.151855  0.0 NaN NaN  0.0  0.0  0.0  0.0  2971.952148  ...   \n",
      "2    sub-100  1006.615845  0.0 NaN NaN  0.0  0.0  0.0  0.0   725.388794  ...   \n",
      "3    sub-101  1405.849976  0.0 NaN NaN  0.0  0.0  0.0  0.0   775.935669  ...   \n",
      "4    sub-102   203.207291  0.0 NaN NaN  0.0  0.0  0.0  0.0   105.300316  ...   \n",
      "\n",
      "   M920      M921  M922  M923  M924  M925  M926  M927  M928  label  \n",
      "0   0.0  2.157357   0.0   NaN   NaN   0.0   0.0   0.0   0.0      1  \n",
      "1   0.0       NaN   NaN   NaN   NaN   NaN   NaN   NaN   NaN      1  \n",
      "2   NaN       NaN   NaN   NaN   NaN   NaN   NaN   NaN   NaN      1  \n",
      "3   NaN       NaN   NaN   NaN   NaN   NaN   NaN   NaN   NaN      1  \n",
      "4   NaN       NaN   NaN   NaN   NaN   NaN   NaN   NaN   NaN      1  \n",
      "\n",
      "[5 rows x 930 columns]\n",
      "\n",
      "Head of Combined MRI-PET Data (Wide Format):\n",
      "      subject_id   M1   M2  M3  M4   M5   M6   M7   M8   M9  ...  P168  \\\n",
      "0  sub-control01  0.0  0.0 NaN NaN  0.0  0.0  0.0  0.0  0.0  ...   0.0   \n",
      "1  sub-control02  0.0  0.0 NaN NaN  0.0  0.0  0.0  0.0  0.0  ...   0.0   \n",
      "2  sub-control03  0.0  0.0 NaN NaN  0.0  0.0  0.0  0.0  0.0  ...   0.0   \n",
      "3  sub-control04  0.0  0.0 NaN NaN  0.0  0.0  0.0  0.0  0.0  ...   0.0   \n",
      "4  sub-control05  0.0  0.0 NaN NaN  0.0  0.0  0.0  0.0  0.0  ...   0.0   \n",
      "\n",
      "           P169  P170  P171  P172  P173  P174  P175  P176  label  \n",
      "0   2577.057373   0.0   NaN   NaN   0.0   0.0   0.0   0.0      0  \n",
      "1  10608.783203   0.0   NaN   NaN   0.0   0.0   0.0   0.0      0  \n",
      "2   5738.024902   0.0   NaN   NaN   0.0   0.0   0.0   0.0      0  \n",
      "3   5070.288086   0.0   NaN   NaN   0.0   0.0   0.0   0.0      0  \n",
      "4   9172.663086   0.0   NaN   NaN   0.0   0.0   0.0   0.0      0  \n",
      "\n",
      "[5 rows x 354 columns]\n"
     ]
    }
   ],
   "source": [
    "\n",
    "def save_list_of_dicts_to_csv(data, filename):\n",
    "    df = pd.DataFrame(data)\n",
    "    df.to_csv(filename, index=False)\n",
    "    print(f\"\\nData saved to {filename}\")\n",
    "\n",
    "def save_combined_mri_pet_data_to_csv(data, filename):\n",
    "    output_data = []\n",
    "    for subject_id, features in data.items():\n",
    "        output_data.append({'subject_id': subject_id, **features})\n",
    "    df = pd.DataFrame(output_data)\n",
    "    df.to_csv(filename, index=False)\n",
    "    print(f\"\\nCombined MRI-PET data saved to {filename}\")\n",
    "\n",
    "# Save MRI-only data\n",
    "save_list_of_dicts_to_csv(mri_only_data, 'mri_only_data_wide.csv')\n",
    "\n",
    "# Save combined MRI-PET data\n",
    "save_combined_mri_pet_data_to_csv(mri_pet_data, 'mri_pet_combined_wide.csv')\n",
    "\n",
    "print(\"\\nProcessing complete. Data saved to wide format CSV files.\")\n",
    "\n",
    "import pandas as pd\n",
    "\n",
    "# Load and print the head of the new CSV files\n",
    "try:\n",
    "    df_mri_only = pd.read_csv('mri_only_data_wide.csv')\n",
    "    print(\"\\nHead of MRI-Only Data (Wide Format):\")\n",
    "    print(df_mri_only.head())\n",
    "except FileNotFoundError:\n",
    "    print(\"\\nError: mri_only_data_wide.csv not found.\")\n",
    "\n",
    "try:\n",
    "    df_mri_pet = pd.read_csv('mri_pet_combined_wide.csv')\n",
    "    print(\"\\nHead of Combined MRI-PET Data (Wide Format):\")\n",
    "    print(df_mri_pet.head())\n",
    "except FileNotFoundError:\n",
    "    print(\"\\nError: mri_pet_combined_wide.csv not found.\")"
   ]
  },
  {
   "cell_type": "markdown",
   "id": "9e90acae",
   "metadata": {},
   "source": [
    "# Cleaning data"
   ]
  },
  {
   "cell_type": "code",
   "execution_count": 8,
   "id": "cba2f140",
   "metadata": {},
   "outputs": [
    {
     "name": "stdout",
     "output_type": "stream",
     "text": [
      "\n",
      "--- MRI-Only Data ---\n",
      "Number of columns with > 50% NaN values: 232\n",
      "Columns with > 50% NaN values: ['M3', 'M4', 'M11', 'M12', 'M19', 'M20', 'M27', 'M28', 'M35', 'M36', 'M43', 'M44', 'M51', 'M52', 'M59', 'M60', 'M67', 'M68', 'M75', 'M76', 'M83', 'M84', 'M91', 'M92', 'M99', 'M100', 'M107', 'M108', 'M115', 'M116', 'M123', 'M124', 'M131', 'M132', 'M139', 'M140', 'M147', 'M148', 'M155', 'M156', 'M163', 'M164', 'M171', 'M172', 'M179', 'M180', 'M187', 'M188', 'M195', 'M196', 'M203', 'M204', 'M211', 'M212', 'M219', 'M220', 'M227', 'M228', 'M235', 'M236', 'M243', 'M244', 'M251', 'M252', 'M259', 'M260', 'M267', 'M268', 'M275', 'M276', 'M283', 'M284', 'M291', 'M292', 'M299', 'M300', 'M307', 'M308', 'M315', 'M316', 'M323', 'M324', 'M331', 'M332', 'M339', 'M340', 'M347', 'M348', 'M355', 'M356', 'M363', 'M364', 'M371', 'M372', 'M379', 'M380', 'M387', 'M388', 'M395', 'M396', 'M403', 'M404', 'M411', 'M412', 'M419', 'M420', 'M427', 'M428', 'M435', 'M436', 'M443', 'M444', 'M451', 'M452', 'M459', 'M460', 'M467', 'M468', 'M475', 'M476', 'M483', 'M484', 'M491', 'M492', 'M499', 'M500', 'M507', 'M508', 'M515', 'M516', 'M523', 'M524', 'M531', 'M532', 'M539', 'M540', 'M547', 'M548', 'M555', 'M556', 'M563', 'M564', 'M571', 'M572', 'M579', 'M580', 'M587', 'M588', 'M595', 'M596', 'M603', 'M604', 'M611', 'M612', 'M619', 'M620', 'M627', 'M628', 'M635', 'M636', 'M643', 'M644', 'M651', 'M652', 'M659', 'M660', 'M667', 'M668', 'M675', 'M676', 'M683', 'M684', 'M691', 'M692', 'M699', 'M700', 'M707', 'M708', 'M715', 'M716', 'M723', 'M724', 'M731', 'M732', 'M739', 'M740', 'M747', 'M748', 'M755', 'M756', 'M763', 'M764', 'M771', 'M772', 'M779', 'M780', 'M787', 'M788', 'M795', 'M796', 'M803', 'M804', 'M811', 'M812', 'M819', 'M820', 'M827', 'M828', 'M835', 'M836', 'M843', 'M844', 'M851', 'M852', 'M859', 'M860', 'M867', 'M868', 'M875', 'M876', 'M883', 'M884', 'M891', 'M892', 'M899', 'M900', 'M907', 'M908', 'M915', 'M916', 'M923', 'M924']\n",
      "Shape of MRI-Only data after dropping columns: (542, 698)\n",
      "Cleaned MRI-Only data saved to: C:\\Users\\ishsh\\OneDrive\\Desktop\\QML_Project\\results\\mri_only_cleaned.csv\n",
      "\n",
      "--- Combined MRI-PET Data ---\n",
      "Number of columns with > 50% NaN values: 88\n",
      "Columns with > 50% NaN values: ['M3', 'M4', 'M11', 'M12', 'M19', 'M20', 'M27', 'M28', 'M35', 'M36', 'M43', 'M44', 'M51', 'M52', 'M59', 'M60', 'M67', 'M68', 'M75', 'M76', 'M83', 'M84', 'M91', 'M92', 'M99', 'M100', 'M107', 'M108', 'M115', 'M116', 'M123', 'M124', 'M131', 'M132', 'M139', 'M140', 'M147', 'M148', 'M155', 'M156', 'M163', 'M164', 'M171', 'M172', 'P3', 'P4', 'P11', 'P12', 'P19', 'P20', 'P27', 'P28', 'P35', 'P36', 'P43', 'P44', 'P51', 'P52', 'P59', 'P60', 'P67', 'P68', 'P75', 'P76', 'P83', 'P84', 'P91', 'P92', 'P99', 'P100', 'P107', 'P108', 'P115', 'P116', 'P123', 'P124', 'P131', 'P132', 'P139', 'P140', 'P147', 'P148', 'P155', 'P156', 'P163', 'P164', 'P171', 'P172']\n",
      "Shape of Combined MRI-PET data after dropping columns: (42, 266)\n",
      "Cleaned Combined MRI-PET data saved to: C:\\Users\\ishsh\\OneDrive\\Desktop\\QML_Project\\results\\mri_pet_combined_cleaned.csv\n",
      "\n",
      "Cleaning process complete. Cleaned files saved to the specified directory.\n"
     ]
    }
   ],
   "source": [
    "import pandas as pd\n",
    "import os\n",
    "\n",
    "# Define the directory to save the cleaned files\n",
    "output_directory = r\"C:\\Users\\ishsh\\OneDrive\\Desktop\\QML_Project\\results\"\n",
    "\n",
    "# Create the output directory if it doesn't exist\n",
    "if not os.path.exists(output_directory):\n",
    "    os.makedirs(output_directory)\n",
    "    print(f\"Created output directory: {output_directory}\")\n",
    "\n",
    "# Load the MRI-only data (assuming it's in the same directory as the script)\n",
    "try:\n",
    "    df_mri_only = pd.read_csv('mri_only_data_wide.csv')\n",
    "    print(\"\\n--- MRI-Only Data ---\")\n",
    "    total_rows_mri_only = len(df_mri_only)\n",
    "    columns_to_drop_mri_only = []\n",
    "    for col in df_mri_only.columns:\n",
    "        nan_percentage = df_mri_only[col].isnull().sum() / total_rows_mri_only * 100\n",
    "        if nan_percentage > 50:\n",
    "            columns_to_drop_mri_only.append(col)\n",
    "\n",
    "    print(f\"Number of columns with > 50% NaN values: {len(columns_to_drop_mri_only)}\")\n",
    "    if columns_to_drop_mri_only:\n",
    "        print(\"Columns with > 50% NaN values:\", columns_to_drop_mri_only)\n",
    "        df_mri_only_cleaned = df_mri_only.drop(columns=columns_to_drop_mri_only)\n",
    "        print(\"Shape of MRI-Only data after dropping columns:\", df_mri_only_cleaned.shape)\n",
    "    else:\n",
    "        print(\"No columns found with > 50% NaN values.\")\n",
    "        df_mri_only_cleaned = df_mri_only.copy()  # Create a copy if no columns were dropped\n",
    "\n",
    "    # Save the cleaned MRI-only data to the specified output directory\n",
    "    if df_mri_only_cleaned is not None:\n",
    "        filepath_mri_only_cleaned = os.path.join(output_directory, 'mri_only_cleaned.csv')\n",
    "        df_mri_only_cleaned.to_csv(filepath_mri_only_cleaned, index=False)\n",
    "        print(f\"Cleaned MRI-Only data saved to: {filepath_mri_only_cleaned}\")\n",
    "    else:\n",
    "        print(\"\\ndf_mri_only_cleaned not available, so not saved.\")\n",
    "\n",
    "except FileNotFoundError:\n",
    "    print(\"\\nError: mri_only_data_wide.csv not found in the current directory.\")\n",
    "    df_mri_only_cleaned = None\n",
    "\n",
    "# Load the combined MRI-PET data (assuming it's in the same directory as the script)\n",
    "try:\n",
    "    df_mri_pet = pd.read_csv('mri_pet_combined_wide.csv')\n",
    "    print(\"\\n--- Combined MRI-PET Data ---\")\n",
    "    total_rows_mri_pet = len(df_mri_pet)\n",
    "    columns_to_drop_mri_pet = []\n",
    "    for col in df_mri_pet.columns:\n",
    "        nan_percentage = df_mri_pet[col].isnull().sum() / total_rows_mri_pet * 100\n",
    "        if nan_percentage > 50:\n",
    "            columns_to_drop_mri_pet.append(col)\n",
    "\n",
    "    print(f\"Number of columns with > 50% NaN values: {len(columns_to_drop_mri_pet)}\")\n",
    "    if columns_to_drop_mri_pet:\n",
    "        print(\"Columns with > 50% NaN values:\", columns_to_drop_mri_pet)\n",
    "        df_mri_pet_cleaned = df_mri_pet.drop(columns=columns_to_drop_mri_pet)\n",
    "        print(\"Shape of Combined MRI-PET data after dropping columns:\", df_mri_pet_cleaned.shape)\n",
    "    else:\n",
    "        print(\"No columns found with > 50% NaN values.\")\n",
    "        df_mri_pet_cleaned = df_mri_pet.copy()  # Create a copy if no columns were dropped\n",
    "\n",
    "    # Save the cleaned combined MRI-PET data to the specified output directory\n",
    "    if df_mri_pet_cleaned is not None:\n",
    "        filepath_mri_pet_cleaned = os.path.join(output_directory, 'mri_pet_combined_cleaned.csv')\n",
    "        df_mri_pet_cleaned.to_csv(filepath_mri_pet_cleaned, index=False)\n",
    "        print(f\"Cleaned Combined MRI-PET data saved to: {filepath_mri_pet_cleaned}\")\n",
    "    else:\n",
    "        print(\"\\ndf_mri_pet_cleaned not available, so not saved.\")\n",
    "\n",
    "except FileNotFoundError:\n",
    "    print(\"\\nError: mri_pet_combined_wide.csv not found in the current directory.\")\n",
    "    df_mri_pet_cleaned = None\n",
    "\n",
    "print(\"\\nCleaning process complete. Cleaned files saved to the specified directory.\")"
   ]
  },
  {
   "cell_type": "markdown",
   "id": "78d4b50f",
   "metadata": {},
   "source": [
    "# Check NaN values in the cleaned MRI-only DataFrame"
   ]
  },
  {
   "cell_type": "code",
   "execution_count": 9,
   "id": "5c11d6a0",
   "metadata": {},
   "outputs": [
    {
     "name": "stdout",
     "output_type": "stream",
     "text": [
      "\n",
      "--- Cleaned MRI-Only Data ---\n",
      "Total number of columns: 698\n",
      "Number of columns with NaN values: 102\n",
      "\n",
      "NaN values per column:\n",
      "M793      1\n",
      "M794      1\n",
      "M797      1\n",
      "M798      1\n",
      "M799      1\n",
      "       ... \n",
      "M922    133\n",
      "M925    133\n",
      "M926    133\n",
      "M927    133\n",
      "M928    133\n",
      "Length: 102, dtype: int64\n",
      "\n",
      "--- Cleaned Combined MRI-PET Data ---\n",
      "Total number of columns: 266\n",
      "Number of columns with NaN values: 0\n",
      "\n",
      "No columns with NaN values found.\n"
     ]
    }
   ],
   "source": [
    "import pandas as pd\n",
    "\n",
    "# Assuming you have run the previous code block to create df_mri_only_cleaned and df_mri_pet_cleaned\n",
    "\n",
    "if 'df_mri_only_cleaned' in locals() and df_mri_only_cleaned is not None:\n",
    "    print(\"\\n--- Cleaned MRI-Only Data ---\")\n",
    "    print(f\"Total number of columns: {df_mri_only_cleaned.shape[1]}\")\n",
    "    nan_counts_cleaned_mri_only = df_mri_only_cleaned.isnull().sum()\n",
    "    columns_with_nan_cleaned_mri_only = nan_counts_cleaned_mri_only[nan_counts_cleaned_mri_only > 0]\n",
    "    num_cols_with_nan_cleaned_mri_only = len(columns_with_nan_cleaned_mri_only)\n",
    "    print(f\"Number of columns with NaN values: {num_cols_with_nan_cleaned_mri_only}\")\n",
    "    if num_cols_with_nan_cleaned_mri_only > 0:\n",
    "        print(\"\\nNaN values per column:\")\n",
    "        print(nan_counts_cleaned_mri_only[nan_counts_cleaned_mri_only > 0])\n",
    "    else:\n",
    "        print(\"\\nNo columns with NaN values found.\")\n",
    "else:\n",
    "    print(\"\\nError: df_mri_only_cleaned not found. Make sure the previous step ran successfully.\")\n",
    "\n",
    "# Check NaN values in the cleaned combined MRI-PET DataFrame\n",
    "if 'df_mri_pet_cleaned' in locals() and df_mri_pet_cleaned is not None:\n",
    "    print(\"\\n--- Cleaned Combined MRI-PET Data ---\")\n",
    "    print(f\"Total number of columns: {df_mri_pet_cleaned.shape[1]}\")\n",
    "    nan_counts_cleaned_mri_pet = df_mri_pet_cleaned.isnull().sum()\n",
    "    columns_with_nan_cleaned_mri_pet = nan_counts_cleaned_mri_pet[nan_counts_cleaned_mri_pet > 0]\n",
    "    num_cols_with_nan_cleaned_mri_pet = len(columns_with_nan_cleaned_mri_pet)\n",
    "    print(f\"Number of columns with NaN values: {num_cols_with_nan_cleaned_mri_pet}\")\n",
    "    if num_cols_with_nan_cleaned_mri_pet > 0:\n",
    "        print(\"\\nNaN values per column:\")\n",
    "        print(nan_counts_cleaned_mri_pet[nan_counts_cleaned_mri_pet > 0])\n",
    "    else:\n",
    "        print(\"\\nNo columns with NaN values found.\")\n",
    "else:\n",
    "    print(\"\\nError: df_mri_pet_cleaned not found. Make sure the previous step ran successfully.\")"
   ]
  },
  {
   "cell_type": "markdown",
   "id": "1a2007de",
   "metadata": {},
   "source": [
    "# viewing final data aspects"
   ]
  },
  {
   "cell_type": "code",
   "execution_count": 2,
   "id": "e1bfc6df",
   "metadata": {},
   "outputs": [
    {
     "name": "stdout",
     "output_type": "stream",
     "text": [
      "\n",
      "--- MRI-Only Data ---\n",
      "Shape of original MRI-Only data: (542, 930)\n",
      "Number of columns with > 40 NaN values: 250\n",
      "Columns with > 40 NaN values: ['M3', 'M4', 'M11', 'M12', 'M19', 'M20', 'M27', 'M28', 'M35', 'M36', 'M43', 'M44', 'M51', 'M52', 'M59', 'M60', 'M67', 'M68', 'M75', 'M76', 'M83', 'M84', 'M91', 'M92', 'M99', 'M100', 'M107', 'M108', 'M115', 'M116', 'M123', 'M124', 'M131', 'M132', 'M139', 'M140', 'M147', 'M148', 'M155', 'M156', 'M163', 'M164', 'M171', 'M172', 'M179', 'M180', 'M187', 'M188', 'M195', 'M196', 'M203', 'M204', 'M211', 'M212', 'M219', 'M220', 'M227', 'M228', 'M235', 'M236', 'M243', 'M244', 'M251', 'M252', 'M259', 'M260', 'M267', 'M268', 'M275', 'M276', 'M283', 'M284', 'M291', 'M292', 'M299', 'M300', 'M307', 'M308', 'M315', 'M316', 'M323', 'M324', 'M331', 'M332', 'M339', 'M340', 'M347', 'M348', 'M355', 'M356', 'M363', 'M364', 'M371', 'M372', 'M379', 'M380', 'M387', 'M388', 'M395', 'M396', 'M403', 'M404', 'M411', 'M412', 'M419', 'M420', 'M427', 'M428', 'M435', 'M436', 'M443', 'M444', 'M451', 'M452', 'M459', 'M460', 'M467', 'M468', 'M475', 'M476', 'M483', 'M484', 'M491', 'M492', 'M499', 'M500', 'M507', 'M508', 'M515', 'M516', 'M523', 'M524', 'M531', 'M532', 'M539', 'M540', 'M547', 'M548', 'M555', 'M556', 'M563', 'M564', 'M571', 'M572', 'M579', 'M580', 'M587', 'M588', 'M595', 'M596', 'M603', 'M604', 'M611', 'M612', 'M619', 'M620', 'M627', 'M628', 'M635', 'M636', 'M643', 'M644', 'M651', 'M652', 'M659', 'M660', 'M667', 'M668', 'M675', 'M676', 'M683', 'M684', 'M691', 'M692', 'M699', 'M700', 'M707', 'M708', 'M715', 'M716', 'M723', 'M724', 'M731', 'M732', 'M739', 'M740', 'M747', 'M748', 'M755', 'M756', 'M763', 'M764', 'M771', 'M772', 'M779', 'M780', 'M787', 'M788', 'M795', 'M796', 'M803', 'M804', 'M811', 'M812', 'M819', 'M820', 'M827', 'M828', 'M835', 'M836', 'M843', 'M844', 'M851', 'M852', 'M859', 'M860', 'M867', 'M868', 'M875', 'M876', 'M883', 'M884', 'M891', 'M892', 'M899', 'M900', 'M905', 'M906', 'M907', 'M908', 'M909', 'M910', 'M911', 'M912', 'M913', 'M914', 'M915', 'M916', 'M917', 'M918', 'M919', 'M920', 'M921', 'M922', 'M923', 'M924', 'M925', 'M926', 'M927', 'M928']\n",
      "Shape of cleaned MRI-Only data (after dropping > 40 NaNs): (542, 680)\n",
      "Cleaned MRI-Only data saved to: C:\\Users\\ishsh\\OneDrive\\Desktop\\QML_Project\\results\\mri_only_cleaned.csv\n",
      "\n",
      "--- Combined MRI-PET Data ---\n",
      "Shape of original Combined MRI-PET data: (42, 354)\n",
      "Number of columns with > 40 NaN values: 88\n",
      "Columns with > 40 NaN values: ['M3', 'M4', 'M11', 'M12', 'M19', 'M20', 'M27', 'M28', 'M35', 'M36', 'M43', 'M44', 'M51', 'M52', 'M59', 'M60', 'M67', 'M68', 'M75', 'M76', 'M83', 'M84', 'M91', 'M92', 'M99', 'M100', 'M107', 'M108', 'M115', 'M116', 'M123', 'M124', 'M131', 'M132', 'M139', 'M140', 'M147', 'M148', 'M155', 'M156', 'M163', 'M164', 'M171', 'M172', 'P3', 'P4', 'P11', 'P12', 'P19', 'P20', 'P27', 'P28', 'P35', 'P36', 'P43', 'P44', 'P51', 'P52', 'P59', 'P60', 'P67', 'P68', 'P75', 'P76', 'P83', 'P84', 'P91', 'P92', 'P99', 'P100', 'P107', 'P108', 'P115', 'P116', 'P123', 'P124', 'P131', 'P132', 'P139', 'P140', 'P147', 'P148', 'P155', 'P156', 'P163', 'P164', 'P171', 'P172']\n",
      "Shape of cleaned Combined MRI-PET data (after dropping > 40 NaNs): (42, 266)\n",
      "Cleaned Combined MRI-PET data saved to: C:\\Users\\ishsh\\OneDrive\\Desktop\\QML_Project\\results\\mri_pet_combined_cleaned.csv\n",
      "\n",
      "Processing complete. Data shapes and cleaned files handled.\n"
     ]
    }
   ],
   "source": [
    "import pandas as pd\n",
    "import os\n",
    "\n",
    "# Define the directory to save the cleaned files\n",
    "output_directory = r\"C:\\Users\\ishsh\\OneDrive\\Desktop\\QML_Project\\results\"\n",
    "\n",
    "# Create the output directory if it doesn't exist\n",
    "if not os.path.exists(output_directory):\n",
    "    os.makedirs(output_directory)\n",
    "    print(f\"Created output directory: {output_directory}\")\n",
    "\n",
    "# --- Load and Process MRI-Only Data ---\n",
    "try:\n",
    "    df_mri_only = pd.read_csv('mri_only_data_wide.csv')\n",
    "    print(\"\\n--- MRI-Only Data ---\")\n",
    "    print(f\"Shape of original MRI-Only data: {df_mri_only.shape}\")\n",
    "\n",
    "    columns_to_drop_mri_only = []\n",
    "    for col in df_mri_only.columns:\n",
    "        nan_count = df_mri_only[col].isnull().sum()\n",
    "        if nan_count > 40:\n",
    "            columns_to_drop_mri_only.append(col)\n",
    "\n",
    "    print(f\"Number of columns with > 40 NaN values: {len(columns_to_drop_mri_only)}\")\n",
    "    if columns_to_drop_mri_only:\n",
    "        print(\"Columns with > 40 NaN values:\", columns_to_drop_mri_only)\n",
    "        df_mri_only_cleaned = df_mri_only.drop(columns=columns_to_drop_mri_only)\n",
    "        print(f\"Shape of cleaned MRI-Only data (after dropping > 40 NaNs): {df_mri_only_cleaned.shape}\")\n",
    "    else:\n",
    "        print(\"No columns found with > 40 NaN values.\")\n",
    "        df_mri_only_cleaned = df_mri_only.copy()\n",
    "        print(f\"Shape of cleaned MRI-Only data (no change): {df_mri_only_cleaned.shape}\")\n",
    "\n",
    "    # Save the cleaned MRI-only data\n",
    "    if df_mri_only_cleaned is not None:\n",
    "        filepath_mri_only_cleaned = os.path.join(output_directory, 'mri_only_cleaned.csv')\n",
    "        df_mri_only_cleaned.to_csv(filepath_mri_only_cleaned, index=False)\n",
    "        print(f\"Cleaned MRI-Only data saved to: {filepath_mri_only_cleaned}\")\n",
    "    else:\n",
    "        print(\"\\ndf_mri_only_cleaned not available, so not saved.\")\n",
    "\n",
    "except FileNotFoundError:\n",
    "    print(\"\\nError: mri_only_data_wide.csv not found in the current directory.\")\n",
    "    df_mri_only_cleaned = None\n",
    "\n",
    "# --- Load and Process Combined MRI-PET Data ---\n",
    "try:\n",
    "    df_mri_pet = pd.read_csv('mri_pet_combined_wide.csv')\n",
    "    print(\"\\n--- Combined MRI-PET Data ---\")\n",
    "    print(f\"Shape of original Combined MRI-PET data: {df_mri_pet.shape}\")\n",
    "\n",
    "    columns_to_drop_mri_pet = []\n",
    "    for col in df_mri_pet.columns:\n",
    "        nan_count = df_mri_pet[col].isnull().sum()\n",
    "        if nan_count > 40:\n",
    "            columns_to_drop_mri_pet.append(col)\n",
    "\n",
    "    print(f\"Number of columns with > 40 NaN values: {len(columns_to_drop_mri_pet)}\")\n",
    "    if columns_to_drop_mri_pet:\n",
    "        print(\"Columns with > 40 NaN values:\", columns_to_drop_mri_pet)\n",
    "        df_mri_pet_cleaned = df_mri_pet.drop(columns=columns_to_drop_mri_pet)\n",
    "        print(f\"Shape of cleaned Combined MRI-PET data (after dropping > 40 NaNs): {df_mri_pet_cleaned.shape}\")\n",
    "    else:\n",
    "        print(\"No columns found with > 40 NaN values.\")\n",
    "        df_mri_pet_cleaned = df_mri_pet.copy()\n",
    "        print(f\"Shape of cleaned Combined MRI-PET data (no change): {df_mri_pet_cleaned.shape}\")\n",
    "\n",
    "    # Save the cleaned combined MRI-PET data\n",
    "    if df_mri_pet_cleaned is not None:\n",
    "        filepath_mri_pet_cleaned = os.path.join(output_directory, 'mri_pet_combined_cleaned.csv')\n",
    "        df_mri_pet_cleaned.to_csv(filepath_mri_pet_cleaned, index=False)\n",
    "        print(f\"Cleaned Combined MRI-PET data saved to: {filepath_mri_pet_cleaned}\")\n",
    "    else:\n",
    "        print(\"\\ndf_mri_pet_cleaned not available, so not saved.\")\n",
    "\n",
    "except FileNotFoundError:\n",
    "    print(\"\\nError: mri_pet_combined_wide.csv not found in the current directory.\")\n",
    "    df_mri_pet_cleaned = None\n",
    "\n",
    "print(\"\\nProcessing complete. Data shapes and cleaned files handled.\")"
   ]
  },
  {
   "cell_type": "markdown",
   "id": "228ccb13",
   "metadata": {},
   "source": [
    "# viewing dataset shape"
   ]
  },
  {
   "cell_type": "code",
   "execution_count": 3,
   "id": "86110011",
   "metadata": {},
   "outputs": [
    {
     "name": "stdout",
     "output_type": "stream",
     "text": [
      "Shape of original MRI-Only data: (542, 930)\n",
      "Shape of original Combined MRI-PET data: (42, 354)\n",
      "Shape of cleaned MRI-Only data: (542, 680)\n",
      "Shape of cleaned Combined MRI-PET data: (42, 266)\n"
     ]
    }
   ],
   "source": [
    "import pandas as pd\n",
    "\n",
    "# --- Load and Get Shape of Original MRI-Only Data ---\n",
    "try:\n",
    "    df_mri_only = pd.read_csv('mri_only_data_wide.csv')\n",
    "    print(f\"Shape of original MRI-Only data: {df_mri_only.shape}\")\n",
    "except FileNotFoundError:\n",
    "    print(\"Error: mri_only_data_wide.csv not found.\")\n",
    "    df_mri_only = None\n",
    "\n",
    "# --- Load and Get Shape of Original Combined MRI-PET Data ---\n",
    "try:\n",
    "    df_mri_pet = pd.read_csv('mri_pet_combined_wide.csv')\n",
    "    print(f\"Shape of original Combined MRI-PET data: {df_mri_pet.shape}\")\n",
    "except FileNotFoundError:\n",
    "    print(\"Error: mri_pet_combined_wide.csv not found.\")\n",
    "    df_mri_pet = None\n",
    "\n",
    "# --- Load Cleaned MRI-Only Data and Get Shape ---\n",
    "try:\n",
    "    df_mri_only_cleaned = pd.read_csv(r'C:/Users/ishsh/OneDrive/Desktop/QML_Project/results/mri_only_cleaned.csv')\n",
    "    print(f\"Shape of cleaned MRI-Only data: {df_mri_only_cleaned.shape}\")\n",
    "except FileNotFoundError:\n",
    "    print(\"Error: mri_only_cleaned.csv not found.\")\n",
    "    df_mri_only_cleaned = None\n",
    "\n",
    "# --- Load Cleaned Combined MRI-PET Data and Get Shape ---\n",
    "try:\n",
    "    df_mri_pet_cleaned = pd.read_csv(r'C:/Users/ishsh/OneDrive/Desktop/QML_Project/results/mri_pet_combined_cleaned.csv')\n",
    "    print(f\"Shape of cleaned Combined MRI-PET data: {df_mri_pet_cleaned.shape}\")\n",
    "except FileNotFoundError:\n",
    "    print(\"Error: mri_pet_combined_cleaned.csv not found.\")\n",
    "    df_mri_pet_cleaned = None"
   ]
  },
  {
   "cell_type": "code",
   "execution_count": 6,
   "id": "296da1ee",
   "metadata": {},
   "outputs": [
    {
     "name": "stdout",
     "output_type": "stream",
     "text": [
      "\n",
      "--- NaN Distribution in Cleaned MRI-Only Data ---\n",
      "\n",
      "Columns with NaN values in the range 1-10 (Count: 60):\n",
      "['M793', 'M794', 'M797', 'M798', 'M799', 'M800', 'M816', 'M815', 'M814', 'M813', 'M810', 'M809', 'M808', 'M807', 'M806', 'M805', 'M802', 'M801', 'M832', 'M831', 'M830', 'M829', 'M826', 'M825', 'M817', 'M823', 'M822', 'M821', 'M818', 'M824', 'M833', 'M834', 'M837', 'M838', 'M839', 'M840', 'M847', 'M846', 'M848', 'M842', 'M841', 'M845', 'M849', 'M850', 'M853', 'M854', 'M855', 'M856', 'M864', 'M863', 'M862', 'M861', 'M857', 'M858', 'M865', 'M866', 'M869', 'M870', 'M871', 'M872']\n",
      "\n",
      "Columns with NaN values in the range 11-20 (Count: 6):\n",
      "['M880', 'M879', 'M878', 'M874', 'M873', 'M877']\n",
      "\n",
      "Columns with NaN values in the range 21-30 (Count: 12):\n",
      "['M881', 'M882', 'M885', 'M886', 'M887', 'M888', 'M896', 'M895', 'M894', 'M890', 'M889', 'M893']\n",
      "\n",
      "Columns with NaN values in the range 31-inf (Count: 6):\n",
      "['M903', 'M897', 'M898', 'M901', 'M902', 'M904']\n",
      "\n",
      "--- NaN Distribution in Cleaned Combined MRI-PET Data ---\n",
      "No columns with NaN values found.\n"
     ]
    }
   ],
   "source": [
    "import pandas as pd\n",
    "\n",
    "def analyze_nan_distribution(df, df_name):\n",
    "    \"\"\"Analyzes and prints the distribution of NaN values per column in a DataFrame.\"\"\"\n",
    "    if df is not None:\n",
    "        print(f\"\\n--- NaN Distribution in {df_name} ---\")\n",
    "        nan_counts = df.isnull().sum()\n",
    "        columns_with_nan = nan_counts[nan_counts > 0].sort_values()\n",
    "\n",
    "        if columns_with_nan.empty:\n",
    "            print(\"No columns with NaN values found.\")\n",
    "            return\n",
    "\n",
    "        nan_ranges = {}\n",
    "        for i in range(1, int(columns_with_nan.max() // 10) + 2):\n",
    "            lower_bound = (i - 1) * 10 + 1\n",
    "            upper_bound = i * 10\n",
    "            if i == int(columns_with_nan.max() // 10) + 1 and columns_with_nan.max() % 10 != 0:\n",
    "                upper_bound = float('inf')\n",
    "            nan_ranges[f\"{lower_bound}-{upper_bound if upper_bound != float('inf') else 'inf'}\"] = []\n",
    "\n",
    "        for col, nan_count in columns_with_nan.items():\n",
    "            for range_str, col_list in nan_ranges.items():\n",
    "                lower, upper_str = range_str.split('-')\n",
    "                upper = float(upper_str)\n",
    "                if lower <= str(nan_count) and nan_count <= upper:\n",
    "                    col_list.append(col)\n",
    "                    break\n",
    "\n",
    "        for range_str, col_list in nan_ranges.items():\n",
    "            if col_list:\n",
    "                print(f\"\\nColumns with NaN values in the range {range_str} (Count: {len(col_list)}):\")\n",
    "                print(col_list)\n",
    "    else:\n",
    "        print(f\"\\nError: DataFrame {df_name} is not defined.\")\n",
    "\n",
    "# Assuming you have run the previous code block to create df_mri_only_cleaned and df_mri_pet_cleaned\n",
    "\n",
    "if 'df_mri_only_cleaned' in locals():\n",
    "    analyze_nan_distribution(df_mri_only_cleaned, 'Cleaned MRI-Only Data')\n",
    "\n",
    "if 'df_mri_pet_cleaned' in locals():\n",
    "    analyze_nan_distribution(df_mri_pet_cleaned, 'Cleaned Combined MRI-PET Data')"
   ]
  }
 ],
 "metadata": {
  "kernelspec": {
   "display_name": "Python 3",
   "language": "python",
   "name": "python3"
  },
  "language_info": {
   "codemirror_mode": {
    "name": "ipython",
    "version": 3
   },
   "file_extension": ".py",
   "mimetype": "text/x-python",
   "name": "python",
   "nbconvert_exporter": "python",
   "pygments_lexer": "ipython3",
   "version": "3.12.7"
  }
 },
 "nbformat": 4,
 "nbformat_minor": 5
}
